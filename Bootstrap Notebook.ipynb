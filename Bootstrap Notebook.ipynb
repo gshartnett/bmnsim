{
 "cells": [
  {
   "cell_type": "code",
   "execution_count": 1,
   "metadata": {},
   "outputs": [],
   "source": [
    "from typing import Union, Self\n",
    "from numbers import Number\n",
    "from itertools import chain, product\n",
    "\n",
    "import numpy as np\n",
    "import sympy as sp\n",
    "import cvxpy as cp\n",
    "\n",
    "import scipy\n",
    "from scipy.sparse import csr_matrix\n",
    "import scipy.sparse as sparse\n",
    "from scipy.linalg import qr\n",
    "from scipy.sparse import coo_matrix, csc_matrix\n",
    "from scipy.sparse.linalg import splu, svds\n",
    "from sksparse.cholmod import cholesky\n",
    "\n",
    "from bmn.algebra import MatrixOperator, SingleTraceOperator, MatrixSystem\n",
    "from bmn.linear_algebra import get_null_space, create_sparse_matrix_from_dict, is_in_row_space, get_row_space\n",
    "from bmn.bootstrap import BootstrapSystem\n",
    "from bmn.solver import minimal_eigval, sdp_init, sdp_relax, sdp_minimize, minimize, get_quadratic_constraint_vector\n",
    "from bmn.brezin import compute_Brezin_energy, compute_Brezin_energy_Han_conventions\n",
    "\n",
    "from bmn.debug_utils import disable_debug\n",
    "\n",
    "np.set_printoptions(linewidth=120)  # Adjust the number to the desired width\n",
    "\n",
    "# plot settings\n",
    "import matplotlib.pyplot as plt\n",
    "import matplotlib\n",
    "from cycler import cycler\n",
    "\n",
    "plt.rcParams['xtick.direction'] = 'in'\n",
    "plt.rcParams['ytick.direction'] = 'in'\n",
    "plt.rcParams['xtick.major.size'] = 5.0\n",
    "plt.rcParams['xtick.minor.size'] = 3.0\n",
    "plt.rcParams['ytick.major.size'] = 5.0\n",
    "plt.rcParams['ytick.minor.size'] = 3.0\n",
    "plt.rcParams['lines.linewidth'] = 2\n",
    "plt.rc('font', family='serif',size=16)\n",
    "matplotlib.rc('text', usetex=True)\n",
    "matplotlib.rc('legend', fontsize=16)\n",
    "matplotlib.rcParams['axes.prop_cycle'] = cycler(\n",
    "    color=['#E24A33', '#348ABD', '#988ED5', '#777777', '#FBC15E', '#8EBA42', '#FFB5B8']\n",
    "    )\n",
    "matplotlib.rcParams.update(\n",
    "    {\"axes.grid\":True,\n",
    "    \"grid.alpha\":0.75,\n",
    "    \"grid.linewidth\":0.5}\n",
    "    )\n",
    "colors = plt.rcParams['axes.prop_cycle'].by_key()['color']"
   ]
  },
  {
   "cell_type": "markdown",
   "metadata": {},
   "source": [
    "## One Matrix Model"
   ]
  },
  {
   "cell_type": "code",
   "execution_count": 2,
   "metadata": {},
   "outputs": [
    {
     "name": "stdout",
     "output_type": "stream",
     "text": [
      "Assuming all operators are either Hermitian or anti-Hermitian.\n"
     ]
    }
   ],
   "source": [
    "matrix_system = MatrixSystem(\n",
    "    #operator_basis=['X', 'P'],\n",
    "    operator_basis=['X', 'Pi'],\n",
    "    commutation_rules_concise = {\n",
    "        #('P', 'X'): -1j,\n",
    "        ('Pi', 'X'): 1, # use Pi' = i P to ensure reality\n",
    "    },\n",
    "    #hermitian_dict={'P': True, 'X': True},\n",
    "    hermitian_dict={'Pi': False, 'X': True},\n",
    ")\n",
    "\n",
    "# scale variables as P = sqrt(N) P', X = sqrt(N) X'\n",
    "hamiltonian = SingleTraceOperator(\n",
    "        #data={(\"P\", \"P\"): 1, (\"X\", \"X\"): 1, (\"X\", \"X\", \"X\", \"X\"): 7}\n",
    "        data={(\"Pi\", \"Pi\"): -1, (\"X\", \"X\"): 1, (\"X\", \"X\", \"X\", \"X\"): 1e-2}\n",
    "    )\n",
    "\n",
    "# <tr G O > = 0 might need to be applied only for O with deg <= L-2\n",
    "#gauge = MatrixOperator(data={('X', 'P'): 1j, ('P', 'X'): -1j, ():1})\n",
    "gauge = MatrixOperator(data={('X', 'Pi'): 1, ('Pi', 'X'): -1, ():1})\n",
    "\n",
    "bootstrap = BootstrapSystem(\n",
    "    matrix_system=matrix_system,\n",
    "    hamiltonian=hamiltonian,\n",
    "    gauge=gauge,\n",
    "    half_max_degree=3,\n",
    "    odd_degree_vanish=True\n",
    ")"
   ]
  },
  {
   "cell_type": "code",
   "execution_count": 3,
   "metadata": {},
   "outputs": [
    {
     "data": {
      "text/plain": [
       "(SingleTraceOperator(operators=[()], coeff=[1]),\n",
       " SingleTraceOperator(operators=[], coeff=[]))"
      ]
     },
     "execution_count": 3,
     "metadata": {},
     "output_type": "execute_result"
    }
   ],
   "source": [
    "identity_operator = SingleTraceOperator(data={(): 1})\n",
    "zero_operator = SingleTraceOperator(data={(): 0})\n",
    "\n",
    "identity_operator, zero_operator"
   ]
  },
  {
   "cell_type": "code",
   "execution_count": 4,
   "metadata": {},
   "outputs": [
    {
     "name": "stdout",
     "output_type": "stream",
     "text": [
      "1 <tr(PiPi)> -1 <tr(XX)> -0.01 <tr(XXXX)>\n"
     ]
    }
   ],
   "source": [
    "print(-1 * hamiltonian)"
   ]
  },
  {
   "cell_type": "code",
   "execution_count": 5,
   "metadata": {},
   "outputs": [
    {
     "name": "stdout",
     "output_type": "stream",
     "text": [
      "1 <tr(PiPi)tr(PiPi)> -1 <tr(PiPi)tr(XX)> -0.01 <tr(PiPi)tr(XXXX)> -1 <tr(XX)tr(PiPi)> + 1 <tr(XX)tr(XX)> + 0.01 <tr(XX)tr(XXXX)> -0.01 <tr(XXXX)tr(PiPi)> + 0.01 <tr(XXXX)tr(XX)> + 0.0001 <tr(XXXX)tr(XXXX)>\n"
     ]
    }
   ],
   "source": [
    "print(hamiltonian * hamiltonian)"
   ]
  },
  {
   "cell_type": "code",
   "execution_count": null,
   "metadata": {},
   "outputs": [],
   "source": [
    "(hamiltonian * identity_operator).get_single_trace_component() == hamiltonian"
   ]
  },
  {
   "cell_type": "code",
   "execution_count": null,
   "metadata": {},
   "outputs": [],
   "source": [
    "(hamiltonian * identity_operator).data"
   ]
  },
  {
   "cell_type": "code",
   "execution_count": null,
   "metadata": {},
   "outputs": [],
   "source": [
    "identity_operator = SingleTraceOperator(data={(): 1})\n",
    "zero_operator = SingleTraceOperator(data={(): 0})"
   ]
  },
  {
   "cell_type": "code",
   "execution_count": null,
   "metadata": {},
   "outputs": [],
   "source": [
    "# test\n",
    "(zero_operator * zero_operator)"
   ]
  },
  {
   "cell_type": "code",
   "execution_count": null,
   "metadata": {},
   "outputs": [],
   "source": [
    "(zero_operator * zero_operator).data"
   ]
  },
  {
   "cell_type": "code",
   "execution_count": null,
   "metadata": {},
   "outputs": [],
   "source": [
    "h2 = 0 * hamiltonian * hamiltonian\n",
    "h2"
   ]
  },
  {
   "cell_type": "code",
   "execution_count": null,
   "metadata": {},
   "outputs": [],
   "source": []
  },
  {
   "cell_type": "code",
   "execution_count": null,
   "metadata": {},
   "outputs": [],
   "source": [
    "for op in bootstrap.operator_list:\n",
    "    print(\"Hamiltonian constraints\")\n",
    "    print(op, bootstrap.generate_hamiltonian_constraints()[1])"
   ]
  },
  {
   "cell_type": "code",
   "execution_count": null,
   "metadata": {},
   "outputs": [],
   "source": [
    "len(bootstrap.operator_list)"
   ]
  },
  {
   "cell_type": "code",
   "execution_count": null,
   "metadata": {},
   "outputs": [],
   "source": [
    "len(bootstrap.generate_hamiltonian_constraints())"
   ]
  },
  {
   "cell_type": "code",
   "execution_count": null,
   "metadata": {},
   "outputs": [],
   "source": [
    "print(bootstrap.generate_hamiltonian_constraints()[1])"
   ]
  },
  {
   "cell_type": "code",
   "execution_count": null,
   "metadata": {},
   "outputs": [],
   "source": [
    "''.join(bootstrap.generate_hamiltonian_constraints()[1].operators[0])"
   ]
  },
  {
   "cell_type": "code",
   "execution_count": null,
   "metadata": {},
   "outputs": [],
   "source": [
    "for idx, (coeff, op) in enumerate(zip(self.coeffs, self.operators)):"
   ]
  },
  {
   "cell_type": "code",
   "execution_count": null,
   "metadata": {},
   "outputs": [],
   "source": [
    "cyclic_constraints = bootstrap.generate_cyclic_constraints()\n",
    "\n",
    "for op, idx in bootstrap.operator_dict.items():\n",
    "    if idx in cyclic_constraints.keys():\n",
    "        print(op, cyclic_constraints[idx]['lhs'])\n",
    "        print(op, cyclic_constraints[idx]['rhs'])\n",
    "        print('\\n')"
   ]
  },
  {
   "cell_type": "markdown",
   "metadata": {},
   "source": [
    "## Scan"
   ]
  },
  {
   "cell_type": "code",
   "execution_count": null,
   "metadata": {},
   "outputs": [],
   "source": [
    "disable_debug()\n",
    "\n",
    "g_values = np.linspace(0.1, 4, 10)\n",
    "L = 2\n",
    "\n",
    "results = {\n",
    "    'g': g_values,\n",
    "    'param': [],\n",
    "    'energy': [],\n",
    "    'x^2': [],\n",
    "    'success': [],\n",
    "    }\n",
    "\n",
    "for g in g_values:\n",
    "\n",
    "    matrix_system = MatrixSystem(\n",
    "        #operator_basis=['X', 'P'],\n",
    "        operator_basis=['X', 'Pi'],\n",
    "        commutation_rules_concise = {\n",
    "            #('P', 'X'): -1j,\n",
    "            ('Pi', 'X'): 1, # use Pi' = i P to ensure reality\n",
    "        },\n",
    "        #hermitian_dict={'P': True, 'X': True},\n",
    "        hermitian_dict={'Pi': False, 'X': True},\n",
    "    )\n",
    "\n",
    "    # scale variables as P = sqrt(N) P', X = sqrt(N) X'\n",
    "    hamiltonian = SingleTraceOperator(\n",
    "            #data={(\"P\", \"P\"): 1, (\"X\", \"X\"): 1, (\"X\", \"X\", \"X\", \"X\"): 7}\n",
    "            data={(\"Pi\", \"Pi\"): -1, (\"X\", \"X\"): 1, (\"X\", \"X\", \"X\", \"X\"): g}\n",
    "        )\n",
    "\n",
    "    # <tr G O > = 0 might need to be applied only for O with deg <= L-2\n",
    "    #gauge = MatrixOperator(data={('X', 'P'): 1j, ('P', 'X'): -1j, ():1})\n",
    "    gauge = MatrixOperator(data={('X', 'Pi'): 1, ('Pi', 'X'): -1, ():1})\n",
    "\n",
    "    bootstrap = BootstrapSystem(\n",
    "        matrix_system=matrix_system,\n",
    "        hamiltonian=hamiltonian,\n",
    "        gauge=gauge,\n",
    "        half_max_degree=L,\n",
    "        odd_degree_vanish=True\n",
    "    )\n",
    "\n",
    "    param, success = minimize(\n",
    "        bootstrap=bootstrap,\n",
    "        op=bootstrap.hamiltonian,\n",
    "        maxiters=25,\n",
    "        verbose=False\n",
    "        )\n",
    "\n",
    "    op = bootstrap.hamiltonian\n",
    "    vec = bootstrap.single_trace_to_coefficient_vector(op, return_null_basis=True)\n",
    "    energy = vec.dot(param)\n",
    "\n",
    "    op = SingleTraceOperator(\n",
    "        data={(\"X\", \"X\"): 1}\n",
    "        )\n",
    "    vec = bootstrap.single_trace_to_coefficient_vector(op, return_null_basis=True)\n",
    "    x2 = vec.dot(param)\n",
    "\n",
    "    results['param'].append(param)\n",
    "    results['success'].append(success)\n",
    "    results['energy'].append(energy)\n",
    "    results['x^2'].append(x2)"
   ]
  },
  {
   "cell_type": "code",
   "execution_count": null,
   "metadata": {},
   "outputs": [],
   "source": []
  },
  {
   "cell_type": "code",
   "execution_count": null,
   "metadata": {},
   "outputs": [],
   "source": [
    "vec = bootstrap.single_trace_to_coefficient_vector(SingleTraceOperator(data={(): 1}), return_null_basis=True)\n",
    "x2 = vec.dot(param)\n",
    "print(x2)\n",
    "\n",
    "param = param / x2\n",
    "\n",
    "vec = bootstrap.single_trace_to_coefficient_vector(SingleTraceOperator(data={(): 1}), return_null_basis=True)\n",
    "x2 = vec.dot(param)\n",
    "print(x2)"
   ]
  },
  {
   "cell_type": "code",
   "execution_count": null,
   "metadata": {},
   "outputs": [],
   "source": [
    "param"
   ]
  },
  {
   "cell_type": "code",
   "execution_count": null,
   "metadata": {},
   "outputs": [],
   "source": [
    "type(bootstrap.generate_all_linear_constraints()[0])"
   ]
  },
  {
   "cell_type": "code",
   "execution_count": null,
   "metadata": {},
   "outputs": [],
   "source": [
    "type(bootstrap.generate_gauge_constraints()[0])"
   ]
  },
  {
   "cell_type": "code",
   "execution_count": null,
   "metadata": {},
   "outputs": [],
   "source": [
    "# compute the exact values (note the difference in conventions)\n",
    "exact_values = [compute_Brezin_energy_Han_conventions(g) for g in g_values]\n",
    "\n",
    "fig, ax = plt.subplots(figsize=(7,5))\n",
    "ax.plot(results['g'], results['energy'], '-o', label=f'Bootstrap L={bootstrap.half_max_degree}')\n",
    "ax.plot(results['g'], exact_values, '-o', label=f'Exact')\n",
    "\n",
    "for i in range(len(g_values)):\n",
    "    if results['success'][i]:\n",
    "        print(results['g'][i], results['energy'][i])\n",
    "        ax.scatter(\n",
    "            results['g'][i],\n",
    "            results['energy'][i],\n",
    "            color='k',\n",
    "            zorder=10,\n",
    "            label=f'Bootstrap L={bootstrap.half_max_degree}, converged'\n",
    "            )\n",
    "\n",
    "ax.legend(frameon=False)\n",
    "ax.set_xlabel(r\"$g$\")\n",
    "ax.set_ylabel(r\"$E_0/N^2$\")\n",
    "plt.show()"
   ]
  },
  {
   "cell_type": "code",
   "execution_count": null,
   "metadata": {},
   "outputs": [],
   "source": [
    "for success, p in zip(results['success'], results['param']):\n",
    "    if success:\n",
    "        print(p)"
   ]
  },
  {
   "cell_type": "code",
   "execution_count": null,
   "metadata": {},
   "outputs": [],
   "source": [
    "np.random.normal(size=8)"
   ]
  },
  {
   "cell_type": "code",
   "execution_count": null,
   "metadata": {},
   "outputs": [],
   "source": [
    "# compare against Table 3 in Brezin et al\n",
    "table_values = {\n",
    "    0.01: 5.05,\n",
    "    0.1: 0.542,\n",
    "    0.5: 0.651,\n",
    "    1: 0.740,\n",
    "    50: 2.217,\n",
    "    #1000: 5.915, # for this extreme value the code fails\n",
    "    }\n",
    "\n",
    "for g, table_val in table_values.items():\n",
    "    print(f\"g = {g}, table 3 value = {table_val}, computed value = {compute_energy(g):.03f}\")"
   ]
  },
  {
   "cell_type": "code",
   "execution_count": null,
   "metadata": {},
   "outputs": [],
   "source": [
    "\n",
    "fig, ax = plt.subplots(figsize=(7,5))\n",
    "\n",
    "g_values = np.linspace(0.01, 4, 20)\n",
    "exact_energies = np.asarray([compute_energy(g) for g in g_values])\n",
    "ax.plot(g_values, exact_energies, '-o')\n",
    "\n",
    "g_values = 0.5 * np.linspace(0.01, 4, 20)\n",
    "exact_energies = np.asarray([compute_energy(g) for g in g_values])\n",
    "ax.plot(g_values * 2, 2 * exact_energies, '-o')\n",
    "\n",
    "ax.set_xlabel(r\"$g$\")\n",
    "ax.set_ylabel(r\"$E_0/N^2$\")\n",
    "plt.show()"
   ]
  },
  {
   "cell_type": "code",
   "execution_count": null,
   "metadata": {},
   "outputs": [],
   "source": [
    "compute_energy(0.1)"
   ]
  },
  {
   "cell_type": "code",
   "execution_count": null,
   "metadata": {},
   "outputs": [],
   "source": [
    "fermi_level_integral(sol.root, g)"
   ]
  },
  {
   "cell_type": "code",
   "execution_count": null,
   "metadata": {},
   "outputs": [],
   "source": [
    "fermi_level_integrand(0.2, 0.1, 1), energy_integrand(0.2, 0.1, 1)"
   ]
  },
  {
   "cell_type": "code",
   "execution_count": null,
   "metadata": {},
   "outputs": [],
   "source": [
    "fermi_level_integral(0.2, 1), energy_integral(0.2, 1)"
   ]
  },
  {
   "cell_type": "code",
   "execution_count": null,
   "metadata": {},
   "outputs": [],
   "source": []
  },
  {
   "cell_type": "code",
   "execution_count": null,
   "metadata": {},
   "outputs": [],
   "source": [
    "\n",
    "\n",
    "# Step 3: Define the function to find the root of\n",
    "def equation_to_solve(c, a, b):\n",
    "    return integral(c, a, b) - 1\n",
    "\n",
    "# Define the limits of integration\n",
    "a = 0  # Replace with your lower limit\n",
    "b = 1  # Replace with your upper limit\n",
    "\n",
    "# Step 4: Use a root-finding algorithm to find the root of equation_to_solve\n",
    "sol = root_scalar(equation_to_solve, args=(a, b), bracket=[0, 10], method='brentq')\n",
    "\n",
    "if sol.converged:\n",
    "    print(f'The root c is: {sol.root}')\n",
    "else:\n",
    "    print('The root-finding did not converge')\n"
   ]
  },
  {
   "cell_type": "code",
   "execution_count": null,
   "metadata": {},
   "outputs": [],
   "source": []
  },
  {
   "cell_type": "code",
   "execution_count": null,
   "metadata": {},
   "outputs": [],
   "source": []
  },
  {
   "cell_type": "code",
   "execution_count": null,
   "metadata": {},
   "outputs": [],
   "source": []
  },
  {
   "cell_type": "code",
   "execution_count": null,
   "metadata": {},
   "outputs": [],
   "source": [
    "results['success']"
   ]
  },
  {
   "cell_type": "markdown",
   "metadata": {},
   "source": [
    "## OLD"
   ]
  },
  {
   "cell_type": "code",
   "execution_count": null,
   "metadata": {},
   "outputs": [],
   "source": [
    "nu = 1.0\n",
    "\n",
    "matrix_system = MatrixSystem(\n",
    "    operator_basis=['X0', 'X1', 'X2', 'P0', 'P1', 'P2'],\n",
    "    commutation_rules_concise = {\n",
    "        ('P0', 'X0'): -1j,\n",
    "        ('P1', 'X1'): -1j,\n",
    "        ('P2', 'X2'): -1j,\n",
    "    }\n",
    ")\n",
    "\n",
    "# scale variables as P = sqrt(N) P', X = sqrt(N) X'\n",
    "hamiltonian = SingleTraceOperator(\n",
    "        data={\n",
    "           # kinetic term\n",
    "            (\"P0\", \"P1\"): 1,\n",
    "            (\"P1\", \"P1\"): 1,\n",
    "            (\"P1\", \"P1\"): 1,\n",
    "            # quadratic term\n",
    "            ('X0', 'X0'): nu**2 / 2,\n",
    "            ('X1', 'X1'): nu**2 / 2,\n",
    "            ('X2', 'X2'): nu**2 / 2,\n",
    "            # cubic term\n",
    "            ('X0', 'X1', 'X2'): 6 * 1j * nu,\n",
    "            # quadratic term (XY)\n",
    "            ('X0', 'X1', 'X0', 'X1'): - 1/4,\n",
    "            ('X1', 'X0', 'X1', 'X0'): -1/4,\n",
    "            ('X0', 'X1', 'X1', 'X0'): 1/4,\n",
    "            ('X1', 'X0', 'X0', 'X1'): 1/4,\n",
    "            # quadratic term (XZ) TODO check sign\n",
    "            ('X0', 'X2', 'X0', 'X2'): - 1/4,\n",
    "            ('X2', 'X0', 'X2', 'X0'): -1/4,\n",
    "            ('X0', 'X2', 'X2', 'X0'): 1/4,\n",
    "            ('X2', 'X0', 'X0', 'X2'): 1/4,\n",
    "            # quadratic term (YZ)\n",
    "            ('X1', 'X2', 'X1', 'X2'): - 1/4,\n",
    "            ('X2', 'X1', 'X2', 'X1'): -1/4,\n",
    "            ('X1', 'X2', 'X2', 'X1'): 1/4,\n",
    "            ('X2', 'X1', 'X1', 'X2'): 1/4,\n",
    "            }\n",
    "            )\n",
    "\n",
    "# <tr G O > = 0 might need to be applied only for O with deg <= L-2\n",
    "gauge = MatrixOperator(\n",
    "    data={\n",
    "        ('X0', 'P0'): 1j,\n",
    "        ('P0', 'X0'): -1j,\n",
    "        ('X1', 'P1'): 1j,\n",
    "        ('P1', 'X1'): -1j,\n",
    "        ('X2', 'P2'): 1j,\n",
    "        ('P2', 'X2'): -1j,\n",
    "        ():1}\n",
    "    )\n",
    "\n",
    "bootstrap = BootstrapSystem(\n",
    "    matrix_system=matrix_system,\n",
    "    hamiltonian=hamiltonian,\n",
    "    gauge=gauge,\n",
    "    half_max_degree=2\n",
    ")\n",
    "#bootstrap.operator_list[:bootstrap.psd_matrix_dim]\n",
    "bootstrap.matrix_system.commutation_rules"
   ]
  },
  {
   "cell_type": "code",
   "execution_count": null,
   "metadata": {},
   "outputs": [],
   "source": [
    "bootstrap.build_linear_constraints()"
   ]
  },
  {
   "cell_type": "code",
   "execution_count": null,
   "metadata": {},
   "outputs": [],
   "source": []
  }
 ],
 "metadata": {
  "kernelspec": {
   "display_name": "bmnsim",
   "language": "python",
   "name": "python3"
  },
  "language_info": {
   "codemirror_mode": {
    "name": "ipython",
    "version": 3
   },
   "file_extension": ".py",
   "mimetype": "text/x-python",
   "name": "python",
   "nbconvert_exporter": "python",
   "pygments_lexer": "ipython3",
   "version": "3.12.3"
  }
 },
 "nbformat": 4,
 "nbformat_minor": 2
}
