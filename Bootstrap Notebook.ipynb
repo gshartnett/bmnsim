{
 "cells": [
  {
   "cell_type": "markdown",
   "metadata": {},
   "source": [
    "1. How to represent single trace operators?\n",
    "2. How to implement commutators of these"
   ]
  },
  {
   "cell_type": "code",
   "execution_count": 1,
   "metadata": {},
   "outputs": [],
   "source": [
    "import numpy as np\n",
    "import sympy as sp\n",
    "from typing import Union, Self\n",
    "from numbers import Number\n",
    "from itertools import chain\n",
    "from bmn.algebra import MatrixOperator, SingleTraceOperator, MatrixSystem\n",
    "from itertools import product"
   ]
  },
  {
   "cell_type": "markdown",
   "metadata": {},
   "source": [
    "## One Matrix Model"
   ]
  },
  {
   "cell_type": "code",
   "execution_count": 2,
   "metadata": {},
   "outputs": [],
   "source": [
    "class BootstrapSystem():\n",
    "    '''\n",
    "    Docstring\n",
    "    '''\n",
    "    def __init__(\n",
    "            self,\n",
    "            matrix_system: MatrixSystem,\n",
    "            hamiltonian: SingleTraceOperator,\n",
    "            gauge: MatrixOperator,\n",
    "            half_max_degree: int\n",
    "            ):\n",
    "        self.matrix_system = matrix_system\n",
    "        self.hamiltonian = hamiltonian\n",
    "        self.gauge = gauge\n",
    "        self.half_max_degree = half_max_degree\n",
    "        self.operator_list = self.generate_operators(2*half_max_degree)\n",
    "        if 2*self.half_max_degree < self.hamiltonian.max_degree:\n",
    "            raise ValueError(\"2 * half_max_degree must be >= max degree of Hamiltonian.\")\n",
    "\n",
    "    def generate_operators(self, max_degree):\n",
    "        operators = {deg: [x for x in product(self.matrix_system.operator_basis, repeat=deg)] for deg in range(0, max_degree+1)}\n",
    "        self.psd_matrix_dim = sum(len(value) for degree, value in operators.items() if degree <= self.half_max_degree)\n",
    "        return [x for xs in operators.values() for x in xs] # flatten\n",
    "\n",
    "    def generate_hamiltonian_constraints(self):\n",
    "        constaints = []\n",
    "        for op_str in self.operator_list[0:self.psd_matrix_dim]:\n",
    "             constaints.append(self.matrix_system.single_trace_commutator(\n",
    "                 op1=self.hamiltonian,\n",
    "                 op2=SingleTraceOperator(data={op_str: 1})\n",
    "                 ))\n",
    "        return constaints\n",
    "\n",
    "    def generate_gauge_constraints(self):\n",
    "        constaints = []\n",
    "        for op_str in self.operator_list[0:self.psd_matrix_dim]:\n",
    "             constaints.append(\n",
    "                 (self.gauge * MatrixOperator(data={op_str: 1})).trace()\n",
    "                 )\n",
    "        return constaints\n"
   ]
  },
  {
   "cell_type": "code",
   "execution_count": 7,
   "metadata": {},
   "outputs": [
    {
     "data": {
      "text/plain": [
       "[(),\n",
       " ('X',),\n",
       " ('P',),\n",
       " ('X', 'X'),\n",
       " ('X', 'P'),\n",
       " ('P', 'X'),\n",
       " ('P', 'P'),\n",
       " ('X', 'X', 'X'),\n",
       " ('X', 'X', 'P'),\n",
       " ('X', 'P', 'X'),\n",
       " ('X', 'P', 'P'),\n",
       " ('P', 'X', 'X'),\n",
       " ('P', 'X', 'P'),\n",
       " ('P', 'P', 'X'),\n",
       " ('P', 'P', 'P')]"
      ]
     },
     "execution_count": 7,
     "metadata": {},
     "output_type": "execute_result"
    }
   ],
   "source": [
    "matrix_system = MatrixSystem(\n",
    "    operator_basis=['X', 'P'],\n",
    "    commutation_rules_concise = {\n",
    "        ('P', 'X'): -1j,\n",
    "    }\n",
    ")\n",
    "\n",
    "# scale variables as P = sqrt(N) P', X = sqrt(N) X'\n",
    "hamiltonian = SingleTraceOperator(\n",
    "        data={(\"P\", \"P\"): 1, (\"X\", \"X\"): 1, (\"X\", \"X\", \"X\", \"X\"): 7}\n",
    "    )\n",
    "\n",
    "# <tr G O > = 0 might need to be applied only for O with deg <= L-2\n",
    "gauge = MatrixOperator(data={('X', 'P'): 1j, ('P', 'X'): -1j, ():1})\n",
    "\n",
    "bootstrap = BootstrapSystem(\n",
    "    matrix_system=matrix_system,\n",
    "    hamiltonian=hamiltonian,\n",
    "    gauge=gauge,\n",
    "    half_max_degree=3\n",
    ")\n",
    "bootstrap.operator_list[:bootstrap.psd_matrix_dim]"
   ]
  },
  {
   "cell_type": "code",
   "execution_count": 8,
   "metadata": {},
   "outputs": [
    {
     "data": {
      "text/plain": [
       "[SingleTraceOperator(operators=[], coeff=[]),\n",
       " SingleTraceOperator(operators=[('P',)], coeff=[-2j]),\n",
       " SingleTraceOperator(operators=[('X',), ('X', 'X', 'X')], coeff=[2j, 28j]),\n",
       " SingleTraceOperator(operators=[('P', 'X'), ('X', 'P')], coeff=[-2j, -2j]),\n",
       " SingleTraceOperator(operators=[('P', 'P'), ('X', 'X'), ('X', 'X', 'X', 'X')], coeff=[-2j, 2j, 28j]),\n",
       " SingleTraceOperator(operators=[('P', 'P'), ('X', 'X'), ('X', 'X', 'X', 'X')], coeff=[-2j, 2j, 28j]),\n",
       " SingleTraceOperator(operators=[('X', 'P'), ('P', 'X'), ('X', 'X', 'X', 'P'), ('P', 'X', 'X', 'X')], coeff=[2j, 2j, 28j, 28j]),\n",
       " SingleTraceOperator(operators=[('P', 'X', 'X'), ('X', 'P', 'X'), ('X', 'X', 'P')], coeff=[-2j, -2j, -2j]),\n",
       " SingleTraceOperator(operators=[('P', 'X', 'P'), ('X', 'P', 'P'), ('X', 'X', 'X'), ('X', 'X', 'X', 'X', 'X')], coeff=[-2j, -2j, 2j, 28j]),\n",
       " SingleTraceOperator(operators=[('P', 'P', 'X'), ('X', 'P', 'P'), ('X', 'X', 'X'), ('X', 'X', 'X', 'X', 'X')], coeff=[-2j, -2j, 2j, 28j]),\n",
       " SingleTraceOperator(operators=[('P', 'P', 'P'), ('X', 'X', 'P'), ('X', 'P', 'X'), ('X', 'X', 'X', 'X', 'P'), ('X', 'P', 'X', 'X', 'X')], coeff=[-2j, 2j, 2j, 28j, 28j]),\n",
       " SingleTraceOperator(operators=[('P', 'P', 'X'), ('P', 'X', 'P'), ('X', 'X', 'X'), ('X', 'X', 'X', 'X', 'X')], coeff=[-2j, -2j, 2j, 28j]),\n",
       " SingleTraceOperator(operators=[('P', 'P', 'P'), ('X', 'X', 'P'), ('P', 'X', 'X'), ('X', 'X', 'X', 'X', 'P'), ('P', 'X', 'X', 'X', 'X')], coeff=[-2j, 2j, 2j, 28j, 28j]),\n",
       " SingleTraceOperator(operators=[('P', 'P', 'P'), ('X', 'P', 'X'), ('P', 'X', 'X'), ('X', 'X', 'X', 'P', 'X'), ('P', 'X', 'X', 'X', 'X')], coeff=[-2j, 2j, 2j, 28j, 28j]),\n",
       " SingleTraceOperator(operators=[('X', 'P', 'P'), ('P', 'X', 'P'), ('P', 'P', 'X'), ('X', 'X', 'X', 'P', 'P'), ('P', 'X', 'X', 'X', 'P'), ('P', 'P', 'X', 'X', 'X')], coeff=[2j, 2j, 2j, 28j, 28j, 28j])]"
      ]
     },
     "execution_count": 8,
     "metadata": {},
     "output_type": "execute_result"
    }
   ],
   "source": [
    "bootstrap.generate_hamiltonian_constraints()"
   ]
  },
  {
   "cell_type": "code",
   "execution_count": 9,
   "metadata": {},
   "outputs": [
    {
     "data": {
      "text/plain": [
       "[SingleTraceOperator(operators=[('X', 'P'), ('P', 'X'), ()], coeff=[1j, -1j, 1]),\n",
       " SingleTraceOperator(operators=[('X', 'P', 'X'), ('P', 'X', 'X'), ('X',)], coeff=[1j, -1j, 1]),\n",
       " SingleTraceOperator(operators=[('X', 'P', 'P'), ('P', 'X', 'P'), ('P',)], coeff=[1j, -1j, 1]),\n",
       " SingleTraceOperator(operators=[('X', 'P', 'X', 'X'), ('P', 'X', 'X', 'X'), ('X', 'X')], coeff=[1j, -1j, 1]),\n",
       " SingleTraceOperator(operators=[('X', 'P', 'X', 'P'), ('P', 'X', 'X', 'P'), ('X', 'P')], coeff=[1j, -1j, 1]),\n",
       " SingleTraceOperator(operators=[('X', 'P', 'P', 'X'), ('P', 'X', 'P', 'X'), ('P', 'X')], coeff=[1j, -1j, 1]),\n",
       " SingleTraceOperator(operators=[('X', 'P', 'P', 'P'), ('P', 'X', 'P', 'P'), ('P', 'P')], coeff=[1j, -1j, 1]),\n",
       " SingleTraceOperator(operators=[('X', 'P', 'X', 'X', 'X'), ('P', 'X', 'X', 'X', 'X'), ('X', 'X', 'X')], coeff=[1j, -1j, 1]),\n",
       " SingleTraceOperator(operators=[('X', 'P', 'X', 'X', 'P'), ('P', 'X', 'X', 'X', 'P'), ('X', 'X', 'P')], coeff=[1j, -1j, 1]),\n",
       " SingleTraceOperator(operators=[('X', 'P', 'X', 'P', 'X'), ('P', 'X', 'X', 'P', 'X'), ('X', 'P', 'X')], coeff=[1j, -1j, 1]),\n",
       " SingleTraceOperator(operators=[('X', 'P', 'X', 'P', 'P'), ('P', 'X', 'X', 'P', 'P'), ('X', 'P', 'P')], coeff=[1j, -1j, 1]),\n",
       " SingleTraceOperator(operators=[('X', 'P', 'P', 'X', 'X'), ('P', 'X', 'P', 'X', 'X'), ('P', 'X', 'X')], coeff=[1j, -1j, 1]),\n",
       " SingleTraceOperator(operators=[('X', 'P', 'P', 'X', 'P'), ('P', 'X', 'P', 'X', 'P'), ('P', 'X', 'P')], coeff=[1j, -1j, 1]),\n",
       " SingleTraceOperator(operators=[('X', 'P', 'P', 'P', 'X'), ('P', 'X', 'P', 'P', 'X'), ('P', 'P', 'X')], coeff=[1j, -1j, 1]),\n",
       " SingleTraceOperator(operators=[('X', 'P', 'P', 'P', 'P'), ('P', 'X', 'P', 'P', 'P'), ('P', 'P', 'P')], coeff=[1j, -1j, 1])]"
      ]
     },
     "execution_count": 9,
     "metadata": {},
     "output_type": "execute_result"
    }
   ],
   "source": [
    "bootstrap.generate_gauge_constraints()"
   ]
  },
  {
   "cell_type": "code",
   "execution_count": null,
   "metadata": {},
   "outputs": [],
   "source": []
  },
  {
   "cell_type": "code",
   "execution_count": null,
   "metadata": {},
   "outputs": [],
   "source": []
  },
  {
   "cell_type": "code",
   "execution_count": null,
   "metadata": {},
   "outputs": [],
   "source": []
  },
  {
   "cell_type": "markdown",
   "metadata": {},
   "source": [
    "## OLD"
   ]
  },
  {
   "cell_type": "code",
   "execution_count": null,
   "metadata": {},
   "outputs": [],
   "source": [
    "matrix_system = MatrixSystem(\n",
    "    operator_basis=['X0', 'P1'],\n",
    "    commutation_rules_concise = {\n",
    "        ('P0', 'X0'): -1j,\n",
    "        ('P1', 'X1'): -1j,\n",
    "        ('P2', 'X2'): -1j,\n",
    "    }\n",
    ")\n",
    "len(matrix_system.commutation_rules)"
   ]
  }
 ],
 "metadata": {
  "kernelspec": {
   "display_name": "bmnsim",
   "language": "python",
   "name": "python3"
  },
  "language_info": {
   "codemirror_mode": {
    "name": "ipython",
    "version": 3
   },
   "file_extension": ".py",
   "mimetype": "text/x-python",
   "name": "python",
   "nbconvert_exporter": "python",
   "pygments_lexer": "ipython3",
   "version": "3.12.3"
  }
 },
 "nbformat": 4,
 "nbformat_minor": 2
}
