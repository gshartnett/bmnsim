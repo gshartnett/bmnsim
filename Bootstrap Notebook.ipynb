{
 "cells": [
  {
   "cell_type": "markdown",
   "metadata": {},
   "source": [
    "- Adopt standard variable convention for op, op_str, etc.\n",
    "    - matrixoperators are given name mat_op, singletrace are given st_op\n",
    "    - op string names 'X', 'P' are op_str\n",
    "    - operator tuples are op\n",
    "- how to handle 'empty' operator SingleTraceOperator(data={():0})"
   ]
  },
  {
   "cell_type": "code",
   "execution_count": 1,
   "metadata": {},
   "outputs": [],
   "source": [
    "import numpy as np\n",
    "import sympy as sp\n",
    "from typing import Union, Self\n",
    "from numbers import Number\n",
    "from itertools import chain\n",
    "from bmn.algebra import MatrixOperator, SingleTraceOperator, MatrixSystem\n",
    "from itertools import product\n",
    "from scipy.sparse import coo_matrix"
   ]
  },
  {
   "cell_type": "code",
   "execution_count": 26,
   "metadata": {},
   "outputs": [
    {
     "data": {
      "text/plain": [
       "(2, 3)"
      ]
     },
     "execution_count": 26,
     "metadata": {},
     "output_type": "execute_result"
    }
   ],
   "source": [
    "np.asarray([\n",
    "    [1, 2, 3],\n",
    "    [4, 5, 6],\n",
    "]).shape"
   ]
  },
  {
   "cell_type": "code",
   "execution_count": 27,
   "metadata": {},
   "outputs": [],
   "source": [
    "def create_sparse_matrix_from_dict(index_value_dict: dict[tuple[int, int], Number], matrix_shape: tuple[int, int]) -> coo_matrix:\n",
    "    \"\"\"\n",
    "    Create a sparse COO-formatted matrix from an index-value dictionary.\n",
    "\n",
    "    Parameters\n",
    "    ----------\n",
    "    index_value_dict : dict[tuple[int, int], Number]\n",
    "        The index-value dictionary, formatted as in:\n",
    "\n",
    "        index_value_dict = {\n",
    "            (0, 1): 4,\n",
    "            (1, 2): 7,\n",
    "            (2, 0): 5,\n",
    "            (3, 3): 1\n",
    "        }\n",
    "\n",
    "    matrix_shape: tuple[int, int]\n",
    "        The matrix shape, required because the matrix is sparse.\n",
    "\n",
    "    Returns\n",
    "    -------\n",
    "    coo_matrix\n",
    "        The sparse COO matrix.\n",
    "    \"\"\"\n",
    "\n",
    "    # prepare the data\n",
    "    row_indices = []\n",
    "    column_indices = []\n",
    "    data_values = []\n",
    "\n",
    "    for (row, col), value in index_value_dict.items():\n",
    "        row_indices.append(row)\n",
    "        column_indices.append(col)\n",
    "        data_values.append(value)\n",
    "\n",
    "    # convert lists to numpy arrays\n",
    "    row_indices = np.array(row_indices)\n",
    "    column_indices = np.array(column_indices)\n",
    "    data_values = np.array(data_values)\n",
    "\n",
    "    print('(num_rows, num_cols) = ', (num_rows, num_cols))\n",
    "    # create the sparse matrix\n",
    "    sparse_matrix = coo_matrix((data_values, (row_indices, column_indices)), shape=(num_rows, num_cols))\n",
    "\n",
    "    print(sparse_matrix.shape)\n",
    "\n",
    "    return sparse_matrix"
   ]
  },
  {
   "cell_type": "markdown",
   "metadata": {},
   "source": [
    "## One Matrix Model"
   ]
  },
  {
   "cell_type": "code",
   "execution_count": 28,
   "metadata": {},
   "outputs": [],
   "source": [
    "class BootstrapSystem():\n",
    "    \"\"\"\n",
    "    _summary_\n",
    "    \"\"\"\n",
    "    def __init__(\n",
    "            self,\n",
    "            matrix_system: MatrixSystem,\n",
    "            hamiltonian: SingleTraceOperator,\n",
    "            gauge: MatrixOperator,\n",
    "            half_max_degree: int\n",
    "            ):\n",
    "        self.matrix_system = matrix_system\n",
    "        self.hamiltonian = hamiltonian\n",
    "        self.gauge = gauge\n",
    "        self.half_max_degree = half_max_degree\n",
    "        self.operator_list = self.generate_operators(2*half_max_degree)\n",
    "        self.operator_dict = {op: idx for idx, op in enumerate(self.operator_list)}\n",
    "        if 2*self.half_max_degree < self.hamiltonian.max_degree:\n",
    "            raise ValueError(\"2 * half_max_degree must be >= max degree of Hamiltonian.\")\n",
    "\n",
    "    def generate_operators(self, max_degree: int) -> list[str]:\n",
    "        \"\"\"\n",
    "        Generate the list of operators used in the bootstrap, i.e.\n",
    "            I, X, P, XX, XP, PX, PP, ...,\n",
    "        up to and including strings of max_degree degree.\n",
    "\n",
    "        Parameters\n",
    "        ----------\n",
    "        max_degree : int\n",
    "            Maximum degree of operators to consider.\n",
    "\n",
    "        Returns\n",
    "        -------\n",
    "        list[str]\n",
    "            A list of the operators.\n",
    "        \"\"\"\n",
    "        operators = {deg: [x for x in product(self.matrix_system.operator_basis, repeat=deg)] for deg in range(0, max_degree+1)}\n",
    "        self.psd_matrix_dim = sum(len(value) for degree, value in operators.items() if degree <= self.half_max_degree)\n",
    "        return [x for xs in operators.values() for x in xs] # flatten\n",
    "\n",
    "    def generate_hamiltonian_constraints(self) -> list[SingleTraceOperator]:\n",
    "        \"\"\"\n",
    "        Generate the Hamiltonian constraints <[H,O]>=0 for O single trace.\n",
    "\n",
    "        Returns\n",
    "        -------\n",
    "        list[SingleTraceOperator]\n",
    "            The list of constraint terms.\n",
    "        \"\"\"\n",
    "        constraints = []\n",
    "        for op in self.operator_list:\n",
    "             constraints.append(self.matrix_system.single_trace_commutator(\n",
    "                 st_operator1=self.hamiltonian,\n",
    "                 st_operator2=SingleTraceOperator(data={op: 1})\n",
    "                 ))\n",
    "        return self.clean_constraints(constraints)\n",
    "\n",
    "    def generate_gauge_constraints(self) -> list[SingleTraceOperator]:\n",
    "        \"\"\"\n",
    "        Generate the Gauge constraints <tr(G O)>=0 for O a general matrix operator.\n",
    "        Because G has max degree 2, this will create constraints involving terms\n",
    "        with degree max_degree + 2. These will be discarded.\n",
    "\n",
    "        Returns\n",
    "        -------\n",
    "        list[SingleTraceOperator]\n",
    "            The list of constraint terms.\n",
    "        \"\"\"\n",
    "        constraints = []\n",
    "        for op in self.operator_list:\n",
    "             constraints.append(\n",
    "                 (self.gauge * MatrixOperator(data={op: 1})).trace()\n",
    "                 )\n",
    "        return self.clean_constraints(constraints)\n",
    "\n",
    "    def generate_reality_constraints(self) -> list[SingleTraceOperator]:\n",
    "        \"\"\"\n",
    "        Generate single trace constraints imposed by reality,\n",
    "            <O^dagger> = <O>\n",
    "\n",
    "        Returns\n",
    "        -------\n",
    "        list[SingleTraceOperator]\n",
    "            The list of constraint terms.\n",
    "        \"\"\"\n",
    "        constraints = []\n",
    "        for op in self.operator_list:\n",
    "             st_operator = SingleTraceOperator(data={op: 1})\n",
    "             st_operator_dagger = SingleTraceOperator(data={op: 1}).hermitian_conjugate()\n",
    "             if len(st_operator - st_operator_dagger) > 0:\n",
    "                 constraints.append(st_operator - st_operator_dagger)\n",
    "        return self.clean_constraints(constraints)\n",
    "\n",
    "    def generate_cyclic_constraints(self) -> list[SingleTraceOperator]:\n",
    "        # TODO it might be nice to implement this using a DoubleTraceOperator class\n",
    "        constraints = {}\n",
    "        for idx, op in enumerate(self.operator_list):\n",
    "            if len(op) > 1:\n",
    "                # the LHS corresponds to single trace operators\n",
    "                # note that in Eq S37, S38 their RHS contains single trace operators (k=1, k=r) in their notation\n",
    "                eq_lhs = SingleTraceOperator(data={op: 1}) - SingleTraceOperator(data={tuple(op[1:]) + tuple(op[0]): 1})\n",
    "                #eq_lhs += self.matrix_system.commutation_rules[(op_str[0], op_str[1])] * SingleTraceOperator(data={tuple(op_str[2:]): 1})\n",
    "                #eq_lhs += self.matrix_system.commutation_rules[(op_str[0], op_str[len(op_str)-1])] * SingleTraceOperator(data={tuple(op_str[1:len(op_str)-1]): 1})\n",
    "\n",
    "                # rhe RHS corresponds to double trace operators\n",
    "                eq_rhs = []\n",
    "                for k in range(1, len(op)):\n",
    "                    commutator = self.matrix_system.commutation_rules[(op[0], op[k])]\n",
    "                    eq_rhs.append([commutator, SingleTraceOperator(data={tuple(op[1:k]): 1}), SingleTraceOperator(data={tuple(op[k+1:]): 1})])\n",
    "                constraints[idx] = {'lhs':eq_lhs, 'rhs':eq_rhs}\n",
    "        return constraints #self.clean_constraints(constraints)\n",
    "\n",
    "    def build_linear_constraints(self, return_matrix: bool=True):\n",
    "        \"\"\"\n",
    "        _summary_\n",
    "        1. accumulate each constraint and map it to a vector\n",
    "        2. reduce system of equations\n",
    "        3. what about odd number of matrices?\n",
    "        4. return sparse matrix\n",
    "        \"\"\"\n",
    "        empty_operator = SingleTraceOperator(data={():0})\n",
    "        constraints = []\n",
    "\n",
    "        # Hamiltonian constraints\n",
    "        for st_operator in self.generate_hamiltonian_constraints():\n",
    "            if st_operator != empty_operator:\n",
    "                constraints.append({op: coeff for op, coeff in st_operator})\n",
    "\n",
    "        # gauge constraints\n",
    "        for st_operator in self.generate_gauge_constraints():\n",
    "            if st_operator != empty_operator:\n",
    "                constraints.append({op: coeff for op, coeff in st_operator})\n",
    "\n",
    "        # reality constraints\n",
    "        for st_operator in self.generate_reality_constraints():\n",
    "            if st_operator != empty_operator:\n",
    "                constraints.append({op: coeff for op, coeff in st_operator})\n",
    "\n",
    "        # optionally return the constraints in a human-readable form\n",
    "        if not return_matrix:\n",
    "            return constraints\n",
    "\n",
    "        # build the index-value dict\n",
    "        index_value_dict = {}\n",
    "        for idx_constraint, constraint_dict in enumerate(constraints):\n",
    "            print(idx_constraint)\n",
    "            for op, coeff in constraint_dict.items():\n",
    "                index_value_dict[(idx_constraint, self.operator_dict[op])] = coeff\n",
    "\n",
    "        return create_sparse_matrix_from_dict(index_value_dict=index_value_dict, matrix_shape=(len(constraints), len(self.operator_list)))\n",
    "\n",
    "    def clean_constraints(self, constraints: list[SingleTraceOperator]) -> list[SingleTraceOperator]:\n",
    "        \"\"\"\n",
    "        Remove constraints that involve operators outside the basis set.\n",
    "\n",
    "        Parameters\n",
    "        ----------\n",
    "        constraints : list[SingleTraceOperator]\n",
    "            The single trace constraints.\n",
    "\n",
    "        Returns\n",
    "        -------\n",
    "        list[SingleTraceOperator]\n",
    "            The cleaned constraints.\n",
    "        \"\"\"\n",
    "        cleaned_constraints = []\n",
    "        for st_operator in constraints:\n",
    "            if all([op in self.operator_list for op in st_operator.data]):\n",
    "                cleaned_constraints.append(st_operator)\n",
    "        return cleaned_constraints"
   ]
  },
  {
   "cell_type": "code",
   "execution_count": 29,
   "metadata": {},
   "outputs": [
    {
     "data": {
      "text/plain": [
       "{('X', 'X'): 0, ('P', 'X'): (-0-1j), ('X', 'P'): 1j, ('P', 'P'): 0}"
      ]
     },
     "execution_count": 29,
     "metadata": {},
     "output_type": "execute_result"
    }
   ],
   "source": [
    "matrix_system = MatrixSystem(\n",
    "    operator_basis=['X', 'P'],\n",
    "    commutation_rules_concise = {\n",
    "        ('P', 'X'): -1j,\n",
    "    }\n",
    ")\n",
    "\n",
    "# scale variables as P = sqrt(N) P', X = sqrt(N) X'\n",
    "hamiltonian = SingleTraceOperator(\n",
    "        data={(\"P\", \"P\"): 1, (\"X\", \"X\"): 1, (\"X\", \"X\", \"X\", \"X\"): 7}\n",
    "    )\n",
    "\n",
    "# <tr G O > = 0 might need to be applied only for O with deg <= L-2\n",
    "gauge = MatrixOperator(data={('X', 'P'): 1j, ('P', 'X'): -1j, ():1})\n",
    "\n",
    "bootstrap = BootstrapSystem(\n",
    "    matrix_system=matrix_system,\n",
    "    hamiltonian=hamiltonian,\n",
    "    gauge=gauge,\n",
    "    half_max_degree=2\n",
    ")\n",
    "#bootstrap.operator_list[:bootstrap.psd_matrix_dim]\n",
    "bootstrap.matrix_system.commutation_rules"
   ]
  },
  {
   "cell_type": "code",
   "execution_count": 30,
   "metadata": {},
   "outputs": [
    {
     "data": {
      "text/plain": [
       "['X', 'P']"
      ]
     },
     "execution_count": 30,
     "metadata": {},
     "output_type": "execute_result"
    }
   ],
   "source": [
    "matrix_system.operator_basis"
   ]
  },
  {
   "cell_type": "code",
   "execution_count": 31,
   "metadata": {},
   "outputs": [
    {
     "data": {
      "text/plain": [
       "{(): 0,\n",
       " ('X',): 1,\n",
       " ('P',): 2,\n",
       " ('X', 'X'): 3,\n",
       " ('X', 'P'): 4,\n",
       " ('P', 'X'): 5,\n",
       " ('P', 'P'): 6,\n",
       " ('X', 'X', 'X'): 7,\n",
       " ('X', 'X', 'P'): 8,\n",
       " ('X', 'P', 'X'): 9,\n",
       " ('X', 'P', 'P'): 10,\n",
       " ('P', 'X', 'X'): 11,\n",
       " ('P', 'X', 'P'): 12,\n",
       " ('P', 'P', 'X'): 13,\n",
       " ('P', 'P', 'P'): 14,\n",
       " ('X', 'X', 'X', 'X'): 15,\n",
       " ('X', 'X', 'X', 'P'): 16,\n",
       " ('X', 'X', 'P', 'X'): 17,\n",
       " ('X', 'X', 'P', 'P'): 18,\n",
       " ('X', 'P', 'X', 'X'): 19,\n",
       " ('X', 'P', 'X', 'P'): 20,\n",
       " ('X', 'P', 'P', 'X'): 21,\n",
       " ('X', 'P', 'P', 'P'): 22,\n",
       " ('P', 'X', 'X', 'X'): 23,\n",
       " ('P', 'X', 'X', 'P'): 24,\n",
       " ('P', 'X', 'P', 'X'): 25,\n",
       " ('P', 'X', 'P', 'P'): 26,\n",
       " ('P', 'P', 'X', 'X'): 27,\n",
       " ('P', 'P', 'X', 'P'): 28,\n",
       " ('P', 'P', 'P', 'X'): 29,\n",
       " ('P', 'P', 'P', 'P'): 30}"
      ]
     },
     "execution_count": 31,
     "metadata": {},
     "output_type": "execute_result"
    }
   ],
   "source": [
    "bootstrap.operator_dict"
   ]
  },
  {
   "cell_type": "code",
   "execution_count": 32,
   "metadata": {},
   "outputs": [
    {
     "data": {
      "text/plain": [
       "(33, 31)"
      ]
     },
     "execution_count": 32,
     "metadata": {},
     "output_type": "execute_result"
    }
   ],
   "source": [
    "len(bootstrap.build_linear_constraints(return_matrix=False)), len(bootstrap.operator_dict)"
   ]
  },
  {
   "cell_type": "code",
   "execution_count": 33,
   "metadata": {},
   "outputs": [
    {
     "name": "stdout",
     "output_type": "stream",
     "text": [
      "0\n",
      "1\n",
      "2\n",
      "3\n",
      "4\n",
      "5\n",
      "6\n",
      "7\n",
      "8\n",
      "9\n",
      "10\n",
      "11\n",
      "12\n",
      "13\n",
      "14\n",
      "15\n",
      "16\n",
      "17\n",
      "18\n",
      "19\n",
      "20\n",
      "21\n",
      "22\n",
      "23\n",
      "24\n",
      "25\n",
      "26\n",
      "27\n",
      "28\n",
      "29\n",
      "30\n",
      "31\n",
      "32\n",
      "(num_rows, num_cols) =  (79, 31)\n",
      "(79, 31)\n"
     ]
    },
    {
     "data": {
      "text/plain": [
       "<79x31 sparse matrix of type '<class 'numpy.complex128'>'\n",
       "\twith 79 stored elements in COOrdinate format>"
      ]
     },
     "execution_count": 33,
     "metadata": {},
     "output_type": "execute_result"
    }
   ],
   "source": [
    "bootstrap.build_linear_constraints(return_matrix=True)"
   ]
  },
  {
   "cell_type": "code",
   "execution_count": null,
   "metadata": {},
   "outputs": [],
   "source": [
    "bootstrap.operator_list[0], bootstrap.generate_hamiltonian_constraints()[0]"
   ]
  },
  {
   "cell_type": "code",
   "execution_count": null,
   "metadata": {},
   "outputs": [],
   "source": []
  },
  {
   "cell_type": "code",
   "execution_count": null,
   "metadata": {},
   "outputs": [],
   "source": [
    "bootstrap.operator_list[1], bootstrap.generate_hamiltonian_constraints()[1]"
   ]
  },
  {
   "cell_type": "code",
   "execution_count": null,
   "metadata": {},
   "outputs": [],
   "source": [
    "bootstrap.operator_list[2], bootstrap.generate_hamiltonian_constraints()[2]"
   ]
  },
  {
   "cell_type": "code",
   "execution_count": null,
   "metadata": {},
   "outputs": [],
   "source": [
    "bootstrap.operator_list[3], 1j * 1/2 * bootstrap.generate_hamiltonian_constraints()[3]"
   ]
  },
  {
   "cell_type": "code",
   "execution_count": null,
   "metadata": {},
   "outputs": [],
   "source": [
    "bootstrap.generate_hamiltonian_constraints()[3], bootstrap.generate_hamiltonian_constraints()[3].hermitian_conjugate()"
   ]
  },
  {
   "cell_type": "code",
   "execution_count": null,
   "metadata": {},
   "outputs": [],
   "source": [
    "bootstrap.operator_list[0], -1j * bootstrap.generate_gauge_constraints()[0]"
   ]
  },
  {
   "cell_type": "code",
   "execution_count": null,
   "metadata": {},
   "outputs": [],
   "source": [
    "# this reproduces Eq 14 in the main text (promote this to a unit test)\n",
    "idx = bootstrap.operator_list.index(('X', 'P', 'P', 'P'),)\n",
    "bootstrap.generate_cyclic_constraints()[idx]"
   ]
  },
  {
   "cell_type": "code",
   "execution_count": null,
   "metadata": {},
   "outputs": [],
   "source": []
  },
  {
   "cell_type": "code",
   "execution_count": null,
   "metadata": {},
   "outputs": [],
   "source": []
  },
  {
   "cell_type": "markdown",
   "metadata": {},
   "source": [
    "## OLD"
   ]
  },
  {
   "cell_type": "code",
   "execution_count": null,
   "metadata": {},
   "outputs": [],
   "source": [
    "matrix_system = MatrixSystem(\n",
    "    operator_basis=['X0', 'P1'],\n",
    "    commutation_rules_concise = {\n",
    "        ('P0', 'X0'): -1j,\n",
    "        ('P1', 'X1'): -1j,\n",
    "        ('P2', 'X2'): -1j,\n",
    "    }\n",
    ")\n",
    "len(matrix_system.commutation_rules)"
   ]
  }
 ],
 "metadata": {
  "kernelspec": {
   "display_name": "bmnsim",
   "language": "python",
   "name": "python3"
  },
  "language_info": {
   "codemirror_mode": {
    "name": "ipython",
    "version": 3
   },
   "file_extension": ".py",
   "mimetype": "text/x-python",
   "name": "python",
   "nbconvert_exporter": "python",
   "pygments_lexer": "ipython3",
   "version": "3.12.3"
  }
 },
 "nbformat": 4,
 "nbformat_minor": 2
}
