{
 "cells": [
  {
   "cell_type": "code",
   "execution_count": 1,
   "metadata": {},
   "outputs": [],
   "source": [
    "from typing import Union, Self\n",
    "from numbers import Number\n",
    "from itertools import chain, product\n",
    "\n",
    "import numpy as np\n",
    "import sympy as sp\n",
    "import cvxpy as cp\n",
    "import json\n",
    "import hashlib\n",
    "import scipy\n",
    "from scipy.sparse import csr_matrix\n",
    "import scipy.sparse as sparse\n",
    "from scipy.linalg import qr\n",
    "from scipy.sparse import coo_matrix, csc_matrix\n",
    "from scipy.sparse.linalg import splu, svds\n",
    "from sksparse.cholmod import cholesky\n",
    "import xxhash\n",
    "from bmn.algebra import MatrixOperator, SingleTraceOperator, MatrixSystem, DoubleTraceOperator\n",
    "from bmn.linear_algebra import get_null_space_dense, create_sparse_matrix_from_dict, get_row_space_dense, get_null_space_sparse\n",
    "from bmn.bootstrap import BootstrapSystem\n",
    "from bmn.solver_trustregion import (\n",
    "    minimal_eigval,\n",
    "    sdp_init, sdp_relax,\n",
    "    sdp_minimize,\n",
    "    #minimize,\n",
    "    get_quadratic_constraint_vector_sparse,\n",
    "    get_quadratic_constraint_vector_dense,\n",
    "    compute_L2_norm_of_quadratic_constraints,\n",
    ")\n",
    "from bmn.solver_pytorch import solve_bootstrap as solve_bootstrap_pytorch\n",
    "from bmn.models import OneMatrix, TwoMatrix, MiniBFSS\n",
    "from bmn.brezin import compute_Brezin_energy, compute_Brezin_energy_Han_conventions\n",
    "import os\n",
    "from bmn.debug_utils import disable_debug\n",
    "\n",
    "import yaml\n",
    "from bmn.config_utils import (\n",
    "    run_bootstrap_from_config,\n",
    "    generate_configs_one_matrix,\n",
    "    generate_configs_two_matrix,\n",
    "    generate_configs_three_matrix,\n",
    "    generate_configs_bfss,\n",
    "    )\n",
    "\n",
    "from bmn.models import OneMatrix, TwoMatrix, MiniBFSS\n",
    "import pandas as pd\n",
    "\n",
    "\n",
    "# plot settings\n",
    "import matplotlib.pyplot as plt\n",
    "import matplotlib\n",
    "from cycler import cycler\n",
    "import torch\n",
    "import torch.optim as optim\n",
    "from torch.nn import ReLU\n",
    "\n",
    "plt.rcParams['xtick.direction'] = 'in'\n",
    "plt.rcParams['ytick.direction'] = 'in'\n",
    "plt.rcParams['xtick.major.size'] = 5.0\n",
    "plt.rcParams['xtick.minor.size'] = 3.0\n",
    "plt.rcParams['ytick.major.size'] = 5.0\n",
    "plt.rcParams['ytick.minor.size'] = 3.0\n",
    "plt.rcParams['lines.linewidth'] = 2\n",
    "plt.rc('font', family='serif',size=16)\n",
    "matplotlib.rc('text', usetex=True)\n",
    "matplotlib.rc('legend', fontsize=16)\n",
    "matplotlib.rcParams['axes.prop_cycle'] = cycler(\n",
    "    color=['#E24A33', '#348ABD', '#988ED5', '#777777', '#FBC15E', '#8EBA42', '#FFB5B8']\n",
    "    )\n",
    "matplotlib.rcParams.update(\n",
    "    {\"axes.grid\":True,\n",
    "    \"grid.alpha\":0.75,\n",
    "    \"grid.linewidth\":0.5}\n",
    "    )\n",
    "colors = plt.rcParams['axes.prop_cycle'].by_key()['color']\n",
    "\n",
    "np.set_printoptions(linewidth=120)  # Adjust the number to the desired width\n",
    "torch.set_printoptions(linewidth=120)  # Adjust the number to the desired width"
   ]
  },
  {
   "cell_type": "code",
   "execution_count": 4,
   "metadata": {},
   "outputs": [
    {
     "name": "stdout",
     "output_type": "stream",
     "text": [
      "Assuming all operators are either Hermitian or anti-Hermitian.\n",
      "NOTE Remember to incorporate more general basis changes!\n",
      "Bootstrap system instantiated for 87381 operators\n",
      "Attribute: simplify_quadratic = True\n",
      "Attempting to load from checkpoints, checkpoint_path=checkpoints/TwoMatrix_L_4_symmetric_energy_fixed_g2_0\n",
      "  loaded previously computed linear constraints\n",
      "  loaded previously computed cyclic constraints\n",
      "  loaded previously computed null space matrix\n",
      "  loaded previously computed quadratic constraints (numerical)\n",
      "  loaded previously computed bootstrap table\n"
     ]
    }
   ],
   "source": [
    "L = 4\n",
    "from bmn.models import TwoMatrix, MiniBFSS\n",
    "device = torch.device(\"cuda\") if torch.cuda.is_available() else torch.device(\"cpu\")\n",
    "\n",
    "model = TwoMatrix(couplings={\"g2\": 0, \"g4\": 1})\n",
    "checkpoint_path = f\"checkpoints/TwoMatrix_L_{L}_symmetric_energy_fixed_g2_0\"\n",
    "\n",
    "bootstrap = BootstrapSystem(\n",
    "matrix_system=model.matrix_system,\n",
    "hamiltonian=model.hamiltonian,\n",
    "gauge_generator=model.gauge_generator,\n",
    "max_degree_L=L,\n",
    "symmetry_generators=model.symmetry_generators,\n",
    "verbose=True,\n",
    "checkpoint_path=checkpoint_path\n",
    ")\n",
    "bootstrap.load_constraints(checkpoint_path)"
   ]
  },
  {
   "cell_type": "code",
   "execution_count": 8,
   "metadata": {},
   "outputs": [
    {
     "name": "stdout",
     "output_type": "stream",
     "text": [
      "DEBUG 18:38:06.602671: Final bootstrap parameter dimension: 655\n",
      "DEBUG 18:38:07.473645: Initializing param to be the least squares solution of Ax=b plus Gaussian noise with scale = 0.\n",
      "Axb_loss=0.0\n",
      "A @ param = tensor([1., 2.], device='cuda:0', grad_fn=<MvBackward0>)\n",
      "DEBUG 18:38:10.389702: epoch: 100/10000, lr: 9.048e-01 total_loss: 3.561e+02: op_loss: 0.13191, ||Ax-b||: 0.000e+00, min_eig: 3.472e+00, ||quad cons||: 3.885e-01\n",
      "DEBUG 18:38:13.259410: epoch: 200/10000, lr: 8.186e-01 total_loss: 2.493e+02: op_loss: 0.39792, ||Ax-b||: 0.000e+00, min_eig: 2.450e+00, ||quad cons||: 3.487e-02\n",
      "DEBUG 18:38:16.091736: epoch: 300/10000, lr: 7.407e-01 total_loss: 2.126e+02: op_loss: 0.75040, ||Ax-b||: 0.000e+00, min_eig: 1.973e+00, ||quad cons||: 2.043e-01\n",
      "DEBUG 18:38:18.960468: epoch: 400/10000, lr: 6.702e-01 total_loss: 1.681e+02: op_loss: 1.02157, ||Ax-b||: 0.000e+00, min_eig: 1.622e+00, ||quad cons||: 2.196e-02\n",
      "DEBUG 18:38:21.795772: epoch: 500/10000, lr: 6.064e-01 total_loss: 1.389e+02: op_loss: 1.24850, ||Ax-b||: 0.000e+00, min_eig: 1.373e+00, ||quad cons||: 1.530e-02\n",
      "DEBUG 18:38:24.634801: epoch: 600/10000, lr: 5.486e-01 total_loss: 1.222e+02: op_loss: 1.41753, ||Ax-b||: 0.000e+00, min_eig: 1.188e+00, ||quad cons||: 1.968e-02\n",
      "DEBUG 18:38:27.459504: epoch: 700/10000, lr: 4.964e-01 total_loss: 1.063e+02: op_loss: 1.51849, ||Ax-b||: 0.000e+00, min_eig: 1.021e+00, ||quad cons||: 3.624e-02\n",
      "DEBUG 18:38:30.262350: epoch: 800/10000, lr: 4.491e-01 total_loss: 9.158e+01: op_loss: 1.61458, ||Ax-b||: 0.000e+00, min_eig: 8.810e-01, ||quad cons||: 1.755e-02\n",
      "DEBUG 18:38:33.077779: epoch: 900/10000, lr: 4.064e-01 total_loss: 8.367e+01: op_loss: 1.69191, ||Ax-b||: 0.000e+00, min_eig: 7.911e-01, ||quad cons||: 4.777e-02\n",
      "DEBUG 18:38:35.894109: epoch: 1000/10000, lr: 3.677e-01 total_loss: 7.152e+01: op_loss: 1.76092, ||Ax-b||: 0.000e+00, min_eig: 6.905e-01, ||quad cons||: 7.012e-03\n",
      "DEBUG 18:38:38.739621: epoch: 1100/10000, lr: 3.327e-01 total_loss: 6.216e+01: op_loss: 1.81630, ||Ax-b||: 0.000e+00, min_eig: 6.020e-01, ||quad cons||: 4.632e-03\n",
      "DEBUG 18:38:41.584162: epoch: 1200/10000, lr: 3.010e-01 total_loss: 5.569e+01: op_loss: 1.86409, ||Ax-b||: 0.000e+00, min_eig: 5.438e-01, ||quad cons||: 8.835e-03\n",
      "DEBUG 18:38:44.446728: epoch: 1300/10000, lr: 2.724e-01 total_loss: 4.809e+01: op_loss: 1.88986, ||Ax-b||: 0.000e+00, min_eig: 4.668e-01, ||quad cons||: 3.484e-03\n",
      "DEBUG 18:38:47.310153: epoch: 1400/10000, lr: 2.464e-01 total_loss: 4.315e+01: op_loss: 1.92406, ||Ax-b||: 0.000e+00, min_eig: 4.092e-01, ||quad cons||: 4.451e-03\n",
      "DEBUG 18:38:50.173870: epoch: 1500/10000, lr: 2.230e-01 total_loss: 4.106e+01: op_loss: 1.94514, ||Ax-b||: 0.000e+00, min_eig: 3.760e-01, ||quad cons||: 3.641e-03\n",
      "DEBUG 18:38:53.037771: epoch: 1600/10000, lr: 2.017e-01 total_loss: 3.632e+01: op_loss: 1.97110, ||Ax-b||: 0.000e+00, min_eig: 3.372e-01, ||quad cons||: 6.186e-03\n",
      "DEBUG 18:38:55.916415: epoch: 1700/10000, lr: 1.825e-01 total_loss: 3.135e+01: op_loss: 1.99395, ||Ax-b||: 0.000e+00, min_eig: 2.905e-01, ||quad cons||: 3.298e-03\n",
      "DEBUG 18:38:58.801271: epoch: 1800/10000, lr: 1.652e-01 total_loss: 2.784e+01: op_loss: 2.00613, ||Ax-b||: 0.000e+00, min_eig: 2.560e-01, ||quad cons||: 3.278e-03\n",
      "DEBUG 18:39:01.690070: epoch: 1900/10000, lr: 1.494e-01 total_loss: 2.469e+01: op_loss: 2.01866, ||Ax-b||: 0.000e+00, min_eig: 2.192e-01, ||quad cons||: 2.659e-03\n",
      "DEBUG 18:39:04.595618: epoch: 2000/10000, lr: 1.352e-01 total_loss: 2.138e+01: op_loss: 2.03291, ||Ax-b||: 0.000e+00, min_eig: 1.923e-01, ||quad cons||: 2.078e-03\n",
      "DEBUG 18:39:07.482517: epoch: 2100/10000, lr: 1.223e-01 total_loss: 2.038e+01: op_loss: 2.03932, ||Ax-b||: 0.000e+00, min_eig: 1.787e-01, ||quad cons||: 2.316e-03\n",
      "DEBUG 18:39:10.380989: epoch: 2200/10000, lr: 1.107e-01 total_loss: 1.773e+01: op_loss: 2.05595, ||Ax-b||: 0.000e+00, min_eig: 1.528e-01, ||quad cons||: 2.232e-03\n",
      "DEBUG 18:39:13.287783: epoch: 2300/10000, lr: 1.001e-01 total_loss: 1.532e+01: op_loss: 2.06353, ||Ax-b||: 0.000e+00, min_eig: 1.285e-01, ||quad cons||: 1.770e-03\n",
      "DEBUG 18:39:16.195414: epoch: 2400/10000, lr: 9.061e-02 total_loss: 1.444e+01: op_loss: 2.07268, ||Ax-b||: 0.000e+00, min_eig: 1.245e-01, ||quad cons||: 1.982e-03\n",
      "DEBUG 18:39:19.090254: epoch: 2500/10000, lr: 8.198e-02 total_loss: 1.405e+01: op_loss: 2.07507, ||Ax-b||: 0.000e+00, min_eig: 1.097e-01, ||quad cons||: 3.352e-03\n",
      "DEBUG 18:39:21.997842: epoch: 2600/10000, lr: 7.418e-02 total_loss: 1.025e+01: op_loss: 2.08681, ||Ax-b||: 0.000e+00, min_eig: 8.430e-02, ||quad cons||: 1.942e-03\n",
      "DEBUG 18:39:24.900385: epoch: 2700/10000, lr: 6.711e-02 total_loss: 9.742e+00: op_loss: 2.09482, ||Ax-b||: 0.000e+00, min_eig: 7.474e-02, ||quad cons||: 2.351e-03\n",
      "DEBUG 18:39:27.807119: epoch: 2800/10000, lr: 6.072e-02 total_loss: 8.667e+00: op_loss: 2.09995, ||Ax-b||: 0.000e+00, min_eig: 6.311e-02, ||quad cons||: 2.207e-03\n",
      "DEBUG 18:39:30.720777: epoch: 2900/10000, lr: 5.494e-02 total_loss: 7.643e+00: op_loss: 2.10228, ||Ax-b||: 0.000e+00, min_eig: 5.476e-02, ||quad cons||: 1.848e-03\n",
      "DEBUG 18:39:33.652101: epoch: 3000/10000, lr: 4.971e-02 total_loss: 5.952e+00: op_loss: 2.11083, ||Ax-b||: 0.000e+00, min_eig: 3.733e-02, ||quad cons||: 1.394e-03\n",
      "DEBUG 18:39:36.602887: epoch: 3100/10000, lr: 4.498e-02 total_loss: 5.481e+00: op_loss: 2.11786, ||Ax-b||: 0.000e+00, min_eig: 2.949e-02, ||quad cons||: 1.099e-03\n",
      "DEBUG 18:39:39.543878: epoch: 3200/10000, lr: 4.070e-02 total_loss: 4.946e+00: op_loss: 2.12283, ||Ax-b||: 0.000e+00, min_eig: 2.734e-02, ||quad cons||: 1.399e-03\n",
      "DEBUG 18:39:42.462165: epoch: 3300/10000, lr: 3.682e-02 total_loss: 3.853e+00: op_loss: 2.12824, ||Ax-b||: 0.000e+00, min_eig: 1.620e-02, ||quad cons||: 1.643e-03\n",
      "DEBUG 18:39:45.358695: epoch: 3400/10000, lr: 3.332e-02 total_loss: 4.260e+00: op_loss: 2.13126, ||Ax-b||: 0.000e+00, min_eig: 3.423e-02, ||quad cons||: 1.004e-02\n",
      "DEBUG 18:39:48.267248: epoch: 3500/10000, lr: 3.014e-02 total_loss: 3.584e+00: op_loss: 2.13472, ||Ax-b||: 0.000e+00, min_eig: 1.062e-02, ||quad cons||: 2.336e-03\n",
      "DEBUG 18:39:51.143414: epoch: 3600/10000, lr: 2.727e-02 total_loss: 2.933e+00: op_loss: 2.13545, ||Ax-b||: 0.000e+00, min_eig: 1.434e-02, ||quad cons||: 2.463e-03\n",
      "DEBUG 18:39:54.035494: epoch: 3700/10000, lr: 2.468e-02 total_loss: 3.353e+00: op_loss: 2.13707, ||Ax-b||: 0.000e+00, min_eig: 6.559e-03, ||quad cons||: 1.653e-03\n",
      "DEBUG 18:39:56.916051: epoch: 3800/10000, lr: 2.233e-02 total_loss: 3.972e+00: op_loss: 2.13522, ||Ax-b||: 0.000e+00, min_eig: 1.123e-02, ||quad cons||: 7.718e-03\n",
      "DEBUG 18:39:59.804789: epoch: 3900/10000, lr: 2.020e-02 total_loss: 3.177e+00: op_loss: 2.13746, ||Ax-b||: 0.000e+00, min_eig: 5.049e-03, ||quad cons||: 3.562e-03\n",
      "DEBUG 18:40:02.731900: epoch: 4000/10000, lr: 1.828e-02 total_loss: 2.592e+00: op_loss: 2.13682, ||Ax-b||: 0.000e+00, min_eig: 2.840e-03, ||quad cons||: 7.526e-04\n",
      "DEBUG 18:40:05.658836: epoch: 4100/10000, lr: 1.654e-02 total_loss: 2.479e+00: op_loss: 2.13662, ||Ax-b||: 0.000e+00, min_eig: 2.589e-03, ||quad cons||: 8.918e-04\n",
      "DEBUG 18:40:08.598673: epoch: 4200/10000, lr: 1.496e-02 total_loss: 2.557e+00: op_loss: 2.13661, ||Ax-b||: 0.000e+00, min_eig: 2.822e-03, ||quad cons||: 7.233e-04\n",
      "DEBUG 18:40:11.544991: epoch: 4300/10000, lr: 1.354e-02 total_loss: 2.472e+00: op_loss: 2.13673, ||Ax-b||: 0.000e+00, min_eig: 2.624e-03, ||quad cons||: 4.544e-04\n",
      "DEBUG 18:40:14.475512: epoch: 4400/10000, lr: 1.225e-02 total_loss: 2.729e+00: op_loss: 2.13682, ||Ax-b||: 0.000e+00, min_eig: 3.326e-03, ||quad cons||: 7.467e-04\n",
      "DEBUG 18:40:17.430968: epoch: 4500/10000, lr: 1.108e-02 total_loss: 2.443e+00: op_loss: 2.13585, ||Ax-b||: 0.000e+00, min_eig: 2.576e-03, ||quad cons||: 8.352e-04\n",
      "DEBUG 18:40:20.387875: epoch: 4600/10000, lr: 1.003e-02 total_loss: 2.579e+00: op_loss: 2.13568, ||Ax-b||: 0.000e+00, min_eig: 1.947e-03, ||quad cons||: 6.268e-04\n",
      "DEBUG 18:40:23.345951: epoch: 4700/10000, lr: 9.074e-03 total_loss: 2.566e+00: op_loss: 2.13533, ||Ax-b||: 0.000e+00, min_eig: 1.643e-03, ||quad cons||: 3.656e-04\n",
      "DEBUG 18:40:26.316906: epoch: 4800/10000, lr: 8.210e-03 total_loss: 2.274e+00: op_loss: 2.13500, ||Ax-b||: 0.000e+00, min_eig: 7.750e-04, ||quad cons||: 3.027e-04\n",
      "DEBUG 18:40:29.287772: epoch: 4900/10000, lr: 7.428e-03 total_loss: 2.459e+00: op_loss: 2.13451, ||Ax-b||: 0.000e+00, min_eig: 1.868e-03, ||quad cons||: 4.359e-04\n",
      "DEBUG 18:40:32.268518: epoch: 5000/10000, lr: 6.721e-03 total_loss: 2.244e+00: op_loss: 2.13366, ||Ax-b||: 0.000e+00, min_eig: 2.042e-03, ||quad cons||: 4.756e-04\n",
      "DEBUG 18:40:35.252362: epoch: 5100/10000, lr: 6.081e-03 total_loss: 2.389e+00: op_loss: 2.13426, ||Ax-b||: 0.000e+00, min_eig: 8.747e-04, ||quad cons||: 3.620e-04\n",
      "DEBUG 18:40:38.224369: epoch: 5200/10000, lr: 5.502e-03 total_loss: 2.205e+00: op_loss: 2.13354, ||Ax-b||: 0.000e+00, min_eig: 3.731e-04, ||quad cons||: 2.361e-04\n",
      "DEBUG 18:40:41.221978: epoch: 5300/10000, lr: 4.978e-03 total_loss: 2.225e+00: op_loss: 2.13388, ||Ax-b||: 0.000e+00, min_eig: 1.657e-03, ||quad cons||: 3.961e-04\n",
      "DEBUG 18:40:44.215648: epoch: 5400/10000, lr: 4.504e-03 total_loss: 2.254e+00: op_loss: 2.13266, ||Ax-b||: 0.000e+00, min_eig: 6.063e-04, ||quad cons||: 4.025e-04\n",
      "DEBUG 18:40:47.235444: epoch: 5500/10000, lr: 4.076e-03 total_loss: 2.220e+00: op_loss: 2.13299, ||Ax-b||: 0.000e+00, min_eig: 5.270e-04, ||quad cons||: 1.855e-04\n",
      "DEBUG 18:40:50.247741: epoch: 5600/10000, lr: 3.688e-03 total_loss: 2.199e+00: op_loss: 2.13217, ||Ax-b||: 0.000e+00, min_eig: 5.737e-04, ||quad cons||: 1.869e-04\n",
      "DEBUG 18:40:53.256939: epoch: 5700/10000, lr: 3.336e-03 total_loss: 2.256e+00: op_loss: 2.13240, ||Ax-b||: 0.000e+00, min_eig: 2.486e-04, ||quad cons||: 2.049e-04\n",
      "DEBUG 18:40:56.270286: epoch: 5800/10000, lr: 3.019e-03 total_loss: 2.251e+00: op_loss: 2.13242, ||Ax-b||: 0.000e+00, min_eig: 7.036e-04, ||quad cons||: 1.627e-04\n",
      "DEBUG 18:40:59.282618: epoch: 5900/10000, lr: 2.731e-03 total_loss: 2.188e+00: op_loss: 2.13209, ||Ax-b||: 0.000e+00, min_eig: 1.475e-03, ||quad cons||: 2.146e-04\n",
      "DEBUG 18:41:02.297658: epoch: 6000/10000, lr: 2.471e-03 total_loss: 2.176e+00: op_loss: 2.13210, ||Ax-b||: 0.000e+00, min_eig: 1.025e-03, ||quad cons||: 1.146e-04\n",
      "DEBUG 18:41:05.326266: epoch: 6100/10000, lr: 2.236e-03 total_loss: 2.168e+00: op_loss: 2.13152, ||Ax-b||: 0.000e+00, min_eig: 1.494e-04, ||quad cons||: 8.154e-05\n"
     ]
    },
    {
     "ename": "KeyboardInterrupt",
     "evalue": "",
     "output_type": "error",
     "traceback": [
      "\u001b[0;31m---------------------------------------------------------------------------\u001b[0m",
      "\u001b[0;31mKeyboardInterrupt\u001b[0m                         Traceback (most recent call last)",
      "Cell \u001b[0;32mIn[8], line 3\u001b[0m\n\u001b[1;32m      1\u001b[0m energy \u001b[38;5;241m=\u001b[39m \u001b[38;5;241m2\u001b[39m\n\u001b[0;32m----> 3\u001b[0m param, result \u001b[38;5;241m=\u001b[39m \u001b[43msolve_bootstrap_pytorch\u001b[49m\u001b[43m(\u001b[49m\n\u001b[1;32m      4\u001b[0m \u001b[43m    \u001b[49m\u001b[43mbootstrap\u001b[49m\u001b[38;5;241;43m=\u001b[39;49m\u001b[43mbootstrap\u001b[49m\u001b[43m,\u001b[49m\n\u001b[1;32m      5\u001b[0m \u001b[43m    \u001b[49m\u001b[43mst_operator_to_minimize\u001b[49m\u001b[38;5;241;43m=\u001b[39;49m\u001b[43mmodel\u001b[49m\u001b[38;5;241;43m.\u001b[39;49m\u001b[43moperators_to_track\u001b[49m\u001b[43m[\u001b[49m\u001b[38;5;124;43m\"\u001b[39;49m\u001b[38;5;124;43mx_2\u001b[39;49m\u001b[38;5;124;43m\"\u001b[39;49m\u001b[43m]\u001b[49m\u001b[43m,\u001b[49m\n\u001b[1;32m      6\u001b[0m \u001b[43m    \u001b[49m\u001b[43mst_operator_inhomo_constraints\u001b[49m\u001b[38;5;241;43m=\u001b[39;49m\u001b[43m[\u001b[49m\n\u001b[1;32m      7\u001b[0m \u001b[43m        \u001b[49m\u001b[43m(\u001b[49m\u001b[43mSingleTraceOperator\u001b[49m\u001b[43m(\u001b[49m\u001b[43mdata\u001b[49m\u001b[38;5;241;43m=\u001b[39;49m\u001b[43m{\u001b[49m\u001b[43m(\u001b[49m\u001b[43m)\u001b[49m\u001b[43m:\u001b[49m\u001b[43m \u001b[49m\u001b[38;5;241;43m1\u001b[39;49m\u001b[43m}\u001b[49m\u001b[43m)\u001b[49m\u001b[43m,\u001b[49m\u001b[43m \u001b[49m\u001b[38;5;241;43m1\u001b[39;49m\u001b[43m)\u001b[49m\u001b[43m,\u001b[49m\n\u001b[1;32m      8\u001b[0m \u001b[43m        \u001b[49m\u001b[43m(\u001b[49m\u001b[43mmodel\u001b[49m\u001b[38;5;241;43m.\u001b[39;49m\u001b[43moperators_to_track\u001b[49m\u001b[43m[\u001b[49m\u001b[38;5;124;43m\"\u001b[39;49m\u001b[38;5;124;43menergy\u001b[39;49m\u001b[38;5;124;43m\"\u001b[39;49m\u001b[43m]\u001b[49m\u001b[43m,\u001b[49m\u001b[43m \u001b[49m\u001b[43menergy\u001b[49m\u001b[43m)\u001b[49m\u001b[43m]\u001b[49m\u001b[43m,\u001b[49m\n\u001b[1;32m      9\u001b[0m \u001b[43m    \u001b[49m\u001b[43minit_scale\u001b[49m\u001b[38;5;241;43m=\u001b[39;49m\u001b[38;5;241;43m0\u001b[39;49m\u001b[43m,\u001b[49m\n\u001b[1;32m     10\u001b[0m \u001b[43m    \u001b[49m\u001b[38;5;66;43;03m#lr=1e4,\u001b[39;49;00m\n\u001b[1;32m     11\u001b[0m \u001b[43m    \u001b[49m\u001b[43mlr\u001b[49m\u001b[38;5;241;43m=\u001b[39;49m\u001b[38;5;241;43m1e0\u001b[39;49m\u001b[43m,\u001b[49m\n\u001b[1;32m     12\u001b[0m \u001b[43m    \u001b[49m\u001b[38;5;66;43;03m#penalty_reg=1e0,\u001b[39;49;00m\n\u001b[1;32m     13\u001b[0m \u001b[43m    \u001b[49m\u001b[38;5;66;43;03m#init=init,\u001b[39;49;00m\n\u001b[1;32m     14\u001b[0m \u001b[43m    \u001b[49m\u001b[38;5;66;43;03m#num_epochs=2000,\u001b[39;49;00m\n\u001b[1;32m     15\u001b[0m \u001b[43m    \u001b[49m\u001b[43m)\u001b[49m\n",
      "File \u001b[0;32m~/Dropbox/Research/Machine Learning/BMN/bmnsim/bmn/solver_pytorch.py:210\u001b[0m, in \u001b[0;36msolve_bootstrap\u001b[0;34m(bootstrap, st_operator_to_minimize, st_operator_inhomo_constraints, init, PRNG_seed, init_scale, lr, gamma, num_epochs, penalty_reg, tol, patience, early_stopping_tol)\u001b[0m\n\u001b[1;32m    208\u001b[0m violation_of_linear_constraints \u001b[38;5;241m=\u001b[39m Axb_loss(param_null\u001b[38;5;241m=\u001b[39mparam, param_particular\u001b[38;5;241m=\u001b[39mparam_particular)\u001b[38;5;241m.\u001b[39mdetach()\u001b[38;5;241m.\u001b[39mcpu()\u001b[38;5;241m.\u001b[39mitem()\n\u001b[1;32m    209\u001b[0m min_bootstrap_eigenvalue \u001b[38;5;241m=\u001b[39m psd_loss(param_null\u001b[38;5;241m=\u001b[39mparam, param_particular\u001b[38;5;241m=\u001b[39mparam_particular)\u001b[38;5;241m.\u001b[39mdetach()\u001b[38;5;241m.\u001b[39mcpu()\u001b[38;5;241m.\u001b[39mitem()\n\u001b[0;32m--> 210\u001b[0m quad_constraint_violation_norm \u001b[38;5;241m=\u001b[39m \u001b[43mquadratic_loss\u001b[49m\u001b[43m(\u001b[49m\u001b[43mparam_null\u001b[49m\u001b[38;5;241;43m=\u001b[39;49m\u001b[43mparam\u001b[49m\u001b[43m,\u001b[49m\u001b[43m \u001b[49m\u001b[43mparam_particular\u001b[49m\u001b[38;5;241;43m=\u001b[39;49m\u001b[43mparam_particular\u001b[49m\u001b[43m)\u001b[49m\u001b[38;5;241;43m.\u001b[39;49m\u001b[43mdetach\u001b[49m\u001b[43m(\u001b[49m\u001b[43m)\u001b[49m\u001b[38;5;241;43m.\u001b[39;49m\u001b[43mcpu\u001b[49m\u001b[43m(\u001b[49m\u001b[43m)\u001b[49m\u001b[38;5;241m.\u001b[39mitem()\n\u001b[1;32m    211\u001b[0m tolerance_satisfied \u001b[38;5;241m=\u001b[39m (violation_of_linear_constraints \u001b[38;5;241m<\u001b[39m tol) \u001b[38;5;129;01mand\u001b[39;00m np\u001b[38;5;241m.\u001b[39mabs(min_bootstrap_eigenvalue) \u001b[38;5;241m<\u001b[39m tol \u001b[38;5;129;01mand\u001b[39;00m (quad_constraint_violation_norm \u001b[38;5;241m<\u001b[39m tol)\n\u001b[1;32m    212\u001b[0m \u001b[38;5;28;01mif\u001b[39;00m np\u001b[38;5;241m.\u001b[39mabs(current_loss \u001b[38;5;241m-\u001b[39m old_loss) \u001b[38;5;241m<\u001b[39m early_stopping_tol:\n",
      "\u001b[0;31mKeyboardInterrupt\u001b[0m: "
     ]
    }
   ],
   "source": [
    "energy = 2\n",
    "\n",
    "param, result = solve_bootstrap_pytorch(\n",
    "    bootstrap=bootstrap,\n",
    "    st_operator_to_minimize=model.operators_to_track[\"x_2\"],\n",
    "    st_operator_inhomo_constraints=[\n",
    "        (SingleTraceOperator(data={(): 1}), 1),\n",
    "        (model.operators_to_track[\"energy\"], energy)],\n",
    "    init_scale=0,\n",
    "    #lr=1e4,\n",
    "    lr=1e0,\n",
    "    #penalty_reg=1e0,\n",
    "    #init=init,\n",
    "    #num_epochs=2000,\n",
    "    )"
   ]
  },
  {
   "cell_type": "code",
   "execution_count": null,
   "metadata": {},
   "outputs": [],
   "source": []
  },
  {
   "cell_type": "code",
   "execution_count": null,
   "metadata": {},
   "outputs": [],
   "source": []
  },
  {
   "cell_type": "code",
   "execution_count": null,
   "metadata": {},
   "outputs": [],
   "source": []
  },
  {
   "cell_type": "code",
   "execution_count": null,
   "metadata": {},
   "outputs": [],
   "source": [
    "def load_data(\n",
    "        datadir,\n",
    "        names_in_filename,\n",
    "        tol=1e-6,\n",
    "        delete_param=True\n",
    "        ):\n",
    "\n",
    "    # grab the data files\n",
    "    names_in_filename.append('.json')\n",
    "    files = []\n",
    "    for f in os.listdir(datadir):\n",
    "        if all(name in f for name in names_in_filename):\n",
    "            files.append(f)\n",
    "    print(f\"number of files found: {len(files)}\")\n",
    "\n",
    "    # build dataframe\n",
    "    data = []\n",
    "    for file in files:\n",
    "        with open(f\"{datadir}/{file}\") as f:\n",
    "            result = json.load(f)\n",
    "        if delete_param:\n",
    "            del result[\"param\"] # remove param vector\n",
    "        #result[\"energy\"] = float(file.split('_')[1][:-5]) # add g4 coupling\n",
    "        result[\"filename\"] = file\n",
    "\n",
    "        if result[\"max_quad_constraint_violation\"] < tol:\n",
    "            data.append(result)\n",
    "\n",
    "    df = pd.DataFrame(data)\n",
    "    df.sort_values(\"energy\", inplace=True)\n",
    "\n",
    "    max_violation_linear = df[\"violation_of_linear_constraints\"].max()\n",
    "    max_violation_quadratic = df[\"max_quad_constraint_violation\"].max()\n",
    "    max_violation_PSD = df[\"min_bootstrap_eigenvalue\"].abs().max()\n",
    "\n",
    "    print(f\"number of loaded data points: {len(data)}\")\n",
    "    print(f\"max violation of linear constraints:{max_violation_linear:.4e}\")\n",
    "    print(f\"max violation of PSD constraints:{max_violation_PSD:.4e}\")\n",
    "    print(f\"max violation of quadratic constraints:{max_violation_quadratic:.4e}\\n\")\n",
    "\n",
    "    return df.copy()\n",
    "\n",
    "datadir = \"data/TwoMatrix_L_3_symmetric_energy_fixed_g2_0\"\n",
    "tol = 1e-6\n",
    "\n",
    "df = load_data(\n",
    "    datadir=datadir,\n",
    "    names_in_filename=['energy', \"min_x_2\"],\n",
    "    tol=tol,\n",
    "    delete_param=False,\n",
    ")"
   ]
  },
  {
   "cell_type": "code",
   "execution_count": null,
   "metadata": {},
   "outputs": [],
   "source": [
    "param = torch.tensor(df.iloc[0][\"param\"]).type(torch.float).to(device)"
   ]
  },
  {
   "cell_type": "code",
   "execution_count": null,
   "metadata": {},
   "outputs": [],
   "source": [
    "Axb_loss(param), psd_loss(param), quadratic_loss(param)"
   ]
  },
  {
   "cell_type": "code",
   "execution_count": null,
   "metadata": {},
   "outputs": [],
   "source": [
    "operator_loss(param)"
   ]
  },
  {
   "cell_type": "code",
   "execution_count": null,
   "metadata": {},
   "outputs": [],
   "source": [
    "print(df.iloc[0][\"param\"])"
   ]
  },
  {
   "cell_type": "code",
   "execution_count": null,
   "metadata": {},
   "outputs": [],
   "source": [
    "np.round(df.iloc[0][\"param\"], decimals=6)"
   ]
  },
  {
   "cell_type": "code",
   "execution_count": null,
   "metadata": {},
   "outputs": [],
   "source": [
    "model = MiniBFSS(couplings={\"lambda\": 1})\n",
    "checkpoint_path = \"checkpoints/MiniBFSS_L_4_lazy_symmetric\"\n",
    "\n",
    "#model = MiniBFSS(couplings={\"lambda\":1})\n",
    "#checkpoint_path = \"checkpoints/MiniBFSS_L_3_symmetric\"\n",
    "\n",
    "bootstrap = BootstrapSystem(\n",
    "    matrix_system=model.matrix_system,\n",
    "    hamiltonian=model.hamiltonian,\n",
    "    gauge_generator=model.gauge_generator,\n",
    "    max_degree_L=4,\n",
    "    symmetry_generators=model.symmetry_generators,\n",
    "    verbose=True,\n",
    "    checkpoint_path=checkpoint_path,\n",
    "    odd_degree_vanish=True,\n",
    "    #load_from_previously_computed=True\n",
    "    )\n",
    "bootstrap.load_constraints(checkpoint_path)\n",
    "\n",
    "#17.7G"
   ]
  },
  {
   "cell_type": "code",
   "execution_count": null,
   "metadata": {},
   "outputs": [],
   "source": [
    "x3 = 0.5664224028587341\n",
    "x4 = 0.5642986304623219\n",
    "x3 - x4"
   ]
  },
  {
   "cell_type": "code",
   "execution_count": null,
   "metadata": {},
   "outputs": [],
   "source": [
    "len(bootstrap.linear_constraints)"
   ]
  },
  {
   "cell_type": "code",
   "execution_count": null,
   "metadata": {},
   "outputs": [],
   "source": [
    "new_constraints = []\n",
    "\n",
    "set_of_hashes = set()\n",
    "for st_operator in bootstrap.linear_constraints:\n",
    "    new_dict = {}\n",
    "    norm = 1\n",
    "    for idx, (k, v) in enumerate(st_operator):\n",
    "        if idx == 0:\n",
    "            norm = float(1/v)\n",
    "        new_dict[''.join(k)] = float(v) * norm\n",
    "    #new_dict = {''.join(k): float(v) for k, v in st_operator}\n",
    "    s = json.dumps(new_dict).encode('utf-8')\n",
    "    hash_digest = hashlib.md5(s).digest()\n",
    "    if hash_digest not in set_of_hashes:\n",
    "        new_constraints.append(st_operator)\n",
    "        set_of_hashes.add(hash_digest)"
   ]
  },
  {
   "cell_type": "code",
   "execution_count": null,
   "metadata": {},
   "outputs": [],
   "source": [
    "print(f\"number of unique hashes: {len(set_of_hashes)}, ratio of hashes to constraints: {len(set_of_hashes) / len(bootstrap.linear_constraints)}\")"
   ]
  },
  {
   "cell_type": "code",
   "execution_count": null,
   "metadata": {},
   "outputs": [],
   "source": [
    "bootstrap.linear_constraints = new_constraints"
   ]
  },
  {
   "cell_type": "code",
   "execution_count": null,
   "metadata": {},
   "outputs": [],
   "source": [
    "linear_constraint_matrix = bootstrap.build_linear_constraints()"
   ]
  },
  {
   "cell_type": "code",
   "execution_count": null,
   "metadata": {},
   "outputs": [],
   "source": [
    "linear_constraint_matrix.shape"
   ]
  },
  {
   "cell_type": "code",
   "execution_count": null,
   "metadata": {},
   "outputs": [],
   "source": [
    "bootstrap.build_null_space_matrix()"
   ]
  },
  {
   "cell_type": "code",
   "execution_count": null,
   "metadata": {},
   "outputs": [],
   "source": []
  },
  {
   "cell_type": "code",
   "execution_count": null,
   "metadata": {},
   "outputs": [],
   "source": []
  },
  {
   "cell_type": "code",
   "execution_count": null,
   "metadata": {},
   "outputs": [],
   "source": []
  },
  {
   "cell_type": "code",
   "execution_count": null,
   "metadata": {},
   "outputs": [],
   "source": [
    "from bmn.models import TwoMatrix, MiniBFSS\n",
    "\n",
    "#model = TwoMatrix(couplings={\"g2\": 0, \"g4\": 1})\n",
    "#checkpoint_path = \"checkpoints/TwoMatrix_L_3_symmetric_energy_fixed_g2_0\"\n",
    "\n",
    "model = MiniBFSS(couplings={\"lambda\": 1})\n",
    "checkpoint_path = \"checkpoints/MiniBFSS_L_3_symmetric\"\n",
    "\n",
    "bootstrap = BootstrapSystem(\n",
    "    matrix_system=model.matrix_system,\n",
    "    hamiltonian=model.hamiltonian,\n",
    "    gauge_generator=model.gauge_generator,\n",
    "    max_degree_L=3,\n",
    "    symmetry_generators=model.symmetry_generators,\n",
    "    verbose=True,\n",
    "    checkpoint_path=checkpoint_path\n",
    "    )\n",
    "bootstrap.load_constraints(checkpoint_path)"
   ]
  },
  {
   "cell_type": "code",
   "execution_count": null,
   "metadata": {},
   "outputs": [],
   "source": [
    "st_operator_inhomo_constraints=[\n",
    "    (SingleTraceOperator(data={(): 1}), 1)\n",
    "    ]\n",
    "\n",
    "A = sparse.csr_matrix((0, bootstrap.param_dim_null))\n",
    "b = np.zeros(0)\n",
    "for op, value in st_operator_inhomo_constraints:\n",
    "\n",
    "    A = sparse.vstack(\n",
    "        [\n",
    "            A,\n",
    "            sparse.csr_matrix(\n",
    "                bootstrap.single_trace_to_coefficient_vector(\n",
    "                    op, return_null_basis=True\n",
    "                )\n",
    "            ),\n",
    "        ]\n",
    "    )\n",
    "    b = np.append(b, value)\n",
    "linear_inhomogeneous_eq_no_quadratic = (A, b)"
   ]
  },
  {
   "cell_type": "code",
   "execution_count": null,
   "metadata": {},
   "outputs": [],
   "source": [
    "A.todense()"
   ]
  },
  {
   "cell_type": "code",
   "execution_count": null,
   "metadata": {},
   "outputs": [],
   "source": [
    "bootstrap.null_space_matrix.shape"
   ]
  },
  {
   "cell_type": "code",
   "execution_count": null,
   "metadata": {},
   "outputs": [],
   "source": [
    "bootstrap.null_space_matrix[0].todense()"
   ]
  },
  {
   "cell_type": "code",
   "execution_count": null,
   "metadata": {},
   "outputs": [],
   "source": []
  },
  {
   "cell_type": "code",
   "execution_count": null,
   "metadata": {},
   "outputs": [],
   "source": []
  },
  {
   "cell_type": "code",
   "execution_count": null,
   "metadata": {},
   "outputs": [],
   "source": []
  },
  {
   "cell_type": "code",
   "execution_count": null,
   "metadata": {},
   "outputs": [],
   "source": [
    "commutator = model.matrix_system.single_trace_commutator(\n",
    "    st_operator1=model.hamiltonian,\n",
    "    st_operator2=SingleTraceOperator(data={(\"X0\", \"Pi0\"):1, (\"X1\", \"Pi1\"):1}),\n",
    ")\n",
    "\n",
    "commutator = model.matrix_system.single_trace_commutator(\n",
    "    st_operator1=SingleTraceOperator(data={(\"X0\", \"Pi0\"):1, (\"X1\", \"Pi1\"):1}),\n",
    "    st_operator2=model.hamiltonian,\n",
    ")\n",
    "\n",
    "commutator_me = SingleTraceOperator(\n",
    "    data={\n",
    "    (\"Pi0\", \"Pi0\"): -2 / 2,\n",
    "    (\"Pi1\", \"Pi1\"): -2 / 2,\n",
    "    (\"X0\", \"X0\"): -2 * model.couplings[\"g2\"] / 2,\n",
    "    (\"X1\", \"X1\"): -2 * model.couplings[\"g2\"] / 2,\n",
    "    (\"X0\", \"X1\", \"X0\", \"X1\"): 4*model.couplings[\"g4\"] / 4,\n",
    "    (\"X1\", \"X0\", \"X1\", \"X0\"): 4*model.couplings[\"g4\"] / 4,\n",
    "    (\"X0\", \"X1\", \"X1\", \"X0\"): -4*model.couplings[\"g4\"] / 4,\n",
    "    (\"X1\", \"X0\", \"X0\", \"X1\"): -4*model.couplings[\"g4\"] / 4,\n",
    "    }\n",
    "    )\n",
    "commutator == -commutator_me"
   ]
  },
  {
   "cell_type": "code",
   "execution_count": null,
   "metadata": {},
   "outputs": [],
   "source": []
  },
  {
   "cell_type": "code",
   "execution_count": null,
   "metadata": {},
   "outputs": [],
   "source": []
  },
  {
   "cell_type": "markdown",
   "metadata": {},
   "source": [
    "TODO\n",
    "- consolidate 1, 2, 3, and BFSS models\n",
    "- consolidate generate_model_X_config \n",
    "- move checkpoints, maybe add info on the checkpoints"
   ]
  },
  {
   "cell_type": "code",
   "execution_count": null,
   "metadata": {},
   "outputs": [],
   "source": [
    "generate_configs_bfss(\n",
    "    config_filename=f\"test\",\n",
    "    config_dir=\"MiniBFSS_L_3_test\",\n",
    "    st_operator_to_minimize=\"x_2\",\n",
    "    st_operators_evs_to_set={\"energy\": 1},\n",
    "    load_from_previously_computed=True,\n",
    "    impose_symmetries=True,\n",
    "    reg_decay_rate=0.7880462815669912,\n",
    "    )\n",
    "\n",
    "# python bmn/config_utils.py run_bootstrap_from_config -config_filename test -config_dir MiniBFSS_L_3_test"
   ]
  },
  {
   "cell_type": "code",
   "execution_count": null,
   "metadata": {},
   "outputs": [],
   "source": [
    "reg_decay_rate = np.exp(-3 * np.log(10) / (30 - 1))\n",
    "reg_decay_rate**(30-1), reg_decay_rate"
   ]
  },
  {
   "cell_type": "code",
   "execution_count": null,
   "metadata": {},
   "outputs": [],
   "source": [
    "generate_configs_bfss(\n",
    "    config_filename=f\"test\",\n",
    "    config_dir=\"MiniBFSS_L_3_test\",\n",
    "    st_operators_evs_to_set={\"energy\": 1},\n",
    "    load_from_previously_computed=True,\n",
    "    impose_symmetries=True,\n",
    "    tol=1e-2,\n",
    "    maxiters=50,\n",
    "    maxiters_cvxpy=10_000,\n",
    "    init_scale=1e2,\n",
    "    penalty_reg=1e6,\n",
    "    reg=1e-4,\n",
    "    #reg_decay_rate=reg_decay_rate,\n",
    "    )\n",
    "\n",
    "# python bmn/config_utils.py run_bootstrap_from_config -config_filename test_2 -config_dir MiniBFSS_L_3_test"
   ]
  },
  {
   "cell_type": "code",
   "execution_count": null,
   "metadata": {},
   "outputs": [],
   "source": [
    "1.9525 / 3"
   ]
  },
  {
   "cell_type": "code",
   "execution_count": null,
   "metadata": {},
   "outputs": [],
   "source": [
    "generate_configs_two_matrix(\n",
    "    config_filename=f\"test_small_mass_hold_energy_fixed\",\n",
    "    config_dir=\"TwoMatrix_L_3_symmetric\",\n",
    "    st_operator_to_minimize=\"x_2\",\n",
    "    st_operators_evs_to_set={\"energy\": 1},\n",
    "    g2=1e-4,\n",
    "    g4=1,\n",
    "    load_from_previously_computed=True,\n",
    "    impose_symmetries=True,\n",
    "    )"
   ]
  },
  {
   "cell_type": "code",
   "execution_count": null,
   "metadata": {},
   "outputs": [],
   "source": [
    "generate_configs_three_matrix(\n",
    "    config_filename=f\"test_small_mass\",\n",
    "    config_dir=\"ThreeMatrix_L_3_symmetric\",\n",
    "    g2=1e-4,\n",
    "    g4=1,\n",
    "    load_from_previously_computed=False,\n",
    "    impose_symmetries=True,\n",
    "    )"
   ]
  },
  {
   "cell_type": "code",
   "execution_count": null,
   "metadata": {},
   "outputs": [],
   "source": [
    "run_bootstrap_from_config(\n",
    "    config_filename=f\"g4_{str(0.448)}\",\n",
    "    config_dir=\"TwoMatrix_L_4_symmetric\",\n",
    "    verbose=False,\n",
    "    )"
   ]
  },
  {
   "cell_type": "code",
   "execution_count": null,
   "metadata": {},
   "outputs": [],
   "source": [
    "for reg in [1e3, 1e4, 1e5, 1e6, 1e7, 1e8, 1e9]:\n",
    "\n",
    "    generate_configs_bfss(\n",
    "        config_filename=f\"reg_{int(reg)}\",\n",
    "        config_dir=\"MiniBFSS_L_3_symmetric\",\n",
    "        energy=1,\n",
    "        st_operator_to_minimize=\"x_2\",\n",
    "        load_from_previously_computed=True,\n",
    "        impose_symmetries=True,\n",
    "        maxiters_cvxpy=5_000,\n",
    "        maxiters=100,\n",
    "        radius=1e6,\n",
    "        reg=reg,\n",
    "        )"
   ]
  },
  {
   "cell_type": "code",
   "execution_count": null,
   "metadata": {},
   "outputs": [],
   "source": [
    "st_operator_to_minimize = \"x_2\"\n",
    "\n",
    "generate_configs_bfss(\n",
    "    \"MiniBFSS_symmetric_L_3\",\n",
    "    energy=1,\n",
    "    st_operator_to_minimize=\"x_2\",\n",
    "    load_from_previously_computed=True,\n",
    "    impose_symmetries=True,\n",
    "    maxiters_cvxpy=10_000,\n",
    "    maxiters=100,\n",
    "    radius=1e8,\n",
    "    )\n",
    "\n",
    "generate_configs_bfss(\n",
    "    \"MiniBFSS_L_3\",\n",
    "    energy=1,\n",
    "    st_operator_to_minimize=\"x_2\",\n",
    "    load_from_previously_computed=True,\n",
    "    impose_symmetries=False,\n",
    "    maxiters_cvxpy=10_000,\n",
    "    maxiters=100,\n",
    "    radius=1e8,\n",
    "    )\n",
    "\n",
    "#run_bootstrap_from_config(\"hello\", verbose=False)"
   ]
  },
  {
   "cell_type": "code",
   "execution_count": null,
   "metadata": {},
   "outputs": [],
   "source": []
  },
  {
   "cell_type": "code",
   "execution_count": null,
   "metadata": {},
   "outputs": [],
   "source": []
  },
  {
   "cell_type": "markdown",
   "metadata": {},
   "source": [
    "## BFSS"
   ]
  },
  {
   "cell_type": "code",
   "execution_count": null,
   "metadata": {},
   "outputs": [],
   "source": [
    "L = 2\n",
    "\n",
    "matrix_system = MatrixSystem(\n",
    "    operator_basis=[\"X0\", \"X1\", \"X2\", \"Pi0\", \"Pi1\", \"Pi2\"],\n",
    "    commutation_rules_concise={\n",
    "        (\"Pi0\", \"X0\"): 1,  # use Pi' = i P to ensure reality\n",
    "        (\"Pi1\", \"X1\"): 1,\n",
    "        (\"Pi2\", \"X2\"): 1,\n",
    "    },\n",
    "    hermitian_dict={\n",
    "        \"Pi0\": False,\n",
    "        \"X0\": True,\n",
    "        \"Pi1\": False,\n",
    "        \"X1\": True,\n",
    "        \"Pi2\": False,\n",
    "        \"X2\": True,\n",
    "        },\n",
    ")\n",
    "\n",
    "# lambda = 1 here\n",
    "hamiltonian = SingleTraceOperator(\n",
    "    data={\n",
    "        (\"Pi0\", \"Pi0\"): -0.5,\n",
    "        (\"Pi1\", \"Pi1\"): -0.5,\n",
    "        (\"Pi2\", \"Pi2\"): -0.5,\n",
    "        # quartic term (XY)\n",
    "        (\"X0\", \"X1\", \"X0\", \"X1\"): -1 / 4,\n",
    "        (\"X1\", \"X0\", \"X1\", \"X0\"): -1 / 4,\n",
    "        (\"X0\", \"X1\", \"X1\", \"X0\"): 1 / 4,\n",
    "        (\"X1\", \"X0\", \"X0\", \"X1\"): 1 / 4,\n",
    "        # quartic term (XZ)\n",
    "        (\"X0\", \"X2\", \"X0\", \"X2\"): -1 / 4,\n",
    "        (\"X2\", \"X0\", \"X2\", \"X0\"): -1 / 4,\n",
    "        (\"X0\", \"X2\", \"X2\", \"X0\"): 1 / 4,\n",
    "        (\"X2\", \"X0\", \"X0\", \"X2\"): 1 / 4,\n",
    "        # quartic term (YZ)\n",
    "        (\"X1\", \"X2\", \"X1\", \"X2\"): -1 / 4,\n",
    "        (\"X2\", \"X1\", \"X2\", \"X1\"): -1 / 4,\n",
    "        (\"X1\", \"X2\", \"X2\", \"X1\"): 1 / 4,\n",
    "        (\"X2\", \"X1\", \"X1\", \"X2\"): 1 / 4,\n",
    "    }\n",
    ")\n",
    "\n",
    "# <tr G O > = 0\n",
    "gauge = MatrixOperator(data={\n",
    "    (\"X0\", \"Pi0\"): 1,\n",
    "    (\"Pi0\", \"X0\"): -1,\n",
    "    (\"X1\", \"Pi1\"): 1,\n",
    "    (\"Pi1\", \"X1\"): -1,\n",
    "    (\"X2\", \"Pi2\"): 1,\n",
    "    (\"Pi2\", \"X2\"): -1,\n",
    "    (): 3,\n",
    "    })\n",
    "\n",
    "bootstrap = BootstrapSystem(\n",
    "    matrix_system=matrix_system,\n",
    "    hamiltonian=hamiltonian,\n",
    "    gauge_generator=gauge,\n",
    "    max_degree_L=L,\n",
    "    odd_degree_vanish=True,\n",
    "    simplify_quadratic=True,\n",
    ")\n",
    "\n",
    "bootstrap.build_quadratic_constraints()\n",
    "\n",
    "quadratic_constraints_numerical = bootstrap.quadratic_constraints_numerical"
   ]
  },
  {
   "cell_type": "code",
   "execution_count": null,
   "metadata": {},
   "outputs": [],
   "source": [
    "quadratic_constraints_numerical"
   ]
  },
  {
   "cell_type": "code",
   "execution_count": null,
   "metadata": {},
   "outputs": [],
   "source": [
    "def newton_pseudoinverse(param, nsteps, quadratic_constraints_numerical):\n",
    "\n",
    "    for step in range(nsteps):\n",
    "        val, grad = get_quadratic_constraint_vector_sparse(\n",
    "            quadratic_constraints=quadratic_constraints_numerical,\n",
    "            param=param,\n",
    "            compute_grad=True,\n",
    "            )\n",
    "        grad_pinv = np.linalg.pinv(grad)\n",
    "        #np.allclose(grad @ grad_pinv @ grad, grad)\n",
    "        #np.allclose(grad.T @ np.linalg.inv(grad @ grad.T), grad_pinv)\n",
    "        param = param - np.asarray(grad_pinv @ val)[0]\n",
    "        print(f\"Newton's method: step = {step}, val = {np.linalg.norm(val)}\")\n",
    "\n",
    "    return param"
   ]
  },
  {
   "cell_type": "code",
   "execution_count": null,
   "metadata": {},
   "outputs": [],
   "source": [
    "bootstrap.param_dim_null"
   ]
  },
  {
   "cell_type": "code",
   "execution_count": null,
   "metadata": {},
   "outputs": [],
   "source": [
    "167958/3"
   ]
  },
  {
   "cell_type": "code",
   "execution_count": null,
   "metadata": {},
   "outputs": [],
   "source": [
    "param = np.random.normal(size=bootstrap.param_dim_null)\n",
    "val = get_quadratic_constraint_vector_sparse(\n",
    "    quadratic_constraints=quadratic_constraints_numerical,\n",
    "    param=param,\n",
    "    )\n",
    "\n",
    "param = newton_pseudoinverse(param=param, nsteps=10, quadratic_constraints_numerical=quadratic_constraints_numerical)\n",
    "val = get_quadratic_constraint_vector_sparse(\n",
    "    quadratic_constraints=quadratic_constraints_numerical,\n",
    "    param=param,\n",
    "    )"
   ]
  },
  {
   "cell_type": "code",
   "execution_count": null,
   "metadata": {},
   "outputs": [],
   "source": [
    "val.shape, grad.T.shape"
   ]
  },
  {
   "cell_type": "code",
   "execution_count": null,
   "metadata": {},
   "outputs": [],
   "source": [
    "val.shape, grad.shape, grad_pinv.shape"
   ]
  },
  {
   "cell_type": "code",
   "execution_count": null,
   "metadata": {},
   "outputs": [],
   "source": []
  },
  {
   "cell_type": "code",
   "execution_count": null,
   "metadata": {},
   "outputs": [],
   "source": []
  },
  {
   "cell_type": "code",
   "execution_count": null,
   "metadata": {},
   "outputs": [],
   "source": [
    "val2, grad2 = get_quadratic_constraint_vector_sparse(\n",
    "    quadratic_constraints=quadratic_constraints_numerical,\n",
    "    param=param,\n",
    "    compute_grad=True,\n",
    "    )"
   ]
  },
  {
   "cell_type": "code",
   "execution_count": null,
   "metadata": {},
   "outputs": [],
   "source": [
    "np.sum(np.abs(grad2[0]))"
   ]
  },
  {
   "cell_type": "code",
   "execution_count": null,
   "metadata": {},
   "outputs": [],
   "source": [
    "grad2.shape"
   ]
  },
  {
   "cell_type": "code",
   "execution_count": null,
   "metadata": {},
   "outputs": [],
   "source": [
    "min(np.sum(np.abs(np.asarray(grad2)), axis=1)), max(np.sum(np.abs(np.asarray(grad2)), axis=1))"
   ]
  },
  {
   "cell_type": "code",
   "execution_count": null,
   "metadata": {},
   "outputs": [],
   "source": [
    "min(np.abs(val2)), max(np.abs(val2))"
   ]
  },
  {
   "cell_type": "code",
   "execution_count": null,
   "metadata": {},
   "outputs": [],
   "source": [
    "val1, grad1 = get_quadratic_constraint_vector_dense(\n",
    "    quadratic_constraints=quadratic_constraints_numerical,\n",
    "    param=param,\n",
    "    compute_grad=True,\n",
    "    )\n",
    "\n",
    "val2, grad2 = get_quadratic_constraint_vector_sparse(\n",
    "    quadratic_constraints=quadratic_constraints_numerical,\n",
    "    param=param,\n",
    "    compute_grad=True,\n",
    "    )"
   ]
  },
  {
   "cell_type": "code",
   "execution_count": null,
   "metadata": {},
   "outputs": [],
   "source": [
    "np.allclose(val1, val2), np.allclose(grad1, grad2)"
   ]
  },
  {
   "cell_type": "markdown",
   "metadata": {},
   "source": [
    "## BMN"
   ]
  },
  {
   "cell_type": "code",
   "execution_count": null,
   "metadata": {},
   "outputs": [],
   "source": [
    "from bmn.models import MiniBMN\n",
    "from bmn.bootstrap_complex import BootstrapSystemComplex\n",
    "\n",
    "model = MiniBMN(couplings={\"g2\": 1, \"g4\": 1})\n",
    "\n",
    "bootstrap = BootstrapSystemComplex(\n",
    "    matrix_system=model.matrix_system,\n",
    "    hamiltonian=model.hamiltonian,\n",
    "    gauge_generator=model.gauge_generator,\n",
    "    max_degree_L=3,\n",
    "    simplify_quadratic=False,\n",
    "    symmetry_generators=None,\n",
    "    fraction_operators_to_retain=0.41,\n",
    "    )"
   ]
  },
  {
   "cell_type": "code",
   "execution_count": null,
   "metadata": {},
   "outputs": [],
   "source": [
    "bootstrap.build_null_space_matrix()"
   ]
  },
  {
   "cell_type": "code",
   "execution_count": null,
   "metadata": {},
   "outputs": [],
   "source": [
    "bootstrap.build_linear_constraints()"
   ]
  },
  {
   "cell_type": "code",
   "execution_count": null,
   "metadata": {},
   "outputs": [],
   "source": [
    "bootstrap.build_quadratic_constraints()"
   ]
  },
  {
   "cell_type": "code",
   "execution_count": null,
   "metadata": {},
   "outputs": [],
   "source": [
    "bootstrap.quadratic_constraints_numerical[\"quadratic\"][0]"
   ]
  },
  {
   "cell_type": "code",
   "execution_count": null,
   "metadata": {},
   "outputs": [],
   "source": [
    "bootstrap.build_bootstrap_table()"
   ]
  },
  {
   "cell_type": "code",
   "execution_count": null,
   "metadata": {},
   "outputs": [],
   "source": [
    "from bmn.newton_solver import solve_bootstrap\n",
    "\n",
    "param, optimization_result = solve_bootstrap(\n",
    "    bootstrap=bootstrap,\n",
    "    st_operator_to_minimize=bootstrap.hamiltonian,\n",
    "    )"
   ]
  },
  {
   "cell_type": "code",
   "execution_count": null,
   "metadata": {},
   "outputs": [],
   "source": [
    "x = 1 + 1j\n",
    "x.real"
   ]
  },
  {
   "cell_type": "code",
   "execution_count": null,
   "metadata": {},
   "outputs": [],
   "source": [
    "x = 1\n",
    "x.real"
   ]
  },
  {
   "cell_type": "code",
   "execution_count": null,
   "metadata": {},
   "outputs": [],
   "source": []
  }
 ],
 "metadata": {
  "kernelspec": {
   "display_name": "bmnsim",
   "language": "python",
   "name": "python3"
  },
  "language_info": {
   "codemirror_mode": {
    "name": "ipython",
    "version": 3
   },
   "file_extension": ".py",
   "mimetype": "text/x-python",
   "name": "python",
   "nbconvert_exporter": "python",
   "pygments_lexer": "ipython3",
   "version": "3.11.9"
  }
 },
 "nbformat": 4,
 "nbformat_minor": 2
}
