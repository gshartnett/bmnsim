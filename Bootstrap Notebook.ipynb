{
 "cells": [
  {
   "cell_type": "code",
   "execution_count": 1,
   "metadata": {},
   "outputs": [],
   "source": [
    "from typing import Union, Self\n",
    "from numbers import Number\n",
    "from itertools import chain, product\n",
    "\n",
    "import numpy as np\n",
    "import sympy as sp\n",
    "import cvxpy as cp\n",
    "\n",
    "import scipy\n",
    "from scipy.sparse import csr_matrix\n",
    "import scipy.sparse as sparse\n",
    "from scipy.linalg import qr\n",
    "from scipy.sparse import coo_matrix, csc_matrix\n",
    "from scipy.sparse.linalg import splu, svds\n",
    "from sksparse.cholmod import cholesky\n",
    "\n",
    "from bmn.algebra import MatrixOperator, SingleTraceOperator, MatrixSystem, DoubleTraceOperator\n",
    "from bmn.linear_algebra import get_null_space_dense, create_sparse_matrix_from_dict, get_row_space_dense, get_null_space_sparse\n",
    "from bmn.bootstrap import BootstrapSystem\n",
    "from bmn.solver import (\n",
    "    minimal_eigval,\n",
    "    sdp_init, sdp_relax,\n",
    "    sdp_minimize,\n",
    "    minimize,\n",
    "    get_quadratic_constraint_vector_sparse,\n",
    "    get_quadratic_constraint_vector_dense,\n",
    "    compute_L2_norm_of_quadratic_constraints,\n",
    ")\n",
    "from bmn.brezin import compute_Brezin_energy, compute_Brezin_energy_Han_conventions\n",
    "\n",
    "from bmn.debug_utils import disable_debug\n",
    "\n",
    "np.set_printoptions(linewidth=120)  # Adjust the number to the desired width\n",
    "\n",
    "# plot settings\n",
    "import matplotlib.pyplot as plt\n",
    "import matplotlib\n",
    "from cycler import cycler\n",
    "\n",
    "plt.rcParams['xtick.direction'] = 'in'\n",
    "plt.rcParams['ytick.direction'] = 'in'\n",
    "plt.rcParams['xtick.major.size'] = 5.0\n",
    "plt.rcParams['xtick.minor.size'] = 3.0\n",
    "plt.rcParams['ytick.major.size'] = 5.0\n",
    "plt.rcParams['ytick.minor.size'] = 3.0\n",
    "plt.rcParams['lines.linewidth'] = 2\n",
    "plt.rc('font', family='serif',size=16)\n",
    "matplotlib.rc('text', usetex=True)\n",
    "matplotlib.rc('legend', fontsize=16)\n",
    "matplotlib.rcParams['axes.prop_cycle'] = cycler(\n",
    "    color=['#E24A33', '#348ABD', '#988ED5', '#777777', '#FBC15E', '#8EBA42', '#FFB5B8']\n",
    "    )\n",
    "matplotlib.rcParams.update(\n",
    "    {\"axes.grid\":True,\n",
    "    \"grid.alpha\":0.75,\n",
    "    \"grid.linewidth\":0.5}\n",
    "    )\n",
    "colors = plt.rcParams['axes.prop_cycle'].by_key()['color']"
   ]
  },
  {
   "cell_type": "markdown",
   "metadata": {},
   "source": [
    "## BFSS"
   ]
  },
  {
   "cell_type": "code",
   "execution_count": 2,
   "metadata": {},
   "outputs": [
    {
     "name": "stdout",
     "output_type": "stream",
     "text": [
      "Assuming all operators are either Hermitian or anti-Hermitian.\n",
      "NOTE Remember to incorporate more general basis changes!\n",
      "Bootstrap system instantiated for 55987 operators\n",
      "Attribute: simplify_quadratic = True\n",
      "Loading from previously computed data\n",
      "  loaded previously computed linear constraints\n",
      "  loaded previously computed cyclic constraints\n",
      "  loaded previously computed null space matrix\n",
      "  loaded previously computed quadratic constraints (numerical)\n",
      "  loaded previously computed bootstrap table\n"
     ]
    }
   ],
   "source": [
    "L = 3\n",
    "\n",
    "matrix_system = MatrixSystem(\n",
    "    operator_basis=[\"X0\", \"X1\", \"X2\", \"Pi0\", \"Pi1\", \"Pi2\"],\n",
    "    commutation_rules_concise={\n",
    "        (\"Pi0\", \"X0\"): 1,  # use Pi' = i P to ensure reality\n",
    "        (\"Pi1\", \"X1\"): 1,\n",
    "        (\"Pi2\", \"X2\"): 1,\n",
    "    },\n",
    "    hermitian_dict={\n",
    "        \"Pi0\": False,\n",
    "        \"X0\": True,\n",
    "        \"Pi1\": False,\n",
    "        \"X1\": True,\n",
    "        \"Pi2\": False,\n",
    "        \"X2\": True,\n",
    "        },\n",
    ")\n",
    "\n",
    "# lambda = 1 here\n",
    "hamiltonian = SingleTraceOperator(\n",
    "    data={\n",
    "        (\"Pi0\", \"Pi0\"): -0.5,\n",
    "        (\"Pi1\", \"Pi1\"): -0.5,\n",
    "        (\"Pi2\", \"Pi2\"): -0.5,\n",
    "        # quartic term (XY)\n",
    "        (\"X0\", \"X1\", \"X0\", \"X1\"): -1 / 4,\n",
    "        (\"X1\", \"X0\", \"X1\", \"X0\"): -1 / 4,\n",
    "        (\"X0\", \"X1\", \"X1\", \"X0\"): 1 / 4,\n",
    "        (\"X1\", \"X0\", \"X0\", \"X1\"): 1 / 4,\n",
    "        # quartic term (XZ)\n",
    "        (\"X0\", \"X2\", \"X0\", \"X2\"): -1 / 4,\n",
    "        (\"X2\", \"X0\", \"X2\", \"X0\"): -1 / 4,\n",
    "        (\"X0\", \"X2\", \"X2\", \"X0\"): 1 / 4,\n",
    "        (\"X2\", \"X0\", \"X0\", \"X2\"): 1 / 4,\n",
    "        # quartic term (YZ)\n",
    "        (\"X1\", \"X2\", \"X1\", \"X2\"): -1 / 4,\n",
    "        (\"X2\", \"X1\", \"X2\", \"X1\"): -1 / 4,\n",
    "        (\"X1\", \"X2\", \"X2\", \"X1\"): 1 / 4,\n",
    "        (\"X2\", \"X1\", \"X1\", \"X2\"): 1 / 4,\n",
    "    }\n",
    ")\n",
    "\n",
    "# <tr G O > = 0\n",
    "gauge = MatrixOperator(data={\n",
    "    (\"X0\", \"Pi0\"): 1,\n",
    "    (\"Pi0\", \"X0\"): -1,\n",
    "    (\"X1\", \"Pi1\"): 1,\n",
    "    (\"Pi1\", \"X1\"): -1,\n",
    "    (\"X2\", \"Pi2\"): 1,\n",
    "    (\"Pi2\", \"X2\"): -1,\n",
    "    (): 3,\n",
    "    })\n",
    "\n",
    "bootstrap = BootstrapSystem(\n",
    "    matrix_system=matrix_system,\n",
    "    hamiltonian=hamiltonian,\n",
    "    gauge=gauge,\n",
    "    max_degree_L=L,\n",
    "    odd_degree_vanish=True,\n",
    "    simplify_quadratic=True,\n",
    ")\n",
    "\n",
    "#bootstrap.build_quadratic_constraints()\n",
    "\n",
    "# load previously-computed constraints\n",
    "bootstrap.load_constraints(f\"data/bfss_L_{L}\")\n",
    "\n",
    "quadratic_constraints_numerical = bootstrap.quadratic_constraints_numerical"
   ]
  },
  {
   "cell_type": "code",
   "execution_count": 55,
   "metadata": {},
   "outputs": [],
   "source": [
    "def newton_pseudoinverse(param, nsteps, quadratic_constraints_numerical):\n",
    "\n",
    "    for step in range(nsteps):\n",
    "        val, grad = get_quadratic_constraint_vector_sparse(\n",
    "            quadratic_constraints=quadratic_constraints_numerical,\n",
    "            param=param,\n",
    "            compute_grad=True,\n",
    "            )\n",
    "        grad_pinv = np.linalg.pinv(grad)\n",
    "        #np.allclose(grad @ grad_pinv @ grad, grad)\n",
    "        #np.allclose(grad.T @ np.linalg.inv(grad @ grad.T), grad_pinv)\n",
    "        param = param - np.asarray(grad_pinv @ val)[0]\n",
    "        print(f\"Newton's method: step = {step}, val = {np.linalg.norm(val)}\")\n",
    "\n",
    "    return param"
   ]
  },
  {
   "cell_type": "code",
   "execution_count": 58,
   "metadata": {},
   "outputs": [
    {
     "data": {
      "text/plain": [
       "3879"
      ]
     },
     "execution_count": 58,
     "metadata": {},
     "output_type": "execute_result"
    }
   ],
   "source": [
    "bootstrap.param_dim_null"
   ]
  },
  {
   "cell_type": "code",
   "execution_count": 59,
   "metadata": {},
   "outputs": [
    {
     "data": {
      "text/plain": [
       "55986.0"
      ]
     },
     "execution_count": 59,
     "metadata": {},
     "output_type": "execute_result"
    }
   ],
   "source": [
    "167958/3"
   ]
  },
  {
   "cell_type": "code",
   "execution_count": 57,
   "metadata": {},
   "outputs": [
    {
     "name": "stdout",
     "output_type": "stream",
     "text": [
      "Newton's method: step = 0, val = 24.134162545252966\n",
      "Newton's method: step = 1, val = 2.3362949961625823\n",
      "Newton's method: step = 2, val = 0.11819947515096221\n",
      "Newton's method: step = 3, val = 0.00037449933670141564\n",
      "Newton's method: step = 4, val = 3.807531790834596e-09\n",
      "Newton's method: step = 5, val = 7.139181142569059e-15\n",
      "Newton's method: step = 6, val = 4.259475550056211e-15\n",
      "Newton's method: step = 7, val = 3.564952198305774e-15\n",
      "Newton's method: step = 8, val = 3.3512806144347944e-15\n",
      "Newton's method: step = 9, val = 3.39356946597452e-15\n"
     ]
    }
   ],
   "source": [
    "param = np.random.normal(size=bootstrap.param_dim_null)\n",
    "val = get_quadratic_constraint_vector_sparse(\n",
    "    quadratic_constraints=quadratic_constraints_numerical,\n",
    "    param=param,\n",
    "    )\n",
    "\n",
    "param = newton_pseudoinverse(param=param, nsteps=10, quadratic_constraints_numerical=quadratic_constraints_numerical)\n",
    "val = get_quadratic_constraint_vector_sparse(\n",
    "    quadratic_constraints=quadratic_constraints_numerical,\n",
    "    param=param,\n",
    "    )"
   ]
  },
  {
   "cell_type": "code",
   "execution_count": 27,
   "metadata": {},
   "outputs": [
    {
     "data": {
      "text/plain": [
       "((586,), (3879, 586))"
      ]
     },
     "execution_count": 27,
     "metadata": {},
     "output_type": "execute_result"
    }
   ],
   "source": [
    "val.shape, grad.T.shape"
   ]
  },
  {
   "cell_type": "code",
   "execution_count": 10,
   "metadata": {},
   "outputs": [
    {
     "data": {
      "text/plain": [
       "((586,), (586, 3879), (3879, 586))"
      ]
     },
     "execution_count": 10,
     "metadata": {},
     "output_type": "execute_result"
    }
   ],
   "source": [
    "val.shape, grad.shape, grad_pinv.shape"
   ]
  },
  {
   "cell_type": "code",
   "execution_count": 16,
   "metadata": {},
   "outputs": [
    {
     "data": {
      "text/plain": [
       "True"
      ]
     },
     "execution_count": 16,
     "metadata": {},
     "output_type": "execute_result"
    }
   ],
   "source": []
  },
  {
   "cell_type": "code",
   "execution_count": null,
   "metadata": {},
   "outputs": [],
   "source": []
  },
  {
   "cell_type": "code",
   "execution_count": null,
   "metadata": {},
   "outputs": [],
   "source": [
    "val2, grad2 = get_quadratic_constraint_vector_sparse(\n",
    "    quadratic_constraints=quadratic_constraints_numerical,\n",
    "    param=param,\n",
    "    compute_grad=True,\n",
    "    )"
   ]
  },
  {
   "cell_type": "code",
   "execution_count": null,
   "metadata": {},
   "outputs": [],
   "source": [
    "np.sum(np.abs(grad2[0]))"
   ]
  },
  {
   "cell_type": "code",
   "execution_count": null,
   "metadata": {},
   "outputs": [],
   "source": [
    "grad2.shape"
   ]
  },
  {
   "cell_type": "code",
   "execution_count": null,
   "metadata": {},
   "outputs": [],
   "source": [
    "min(np.sum(np.abs(np.asarray(grad2)), axis=1)), max(np.sum(np.abs(np.asarray(grad2)), axis=1))"
   ]
  },
  {
   "cell_type": "code",
   "execution_count": null,
   "metadata": {},
   "outputs": [],
   "source": [
    "min(np.abs(val2)), max(np.abs(val2))"
   ]
  },
  {
   "cell_type": "code",
   "execution_count": null,
   "metadata": {},
   "outputs": [],
   "source": [
    "val1, grad1 = get_quadratic_constraint_vector_dense(\n",
    "    quadratic_constraints=quadratic_constraints_numerical,\n",
    "    param=param,\n",
    "    compute_grad=True,\n",
    "    )\n",
    "\n",
    "val2, grad2 = get_quadratic_constraint_vector_sparse(\n",
    "    quadratic_constraints=quadratic_constraints_numerical,\n",
    "    param=param,\n",
    "    compute_grad=True,\n",
    "    )"
   ]
  },
  {
   "cell_type": "code",
   "execution_count": null,
   "metadata": {},
   "outputs": [],
   "source": [
    "np.allclose(val1, val2), np.allclose(grad1, grad2)"
   ]
  },
  {
   "cell_type": "code",
   "execution_count": null,
   "metadata": {},
   "outputs": [],
   "source": [
    "grad2"
   ]
  },
  {
   "cell_type": "code",
   "execution_count": null,
   "metadata": {},
   "outputs": [],
   "source": []
  },
  {
   "cell_type": "code",
   "execution_count": null,
   "metadata": {},
   "outputs": [],
   "source": []
  },
  {
   "cell_type": "markdown",
   "metadata": {},
   "source": [
    "## One Matrix Model"
   ]
  },
  {
   "cell_type": "code",
   "execution_count": null,
   "metadata": {},
   "outputs": [],
   "source": [
    "g = 2.5\n",
    "L = 3\n",
    "init = None\n",
    "\n",
    "matrix_system = MatrixSystem(\n",
    "    # operator_basis=['X', 'P'],\n",
    "    operator_basis=[\"X\", \"Pi\"],\n",
    "    commutation_rules_concise={\n",
    "        # ('P', 'X'): -1j,\n",
    "        (\"Pi\", \"X\"): 1,  # use Pi' = i P to ensure reality\n",
    "    },\n",
    "    # hermitian_dict={'P': True, 'X': True},\n",
    "    hermitian_dict={\"Pi\": False, \"X\": True},\n",
    ")\n",
    "\n",
    "# scale variables as P = sqrt(N) P', X = sqrt(N) X'\n",
    "hamiltonian = SingleTraceOperator(\n",
    "    # data={(\"P\", \"P\"): 1, (\"X\", \"X\"): 1, (\"X\", \"X\", \"X\", \"X\"): 7}\n",
    "    data={(\"Pi\", \"Pi\"): -1, (\"X\", \"X\"): 1, (\"X\", \"X\", \"X\", \"X\"): g}\n",
    ")\n",
    "\n",
    "# <tr G O > = 0 might need to be applied only for O with deg <= L-2\n",
    "# gauge = MatrixOperator(data={('X', 'P'): 1j, ('P', 'X'): -1j, ():1})\n",
    "gauge = MatrixOperator(data={(\"X\", \"Pi\"): 1, (\"Pi\", \"X\"): -1, (): 1})\n",
    "\n",
    "bootstrap = BootstrapSystem(\n",
    "    matrix_system=matrix_system,\n",
    "    hamiltonian=hamiltonian,\n",
    "    gauge=gauge,\n",
    "    max_degree_L=L,\n",
    "    odd_degree_vanish=True,\n",
    "    simplify_quadratic=True,\n",
    ")\n",
    "\n",
    "bootstrap.get_null_space_matrix()\n",
    "quadratic_constraints = bootstrap.build_quadratic_constraints()"
   ]
  },
  {
   "cell_type": "code",
   "execution_count": null,
   "metadata": {},
   "outputs": [],
   "source": [
    "param = np.random.normal(size=bootstrap.param_dim_null)\n",
    "\n",
    "val1, grad1 = get_quadratic_constraint_vector_dense(\n",
    "    quadratic_constraints=quadratic_constraints,\n",
    "    param=param,\n",
    "    compute_grad=True,\n",
    "    )\n",
    "\n",
    "val2, grad2 = get_quadratic_constraint_vector_sparse(\n",
    "    quadratic_constraints=quadratic_constraints,\n",
    "    param=param,\n",
    "    compute_grad=True,\n",
    "    )\n",
    "\n",
    "np.allclose(val1, val2), np.allclose(grad1, grad2.todense())"
   ]
  },
  {
   "cell_type": "code",
   "execution_count": null,
   "metadata": {},
   "outputs": [],
   "source": [
    "#disable_debug()\n",
    "\n",
    "param, success = minimize(\n",
    "    bootstrap=bootstrap,\n",
    "    op=bootstrap.hamiltonian,\n",
    "    init=init,\n",
    "    init_scale=1e2,\n",
    "    verbose=False,\n",
    "    maxiters=25,\n",
    "    relax_rate=0.8,\n",
    "    reg=5e-4,\n",
    "    eps=1e-4,\n",
    ")\n",
    "\n",
    "energy = bootstrap.get_operator_expectation_value(\n",
    "    st_operator=hamiltonian,\n",
    "    param=param\n",
    "    )\n",
    "exact_energy = compute_Brezin_energy_Han_conventions(g)\n",
    "print(f\"problem success: {success}, min energy found: {energy:.6f}, exact (L=inf) value = {exact_energy:.6f}\")"
   ]
  },
  {
   "cell_type": "code",
   "execution_count": null,
   "metadata": {},
   "outputs": [],
   "source": [
    "val, grad = compute_L2_norm_of_quadratic_constraints(\n",
    "    quadratic_constraints=bootstrap.build_quadratic_constraints(),\n",
    "    param=param,\n",
    "    )"
   ]
  },
  {
   "cell_type": "code",
   "execution_count": null,
   "metadata": {},
   "outputs": [],
   "source": [
    "bootstrap_array_sparse=bootstrap.build_bootstrap_table()\n",
    "dim = int(np.sqrt(bootstrap_array_sparse.shape[0]))\n",
    "bootstrap_matrix = np.reshape(\n",
    "    bootstrap_array_sparse.dot(param), (dim, dim)\n",
    ")\n",
    "scipy.linalg.eigvalsh(bootstrap_matrix)"
   ]
  },
  {
   "cell_type": "code",
   "execution_count": null,
   "metadata": {},
   "outputs": [],
   "source": [
    "for op in bootstrap.operator_list:\n",
    "    eV = bootstrap.get_operator_expectation_value(\n",
    "        st_operator=SingleTraceOperator({op: 1}),\n",
    "        param=param\n",
    "        )\n",
    "    if np.abs(eV) > 1e-10:\n",
    "        print(f\"<tr({op})> = {eV}\")"
   ]
  },
  {
   "cell_type": "markdown",
   "metadata": {},
   "source": [
    "Let's try implementing the optimization from scratch"
   ]
  },
  {
   "cell_type": "code",
   "execution_count": null,
   "metadata": {},
   "outputs": [],
   "source": [
    "num_variables = bootstrap.param_dim_null\n",
    "dim = bootstrap.bootstrap_matrix_dim\n",
    "verbose = False\n",
    "maxiters = 200\n",
    "eps = 1e-4\n",
    "penalty_parameter = 1\n",
    "\n",
    "vec = bootstrap.single_trace_to_coefficient_vector(st_operator=hamiltonian, return_null_basis=True)\n",
    "\n",
    "param = cp.Variable(num_variables)\n",
    "\n",
    "bootstrap_array_sparse=bootstrap.build_bootstrap_table()\n",
    "op_cons = [SingleTraceOperator(data={(): 1})]\n",
    "quadratic_constraints = bootstrap.build_quadratic_constraints()\n",
    "num_quad_constraints = quadratic_constraints['quadratic'].shape[0]\n",
    "\n",
    "A_op = sparse.csr_matrix((0, bootstrap.param_dim_null))\n",
    "b_op = np.zeros(0)\n",
    "for op in op_cons:\n",
    "    A_op = sparse.vstack(\n",
    "        [\n",
    "            A_op,\n",
    "            sparse.csr_matrix(\n",
    "                bootstrap.single_trace_to_coefficient_vector(\n",
    "                    op, return_null_basis=True\n",
    "                )\n",
    "            ),\n",
    "        ]\n",
    "    )\n",
    "    b_op = np.append(b_op, 1)\n",
    "\n",
    "constraints = [cp.reshape(bootstrap_array_sparse @ param, (bootstrap.bootstrap_matrix_dim, bootstrap.bootstrap_matrix_dim)) >> 0]\n",
    "constraints += [A_op @ param == b_op]"
   ]
  },
  {
   "cell_type": "code",
   "execution_count": null,
   "metadata": {},
   "outputs": [],
   "source": [
    "penalty_factor = 10  # Initial penalty factor\n",
    "\n",
    "Q = [quadratic_constraints['quadratic'][k].reshape((num_variables, num_variables)).todense() for k in range(num_quad_constraints)]\n",
    "c = [quadratic_constraints['linear'][k] for k in range(num_quad_constraints)]\n",
    "\n",
    "slack = cp.Variable(len(Q))\n",
    "# Quadratic constraints with slack variables\n",
    "for i in range(len(Q)):\n",
    "    constraints += [param.T @ Q[i] @ param + c[i] @ param <= slack[i]]\n",
    "    constraints += [param.T @ Q[i] @ param + c[i] @ param >= -slack[i]]\n",
    "\n",
    "objective = cp.Minimize(vec @ param + penalty_factor * cp.sum(slack))\n",
    "problem = cp.Problem(objective, constraints)\n",
    "problem.solve(verbose=verbose, max_iters=maxiters, eps=eps, solver=cp.SCS)"
   ]
  },
  {
   "cell_type": "code",
   "execution_count": null,
   "metadata": {},
   "outputs": [],
   "source": [
    "energy = bootstrap.get_operator_expectation_value(\n",
    "    st_operator=hamiltonian,\n",
    "    param=param.value\n",
    "    )\n",
    "exact_energy = compute_Brezin_energy_Han_conventions(g)\n",
    "print(f\"problem success: {success}, min energy found: {energy:.6f}, exact (L=inf) value = {exact_energy:.6f}\")\n"
   ]
  },
  {
   "cell_type": "code",
   "execution_count": null,
   "metadata": {},
   "outputs": [],
   "source": []
  },
  {
   "cell_type": "code",
   "execution_count": null,
   "metadata": {},
   "outputs": [],
   "source": []
  },
  {
   "cell_type": "code",
   "execution_count": null,
   "metadata": {},
   "outputs": [],
   "source": [
    "new_constraints = []\n",
    "new_vars = {}\n",
    "for i in range(num_variables):\n",
    "    for j in range(num_variables):\n",
    "        if i <= j:\n",
    "            new_var = cp.Variable()\n",
    "            new_vars[(i, j)] = new_var\n",
    "            new_vars[(j, i)] = new_var\n",
    "            new_constraints.append(new_var == param[i] * param[j])\n",
    "\n",
    "for k in []: #range(num_quad_constraints):\n",
    "    quad = quadratic_constraints['quadratic'][k].reshape((num_variables, num_variables)).todense()\n",
    "    quad = (quad + quad.T)/2\n",
    "    lin = quadratic_constraints['linear'][k]\n",
    "    new_constraints.append(\n",
    "        sum(quad[i, j] * new_vars[(i, j)] for i in range(num_variables) for j in range(num_variables)) + lin @ param == 0\n",
    "    )"
   ]
  },
  {
   "cell_type": "code",
   "execution_count": null,
   "metadata": {},
   "outputs": [],
   "source": [
    "constraints.extend(new_constraints)\n",
    "objective = cp.Minimize(vec @ param)\n",
    "problem = cp.Problem(objective, constraints)\n",
    "problem.solve(verbose=verbose, max_iters=maxiters, eps=eps, solver=cp.SCS)\n",
    "\n",
    "energy = bootstrap.get_operator_expectation_value(\n",
    "    st_operator=hamiltonian,\n",
    "    param=param.value\n",
    "    )\n",
    "exact_energy = compute_Brezin_energy_Han_conventions(g)\n",
    "print(f\"problem success: {success}, min energy found: {energy:.6f}, exact (L=inf) value = {exact_energy:.6f}\")\n"
   ]
  },
  {
   "cell_type": "code",
   "execution_count": null,
   "metadata": {},
   "outputs": [],
   "source": [
    "x = new_vars[(i, j)] == param[i] * param[j]\n",
    "x.is_dcp()"
   ]
  },
  {
   "cell_type": "code",
   "execution_count": null,
   "metadata": {},
   "outputs": [],
   "source": [
    "param * param"
   ]
  },
  {
   "cell_type": "code",
   "execution_count": null,
   "metadata": {},
   "outputs": [],
   "source": [
    "x"
   ]
  },
  {
   "cell_type": "code",
   "execution_count": null,
   "metadata": {},
   "outputs": [],
   "source": [
    "for i in range(num_quad_constraints):\n",
    "    quad = quadratic_constraints['quadratic'][i].reshape((num_variables, num_variables))\n",
    "    lin = quadratic_constraints['linear'][i]\n",
    "    assert np.allclose(quad.T.todense(), quad.todense())\n",
    "    constraints += [cp.quad_form(x=param, P=quad) + lin @ param >= 0]\n",
    "\n",
    "    eigs = scipy.linalg.eigvalsh(quad.todense())\n",
    "    print(f\"i = {i}, min_eig = {eigs[0]}, max_eig = {eigs[-1]}\")"
   ]
  },
  {
   "cell_type": "code",
   "execution_count": null,
   "metadata": {},
   "outputs": [],
   "source": [
    "minimal_eigval(\n",
    "    bootstrap_array_sparse=bootstrap.build_bootstrap_table(),\n",
    "    parameter_vector_null=param\n",
    "    )"
   ]
  },
  {
   "cell_type": "code",
   "execution_count": null,
   "metadata": {},
   "outputs": [],
   "source": []
  },
  {
   "cell_type": "code",
   "execution_count": null,
   "metadata": {},
   "outputs": [],
   "source": []
  },
  {
   "cell_type": "code",
   "execution_count": null,
   "metadata": {},
   "outputs": [],
   "source": []
  },
  {
   "cell_type": "code",
   "execution_count": null,
   "metadata": {},
   "outputs": [],
   "source": []
  },
  {
   "cell_type": "code",
   "execution_count": null,
   "metadata": {},
   "outputs": [],
   "source": []
  },
  {
   "cell_type": "code",
   "execution_count": null,
   "metadata": {},
   "outputs": [],
   "source": []
  },
  {
   "cell_type": "code",
   "execution_count": null,
   "metadata": {},
   "outputs": [],
   "source": []
  },
  {
   "cell_type": "code",
   "execution_count": null,
   "metadata": {},
   "outputs": [],
   "source": []
  },
  {
   "cell_type": "code",
   "execution_count": null,
   "metadata": {},
   "outputs": [],
   "source": []
  },
  {
   "cell_type": "code",
   "execution_count": null,
   "metadata": {},
   "outputs": [],
   "source": []
  },
  {
   "cell_type": "code",
   "execution_count": null,
   "metadata": {},
   "outputs": [],
   "source": [
    "g = 2\n",
    "L = 3\n",
    "\n",
    "print(f\"One matrix problem, L={L}, g={g}.\")\n",
    "\n",
    "matrix_system = MatrixSystem(\n",
    "    # operator_basis=['X', 'P'],\n",
    "    operator_basis=[\"A\", \"B\", \"C\"],\n",
    "    commutation_rules_concise={\n",
    "        # ('P', 'X'): -1j,\n",
    "        (\"A\", \"B\"): 1,  # use Pi' = i P to ensure reality\n",
    "        (\"A\", \"C\"): 2,  # use Pi' = i P to ensure reality\n",
    "        (\"B\", \"C\"): 3,  # use Pi' = i P to ensure reality\n",
    "    },\n",
    "    hermitian_dict={'A': True, 'B': True, 'C':True},\n",
    ")\n",
    "\n",
    "hamiltonian = SingleTraceOperator(data={():1})\n",
    "gauge = MatrixOperator(data={(): 1})\n",
    "\n",
    "bootstrap = BootstrapSystem(\n",
    "    matrix_system=matrix_system,\n",
    "    hamiltonian=hamiltonian,\n",
    "    gauge=gauge,\n",
    "    half_max_degree=L,\n",
    "    odd_degree_vanish=True,\n",
    ")\n"
   ]
  },
  {
   "cell_type": "code",
   "execution_count": null,
   "metadata": {},
   "outputs": [],
   "source": [
    "bootstrap.operator_list"
   ]
  },
  {
   "cell_type": "code",
   "execution_count": null,
   "metadata": {},
   "outputs": [],
   "source": [
    "bootstrap.operator_dict\n"
   ]
  },
  {
   "cell_type": "code",
   "execution_count": null,
   "metadata": {},
   "outputs": [],
   "source": [
    "len(bootstrap.operator_list), len(bootstrap.operator_dict)"
   ]
  },
  {
   "cell_type": "code",
   "execution_count": null,
   "metadata": {},
   "outputs": [],
   "source": [
    "operators_by_degree = {}\n",
    "degree_func = lambda x: len(x)\n",
    "for op in bootstrap.operator_list:\n",
    "    degree = degree_func(op)\n",
    "    if degree not in operators_by_degree:\n",
    "        operators_by_degree[degree] = [op]\n",
    "    else:\n",
    "        operators_by_degree[degree].append(op)\n",
    "\n",
    "new_list = []\n",
    "for deg, op_list in operators_by_degree.items():\n",
    "    if deg % 2 == 0:\n",
    "        new_list.extend(op_list)\n",
    "\n",
    "for deg, op_list in operators_by_degree.items():\n",
    "    if deg % 2 != 0:\n",
    "        new_list.extend(op_list)\n",
    "\n",
    "new_list"
   ]
  },
  {
   "cell_type": "code",
   "execution_count": null,
   "metadata": {},
   "outputs": [],
   "source": [
    "operators_by_degree"
   ]
  },
  {
   "cell_type": "code",
   "execution_count": null,
   "metadata": {},
   "outputs": [],
   "source": []
  },
  {
   "cell_type": "code",
   "execution_count": null,
   "metadata": {},
   "outputs": [],
   "source": [
    "op1 = SingleTraceOperator(data={(\"A\", \"C\", \"B\", \"A\"): 1, (\"B\", \"C\", \"C\"): 0})\n",
    "op2 = SingleTraceOperator(data={(\"C\", \"A\", \"B\"): 1})\n",
    "\n",
    "print(f\"[O1, O2]_Han = {bootstrap.matrix_system.single_trace_commutator(op1, op2, verbose=False)}\")\n",
    "print(\"\")\n",
    "print(f\"[O2, O1]_Han = {bootstrap.matrix_system.single_trace_commutator(op2, op1, verbose=False)}\")\n",
    "\n",
    "print(\"\")\n",
    "print(f\"[O1, O2]_Gavin = {bootstrap.matrix_system.single_trace_commutator2(op1, op2, verbose=False)}\")\n",
    "print(\"\")\n",
    "print(f\"[O2, O1]_Gavin = {bootstrap.matrix_system.single_trace_commutator2(op2, op1, verbose=False)}\")"
   ]
  },
  {
   "cell_type": "code",
   "execution_count": null,
   "metadata": {},
   "outputs": [],
   "source": [
    "bootstrap.matrix_system.single_trace_commutator(op2, op1) == - 1 * bootstrap.matrix_system.single_trace_commutator2(op1, op2)"
   ]
  },
  {
   "cell_type": "code",
   "execution_count": null,
   "metadata": {},
   "outputs": [],
   "source": [
    "bootstrap.matrix_system.single_trace_commutator(op1, op2, verbose=True)"
   ]
  },
  {
   "cell_type": "code",
   "execution_count": null,
   "metadata": {},
   "outputs": [],
   "source": [
    "bootstrap.matrix_system.single_trace_commutator(op2, op1) + 1 * bootstrap.matrix_system.single_trace_commutator2(op1, op2)"
   ]
  },
  {
   "cell_type": "code",
   "execution_count": null,
   "metadata": {},
   "outputs": [],
   "source": [
    "bootstrap.matrix_system.single_trace_commutator(op2, op1)"
   ]
  },
  {
   "cell_type": "code",
   "execution_count": null,
   "metadata": {},
   "outputs": [],
   "source": [
    "bootstrap.matrix_system.single_trace_commutator2(op1, op2)"
   ]
  },
  {
   "cell_type": "code",
   "execution_count": null,
   "metadata": {},
   "outputs": [],
   "source": [
    "bootstrap.matrix_system.single_trace_commutator2(op1, op2)"
   ]
  },
  {
   "cell_type": "code",
   "execution_count": null,
   "metadata": {},
   "outputs": [],
   "source": []
  },
  {
   "cell_type": "code",
   "execution_count": null,
   "metadata": {},
   "outputs": [],
   "source": [
    "normalization_constraint = {\n",
    "    'lhs': SingleTraceOperator(data={(): 1}),\n",
    "    'rhs': DoubleTraceOperator(data={((), ()): 1})\n",
    "    }\n",
    "lhs = normalization_constraint[\"lhs\"]\n",
    "rhs = normalization_constraint[\"rhs\"]\n",
    "linear_constraint_vector = bootstrap.single_trace_to_coefficient_vector(lhs)\n",
    "quadratic_matrix = bootstrap.double_trace_to_coefficient_matrix(rhs)"
   ]
  },
  {
   "cell_type": "code",
   "execution_count": null,
   "metadata": {},
   "outputs": [],
   "source": [
    "linear_constraint_vector"
   ]
  },
  {
   "cell_type": "code",
   "execution_count": null,
   "metadata": {},
   "outputs": [],
   "source": [
    "quadratic_matrix"
   ]
  },
  {
   "cell_type": "code",
   "execution_count": null,
   "metadata": {},
   "outputs": [],
   "source": [
    "for op in bootstrap.operator_list[1:4]:\n",
    "    comm1 = bootstrap.matrix_system.single_trace_commutator(bootstrap.hamiltonian, SingleTraceOperator(data={op:1}))\n",
    "    #comm2 = bootstrap.matrix_system.single_trace_commutator2(bootstrap.hamiltonian, SingleTraceOperator(data={op:1}))\n",
    "    comm2b = bootstrap.matrix_system.single_trace_commutator2(SingleTraceOperator(data={op:1}), hamiltonian)\n",
    "    if comm1 != -1 * comm2b:\n",
    "        print(f\"op = {op},\\n commutator(H,op) = {comm1},\\n commutator2(op,H) = {comm2b}\")"
   ]
  },
  {
   "cell_type": "code",
   "execution_count": null,
   "metadata": {},
   "outputs": [],
   "source": [
    "g, h = 1, 3\n",
    "matrix_system = MatrixSystem(\n",
    "    operator_basis=[\"A\", \"B\", \"C\", \"D\"],\n",
    "    commutation_rules_concise={\n",
    "        #(\"P1\", \"X1\"): -1j,\n",
    "        #(\"P2\", \"X2\"): -1j,\n",
    "    },\n",
    "    hermitian_dict={\"A\": True, \"B\": True, \"C\": True, \"D\": True},\n",
    ")\n",
    "hamiltonian = SingleTraceOperator(\n",
    "    data={\n",
    "        (\"A\", \"B\"): 1\n",
    "        #(\"P1\", \"P1\"): 1,\n",
    "        #(\"X1\", \"X1\"): 1,\n",
    "        #(\"P2\", \"P2\"): 1,\n",
    "        #(\"X2\", \"X2\"): 1,\n",
    "        #(\"X1\", \"X2\", \"X1\", \"X2\"): -2 * g,\n",
    "        #(\"X1\", \"X1\", \"X2\", \"X2\"): 2 * g + 2 * h,\n",
    "        #(\"X1\", \"X1\", \"X1\", \"X1\"): h,\n",
    "        #(\"X2\", \"X2\", \"X2\", \"X2\"): h,\n",
    "        # (\"X1\", \"X1\", \"X2\", \"X2\"): 2*h,\n",
    "    }\n",
    ")\n",
    "\n",
    "#S2 = SingleTraceOperator(data={(\"X1\", \"P2\"): 1, (\"X2\", \"P1\"): 0})\n",
    "S2 = SingleTraceOperator(data={(\"C\", \"D\"): 1})"
   ]
  },
  {
   "cell_type": "code",
   "execution_count": null,
   "metadata": {},
   "outputs": [],
   "source": [
    "#print(f'starting term = {S2.operators[0] + (\"|\",) + hamiltonian.operators[0]}')\n",
    "print(f'starting term = {hamiltonian.operators[0] + (\"|\",) + S2.operators[0]}')\n",
    "new = matrix_system.single_trace_commutator(hamiltonian, S2)"
   ]
  },
  {
   "cell_type": "code",
   "execution_count": null,
   "metadata": {},
   "outputs": [],
   "source": [
    "for i in None:\n",
    "    print(i)"
   ]
  },
  {
   "cell_type": "code",
   "execution_count": null,
   "metadata": {},
   "outputs": [],
   "source": [
    "#print(f'starting term = {S2.operators[0] + (\"|\",) + hamiltonian.operators[0]}')\n",
    "print(f'starting term = {hamiltonian.operators[0] + (\"|\",) + S2.operators[0]}')\n",
    "new = matrix_system.single_trace_commutator2(hamiltonian, S2)"
   ]
  },
  {
   "cell_type": "code",
   "execution_count": null,
   "metadata": {},
   "outputs": [],
   "source": [
    "print(f'starting term = {S2.operators[0] + (\"|\",) + hamiltonian.operators[0]}')\n",
    "original = matrix_system.single_trace_commutator(hamiltonian, S2)\n",
    "print('')\n",
    "print(f'starting term = {S2.operators[0] + (\"|\",) + hamiltonian.operators[0]}')\n",
    "new = matrix_system.single_trace_commutator2(S2, hamiltonian)"
   ]
  },
  {
   "cell_type": "code",
   "execution_count": null,
   "metadata": {},
   "outputs": [],
   "source": []
  }
 ],
 "metadata": {
  "kernelspec": {
   "display_name": "bmnsim",
   "language": "python",
   "name": "python3"
  },
  "language_info": {
   "codemirror_mode": {
    "name": "ipython",
    "version": 3
   },
   "file_extension": ".py",
   "mimetype": "text/x-python",
   "name": "python",
   "nbconvert_exporter": "python",
   "pygments_lexer": "ipython3",
   "version": "3.11.9"
  }
 },
 "nbformat": 4,
 "nbformat_minor": 2
}
