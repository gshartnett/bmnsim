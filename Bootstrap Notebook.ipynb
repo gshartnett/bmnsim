{
 "cells": [
  {
   "cell_type": "markdown",
   "metadata": {},
   "source": [
    "## TODO\n",
    "\n",
    "#### coding\n",
    "- Adopt standard variable convention for op, op_str, etc.\n",
    "    - matrixoperators are given name mat_op, singletrace are given st_op\n",
    "    - op string names 'X', 'P' are op_str\n",
    "    - operator tuples are op\n",
    "\n",
    "- how to handle 'empty' operator SingleTraceOperator(data={():0})\n",
    "- related, but maybe distinct: how to handle 'zero' operator like A - A = 0?\n",
    "\n",
    "#### constraints\n",
    "- inspect cyclic constraints, make sure they look good\n",
    "- how to enforce reality/imaginarity of v_i (should I map P -> i P to make it Hermitian?)\n",
    "- how should I impose that odd degree expectation values = 0 (and should I impose it directly?)\n",
    "- how to build matrix version of cyclic constraints\n",
    "\n",
    "#### optimization\n",
    "- understand optimization used in Han et al\n",
    "    - understand representation of \\mathcal{M}_{ij} matrix as bootstrap tables\n",
    "    - understand SDP relaxtion - is it worth just using that here?"
   ]
  },
  {
   "cell_type": "code",
   "execution_count": 1,
   "metadata": {},
   "outputs": [],
   "source": [
    "from typing import Union, Self\n",
    "from numbers import Number\n",
    "from itertools import chain, product\n",
    "\n",
    "import numpy as np\n",
    "import sympy as sp\n",
    "\n",
    "import scipy\n",
    "from scipy.linalg import qr\n",
    "from scipy.sparse import coo_matrix, csc_matrix\n",
    "from scipy.sparse.linalg import splu, svds\n",
    "from sksparse.cholmod import cholesky\n",
    "\n",
    "from bmn.algebra import MatrixOperator, SingleTraceOperator, MatrixSystem\n",
    "from bmn.linear_algebra import get_null_space, create_sparse_matrix_from_dict"
   ]
  },
  {
   "cell_type": "markdown",
   "metadata": {},
   "source": [
    "## One Matrix Model"
   ]
  },
  {
   "cell_type": "code",
   "execution_count": 101,
   "metadata": {},
   "outputs": [],
   "source": [
    "class BootstrapSystem():\n",
    "    \"\"\"\n",
    "    _summary_\n",
    "    \"\"\"\n",
    "    def __init__(\n",
    "            self,\n",
    "            matrix_system: MatrixSystem,\n",
    "            hamiltonian: SingleTraceOperator,\n",
    "            gauge: MatrixOperator,\n",
    "            half_max_degree: int,\n",
    "            tol: float = 1e-10\n",
    "            ):\n",
    "        self.matrix_system = matrix_system\n",
    "        self.hamiltonian = hamiltonian\n",
    "        self.gauge = gauge\n",
    "        self.half_max_degree = half_max_degree\n",
    "        self.operator_list = self.generate_operators(2*half_max_degree)\n",
    "        self.operator_dict = {op: idx for idx, op in enumerate(self.operator_list)}\n",
    "        if 2*self.half_max_degree < self.hamiltonian.max_degree:\n",
    "            raise ValueError(\"2 * half_max_degree must be >= max degree of Hamiltonian.\")\n",
    "        self.param_dim = len(self.operator_dict)\n",
    "        self.tol = tol\n",
    "\n",
    "    def generate_operators(self, max_degree: int) -> list[str]:\n",
    "        \"\"\"\n",
    "        Generate the list of operators used in the bootstrap, i.e.\n",
    "            I, X, P, XX, XP, PX, PP, ...,\n",
    "        up to and including strings of max_degree degree.\n",
    "\n",
    "        Parameters\n",
    "        ----------\n",
    "        max_degree : int\n",
    "            Maximum degree of operators to consider.\n",
    "\n",
    "        Returns\n",
    "        -------\n",
    "        list[str]\n",
    "            A list of the operators.\n",
    "        \"\"\"\n",
    "        operators = {deg: [x for x in product(self.matrix_system.operator_basis, repeat=deg)] for deg in range(0, max_degree+1)}\n",
    "        self.psd_matrix_dim = sum(len(value) for degree, value in operators.items() if degree <= self.half_max_degree)\n",
    "        return [x for xs in operators.values() for x in xs] # flatten\n",
    "\n",
    "    def single_trace_to_coefficient_vector(self, st_operator: SingleTraceOperator) -> np.ndarray:\n",
    "        \"\"\"\n",
    "        TODO make sparse compatible\n",
    "        Map a single trace operator to a vector of the coefficients.\n",
    "\n",
    "        Parameters\n",
    "        ----------\n",
    "        st_operator : SingleTraceOperator\n",
    "            The operator\n",
    "\n",
    "        Returns\n",
    "        -------\n",
    "        np.ndarray\n",
    "            The vector.\n",
    "        \"\"\"\n",
    "        vec = [0]*self.param_dim\n",
    "        for op, coeff in st_operator:\n",
    "            idx = self.operator_dict[op]\n",
    "            vec[idx] = coeff\n",
    "        return np.asarray(vec)\n",
    "\n",
    "    def generate_hamiltonian_constraints(self) -> list[SingleTraceOperator]:\n",
    "        \"\"\"\n",
    "        Generate the Hamiltonian constraints <[H,O]>=0 for O single trace.\n",
    "\n",
    "        Returns\n",
    "        -------\n",
    "        list[SingleTraceOperator]\n",
    "            The list of constraint terms.\n",
    "        \"\"\"\n",
    "        constraints = []\n",
    "        for op in self.operator_list:\n",
    "             constraints.append(self.matrix_system.single_trace_commutator(\n",
    "                 st_operator1=self.hamiltonian,\n",
    "                 st_operator2=SingleTraceOperator(data={op: 1})\n",
    "                 ))\n",
    "        return self.clean_constraints(constraints)\n",
    "\n",
    "    def generate_gauge_constraints(self) -> list[SingleTraceOperator]:\n",
    "        \"\"\"\n",
    "        Generate the Gauge constraints <tr(G O)>=0 for O a general matrix operator.\n",
    "        Because G has max degree 2, this will create constraints involving terms\n",
    "        with degree max_degree + 2. These will be discarded.\n",
    "\n",
    "        Returns\n",
    "        -------\n",
    "        list[SingleTraceOperator]\n",
    "            The list of constraint terms.\n",
    "        \"\"\"\n",
    "        constraints = []\n",
    "        for op in self.operator_list:\n",
    "             constraints.append(\n",
    "                 (self.gauge * MatrixOperator(data={op: 1})).trace()\n",
    "                 )\n",
    "        return self.clean_constraints(constraints)\n",
    "\n",
    "    def generate_reality_constraints(self) -> list[SingleTraceOperator]:\n",
    "        \"\"\"\n",
    "        Generate single trace constraints imposed by reality,\n",
    "            <O^dagger> = <O>\n",
    "\n",
    "        Returns\n",
    "        -------\n",
    "        list[SingleTraceOperator]\n",
    "            The list of constraint terms.\n",
    "        \"\"\"\n",
    "        constraints = []\n",
    "        for op in self.operator_list:\n",
    "             st_operator = SingleTraceOperator(data={op: 1})\n",
    "             st_operator_dagger = self.matrix_system.hermitian_conjugate(operator=SingleTraceOperator(data={op: 1}))\n",
    "             if len(st_operator - st_operator_dagger) > 0:\n",
    "                 constraints.append(st_operator - st_operator_dagger)\n",
    "        return self.clean_constraints(constraints)\n",
    "\n",
    "    def generate_cyclic_constraints(self) -> list[SingleTraceOperator]:\n",
    "        # TODO it might be nice to implement this using a DoubleTraceOperator class\n",
    "        # I definitely don't like how it is impelemented now\n",
    "        constraints = {}\n",
    "        for idx, op in enumerate(self.operator_list):\n",
    "            if len(op) > 1:\n",
    "                # the LHS corresponds to single trace operators\n",
    "                # note that in Eq S37, S38 their RHS contains single trace operators (k=1, k=r) in their notation\n",
    "                eq_lhs = SingleTraceOperator(data={op: 1}) - SingleTraceOperator(data={tuple(op[1:]) + tuple(op[0]): 1})\n",
    "                #eq_lhs += self.matrix_system.commutation_rules[(op_str[0], op_str[1])] * SingleTraceOperator(data={tuple(op_str[2:]): 1})\n",
    "                #eq_lhs += self.matrix_system.commutation_rules[(op_str[0], op_str[len(op_str)-1])] * SingleTraceOperator(data={tuple(op_str[1:len(op_str)-1]): 1})\n",
    "\n",
    "                # rhe RHS corresponds to double trace operators\n",
    "                eq_rhs = []\n",
    "                for k in range(1, len(op)):\n",
    "                    commutator = self.matrix_system.commutation_rules[(op[0], op[k])]\n",
    "                    #if idx == 7:\n",
    "                    #    print(f'[{op[0]}, {op[k]}] = ', commutator)\n",
    "                    eq_rhs.append([commutator, SingleTraceOperator(data={tuple(op[1:k]): 1}), SingleTraceOperator(data={tuple(op[k+1:]): 1})])\n",
    "                constraints[idx] = {'lhs':eq_lhs, 'rhs':eq_rhs}\n",
    "        return constraints\n",
    "\n",
    "    def build_linear_constraints(self, return_matrix: bool=True) -> Union[list[SingleTraceOperator, coo_matrix]]:\n",
    "        \"\"\"\n",
    "        Build the linear constraints. Each linear constraint corresponds to a\n",
    "        linear combination of single trace operators that must vanish. The set\n",
    "        of linear constraints may be numerically represented as a matrix L_{ij},\n",
    "        where the first index runs over the set of all such constraints, and the\n",
    "        second index runs over the set of single trace operators considered at this\n",
    "        bootstrap, i.e., the constraint equations are\n",
    "\n",
    "        L_{ij} v_j = 0.\n",
    "\n",
    "        Parameters\n",
    "        ----------\n",
    "        return_matrix : bool, optional\n",
    "            Flag used to control whether a numerical matrix is returned (default) or\n",
    "            a list of SingleTraceOperators, which can be helpful for debugging.\n",
    "            By default True\n",
    "\n",
    "        Returns\n",
    "        -------\n",
    "        Union[list[SingleTraceOperator, coo_matrix]]\n",
    "            The set of linear constraints.\n",
    "        \"\"\"\n",
    "\n",
    "        empty_operator = SingleTraceOperator(data={():0})\n",
    "        constraints = []\n",
    "\n",
    "        # Hamiltonian constraints\n",
    "        for st_operator in self.generate_hamiltonian_constraints():\n",
    "            if st_operator != empty_operator:\n",
    "                constraints.append({op: coeff for op, coeff in st_operator})\n",
    "\n",
    "        # gauge constraints\n",
    "        for st_operator in self.generate_gauge_constraints():\n",
    "            if st_operator != empty_operator:\n",
    "                constraints.append({op: coeff for op, coeff in st_operator})\n",
    "\n",
    "        # reality constraints\n",
    "        for st_operator in self.generate_reality_constraints():\n",
    "            if st_operator != empty_operator:\n",
    "                constraints.append({op: coeff for op, coeff in st_operator})\n",
    "\n",
    "        # optionally return the constraints in a human-readable form\n",
    "        if not return_matrix:\n",
    "            return constraints\n",
    "\n",
    "        # build the index-value dict\n",
    "        index_value_dict = {}\n",
    "        for idx_constraint, constraint_dict in enumerate(constraints):\n",
    "            for op, coeff in constraint_dict.items():\n",
    "                index_value_dict[(idx_constraint, self.operator_dict[op])] = coeff\n",
    "\n",
    "        return create_sparse_matrix_from_dict(index_value_dict=index_value_dict, matrix_shape=(len(constraints), len(self.operator_list)))\n",
    "\n",
    "    def build_quadratic_constraints(self):\n",
    "        \"\"\"\n",
    "        TODO return type, pass in null space\n",
    "        Build the quadratic constraints. The quadratic constraints are exclusively due to\n",
    "        the cyclic constraints. The constraints can be written as\n",
    "\n",
    "        A_{ijk} v_j v_k + B_{ij} v_j = 0.\n",
    "\n",
    "        After imposing the linear constraints by transforming to the null basis, these become\n",
    "\n",
    "        A'_{iab} u_a u_b + B'_{ia} u_a = 0,\n",
    "\n",
    "        where A'_{iab} = M_{ijk} K_{ja} K_{kb}, B'_{ia} = B_{ij} K_{ja}\n",
    "\n",
    "        Returns\n",
    "        -------\n",
    "        _type_\n",
    "            _description_\n",
    "        \"\"\"\n",
    "\n",
    "        linear_constraint_matrix = self.build_linear_constraints().todense()\n",
    "        null_space_matrix = get_null_space(linear_constraint_matrix)\n",
    "\n",
    "        empty_operator = SingleTraceOperator(data={():0})\n",
    "        constraints = self.generate_cyclic_constraints()\n",
    "\n",
    "        '''\n",
    "         (7, ('X', 'X', 'X')): {'lhs': SingleTraceOperator(operators=[], coeff=[]),\n",
    "        'rhs': [[0,\n",
    "            SingleTraceOperator(operators=[()], coeff=[1]),\n",
    "            SingleTraceOperator(operators=[('X',)], coeff=[1])],\n",
    "        [0,\n",
    "            SingleTraceOperator(operators=[('X',)], coeff=[1]),\n",
    "            SingleTraceOperator(operators=[()], coeff=[1])]]},\n",
    "        '''\n",
    "\n",
    "        linear_terms = []\n",
    "        quadratic_terms = []\n",
    "        for constraint_idx, (operator_idx, term) in enumerate(constraints.items()):\n",
    "            if term['lhs'] != empty_operator:\n",
    "                linear_constraint_vector = self.single_trace_to_coefficient_vector(term['lhs'])\n",
    "\n",
    "                quadratic_matrix = 1j * np.zeros((self.param_dim, self.param_dim)) # TODO make real eventually\n",
    "                for i in range(len(term['rhs'])):\n",
    "                    coeff = term['rhs'][i][0]\n",
    "                    if np.abs(coeff) > self.tol:\n",
    "                        quadratic_constraint_vector_1 = self.single_trace_to_vector(term['rhs'][i][1])\n",
    "                        quadratic_constraint_vector_2 = self.single_trace_to_vector(term['rhs'][i][2])\n",
    "                        quadratic_matrix += coeff * np.outer(quadratic_constraint_vector_2, quadratic_constraint_vector_2)\n",
    "\n",
    "                # transform to null basis\n",
    "                linear_constraint_vector = np.dot(linear_constraint_vector, null_space_matrix)\n",
    "                quadratic_matrix = np.einsum('ia, ij, jb->ab', null_space_matrix, quadratic_matrix, null_space_matrix)\n",
    "                #quadratic_constraint_vector_1 = np.dot(quadratic_constraint_vector_1, null_space_matrix)\n",
    "                #quadratic_constraint_vector_2 = np.dot(quadratic_constraint_vector_2, null_space_matrix)\n",
    "\n",
    "                # record\n",
    "                linear_terms.append(linear_constraint_vector)\n",
    "                quadratic_terms.append(quadratic_matrix)\n",
    "\n",
    "        #for st_operator in self.generate_hamiltonian_constraints():\n",
    "        #    if st_operator != empty_operator:\n",
    "        #        constraints.append({op: coeff for op, coeff in st_operator})\n",
    "\n",
    "        #if not return_matrix:\n",
    "        #    return linear_terms\n",
    "        return {'linear': linear_terms, 'quadratic': quadratic_terms}\n",
    "\n",
    "        # build the index-value dict\n",
    "        index_value_dict = {}\n",
    "        for idx_constraint, constraint_dict in enumerate(linear_terms):\n",
    "            for op, coeff in constraint_dict.items():\n",
    "                index_value_dict[(idx_constraint, self.operator_dict[op])] = coeff\n",
    "\n",
    "        linear_matrix = create_sparse_matrix_from_dict(index_value_dict=index_value_dict, matrix_shape=(len(constraints), len(self.operator_list)))\n",
    "\n",
    "        return linear_matrix\n",
    "\n",
    "    def clean_constraints(self, constraints: list[SingleTraceOperator]) -> list[SingleTraceOperator]:\n",
    "        \"\"\"\n",
    "        Remove constraints that involve operators outside the basis set.\n",
    "\n",
    "        Parameters\n",
    "        ----------\n",
    "        constraints : list[SingleTraceOperator]\n",
    "            The single trace constraints.\n",
    "\n",
    "        Returns\n",
    "        -------\n",
    "        list[SingleTraceOperator]\n",
    "            The cleaned constraints.\n",
    "        \"\"\"\n",
    "        cleaned_constraints = []\n",
    "        for st_operator in constraints:\n",
    "            if all([op in self.operator_list for op in st_operator.data]):\n",
    "                cleaned_constraints.append(st_operator)\n",
    "        return cleaned_constraints\n",
    "\n",
    "    def build_bootstrap_table(self) -> None:\n",
    "        \"\"\"\n",
    "        TODO consider passing in null space matrix as an argument.\n",
    "        TODO figure out return type\n",
    "\n",
    "        Creates the bootstrap table.\n",
    "\n",
    "        The bootstrap matrix is\n",
    "\n",
    "        M_{ij} = < tr(O^dagger_i O_j)>.\n",
    "\n",
    "        Representing the set of single trace operators considered at this\n",
    "        boostrap level as a vector v, this may be written as\n",
    "\n",
    "        M_{ij} = v_{I(i,j)},\n",
    "\n",
    "        where I(i,j) is an index map.\n",
    "\n",
    "        For example, in the one-matrix case,\n",
    "          i = 1 corresponds to the string 'X'\n",
    "          i = 4 corresponds to the string 'XP'\n",
    "          M_{14} = < tr(XXP) > = v_8\n",
    "\n",
    "        After imposing the linear constraints, the variable v becomes\n",
    "\n",
    "        v_i = K_{ij} u_j\n",
    "\n",
    "        and the bootstrap matrix becomes\n",
    "\n",
    "        M_{ij} = K_{I(i,j)k} u_k\n",
    "\n",
    "        Define the bootstrap table as the 3-index array K_{I(i,j)k}.\n",
    "        Note that this is independent of the single trace variables.\n",
    "\n",
    "        ------------------------------------------------------------------------\n",
    "        NOTE\n",
    "        In https://doi.org/10.1103/PhysRevLett.125.041601, M is simplified by imposing discrete\n",
    "        symmetries. Each operator is assigned an integer-valued degree, and only expectations\n",
    "        with zero total degree are non-zero:\n",
    "\n",
    "        degree_total( O_1^{dagger} O_2 ) = -degree(O_1) + degree(O_2).\n",
    "\n",
    "        The degree function depends on the symmetry. In the two-matrix example the degree is\n",
    "        the charge of the operators (in the A, B, C, D basis) under the SO(2) generators. In\n",
    "        the one-matrix example, it is the charge under reflection symmetry (X, P) -> (-X, -P).\n",
    "\n",
    "        Imposing the condition that the total degree is zero leads to M being block diagonal,\n",
    "        provided that the operators are sorted by degree, as in\n",
    "\n",
    "        O = [(degree -d_min operators), (degree -d + 1 operators), ..., (degree d_max operators)]\n",
    "\n",
    "        The blocks will then corresponds to the different ways of pairing the two operators\n",
    "        O_i^dagger O_j to form a degree zero operator.\n",
    "\n",
    "        No discrete symmetries will be imposed here\n",
    "        ------------------------------------------------------------------------\n",
    "        Returns\n",
    "        -------\n",
    "        X\n",
    "            X\n",
    "        \"\"\"\n",
    "        linear_constraint_matrix = self.build_linear_constraints().todense()\n",
    "        null_space_matrix = get_null_space(linear_constraint_matrix)\n",
    "        bootstrap_dict = {}\n",
    "        for idx1, op_str1 in enumerate(self.operator_list[:self.psd_matrix_dim]):\n",
    "            for idx2, op_str2 in enumerate(self.operator_list[:self.psd_matrix_dim]):\n",
    "                index_map = self.operator_dict[op_str1 + op_str2]\n",
    "                for k in range(null_space_matrix.shape[1]):\n",
    "                    bootstrap_dict[(idx1, idx2, k)] = null_space_matrix[index_map, k]\n",
    "        return bootstrap_dict\n"
   ]
  },
  {
   "cell_type": "code",
   "execution_count": 102,
   "metadata": {},
   "outputs": [
    {
     "data": {
      "text/plain": [
       "{('X', 'X'): 0, ('P', 'X'): (-0-1j), ('X', 'P'): 1j, ('P', 'P'): 0}"
      ]
     },
     "execution_count": 102,
     "metadata": {},
     "output_type": "execute_result"
    }
   ],
   "source": [
    "matrix_system = MatrixSystem(\n",
    "    operator_basis=['X', 'P'],\n",
    "    commutation_rules_concise = {\n",
    "        ('P', 'X'): -1j,\n",
    "    }\n",
    ")\n",
    "\n",
    "# scale variables as P = sqrt(N) P', X = sqrt(N) X'\n",
    "hamiltonian = SingleTraceOperator(\n",
    "        data={(\"P\", \"P\"): 1, (\"X\", \"X\"): 1, (\"X\", \"X\", \"X\", \"X\"): 7}\n",
    "    )\n",
    "\n",
    "# <tr G O > = 0 might need to be applied only for O with deg <= L-2\n",
    "gauge = MatrixOperator(data={('X', 'P'): 1j, ('P', 'X'): -1j, ():1})\n",
    "\n",
    "bootstrap = BootstrapSystem(\n",
    "    matrix_system=matrix_system,\n",
    "    hamiltonian=hamiltonian,\n",
    "    gauge=gauge,\n",
    "    half_max_degree=2\n",
    ")\n",
    "#bootstrap.operator_list[:bootstrap.psd_matrix_dim]\n",
    "bootstrap.matrix_system.commutation_rules"
   ]
  },
  {
   "cell_type": "code",
   "execution_count": 103,
   "metadata": {},
   "outputs": [
    {
     "data": {
      "text/plain": [
       "31"
      ]
     },
     "execution_count": 103,
     "metadata": {},
     "output_type": "execute_result"
    }
   ],
   "source": [
    "bootstrap.param_dim"
   ]
  },
  {
   "cell_type": "code",
   "execution_count": 104,
   "metadata": {},
   "outputs": [
    {
     "data": {
      "text/plain": [
       "{3: {'lhs': SingleTraceOperator(operators=[], coeff=[]),\n",
       "  'rhs': [[0,\n",
       "    SingleTraceOperator(operators=[()], coeff=[1]),\n",
       "    SingleTraceOperator(operators=[()], coeff=[1])]]},\n",
       " 4: {'lhs': SingleTraceOperator(operators=[('X', 'P'), ('P', 'X')], coeff=[1, -1]),\n",
       "  'rhs': [[1j,\n",
       "    SingleTraceOperator(operators=[()], coeff=[1]),\n",
       "    SingleTraceOperator(operators=[()], coeff=[1])]]},\n",
       " 5: {'lhs': SingleTraceOperator(operators=[('P', 'X'), ('X', 'P')], coeff=[1, -1]),\n",
       "  'rhs': [[(-0-1j),\n",
       "    SingleTraceOperator(operators=[()], coeff=[1]),\n",
       "    SingleTraceOperator(operators=[()], coeff=[1])]]},\n",
       " 6: {'lhs': SingleTraceOperator(operators=[], coeff=[]),\n",
       "  'rhs': [[0,\n",
       "    SingleTraceOperator(operators=[()], coeff=[1]),\n",
       "    SingleTraceOperator(operators=[()], coeff=[1])]]},\n",
       " 7: {'lhs': SingleTraceOperator(operators=[], coeff=[]),\n",
       "  'rhs': [[0,\n",
       "    SingleTraceOperator(operators=[()], coeff=[1]),\n",
       "    SingleTraceOperator(operators=[('X',)], coeff=[1])],\n",
       "   [0,\n",
       "    SingleTraceOperator(operators=[('X',)], coeff=[1]),\n",
       "    SingleTraceOperator(operators=[()], coeff=[1])]]},\n",
       " 8: {'lhs': SingleTraceOperator(operators=[('X', 'X', 'P'), ('X', 'P', 'X')], coeff=[1, -1]),\n",
       "  'rhs': [[0,\n",
       "    SingleTraceOperator(operators=[()], coeff=[1]),\n",
       "    SingleTraceOperator(operators=[('P',)], coeff=[1])],\n",
       "   [1j,\n",
       "    SingleTraceOperator(operators=[('X',)], coeff=[1]),\n",
       "    SingleTraceOperator(operators=[()], coeff=[1])]]},\n",
       " 9: {'lhs': SingleTraceOperator(operators=[('X', 'P', 'X'), ('P', 'X', 'X')], coeff=[1, -1]),\n",
       "  'rhs': [[1j,\n",
       "    SingleTraceOperator(operators=[()], coeff=[1]),\n",
       "    SingleTraceOperator(operators=[('X',)], coeff=[1])],\n",
       "   [0,\n",
       "    SingleTraceOperator(operators=[('P',)], coeff=[1]),\n",
       "    SingleTraceOperator(operators=[()], coeff=[1])]]},\n",
       " 10: {'lhs': SingleTraceOperator(operators=[('X', 'P', 'P'), ('P', 'P', 'X')], coeff=[1, -1]),\n",
       "  'rhs': [[1j,\n",
       "    SingleTraceOperator(operators=[()], coeff=[1]),\n",
       "    SingleTraceOperator(operators=[('P',)], coeff=[1])],\n",
       "   [1j,\n",
       "    SingleTraceOperator(operators=[('P',)], coeff=[1]),\n",
       "    SingleTraceOperator(operators=[()], coeff=[1])]]},\n",
       " 11: {'lhs': SingleTraceOperator(operators=[('P', 'X', 'X'), ('X', 'X', 'P')], coeff=[1, -1]),\n",
       "  'rhs': [[(-0-1j),\n",
       "    SingleTraceOperator(operators=[()], coeff=[1]),\n",
       "    SingleTraceOperator(operators=[('X',)], coeff=[1])],\n",
       "   [(-0-1j),\n",
       "    SingleTraceOperator(operators=[('X',)], coeff=[1]),\n",
       "    SingleTraceOperator(operators=[()], coeff=[1])]]},\n",
       " 12: {'lhs': SingleTraceOperator(operators=[('P', 'X', 'P'), ('X', 'P', 'P')], coeff=[1, -1]),\n",
       "  'rhs': [[(-0-1j),\n",
       "    SingleTraceOperator(operators=[()], coeff=[1]),\n",
       "    SingleTraceOperator(operators=[('P',)], coeff=[1])],\n",
       "   [0,\n",
       "    SingleTraceOperator(operators=[('X',)], coeff=[1]),\n",
       "    SingleTraceOperator(operators=[()], coeff=[1])]]},\n",
       " 13: {'lhs': SingleTraceOperator(operators=[('P', 'P', 'X'), ('P', 'X', 'P')], coeff=[1, -1]),\n",
       "  'rhs': [[0,\n",
       "    SingleTraceOperator(operators=[()], coeff=[1]),\n",
       "    SingleTraceOperator(operators=[('X',)], coeff=[1])],\n",
       "   [(-0-1j),\n",
       "    SingleTraceOperator(operators=[('P',)], coeff=[1]),\n",
       "    SingleTraceOperator(operators=[()], coeff=[1])]]},\n",
       " 14: {'lhs': SingleTraceOperator(operators=[], coeff=[]),\n",
       "  'rhs': [[0,\n",
       "    SingleTraceOperator(operators=[()], coeff=[1]),\n",
       "    SingleTraceOperator(operators=[('P',)], coeff=[1])],\n",
       "   [0,\n",
       "    SingleTraceOperator(operators=[('P',)], coeff=[1]),\n",
       "    SingleTraceOperator(operators=[()], coeff=[1])]]},\n",
       " 15: {'lhs': SingleTraceOperator(operators=[], coeff=[]),\n",
       "  'rhs': [[0,\n",
       "    SingleTraceOperator(operators=[()], coeff=[1]),\n",
       "    SingleTraceOperator(operators=[('X', 'X')], coeff=[1])],\n",
       "   [0,\n",
       "    SingleTraceOperator(operators=[('X',)], coeff=[1]),\n",
       "    SingleTraceOperator(operators=[('X',)], coeff=[1])],\n",
       "   [0,\n",
       "    SingleTraceOperator(operators=[('X', 'X')], coeff=[1]),\n",
       "    SingleTraceOperator(operators=[()], coeff=[1])]]},\n",
       " 16: {'lhs': SingleTraceOperator(operators=[('X', 'X', 'X', 'P'), ('X', 'X', 'P', 'X')], coeff=[1, -1]),\n",
       "  'rhs': [[0,\n",
       "    SingleTraceOperator(operators=[()], coeff=[1]),\n",
       "    SingleTraceOperator(operators=[('X', 'P')], coeff=[1])],\n",
       "   [0,\n",
       "    SingleTraceOperator(operators=[('X',)], coeff=[1]),\n",
       "    SingleTraceOperator(operators=[('P',)], coeff=[1])],\n",
       "   [1j,\n",
       "    SingleTraceOperator(operators=[('X', 'X')], coeff=[1]),\n",
       "    SingleTraceOperator(operators=[()], coeff=[1])]]},\n",
       " 17: {'lhs': SingleTraceOperator(operators=[('X', 'X', 'P', 'X'), ('X', 'P', 'X', 'X')], coeff=[1, -1]),\n",
       "  'rhs': [[0,\n",
       "    SingleTraceOperator(operators=[()], coeff=[1]),\n",
       "    SingleTraceOperator(operators=[('P', 'X')], coeff=[1])],\n",
       "   [1j,\n",
       "    SingleTraceOperator(operators=[('X',)], coeff=[1]),\n",
       "    SingleTraceOperator(operators=[('X',)], coeff=[1])],\n",
       "   [0,\n",
       "    SingleTraceOperator(operators=[('X', 'P')], coeff=[1]),\n",
       "    SingleTraceOperator(operators=[()], coeff=[1])]]},\n",
       " 18: {'lhs': SingleTraceOperator(operators=[('X', 'X', 'P', 'P'), ('X', 'P', 'P', 'X')], coeff=[1, -1]),\n",
       "  'rhs': [[0,\n",
       "    SingleTraceOperator(operators=[()], coeff=[1]),\n",
       "    SingleTraceOperator(operators=[('P', 'P')], coeff=[1])],\n",
       "   [1j,\n",
       "    SingleTraceOperator(operators=[('X',)], coeff=[1]),\n",
       "    SingleTraceOperator(operators=[('P',)], coeff=[1])],\n",
       "   [1j,\n",
       "    SingleTraceOperator(operators=[('X', 'P')], coeff=[1]),\n",
       "    SingleTraceOperator(operators=[()], coeff=[1])]]},\n",
       " 19: {'lhs': SingleTraceOperator(operators=[('X', 'P', 'X', 'X'), ('P', 'X', 'X', 'X')], coeff=[1, -1]),\n",
       "  'rhs': [[1j,\n",
       "    SingleTraceOperator(operators=[()], coeff=[1]),\n",
       "    SingleTraceOperator(operators=[('X', 'X')], coeff=[1])],\n",
       "   [0,\n",
       "    SingleTraceOperator(operators=[('P',)], coeff=[1]),\n",
       "    SingleTraceOperator(operators=[('X',)], coeff=[1])],\n",
       "   [0,\n",
       "    SingleTraceOperator(operators=[('P', 'X')], coeff=[1]),\n",
       "    SingleTraceOperator(operators=[()], coeff=[1])]]},\n",
       " 20: {'lhs': SingleTraceOperator(operators=[('X', 'P', 'X', 'P'), ('P', 'X', 'P', 'X')], coeff=[1, -1]),\n",
       "  'rhs': [[1j,\n",
       "    SingleTraceOperator(operators=[()], coeff=[1]),\n",
       "    SingleTraceOperator(operators=[('X', 'P')], coeff=[1])],\n",
       "   [0,\n",
       "    SingleTraceOperator(operators=[('P',)], coeff=[1]),\n",
       "    SingleTraceOperator(operators=[('P',)], coeff=[1])],\n",
       "   [1j,\n",
       "    SingleTraceOperator(operators=[('P', 'X')], coeff=[1]),\n",
       "    SingleTraceOperator(operators=[()], coeff=[1])]]},\n",
       " 21: {'lhs': SingleTraceOperator(operators=[('X', 'P', 'P', 'X'), ('P', 'P', 'X', 'X')], coeff=[1, -1]),\n",
       "  'rhs': [[1j,\n",
       "    SingleTraceOperator(operators=[()], coeff=[1]),\n",
       "    SingleTraceOperator(operators=[('P', 'X')], coeff=[1])],\n",
       "   [1j,\n",
       "    SingleTraceOperator(operators=[('P',)], coeff=[1]),\n",
       "    SingleTraceOperator(operators=[('X',)], coeff=[1])],\n",
       "   [0,\n",
       "    SingleTraceOperator(operators=[('P', 'P')], coeff=[1]),\n",
       "    SingleTraceOperator(operators=[()], coeff=[1])]]},\n",
       " 22: {'lhs': SingleTraceOperator(operators=[('X', 'P', 'P', 'P'), ('P', 'P', 'P', 'X')], coeff=[1, -1]),\n",
       "  'rhs': [[1j,\n",
       "    SingleTraceOperator(operators=[()], coeff=[1]),\n",
       "    SingleTraceOperator(operators=[('P', 'P')], coeff=[1])],\n",
       "   [1j,\n",
       "    SingleTraceOperator(operators=[('P',)], coeff=[1]),\n",
       "    SingleTraceOperator(operators=[('P',)], coeff=[1])],\n",
       "   [1j,\n",
       "    SingleTraceOperator(operators=[('P', 'P')], coeff=[1]),\n",
       "    SingleTraceOperator(operators=[()], coeff=[1])]]},\n",
       " 23: {'lhs': SingleTraceOperator(operators=[('P', 'X', 'X', 'X'), ('X', 'X', 'X', 'P')], coeff=[1, -1]),\n",
       "  'rhs': [[(-0-1j),\n",
       "    SingleTraceOperator(operators=[()], coeff=[1]),\n",
       "    SingleTraceOperator(operators=[('X', 'X')], coeff=[1])],\n",
       "   [(-0-1j),\n",
       "    SingleTraceOperator(operators=[('X',)], coeff=[1]),\n",
       "    SingleTraceOperator(operators=[('X',)], coeff=[1])],\n",
       "   [(-0-1j),\n",
       "    SingleTraceOperator(operators=[('X', 'X')], coeff=[1]),\n",
       "    SingleTraceOperator(operators=[()], coeff=[1])]]},\n",
       " 24: {'lhs': SingleTraceOperator(operators=[('P', 'X', 'X', 'P'), ('X', 'X', 'P', 'P')], coeff=[1, -1]),\n",
       "  'rhs': [[(-0-1j),\n",
       "    SingleTraceOperator(operators=[()], coeff=[1]),\n",
       "    SingleTraceOperator(operators=[('X', 'P')], coeff=[1])],\n",
       "   [(-0-1j),\n",
       "    SingleTraceOperator(operators=[('X',)], coeff=[1]),\n",
       "    SingleTraceOperator(operators=[('P',)], coeff=[1])],\n",
       "   [0,\n",
       "    SingleTraceOperator(operators=[('X', 'X')], coeff=[1]),\n",
       "    SingleTraceOperator(operators=[()], coeff=[1])]]},\n",
       " 25: {'lhs': SingleTraceOperator(operators=[('P', 'X', 'P', 'X'), ('X', 'P', 'X', 'P')], coeff=[1, -1]),\n",
       "  'rhs': [[(-0-1j),\n",
       "    SingleTraceOperator(operators=[()], coeff=[1]),\n",
       "    SingleTraceOperator(operators=[('P', 'X')], coeff=[1])],\n",
       "   [0,\n",
       "    SingleTraceOperator(operators=[('X',)], coeff=[1]),\n",
       "    SingleTraceOperator(operators=[('X',)], coeff=[1])],\n",
       "   [(-0-1j),\n",
       "    SingleTraceOperator(operators=[('X', 'P')], coeff=[1]),\n",
       "    SingleTraceOperator(operators=[()], coeff=[1])]]},\n",
       " 26: {'lhs': SingleTraceOperator(operators=[('P', 'X', 'P', 'P'), ('X', 'P', 'P', 'P')], coeff=[1, -1]),\n",
       "  'rhs': [[(-0-1j),\n",
       "    SingleTraceOperator(operators=[()], coeff=[1]),\n",
       "    SingleTraceOperator(operators=[('P', 'P')], coeff=[1])],\n",
       "   [0,\n",
       "    SingleTraceOperator(operators=[('X',)], coeff=[1]),\n",
       "    SingleTraceOperator(operators=[('P',)], coeff=[1])],\n",
       "   [0,\n",
       "    SingleTraceOperator(operators=[('X', 'P')], coeff=[1]),\n",
       "    SingleTraceOperator(operators=[()], coeff=[1])]]},\n",
       " 27: {'lhs': SingleTraceOperator(operators=[('P', 'P', 'X', 'X'), ('P', 'X', 'X', 'P')], coeff=[1, -1]),\n",
       "  'rhs': [[0,\n",
       "    SingleTraceOperator(operators=[()], coeff=[1]),\n",
       "    SingleTraceOperator(operators=[('X', 'X')], coeff=[1])],\n",
       "   [(-0-1j),\n",
       "    SingleTraceOperator(operators=[('P',)], coeff=[1]),\n",
       "    SingleTraceOperator(operators=[('X',)], coeff=[1])],\n",
       "   [(-0-1j),\n",
       "    SingleTraceOperator(operators=[('P', 'X')], coeff=[1]),\n",
       "    SingleTraceOperator(operators=[()], coeff=[1])]]},\n",
       " 28: {'lhs': SingleTraceOperator(operators=[('P', 'P', 'X', 'P'), ('P', 'X', 'P', 'P')], coeff=[1, -1]),\n",
       "  'rhs': [[0,\n",
       "    SingleTraceOperator(operators=[()], coeff=[1]),\n",
       "    SingleTraceOperator(operators=[('X', 'P')], coeff=[1])],\n",
       "   [(-0-1j),\n",
       "    SingleTraceOperator(operators=[('P',)], coeff=[1]),\n",
       "    SingleTraceOperator(operators=[('P',)], coeff=[1])],\n",
       "   [0,\n",
       "    SingleTraceOperator(operators=[('P', 'X')], coeff=[1]),\n",
       "    SingleTraceOperator(operators=[()], coeff=[1])]]},\n",
       " 29: {'lhs': SingleTraceOperator(operators=[('P', 'P', 'P', 'X'), ('P', 'P', 'X', 'P')], coeff=[1, -1]),\n",
       "  'rhs': [[0,\n",
       "    SingleTraceOperator(operators=[()], coeff=[1]),\n",
       "    SingleTraceOperator(operators=[('P', 'X')], coeff=[1])],\n",
       "   [0,\n",
       "    SingleTraceOperator(operators=[('P',)], coeff=[1]),\n",
       "    SingleTraceOperator(operators=[('X',)], coeff=[1])],\n",
       "   [(-0-1j),\n",
       "    SingleTraceOperator(operators=[('P', 'P')], coeff=[1]),\n",
       "    SingleTraceOperator(operators=[()], coeff=[1])]]},\n",
       " 30: {'lhs': SingleTraceOperator(operators=[], coeff=[]),\n",
       "  'rhs': [[0,\n",
       "    SingleTraceOperator(operators=[()], coeff=[1]),\n",
       "    SingleTraceOperator(operators=[('P', 'P')], coeff=[1])],\n",
       "   [0,\n",
       "    SingleTraceOperator(operators=[('P',)], coeff=[1]),\n",
       "    SingleTraceOperator(operators=[('P',)], coeff=[1])],\n",
       "   [0,\n",
       "    SingleTraceOperator(operators=[('P', 'P')], coeff=[1]),\n",
       "    SingleTraceOperator(operators=[()], coeff=[1])]]}}"
      ]
     },
     "execution_count": 104,
     "metadata": {},
     "output_type": "execute_result"
    }
   ],
   "source": [
    "bootstrap.generate_cyclic_constraints()"
   ]
  },
  {
   "cell_type": "code",
   "execution_count": 105,
   "metadata": {},
   "outputs": [
    {
     "data": {
      "text/plain": [
       "28"
      ]
     },
     "execution_count": 105,
     "metadata": {},
     "output_type": "execute_result"
    }
   ],
   "source": [
    "len(bootstrap.generate_cyclic_constraints())"
   ]
  },
  {
   "cell_type": "code",
   "execution_count": 106,
   "metadata": {},
   "outputs": [
    {
     "data": {
      "text/plain": [
       "(10,)"
      ]
     },
     "execution_count": 106,
     "metadata": {},
     "output_type": "execute_result"
    }
   ],
   "source": [
    "bootstrap.build_quadratic_constraints()['linear'][0].shape"
   ]
  },
  {
   "cell_type": "code",
   "execution_count": 107,
   "metadata": {},
   "outputs": [
    {
     "data": {
      "text/plain": [
       "(10, 10)"
      ]
     },
     "execution_count": 107,
     "metadata": {},
     "output_type": "execute_result"
    }
   ],
   "source": [
    "bootstrap.build_quadratic_constraints()['quadratic'][0].shape"
   ]
  },
  {
   "cell_type": "code",
   "execution_count": 108,
   "metadata": {},
   "outputs": [
    {
     "data": {
      "text/plain": [
       "<36x31 sparse matrix of type '<class 'numpy.complex128'>'\n",
       "\twith 82 stored elements in COOrdinate format>"
      ]
     },
     "execution_count": 108,
     "metadata": {},
     "output_type": "execute_result"
    }
   ],
   "source": [
    "bootstrap.build_linear_constraints()"
   ]
  },
  {
   "cell_type": "code",
   "execution_count": 43,
   "metadata": {},
   "outputs": [
    {
     "data": {
      "text/plain": [
       "(168, 127)"
      ]
     },
     "execution_count": 43,
     "metadata": {},
     "output_type": "execute_result"
    }
   ],
   "source": [
    "len(bootstrap.build_linear_constraints(return_matrix=False)), len(bootstrap.operator_dict)"
   ]
  },
  {
   "cell_type": "code",
   "execution_count": 44,
   "metadata": {},
   "outputs": [
    {
     "data": {
      "text/plain": [
       "7875"
      ]
     },
     "execution_count": 44,
     "metadata": {},
     "output_type": "execute_result"
    }
   ],
   "source": [
    "len(bootstrap.build_bootstrap_table())"
   ]
  },
  {
   "cell_type": "code",
   "execution_count": 45,
   "metadata": {},
   "outputs": [
    {
     "data": {
      "text/plain": [
       "6715"
      ]
     },
     "execution_count": 45,
     "metadata": {},
     "output_type": "execute_result"
    }
   ],
   "source": [
    "len([key for key, value in bootstrap.build_bootstrap_table().items() if np.abs(value) > 1e-10])"
   ]
  },
  {
   "cell_type": "code",
   "execution_count": null,
   "metadata": {},
   "outputs": [],
   "source": []
  },
  {
   "cell_type": "code",
   "execution_count": 48,
   "metadata": {},
   "outputs": [
    {
     "name": "stdout",
     "output_type": "stream",
     "text": [
      "1 tr ('X', 'X') + 7j tr ('P', 'X')\n"
     ]
    }
   ],
   "source": [
    "OP1 = SingleTraceOperator(\n",
    "    data={('X', 'X'): 1, ('P', 'X'): 1j * 7}\n",
    "    )\n",
    "print(OP1)"
   ]
  },
  {
   "cell_type": "code",
   "execution_count": 49,
   "metadata": {},
   "outputs": [
    {
     "data": {
      "text/plain": [
       "array([0.+0.j, 0.+0.j, 0.+0.j, 1.+0.j, 0.+0.j, 0.+7.j, 0.+0.j, 0.+0.j,\n",
       "       0.+0.j, 0.+0.j, 0.+0.j, 0.+0.j, 0.+0.j, 0.+0.j, 0.+0.j, 0.+0.j,\n",
       "       0.+0.j, 0.+0.j, 0.+0.j, 0.+0.j, 0.+0.j, 0.+0.j, 0.+0.j, 0.+0.j,\n",
       "       0.+0.j, 0.+0.j, 0.+0.j, 0.+0.j, 0.+0.j, 0.+0.j, 0.+0.j, 0.+0.j,\n",
       "       0.+0.j, 0.+0.j, 0.+0.j, 0.+0.j, 0.+0.j, 0.+0.j, 0.+0.j, 0.+0.j,\n",
       "       0.+0.j, 0.+0.j, 0.+0.j, 0.+0.j, 0.+0.j, 0.+0.j, 0.+0.j, 0.+0.j,\n",
       "       0.+0.j, 0.+0.j, 0.+0.j, 0.+0.j, 0.+0.j, 0.+0.j, 0.+0.j, 0.+0.j,\n",
       "       0.+0.j, 0.+0.j, 0.+0.j, 0.+0.j, 0.+0.j, 0.+0.j, 0.+0.j, 0.+0.j,\n",
       "       0.+0.j, 0.+0.j, 0.+0.j, 0.+0.j, 0.+0.j, 0.+0.j, 0.+0.j, 0.+0.j,\n",
       "       0.+0.j, 0.+0.j, 0.+0.j, 0.+0.j, 0.+0.j, 0.+0.j, 0.+0.j, 0.+0.j,\n",
       "       0.+0.j, 0.+0.j, 0.+0.j, 0.+0.j, 0.+0.j, 0.+0.j, 0.+0.j, 0.+0.j,\n",
       "       0.+0.j, 0.+0.j, 0.+0.j, 0.+0.j, 0.+0.j, 0.+0.j, 0.+0.j, 0.+0.j,\n",
       "       0.+0.j, 0.+0.j, 0.+0.j, 0.+0.j, 0.+0.j, 0.+0.j, 0.+0.j, 0.+0.j,\n",
       "       0.+0.j, 0.+0.j, 0.+0.j, 0.+0.j, 0.+0.j, 0.+0.j, 0.+0.j, 0.+0.j,\n",
       "       0.+0.j, 0.+0.j, 0.+0.j, 0.+0.j, 0.+0.j, 0.+0.j, 0.+0.j, 0.+0.j,\n",
       "       0.+0.j, 0.+0.j, 0.+0.j, 0.+0.j, 0.+0.j, 0.+0.j, 0.+0.j])"
      ]
     },
     "execution_count": 49,
     "metadata": {},
     "output_type": "execute_result"
    }
   ],
   "source": [
    "bootstrap.single_trace_to_vector(OP1)"
   ]
  },
  {
   "cell_type": "code",
   "execution_count": null,
   "metadata": {},
   "outputs": [],
   "source": [
    "matrix_system.hermitian_conjugate(OP1)"
   ]
  },
  {
   "cell_type": "code",
   "execution_count": null,
   "metadata": {},
   "outputs": [],
   "source": [
    "bootstrap.operator_dict"
   ]
  },
  {
   "cell_type": "code",
   "execution_count": null,
   "metadata": {},
   "outputs": [],
   "source": [
    "len(bootstrap.build_linear_constraints(return_matrix=False)), len(bootstrap.operator_dict)"
   ]
  },
  {
   "cell_type": "code",
   "execution_count": null,
   "metadata": {},
   "outputs": [],
   "source": [
    "bootstrap.operator_dict[('X', 'X', 'P', 'P')]"
   ]
  },
  {
   "cell_type": "code",
   "execution_count": null,
   "metadata": {},
   "outputs": [],
   "source": [
    "empty_operator = SingleTraceOperator(data={():0})\n",
    "bootstrap.generate_cyclic_constraints()"
   ]
  },
  {
   "cell_type": "code",
   "execution_count": null,
   "metadata": {},
   "outputs": [],
   "source": [
    "bootstrap.build_quadratic_constraints(return_matrix=False)"
   ]
  },
  {
   "cell_type": "code",
   "execution_count": null,
   "metadata": {},
   "outputs": [],
   "source": [
    "coo = bootstrap.build_linear_constraints(return_matrix=True)\n",
    "mat = coo.todense()"
   ]
  },
  {
   "cell_type": "code",
   "execution_count": null,
   "metadata": {},
   "outputs": [],
   "source": []
  },
  {
   "cell_type": "code",
   "execution_count": null,
   "metadata": {},
   "outputs": [],
   "source": []
  },
  {
   "cell_type": "code",
   "execution_count": null,
   "metadata": {},
   "outputs": [],
   "source": []
  },
  {
   "cell_type": "code",
   "execution_count": null,
   "metadata": {},
   "outputs": [],
   "source": [
    "OP1 = SingleTraceOperator(\n",
    "    data={('X1', 'X2'): 1, ('P1', 'X2'): 7}\n",
    "    )\n",
    "OP2 = SingleTraceOperator(\n",
    "    data={('P1',): 1, ('P2',): 5 * 1j, ('X1', 'X1', 'P2',): -3 * 1j}\n",
    "    )\n",
    "print(OP1)\n",
    "print(OP2)"
   ]
  },
  {
   "cell_type": "code",
   "execution_count": null,
   "metadata": {},
   "outputs": [],
   "source": [
    "bootstrap.operator_list[0], bootstrap.generate_hamiltonian_constraints()[0]"
   ]
  },
  {
   "cell_type": "code",
   "execution_count": null,
   "metadata": {},
   "outputs": [],
   "source": []
  },
  {
   "cell_type": "code",
   "execution_count": null,
   "metadata": {},
   "outputs": [],
   "source": [
    "bootstrap.operator_list[1], bootstrap.generate_hamiltonian_constraints()[1]"
   ]
  },
  {
   "cell_type": "code",
   "execution_count": null,
   "metadata": {},
   "outputs": [],
   "source": [
    "bootstrap.operator_list[2], bootstrap.generate_hamiltonian_constraints()[2]"
   ]
  },
  {
   "cell_type": "code",
   "execution_count": null,
   "metadata": {},
   "outputs": [],
   "source": [
    "bootstrap.operator_list[3], 1j * 1/2 * bootstrap.generate_hamiltonian_constraints()[3]"
   ]
  },
  {
   "cell_type": "code",
   "execution_count": null,
   "metadata": {},
   "outputs": [],
   "source": [
    "bootstrap.generate_hamiltonian_constraints()[3], bootstrap.generate_hamiltonian_constraints()[3].hermitian_conjugate()"
   ]
  },
  {
   "cell_type": "code",
   "execution_count": null,
   "metadata": {},
   "outputs": [],
   "source": [
    "bootstrap.operator_list[0], -1j * bootstrap.generate_gauge_constraints()[0]"
   ]
  },
  {
   "cell_type": "code",
   "execution_count": null,
   "metadata": {},
   "outputs": [],
   "source": [
    "# this reproduces Eq 14 in the main text (promote this to a unit test)\n",
    "idx = bootstrap.operator_list.index(('X', 'P', 'P', 'P'),)\n",
    "bootstrap.generate_cyclic_constraints()[idx]"
   ]
  },
  {
   "cell_type": "code",
   "execution_count": null,
   "metadata": {},
   "outputs": [],
   "source": []
  },
  {
   "cell_type": "code",
   "execution_count": null,
   "metadata": {},
   "outputs": [],
   "source": []
  },
  {
   "cell_type": "markdown",
   "metadata": {},
   "source": [
    "## OLD"
   ]
  },
  {
   "cell_type": "code",
   "execution_count": null,
   "metadata": {},
   "outputs": [],
   "source": [
    "nu = 1.0\n",
    "\n",
    "matrix_system = MatrixSystem(\n",
    "    operator_basis=['X0', 'X1', 'X2', 'P0', 'P1', 'P2'],\n",
    "    commutation_rules_concise = {\n",
    "        ('P0', 'X0'): -1j,\n",
    "        ('P1', 'X1'): -1j,\n",
    "        ('P2', 'X2'): -1j,\n",
    "    }\n",
    ")\n",
    "\n",
    "# scale variables as P = sqrt(N) P', X = sqrt(N) X'\n",
    "hamiltonian = SingleTraceOperator(\n",
    "        data={\n",
    "           # kinetic term\n",
    "            (\"P0\", \"P1\"): 1,\n",
    "            (\"P1\", \"P1\"): 1,\n",
    "            (\"P1\", \"P1\"): 1,\n",
    "            # quadratic term\n",
    "            ('X0', 'X0'): nu**2 / 2,\n",
    "            ('X1', 'X1'): nu**2 / 2,\n",
    "            ('X2', 'X2'): nu**2 / 2,\n",
    "            # cubic term\n",
    "            ('X0', 'X1', 'X2'): 6 * 1j * nu,\n",
    "            # quadratic term (XY)\n",
    "            ('X0', 'X1', 'X0', 'X1'): - 1/4,\n",
    "            ('X1', 'X0', 'X1', 'X0'): -1/4,\n",
    "            ('X0', 'X1', 'X1', 'X0'): 1/4,\n",
    "            ('X1', 'X0', 'X0', 'X1'): 1/4,\n",
    "            # quadratic term (XZ) TODO check sign\n",
    "            ('X0', 'X2', 'X0', 'X2'): - 1/4,\n",
    "            ('X2', 'X0', 'X2', 'X0'): -1/4,\n",
    "            ('X0', 'X2', 'X2', 'X0'): 1/4,\n",
    "            ('X2', 'X0', 'X0', 'X2'): 1/4,\n",
    "            # quadratic term (YZ)\n",
    "            ('X1', 'X2', 'X1', 'X2'): - 1/4,\n",
    "            ('X2', 'X1', 'X2', 'X1'): -1/4,\n",
    "            ('X1', 'X2', 'X2', 'X1'): 1/4,\n",
    "            ('X2', 'X1', 'X1', 'X2'): 1/4,\n",
    "            }\n",
    "            )\n",
    "\n",
    "# <tr G O > = 0 might need to be applied only for O with deg <= L-2\n",
    "gauge = MatrixOperator(\n",
    "    data={\n",
    "        ('X0', 'P0'): 1j,\n",
    "        ('P0', 'X0'): -1j,\n",
    "        ('X1', 'P1'): 1j,\n",
    "        ('P1', 'X1'): -1j,\n",
    "        ('X2', 'P2'): 1j,\n",
    "        ('P2', 'X2'): -1j,\n",
    "        ():1}\n",
    "    )\n",
    "\n",
    "bootstrap = BootstrapSystem(\n",
    "    matrix_system=matrix_system,\n",
    "    hamiltonian=hamiltonian,\n",
    "    gauge=gauge,\n",
    "    half_max_degree=2\n",
    ")\n",
    "#bootstrap.operator_list[:bootstrap.psd_matrix_dim]\n",
    "bootstrap.matrix_system.commutation_rules"
   ]
  },
  {
   "cell_type": "code",
   "execution_count": null,
   "metadata": {},
   "outputs": [],
   "source": [
    "bootstrap.build_linear_constraints()"
   ]
  },
  {
   "cell_type": "code",
   "execution_count": null,
   "metadata": {},
   "outputs": [],
   "source": []
  }
 ],
 "metadata": {
  "kernelspec": {
   "display_name": "bmnsim",
   "language": "python",
   "name": "python3"
  },
  "language_info": {
   "codemirror_mode": {
    "name": "ipython",
    "version": 3
   },
   "file_extension": ".py",
   "mimetype": "text/x-python",
   "name": "python",
   "nbconvert_exporter": "python",
   "pygments_lexer": "ipython3",
   "version": "3.12.3"
  }
 },
 "nbformat": 4,
 "nbformat_minor": 2
}
