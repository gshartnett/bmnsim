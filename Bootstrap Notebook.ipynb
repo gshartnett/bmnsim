{
 "cells": [
  {
   "cell_type": "code",
   "execution_count": 1,
   "metadata": {},
   "outputs": [],
   "source": [
    "from typing import Union, Self\n",
    "from numbers import Number\n",
    "from itertools import chain, product\n",
    "\n",
    "import numpy as np\n",
    "import sympy as sp\n",
    "import cvxpy as cp\n",
    "import json\n",
    "import hashlib\n",
    "import scipy\n",
    "from scipy.sparse import csr_matrix\n",
    "import scipy.sparse as sparse\n",
    "from scipy.linalg import qr\n",
    "from scipy.sparse import coo_matrix, csc_matrix\n",
    "from scipy.sparse.linalg import splu, svds\n",
    "from sksparse.cholmod import cholesky\n",
    "import xxhash\n",
    "from bmn.algebra import MatrixOperator, SingleTraceOperator, MatrixSystem, DoubleTraceOperator\n",
    "from bmn.linear_algebra import get_null_space_dense, create_sparse_matrix_from_dict, get_row_space_dense, get_null_space_sparse\n",
    "from bmn.bootstrap import BootstrapSystem\n",
    "from bmn.solver import (\n",
    "    minimal_eigval,\n",
    "    sdp_init, sdp_relax,\n",
    "    sdp_minimize,\n",
    "    #minimize,\n",
    "    get_quadratic_constraint_vector_sparse,\n",
    "    get_quadratic_constraint_vector_dense,\n",
    "    compute_L2_norm_of_quadratic_constraints,\n",
    ")\n",
    "from bmn.models import OneMatrix, TwoMatrix, MiniBFSS\n",
    "from bmn.brezin import compute_Brezin_energy, compute_Brezin_energy_Han_conventions\n",
    "import os\n",
    "from bmn.debug_utils import disable_debug\n",
    "\n",
    "import yaml\n",
    "from bmn.config_utils import (\n",
    "    run_bootstrap_from_config,\n",
    "    generate_configs_one_matrix,\n",
    "    generate_configs_two_matrix,\n",
    "    generate_configs_three_matrix,\n",
    "    generate_configs_bfss,\n",
    "    )\n",
    "\n",
    "from bmn.models import OneMatrix, TwoMatrix, MiniBFSS\n",
    "\n",
    "# plot settings\n",
    "import matplotlib.pyplot as plt\n",
    "import matplotlib\n",
    "from cycler import cycler\n",
    "import torch\n",
    "import torch.optim as optim\n",
    "from torch.nn import ReLU\n",
    "\n",
    "plt.rcParams['xtick.direction'] = 'in'\n",
    "plt.rcParams['ytick.direction'] = 'in'\n",
    "plt.rcParams['xtick.major.size'] = 5.0\n",
    "plt.rcParams['xtick.minor.size'] = 3.0\n",
    "plt.rcParams['ytick.major.size'] = 5.0\n",
    "plt.rcParams['ytick.minor.size'] = 3.0\n",
    "plt.rcParams['lines.linewidth'] = 2\n",
    "plt.rc('font', family='serif',size=16)\n",
    "matplotlib.rc('text', usetex=True)\n",
    "matplotlib.rc('legend', fontsize=16)\n",
    "matplotlib.rcParams['axes.prop_cycle'] = cycler(\n",
    "    color=['#E24A33', '#348ABD', '#988ED5', '#777777', '#FBC15E', '#8EBA42', '#FFB5B8']\n",
    "    )\n",
    "matplotlib.rcParams.update(\n",
    "    {\"axes.grid\":True,\n",
    "    \"grid.alpha\":0.75,\n",
    "    \"grid.linewidth\":0.5}\n",
    "    )\n",
    "colors = plt.rcParams['axes.prop_cycle'].by_key()['color']\n",
    "\n",
    "np.set_printoptions(linewidth=120)  # Adjust the number to the desired width"
   ]
  },
  {
   "cell_type": "code",
   "execution_count": 2,
   "metadata": {},
   "outputs": [
    {
     "name": "stdout",
     "output_type": "stream",
     "text": [
      "Assuming all operators are either Hermitian or anti-Hermitian.\n",
      "NOTE Remember to incorporate more general basis changes!\n",
      "Bootstrap system instantiated for 2015539 operators\n",
      "Attribute: simplify_quadratic = True\n",
      "Attempting to load from checkpoints, checkpoint_dir=checkpoints/MiniBFSS_L_4_lazy_symmetric\n",
      "  loaded previously computed linear constraints\n",
      "  loaded previously computed cyclic constraints\n"
     ]
    }
   ],
   "source": [
    "model = MiniBFSS(couplings={\"lambda\": 1})\n",
    "checkpoint_path = \"checkpoints/MiniBFSS_L_4_lazy_symmetric\"\n",
    "\n",
    "#model = MiniBFSS(couplings={\"lambda\":1})\n",
    "#checkpoint_path = \"checkpoints/MiniBFSS_L_3_symmetric\"\n",
    "\n",
    "bootstrap = BootstrapSystem(\n",
    "    matrix_system=model.matrix_system,\n",
    "    hamiltonian=model.hamiltonian,\n",
    "    gauge_generator=model.gauge_generator,\n",
    "    max_degree_L=4,\n",
    "    symmetry_generators=model.symmetry_generators,\n",
    "    verbose=True,\n",
    "    checkpoint_path=checkpoint_path,\n",
    "    odd_degree_vanish=True,\n",
    "    #load_from_previously_computed=True\n",
    "    )\n",
    "bootstrap.load_constraints(checkpoint_path)\n",
    "\n",
    "#17.7G"
   ]
  },
  {
   "cell_type": "code",
   "execution_count": null,
   "metadata": {},
   "outputs": [],
   "source": [
    "len(bootstrap.linear_constraints)"
   ]
  },
  {
   "cell_type": "code",
   "execution_count": 3,
   "metadata": {},
   "outputs": [],
   "source": [
    "new_constraints = []\n",
    "\n",
    "set_of_hashes = set()\n",
    "for st_operator in bootstrap.linear_constraints:\n",
    "    new_dict = {}\n",
    "    norm = 1\n",
    "    for idx, (k, v) in enumerate(st_operator):\n",
    "        if idx == 0:\n",
    "            norm = float(1/v)\n",
    "        new_dict[''.join(k)] = float(v) * norm\n",
    "    #new_dict = {''.join(k): float(v) for k, v in st_operator}\n",
    "    s = json.dumps(new_dict).encode('utf-8')\n",
    "    hash_digest = hashlib.md5(s).digest()\n",
    "    if hash_digest not in set_of_hashes:\n",
    "        new_constraints.append(st_operator)\n",
    "        set_of_hashes.add(hash_digest)"
   ]
  },
  {
   "cell_type": "code",
   "execution_count": 4,
   "metadata": {},
   "outputs": [
    {
     "name": "stdout",
     "output_type": "stream",
     "text": [
      "number of unique hashes: 5613398, ratio of hashes to constraints: 0.4418032922361312\n"
     ]
    }
   ],
   "source": [
    "print(f\"number of unique hashes: {len(set_of_hashes)}, ratio of hashes to constraints: {len(set_of_hashes) / len(bootstrap.linear_constraints)}\")"
   ]
  },
  {
   "cell_type": "code",
   "execution_count": 5,
   "metadata": {},
   "outputs": [],
   "source": [
    "bootstrap.linear_constraints = new_constraints"
   ]
  },
  {
   "cell_type": "code",
   "execution_count": 6,
   "metadata": {},
   "outputs": [],
   "source": [
    "linear_constraint_matrix = bootstrap.build_linear_constraints()"
   ]
  },
  {
   "cell_type": "code",
   "execution_count": 7,
   "metadata": {},
   "outputs": [
    {
     "data": {
      "text/plain": [
       "(5613398, 2015539)"
      ]
     },
     "execution_count": 7,
     "metadata": {},
     "output_type": "execute_result"
    }
   ],
   "source": [
    "linear_constraint_matrix.shape"
   ]
  },
  {
   "cell_type": "code",
   "execution_count": 8,
   "metadata": {},
   "outputs": [
    {
     "name": "stdout",
     "output_type": "stream",
     "text": [
      "DEBUG 22:23:58.559853: Building the null space matrix. The linear constraint matrix has dimensions (5613398, 2015539)\n"
     ]
    },
    {
     "ename": "",
     "evalue": "",
     "output_type": "error",
     "traceback": [
      "\u001b[1;31mCannot execute code, session has been disposed. Please try restarting the Kernel."
     ]
    },
    {
     "ename": "",
     "evalue": "",
     "output_type": "error",
     "traceback": [
      "\u001b[1;31mThe Kernel crashed while executing code in the the current cell or a previous cell. Please review the code in the cell(s) to identify a possible cause of the failure. Click <a href='https://aka.ms/vscodeJupyterKernelCrash'>here</a> for more info. View Jupyter <a href='command:jupyter.viewOutput'>log</a> for further details."
     ]
    }
   ],
   "source": [
    "bootstrap.build_null_space_matrix()"
   ]
  },
  {
   "cell_type": "code",
   "execution_count": null,
   "metadata": {},
   "outputs": [],
   "source": []
  },
  {
   "cell_type": "code",
   "execution_count": null,
   "metadata": {},
   "outputs": [],
   "source": []
  },
  {
   "cell_type": "code",
   "execution_count": null,
   "metadata": {},
   "outputs": [],
   "source": [
    "model = TwoMatrix(couplings={\"g2\":0, \"g4\": 1})\n",
    "checkpoint_path = \"checkpoints/TwoMatrix_L_4_symmetric_energy_fixed_g2_0\"\n",
    "\n",
    "#model = MiniBFSS(couplings={\"lambda\":1})\n",
    "#checkpoint_path = \"checkpoints/MiniBFSS_L_3_symmetric\"\n",
    "\n",
    "bootstrap = BootstrapSystem(\n",
    "    matrix_system=model.matrix_system,\n",
    "    hamiltonian=model.hamiltonian,\n",
    "    gauge_generator=model.gauge_generator,\n",
    "    max_degree_L=4,\n",
    "    symmetry_generators=model.symmetry_generators,\n",
    "    verbose=True,\n",
    "    checkpoint_path=checkpoint_path,\n",
    "    odd_degree_vanish=True,\n",
    "    )\n",
    "bootstrap.load_constraints(checkpoint_path)"
   ]
  },
  {
   "cell_type": "code",
   "execution_count": null,
   "metadata": {},
   "outputs": [],
   "source": [
    "if bootstrap.linear_constraints is None:\n",
    "    _ = bootstrap.build_linear_constraints().tocsr()\n",
    "\n",
    "# quadratic constraints\n",
    "if bootstrap.quadratic_constraints_numerical is None:\n",
    "    bootstrap.build_quadratic_constraints()\n",
    "quadratic_constraints_numerical = bootstrap.quadratic_constraints_numerical\n",
    "\n",
    "# bootstrap table\n",
    "if bootstrap.bootstrap_table_sparse is None:\n",
    "    bootstrap.build_bootstrap_table()\n",
    "bootstrap_table_sparse = bootstrap.bootstrap_table_sparse"
   ]
  },
  {
   "cell_type": "code",
   "execution_count": null,
   "metadata": {},
   "outputs": [],
   "source": [
    "device = torch.device('cuda') if torch.cuda.is_available() else torch.device('cpu')\n",
    "device"
   ]
  },
  {
   "cell_type": "code",
   "execution_count": null,
   "metadata": {},
   "outputs": [],
   "source": [
    "# build the Ax = b constraint\n",
    "Avec = bootstrap.single_trace_to_coefficient_vector(\n",
    "    SingleTraceOperator(data={(): 1}), return_null_basis=True\n",
    ")\n",
    "Avec = torch.from_numpy(Avec).type(torch.float).to(device)\n",
    "\n",
    "# Hamiltonian vector\n",
    "Hvec = bootstrap.single_trace_to_coefficient_vector(\n",
    "    bootstrap.hamiltonian, return_null_basis=True\n",
    ")\n",
    "Hvec = torch.from_numpy(Hvec).type(torch.float).to(device)\n",
    "\n",
    "# build the bootstrap array\n",
    "bootstrap_array_sparse = bootstrap.bootstrap_table_sparse\n",
    "bootstrap_array_torch = torch.from_numpy(bootstrap_array_sparse.todense()).type(torch.float).to(device)\n",
    "\n",
    "# build the constraints\n",
    "quadratic_constraints = bootstrap.quadratic_constraints_numerical\n",
    "quadratic_constraint_linear = torch.from_numpy(quadratic_constraints[\"linear\"].todense()).type(torch.float).to(device)\n",
    "quadratic_constraint_quadratic = torch.from_numpy(quadratic_constraints[\"quadratic\"].todense()).type(torch.float).to(device)\n",
    "quadratic_constraint_quadratic = quadratic_constraint_quadratic.reshape((len(quadratic_constraint_quadratic), len(Hvec), len(Hvec)))"
   ]
  },
  {
   "cell_type": "code",
   "execution_count": null,
   "metadata": {},
   "outputs": [],
   "source": [
    "def energy(param):\n",
    "    return Hvec @ param\n",
    "\n",
    "\n",
    "def get_quadratic_constraint_vector(param):\n",
    "    quadratic_constraints = torch.einsum(\n",
    "        \"Iab, a, b -> I\", quadratic_constraint_quadratic, param, param\n",
    "    ) + torch.einsum(\"Ia, a -> I\", quadratic_constraint_linear, param)\n",
    "    return torch.square(quadratic_constraints)\n",
    "\n",
    "\n",
    "def quadratic_loss(param):\n",
    "    return torch.sum(get_quadratic_constraint_vector(param))\n",
    "\n",
    "\n",
    "def Axb_loss(param):\n",
    "    return torch.square(Avec @ param - 1)\n",
    "\n",
    "\n",
    "def psd_loss(param):\n",
    "    bootstrap_matrix = (bootstrap_array_torch @ param).reshape(\n",
    "        (bootstrap.bootstrap_matrix_dim, bootstrap.bootstrap_matrix_dim)\n",
    "    )  # is this reshaping correct?\n",
    "    smallest_eigv = torch.linalg.eigvalsh(bootstrap_matrix)[0]\n",
    "    return ReLU()(-smallest_eigv)\n",
    "\n",
    "\n",
    "def build_loss(param):\n",
    "    lambda_psd = 1e2\n",
    "    lambda_quadratic = 1e2\n",
    "    lambda_Axb = 1e2\n",
    "    loss = (\n",
    "        energy(param)\n",
    "        + lambda_psd * psd_loss(param)\n",
    "        + lambda_quadratic * quadratic_loss(param)\n",
    "        + lambda_Axb * Axb_loss(param)\n",
    "    )\n",
    "    return loss"
   ]
  },
  {
   "cell_type": "code",
   "execution_count": null,
   "metadata": {},
   "outputs": [],
   "source": [
    "from torch.optim.lr_scheduler import ExponentialLR"
   ]
  },
  {
   "cell_type": "code",
   "execution_count": null,
   "metadata": {},
   "outputs": [],
   "source": [
    "## Consider putting this on the GPU\n",
    "\n",
    "# Training loop\n",
    "#param = 1e0 * torch.randn(bootstrap.param_dim_null).to(device)\n",
    "param = torch.tensor(np.asarray([1/Avec[0].item()] + [0] * (len(Hvec)-1))).type(torch.float).to(device)\n",
    "param.requires_grad = True\n",
    "\n",
    "optimizer = optim.Adam([param], lr=1e-1)\n",
    "scheduler = ExponentialLR(optimizer, gamma=1-1e-3)\n",
    "num_epochs = 100_000\n",
    "\n",
    "for epoch in range(num_epochs):\n",
    "    optimizer.zero_grad()\n",
    "    loss = build_loss(param)\n",
    "    loss.backward()\n",
    "    optimizer.step()\n",
    "    scheduler.step()\n",
    "\n",
    "    if (epoch + 1) % 100 == 0:\n",
    "        print(f\"epoch {epoch+1}/{num_epochs}, loss: {loss.item()}, lr: {scheduler.get_lr()[0]:.4e}\")"
   ]
  },
  {
   "cell_type": "code",
   "execution_count": null,
   "metadata": {},
   "outputs": [],
   "source": [
    "# Questions:\n",
    "# 1. why is it sparse?\n",
    "# 2. why is it so close to the L=3 case?\n",
    "param"
   ]
  },
  {
   "cell_type": "code",
   "execution_count": null,
   "metadata": {},
   "outputs": [],
   "source": [
    "energy(param)"
   ]
  },
  {
   "cell_type": "code",
   "execution_count": null,
   "metadata": {},
   "outputs": [],
   "source": [
    "psd_loss(param), quadratic_loss(param), Axb_loss(param)"
   ]
  },
  {
   "cell_type": "code",
   "execution_count": null,
   "metadata": {},
   "outputs": [],
   "source": [
    "def energy(param):\n",
    "    return Hvec @ param\n",
    "\n",
    "\n",
    "def get_quadratic_constraint_vector(param):\n",
    "    quadratic_constraints = torch.einsum(\n",
    "        \"Iab, a, b -> I\", quadratic_constraint_quadratic, param, param\n",
    "    ) + torch.einsum(\"Ia, a -> I\", quadratic_constraint_linear, param)\n",
    "    return torch.square(quadratic_constraints)\n",
    "\n",
    "\n",
    "def quadratic_loss(param):\n",
    "    return torch.sum(get_quadratic_constraint_vector(param))\n",
    "\n",
    "\n",
    "def Axb_loss(param):\n",
    "    return torch.square(Avec @ param - 1)\n",
    "\n",
    "\n",
    "def psd_loss(param):\n",
    "    bootstrap_matrix = (bootstrap_array_torch @ param).reshape(\n",
    "        (bootstrap.bootstrap_matrix_dim, bootstrap.bootstrap_matrix_dim)\n",
    "    )  # is this reshaping correct?\n",
    "    smallest_eigv = torch.linalg.eigvalsh(bootstrap_matrix)[0]\n",
    "    return ReLU()(-smallest_eigv)\n",
    "\n",
    "\n",
    "def build_loss(param):\n",
    "    lambda_psd = 1e2\n",
    "    lambda_quadratic = 1e2\n",
    "    lambda_Axb = 1e2\n",
    "    loss = (\n",
    "        energy(param)\n",
    "        + lambda_psd * psd_loss(param)\n",
    "        + lambda_quadratic * quadratic_loss(param)\n",
    "        + lambda_Axb * Axb_loss(param)\n",
    "    )\n",
    "    return loss"
   ]
  },
  {
   "cell_type": "code",
   "execution_count": null,
   "metadata": {},
   "outputs": [],
   "source": [
    "# Training loop\n",
    "param = 1e0 * torch.randn(bootstrap.param_dim_null)\n",
    "param.requires_grad = True\n",
    "\n",
    "optimizer = optim.Adam([param], lr=1e-3)\n",
    "num_epochs = 100_000\n",
    "\n",
    "for epoch in range(num_epochs):\n",
    "    optimizer.zero_grad()  # Clear previous gradients\n",
    "\n",
    "    loss = build_loss(param)  # Compute the loss\n",
    "    loss.backward()  # Compute gradients\n",
    "    optimizer.step()  # Update the parameters\n",
    "\n",
    "    # Print the loss for monitoring\n",
    "    if (epoch + 1) % 100 == 0:\n",
    "        print(f\"Epoch {epoch+1}/{num_epochs}, Loss: {loss.item()}\")"
   ]
  },
  {
   "cell_type": "code",
   "execution_count": null,
   "metadata": {},
   "outputs": [],
   "source": [
    "energy(param)"
   ]
  },
  {
   "cell_type": "code",
   "execution_count": null,
   "metadata": {},
   "outputs": [],
   "source": [
    "psd_loss(param), quadratic_loss(param), Axb_loss(param)"
   ]
  },
  {
   "cell_type": "code",
   "execution_count": null,
   "metadata": {},
   "outputs": [],
   "source": [
    "np.where(np.abs(Hvec.numpy()) > 1e-10)[0]"
   ]
  },
  {
   "cell_type": "code",
   "execution_count": null,
   "metadata": {},
   "outputs": [],
   "source": [
    "i = 8\n",
    "param[i]"
   ]
  },
  {
   "cell_type": "code",
   "execution_count": null,
   "metadata": {},
   "outputs": [],
   "source": [
    "get_quadratic_constraint_vector(param)"
   ]
  },
  {
   "cell_type": "code",
   "execution_count": null,
   "metadata": {},
   "outputs": [],
   "source": [
    "84**2"
   ]
  },
  {
   "cell_type": "code",
   "execution_count": null,
   "metadata": {},
   "outputs": [],
   "source": [
    "bootstrap_array_sparse"
   ]
  },
  {
   "cell_type": "code",
   "execution_count": null,
   "metadata": {},
   "outputs": [],
   "source": [
    "param"
   ]
  },
  {
   "cell_type": "code",
   "execution_count": null,
   "metadata": {},
   "outputs": [],
   "source": [
    "bootstrap.single_trace_to_coefficient_vector(model.operators_to_track[\"x_2\"], return_null_basis=True)"
   ]
  },
  {
   "cell_type": "code",
   "execution_count": null,
   "metadata": {},
   "outputs": [],
   "source": [
    "bootstrap.single_trace_to_coefficient_vector(model.operators_to_track[\"p_2\"], return_null_basis=True)"
   ]
  },
  {
   "cell_type": "code",
   "execution_count": null,
   "metadata": {},
   "outputs": [],
   "source": [
    "bootstrap.single_trace_to_coefficient_vector(model.operators_to_track[\"x_4\"], return_null_basis=True)"
   ]
  },
  {
   "cell_type": "code",
   "execution_count": null,
   "metadata": {},
   "outputs": [],
   "source": [
    "bootstrap_array_torch.shape"
   ]
  },
  {
   "cell_type": "code",
   "execution_count": null,
   "metadata": {},
   "outputs": [],
   "source": [
    "print(list((bootstrap_array_torch @ param).reshape((bootstrap.bootstrap_matrix_dim, bootstrap.bootstrap_matrix_dim)).detach().numpy()))"
   ]
  },
  {
   "cell_type": "code",
   "execution_count": null,
   "metadata": {},
   "outputs": [],
   "source": [
    "type(set())"
   ]
  },
  {
   "cell_type": "code",
   "execution_count": null,
   "metadata": {},
   "outputs": [],
   "source": []
  },
  {
   "cell_type": "code",
   "execution_count": null,
   "metadata": {},
   "outputs": [],
   "source": [
    "from bmn.models import TwoMatrix, MiniBFSS\n",
    "\n",
    "#model = TwoMatrix(couplings={\"g2\": 0, \"g4\": 1})\n",
    "#checkpoint_path = \"checkpoints/TwoMatrix_L_3_symmetric_energy_fixed_g2_0\"\n",
    "\n",
    "model = MiniBFSS(couplings={\"lambda\": 1})\n",
    "checkpoint_path = \"checkpoints/MiniBFSS_L_3_symmetric\"\n",
    "\n",
    "bootstrap = BootstrapSystem(\n",
    "    matrix_system=model.matrix_system,\n",
    "    hamiltonian=model.hamiltonian,\n",
    "    gauge_generator=model.gauge_generator,\n",
    "    max_degree_L=3,\n",
    "    symmetry_generators=model.symmetry_generators,\n",
    "    verbose=True,\n",
    "    checkpoint_path=checkpoint_path\n",
    "    )\n",
    "bootstrap.load_constraints(checkpoint_path)"
   ]
  },
  {
   "cell_type": "code",
   "execution_count": null,
   "metadata": {},
   "outputs": [],
   "source": [
    "st_operator_inhomo_constraints=[\n",
    "    (SingleTraceOperator(data={(): 1}), 1)\n",
    "    ]\n",
    "\n",
    "A = sparse.csr_matrix((0, bootstrap.param_dim_null))\n",
    "b = np.zeros(0)\n",
    "for op, value in st_operator_inhomo_constraints:\n",
    "\n",
    "    A = sparse.vstack(\n",
    "        [\n",
    "            A,\n",
    "            sparse.csr_matrix(\n",
    "                bootstrap.single_trace_to_coefficient_vector(\n",
    "                    op, return_null_basis=True\n",
    "                )\n",
    "            ),\n",
    "        ]\n",
    "    )\n",
    "    b = np.append(b, value)\n",
    "linear_inhomogeneous_eq_no_quadratic = (A, b)"
   ]
  },
  {
   "cell_type": "code",
   "execution_count": null,
   "metadata": {},
   "outputs": [],
   "source": [
    "A.todense()"
   ]
  },
  {
   "cell_type": "code",
   "execution_count": null,
   "metadata": {},
   "outputs": [],
   "source": [
    "bootstrap.null_space_matrix.shape"
   ]
  },
  {
   "cell_type": "code",
   "execution_count": null,
   "metadata": {},
   "outputs": [],
   "source": [
    "bootstrap.null_space_matrix[0].todense()"
   ]
  },
  {
   "cell_type": "code",
   "execution_count": null,
   "metadata": {},
   "outputs": [],
   "source": []
  },
  {
   "cell_type": "code",
   "execution_count": null,
   "metadata": {},
   "outputs": [],
   "source": []
  },
  {
   "cell_type": "code",
   "execution_count": null,
   "metadata": {},
   "outputs": [],
   "source": []
  },
  {
   "cell_type": "code",
   "execution_count": null,
   "metadata": {},
   "outputs": [],
   "source": [
    "commutator = model.matrix_system.single_trace_commutator(\n",
    "    st_operator1=model.hamiltonian,\n",
    "    st_operator2=SingleTraceOperator(data={(\"X0\", \"Pi0\"):1, (\"X1\", \"Pi1\"):1}),\n",
    ")\n",
    "\n",
    "commutator = model.matrix_system.single_trace_commutator(\n",
    "    st_operator1=SingleTraceOperator(data={(\"X0\", \"Pi0\"):1, (\"X1\", \"Pi1\"):1}),\n",
    "    st_operator2=model.hamiltonian,\n",
    ")\n",
    "\n",
    "commutator_me = SingleTraceOperator(\n",
    "    data={\n",
    "    (\"Pi0\", \"Pi0\"): -2 / 2,\n",
    "    (\"Pi1\", \"Pi1\"): -2 / 2,\n",
    "    (\"X0\", \"X0\"): -2 * model.couplings[\"g2\"] / 2,\n",
    "    (\"X1\", \"X1\"): -2 * model.couplings[\"g2\"] / 2,\n",
    "    (\"X0\", \"X1\", \"X0\", \"X1\"): 4*model.couplings[\"g4\"] / 4,\n",
    "    (\"X1\", \"X0\", \"X1\", \"X0\"): 4*model.couplings[\"g4\"] / 4,\n",
    "    (\"X0\", \"X1\", \"X1\", \"X0\"): -4*model.couplings[\"g4\"] / 4,\n",
    "    (\"X1\", \"X0\", \"X0\", \"X1\"): -4*model.couplings[\"g4\"] / 4,\n",
    "    }\n",
    "    )\n",
    "commutator == -commutator_me"
   ]
  },
  {
   "cell_type": "code",
   "execution_count": null,
   "metadata": {},
   "outputs": [],
   "source": []
  },
  {
   "cell_type": "code",
   "execution_count": null,
   "metadata": {},
   "outputs": [],
   "source": []
  },
  {
   "cell_type": "markdown",
   "metadata": {},
   "source": [
    "TODO\n",
    "- consolidate 1, 2, 3, and BFSS models\n",
    "- consolidate generate_model_X_config \n",
    "- move checkpoints, maybe add info on the checkpoints"
   ]
  },
  {
   "cell_type": "code",
   "execution_count": null,
   "metadata": {},
   "outputs": [],
   "source": [
    "generate_configs_bfss(\n",
    "    config_filename=f\"test\",\n",
    "    config_dir=\"MiniBFSS_L_3_test\",\n",
    "    st_operator_to_minimize=\"x_2\",\n",
    "    st_operators_evs_to_set={\"energy\": 1},\n",
    "    load_from_previously_computed=True,\n",
    "    impose_symmetries=True,\n",
    "    reg_decay_rate=0.7880462815669912,\n",
    "    )\n",
    "\n",
    "# python bmn/config_utils.py run_bootstrap_from_config -config_filename test -config_dir MiniBFSS_L_3_test"
   ]
  },
  {
   "cell_type": "code",
   "execution_count": null,
   "metadata": {},
   "outputs": [],
   "source": [
    "reg_decay_rate = np.exp(-3 * np.log(10) / (30 - 1))\n",
    "reg_decay_rate**(30-1), reg_decay_rate"
   ]
  },
  {
   "cell_type": "code",
   "execution_count": null,
   "metadata": {},
   "outputs": [],
   "source": [
    "generate_configs_bfss(\n",
    "    config_filename=f\"test\",\n",
    "    config_dir=\"MiniBFSS_L_3_test\",\n",
    "    st_operators_evs_to_set={\"energy\": 1},\n",
    "    load_from_previously_computed=True,\n",
    "    impose_symmetries=True,\n",
    "    tol=1e-2,\n",
    "    maxiters=50,\n",
    "    maxiters_cvxpy=10_000,\n",
    "    init_scale=1e2,\n",
    "    penalty_reg=1e6,\n",
    "    reg=1e-4,\n",
    "    #reg_decay_rate=reg_decay_rate,\n",
    "    )\n",
    "\n",
    "# python bmn/config_utils.py run_bootstrap_from_config -config_filename test_2 -config_dir MiniBFSS_L_3_test"
   ]
  },
  {
   "cell_type": "code",
   "execution_count": null,
   "metadata": {},
   "outputs": [],
   "source": [
    "1.9525 / 3"
   ]
  },
  {
   "cell_type": "code",
   "execution_count": null,
   "metadata": {},
   "outputs": [],
   "source": [
    "generate_configs_two_matrix(\n",
    "    config_filename=f\"test_small_mass_hold_energy_fixed\",\n",
    "    config_dir=\"TwoMatrix_L_3_symmetric\",\n",
    "    st_operator_to_minimize=\"x_2\",\n",
    "    st_operators_evs_to_set={\"energy\": 1},\n",
    "    g2=1e-4,\n",
    "    g4=1,\n",
    "    load_from_previously_computed=True,\n",
    "    impose_symmetries=True,\n",
    "    )"
   ]
  },
  {
   "cell_type": "code",
   "execution_count": null,
   "metadata": {},
   "outputs": [],
   "source": [
    "generate_configs_three_matrix(\n",
    "    config_filename=f\"test_small_mass\",\n",
    "    config_dir=\"ThreeMatrix_L_3_symmetric\",\n",
    "    g2=1e-4,\n",
    "    g4=1,\n",
    "    load_from_previously_computed=False,\n",
    "    impose_symmetries=True,\n",
    "    )"
   ]
  },
  {
   "cell_type": "code",
   "execution_count": null,
   "metadata": {},
   "outputs": [],
   "source": [
    "run_bootstrap_from_config(\n",
    "    config_filename=f\"g4_{str(0.448)}\",\n",
    "    config_dir=\"TwoMatrix_L_4_symmetric\",\n",
    "    verbose=False,\n",
    "    )"
   ]
  },
  {
   "cell_type": "code",
   "execution_count": null,
   "metadata": {},
   "outputs": [],
   "source": [
    "for reg in [1e3, 1e4, 1e5, 1e6, 1e7, 1e8, 1e9]:\n",
    "\n",
    "    generate_configs_bfss(\n",
    "        config_filename=f\"reg_{int(reg)}\",\n",
    "        config_dir=\"MiniBFSS_L_3_symmetric\",\n",
    "        energy=1,\n",
    "        st_operator_to_minimize=\"x_2\",\n",
    "        load_from_previously_computed=True,\n",
    "        impose_symmetries=True,\n",
    "        maxiters_cvxpy=5_000,\n",
    "        maxiters=100,\n",
    "        radius=1e6,\n",
    "        reg=reg,\n",
    "        )"
   ]
  },
  {
   "cell_type": "code",
   "execution_count": null,
   "metadata": {},
   "outputs": [],
   "source": [
    "st_operator_to_minimize = \"x_2\"\n",
    "\n",
    "generate_configs_bfss(\n",
    "    \"MiniBFSS_symmetric_L_3\",\n",
    "    energy=1,\n",
    "    st_operator_to_minimize=\"x_2\",\n",
    "    load_from_previously_computed=True,\n",
    "    impose_symmetries=True,\n",
    "    maxiters_cvxpy=10_000,\n",
    "    maxiters=100,\n",
    "    radius=1e8,\n",
    "    )\n",
    "\n",
    "generate_configs_bfss(\n",
    "    \"MiniBFSS_L_3\",\n",
    "    energy=1,\n",
    "    st_operator_to_minimize=\"x_2\",\n",
    "    load_from_previously_computed=True,\n",
    "    impose_symmetries=False,\n",
    "    maxiters_cvxpy=10_000,\n",
    "    maxiters=100,\n",
    "    radius=1e8,\n",
    "    )\n",
    "\n",
    "#run_bootstrap_from_config(\"hello\", verbose=False)"
   ]
  },
  {
   "cell_type": "code",
   "execution_count": null,
   "metadata": {},
   "outputs": [],
   "source": []
  },
  {
   "cell_type": "code",
   "execution_count": null,
   "metadata": {},
   "outputs": [],
   "source": []
  },
  {
   "cell_type": "markdown",
   "metadata": {},
   "source": [
    "## BFSS"
   ]
  },
  {
   "cell_type": "code",
   "execution_count": null,
   "metadata": {},
   "outputs": [],
   "source": [
    "L = 2\n",
    "\n",
    "matrix_system = MatrixSystem(\n",
    "    operator_basis=[\"X0\", \"X1\", \"X2\", \"Pi0\", \"Pi1\", \"Pi2\"],\n",
    "    commutation_rules_concise={\n",
    "        (\"Pi0\", \"X0\"): 1,  # use Pi' = i P to ensure reality\n",
    "        (\"Pi1\", \"X1\"): 1,\n",
    "        (\"Pi2\", \"X2\"): 1,\n",
    "    },\n",
    "    hermitian_dict={\n",
    "        \"Pi0\": False,\n",
    "        \"X0\": True,\n",
    "        \"Pi1\": False,\n",
    "        \"X1\": True,\n",
    "        \"Pi2\": False,\n",
    "        \"X2\": True,\n",
    "        },\n",
    ")\n",
    "\n",
    "# lambda = 1 here\n",
    "hamiltonian = SingleTraceOperator(\n",
    "    data={\n",
    "        (\"Pi0\", \"Pi0\"): -0.5,\n",
    "        (\"Pi1\", \"Pi1\"): -0.5,\n",
    "        (\"Pi2\", \"Pi2\"): -0.5,\n",
    "        # quartic term (XY)\n",
    "        (\"X0\", \"X1\", \"X0\", \"X1\"): -1 / 4,\n",
    "        (\"X1\", \"X0\", \"X1\", \"X0\"): -1 / 4,\n",
    "        (\"X0\", \"X1\", \"X1\", \"X0\"): 1 / 4,\n",
    "        (\"X1\", \"X0\", \"X0\", \"X1\"): 1 / 4,\n",
    "        # quartic term (XZ)\n",
    "        (\"X0\", \"X2\", \"X0\", \"X2\"): -1 / 4,\n",
    "        (\"X2\", \"X0\", \"X2\", \"X0\"): -1 / 4,\n",
    "        (\"X0\", \"X2\", \"X2\", \"X0\"): 1 / 4,\n",
    "        (\"X2\", \"X0\", \"X0\", \"X2\"): 1 / 4,\n",
    "        # quartic term (YZ)\n",
    "        (\"X1\", \"X2\", \"X1\", \"X2\"): -1 / 4,\n",
    "        (\"X2\", \"X1\", \"X2\", \"X1\"): -1 / 4,\n",
    "        (\"X1\", \"X2\", \"X2\", \"X1\"): 1 / 4,\n",
    "        (\"X2\", \"X1\", \"X1\", \"X2\"): 1 / 4,\n",
    "    }\n",
    ")\n",
    "\n",
    "# <tr G O > = 0\n",
    "gauge = MatrixOperator(data={\n",
    "    (\"X0\", \"Pi0\"): 1,\n",
    "    (\"Pi0\", \"X0\"): -1,\n",
    "    (\"X1\", \"Pi1\"): 1,\n",
    "    (\"Pi1\", \"X1\"): -1,\n",
    "    (\"X2\", \"Pi2\"): 1,\n",
    "    (\"Pi2\", \"X2\"): -1,\n",
    "    (): 3,\n",
    "    })\n",
    "\n",
    "bootstrap = BootstrapSystem(\n",
    "    matrix_system=matrix_system,\n",
    "    hamiltonian=hamiltonian,\n",
    "    gauge_generator=gauge,\n",
    "    max_degree_L=L,\n",
    "    odd_degree_vanish=True,\n",
    "    simplify_quadratic=True,\n",
    ")\n",
    "\n",
    "bootstrap.build_quadratic_constraints()\n",
    "\n",
    "quadratic_constraints_numerical = bootstrap.quadratic_constraints_numerical"
   ]
  },
  {
   "cell_type": "code",
   "execution_count": null,
   "metadata": {},
   "outputs": [],
   "source": [
    "quadratic_constraints_numerical"
   ]
  },
  {
   "cell_type": "code",
   "execution_count": null,
   "metadata": {},
   "outputs": [],
   "source": [
    "def newton_pseudoinverse(param, nsteps, quadratic_constraints_numerical):\n",
    "\n",
    "    for step in range(nsteps):\n",
    "        val, grad = get_quadratic_constraint_vector_sparse(\n",
    "            quadratic_constraints=quadratic_constraints_numerical,\n",
    "            param=param,\n",
    "            compute_grad=True,\n",
    "            )\n",
    "        grad_pinv = np.linalg.pinv(grad)\n",
    "        #np.allclose(grad @ grad_pinv @ grad, grad)\n",
    "        #np.allclose(grad.T @ np.linalg.inv(grad @ grad.T), grad_pinv)\n",
    "        param = param - np.asarray(grad_pinv @ val)[0]\n",
    "        print(f\"Newton's method: step = {step}, val = {np.linalg.norm(val)}\")\n",
    "\n",
    "    return param"
   ]
  },
  {
   "cell_type": "code",
   "execution_count": null,
   "metadata": {},
   "outputs": [],
   "source": [
    "bootstrap.param_dim_null"
   ]
  },
  {
   "cell_type": "code",
   "execution_count": null,
   "metadata": {},
   "outputs": [],
   "source": [
    "167958/3"
   ]
  },
  {
   "cell_type": "code",
   "execution_count": null,
   "metadata": {},
   "outputs": [],
   "source": [
    "param = np.random.normal(size=bootstrap.param_dim_null)\n",
    "val = get_quadratic_constraint_vector_sparse(\n",
    "    quadratic_constraints=quadratic_constraints_numerical,\n",
    "    param=param,\n",
    "    )\n",
    "\n",
    "param = newton_pseudoinverse(param=param, nsteps=10, quadratic_constraints_numerical=quadratic_constraints_numerical)\n",
    "val = get_quadratic_constraint_vector_sparse(\n",
    "    quadratic_constraints=quadratic_constraints_numerical,\n",
    "    param=param,\n",
    "    )"
   ]
  },
  {
   "cell_type": "code",
   "execution_count": null,
   "metadata": {},
   "outputs": [],
   "source": [
    "val.shape, grad.T.shape"
   ]
  },
  {
   "cell_type": "code",
   "execution_count": null,
   "metadata": {},
   "outputs": [],
   "source": [
    "val.shape, grad.shape, grad_pinv.shape"
   ]
  },
  {
   "cell_type": "code",
   "execution_count": null,
   "metadata": {},
   "outputs": [],
   "source": []
  },
  {
   "cell_type": "code",
   "execution_count": null,
   "metadata": {},
   "outputs": [],
   "source": []
  },
  {
   "cell_type": "code",
   "execution_count": null,
   "metadata": {},
   "outputs": [],
   "source": [
    "val2, grad2 = get_quadratic_constraint_vector_sparse(\n",
    "    quadratic_constraints=quadratic_constraints_numerical,\n",
    "    param=param,\n",
    "    compute_grad=True,\n",
    "    )"
   ]
  },
  {
   "cell_type": "code",
   "execution_count": null,
   "metadata": {},
   "outputs": [],
   "source": [
    "np.sum(np.abs(grad2[0]))"
   ]
  },
  {
   "cell_type": "code",
   "execution_count": null,
   "metadata": {},
   "outputs": [],
   "source": [
    "grad2.shape"
   ]
  },
  {
   "cell_type": "code",
   "execution_count": null,
   "metadata": {},
   "outputs": [],
   "source": [
    "min(np.sum(np.abs(np.asarray(grad2)), axis=1)), max(np.sum(np.abs(np.asarray(grad2)), axis=1))"
   ]
  },
  {
   "cell_type": "code",
   "execution_count": null,
   "metadata": {},
   "outputs": [],
   "source": [
    "min(np.abs(val2)), max(np.abs(val2))"
   ]
  },
  {
   "cell_type": "code",
   "execution_count": null,
   "metadata": {},
   "outputs": [],
   "source": [
    "val1, grad1 = get_quadratic_constraint_vector_dense(\n",
    "    quadratic_constraints=quadratic_constraints_numerical,\n",
    "    param=param,\n",
    "    compute_grad=True,\n",
    "    )\n",
    "\n",
    "val2, grad2 = get_quadratic_constraint_vector_sparse(\n",
    "    quadratic_constraints=quadratic_constraints_numerical,\n",
    "    param=param,\n",
    "    compute_grad=True,\n",
    "    )"
   ]
  },
  {
   "cell_type": "code",
   "execution_count": null,
   "metadata": {},
   "outputs": [],
   "source": [
    "np.allclose(val1, val2), np.allclose(grad1, grad2)"
   ]
  },
  {
   "cell_type": "markdown",
   "metadata": {},
   "source": [
    "## BMN"
   ]
  },
  {
   "cell_type": "code",
   "execution_count": null,
   "metadata": {},
   "outputs": [],
   "source": [
    "from bmn.models import MiniBMN\n",
    "from bmn.bootstrap_complex import BootstrapSystemComplex\n",
    "\n",
    "model = MiniBMN(couplings={\"g2\": 1, \"g4\": 1})\n",
    "\n",
    "bootstrap = BootstrapSystemComplex(\n",
    "    matrix_system=model.matrix_system,\n",
    "    hamiltonian=model.hamiltonian,\n",
    "    gauge_generator=model.gauge_generator,\n",
    "    max_degree_L=3,\n",
    "    simplify_quadratic=False,\n",
    "    symmetry_generators=None,\n",
    "    fraction_operators_to_retain=0.41,\n",
    "    )"
   ]
  },
  {
   "cell_type": "code",
   "execution_count": null,
   "metadata": {},
   "outputs": [],
   "source": [
    "bootstrap.build_null_space_matrix()"
   ]
  },
  {
   "cell_type": "code",
   "execution_count": null,
   "metadata": {},
   "outputs": [],
   "source": [
    "bootstrap.build_linear_constraints()"
   ]
  },
  {
   "cell_type": "code",
   "execution_count": null,
   "metadata": {},
   "outputs": [],
   "source": [
    "bootstrap.build_quadratic_constraints()"
   ]
  },
  {
   "cell_type": "code",
   "execution_count": null,
   "metadata": {},
   "outputs": [],
   "source": [
    "bootstrap.quadratic_constraints_numerical[\"quadratic\"][0]"
   ]
  },
  {
   "cell_type": "code",
   "execution_count": null,
   "metadata": {},
   "outputs": [],
   "source": [
    "bootstrap.build_bootstrap_table()"
   ]
  },
  {
   "cell_type": "code",
   "execution_count": null,
   "metadata": {},
   "outputs": [],
   "source": [
    "from bmn.newton_solver import solve_bootstrap\n",
    "\n",
    "param, optimization_result = solve_bootstrap(\n",
    "    bootstrap=bootstrap,\n",
    "    st_operator_to_minimize=bootstrap.hamiltonian,\n",
    "    )"
   ]
  },
  {
   "cell_type": "code",
   "execution_count": null,
   "metadata": {},
   "outputs": [],
   "source": [
    "x = 1 + 1j\n",
    "x.real"
   ]
  },
  {
   "cell_type": "code",
   "execution_count": null,
   "metadata": {},
   "outputs": [],
   "source": [
    "x = 1\n",
    "x.real"
   ]
  },
  {
   "cell_type": "code",
   "execution_count": null,
   "metadata": {},
   "outputs": [],
   "source": []
  }
 ],
 "metadata": {
  "kernelspec": {
   "display_name": "bmnsim",
   "language": "python",
   "name": "python3"
  },
  "language_info": {
   "codemirror_mode": {
    "name": "ipython",
    "version": 3
   },
   "file_extension": ".py",
   "mimetype": "text/x-python",
   "name": "python",
   "nbconvert_exporter": "python",
   "pygments_lexer": "ipython3",
   "version": "3.11.9"
  }
 },
 "nbformat": 4,
 "nbformat_minor": 2
}
