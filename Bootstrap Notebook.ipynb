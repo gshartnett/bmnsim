{
 "cells": [
  {
   "cell_type": "code",
   "execution_count": 1,
   "metadata": {},
   "outputs": [],
   "source": [
    "from typing import Union, Self\n",
    "from numbers import Number\n",
    "from itertools import chain, product\n",
    "\n",
    "import numpy as np\n",
    "import sympy as sp\n",
    "import cvxpy as cp\n",
    "\n",
    "import scipy\n",
    "from scipy.sparse import csr_matrix\n",
    "import scipy.sparse as sparse\n",
    "from scipy.linalg import qr\n",
    "from scipy.sparse import coo_matrix, csc_matrix\n",
    "from scipy.sparse.linalg import splu, svds\n",
    "from sksparse.cholmod import cholesky\n",
    "\n",
    "from bmn.algebra import MatrixOperator, SingleTraceOperator, MatrixSystem, DoubleTraceOperator\n",
    "from bmn.linear_algebra import get_null_space_dense, create_sparse_matrix_from_dict, get_row_space_dense, get_null_space_sparse\n",
    "from bmn.bootstrap import BootstrapSystem\n",
    "from bmn.solver import minimal_eigval, sdp_init, sdp_relax, sdp_minimize, minimize, get_quadratic_constraint_vector, compute_L2_norm_of_quadratic_constraints\n",
    "from bmn.brezin import compute_Brezin_energy, compute_Brezin_energy_Han_conventions\n",
    "\n",
    "from bmn.debug_utils import disable_debug\n",
    "\n",
    "np.set_printoptions(linewidth=120)  # Adjust the number to the desired width\n",
    "\n",
    "# plot settings\n",
    "import matplotlib.pyplot as plt\n",
    "import matplotlib\n",
    "from cycler import cycler\n",
    "\n",
    "plt.rcParams['xtick.direction'] = 'in'\n",
    "plt.rcParams['ytick.direction'] = 'in'\n",
    "plt.rcParams['xtick.major.size'] = 5.0\n",
    "plt.rcParams['xtick.minor.size'] = 3.0\n",
    "plt.rcParams['ytick.major.size'] = 5.0\n",
    "plt.rcParams['ytick.minor.size'] = 3.0\n",
    "plt.rcParams['lines.linewidth'] = 2\n",
    "plt.rc('font', family='serif',size=16)\n",
    "matplotlib.rc('text', usetex=True)\n",
    "matplotlib.rc('legend', fontsize=16)\n",
    "matplotlib.rcParams['axes.prop_cycle'] = cycler(\n",
    "    color=['#E24A33', '#348ABD', '#988ED5', '#777777', '#FBC15E', '#8EBA42', '#FFB5B8']\n",
    "    )\n",
    "matplotlib.rcParams.update(\n",
    "    {\"axes.grid\":True,\n",
    "    \"grid.alpha\":0.75,\n",
    "    \"grid.linewidth\":0.5}\n",
    "    )\n",
    "colors = plt.rcParams['axes.prop_cycle'].by_key()['color']"
   ]
  },
  {
   "cell_type": "markdown",
   "metadata": {},
   "source": [
    "## One Matrix Model"
   ]
  },
  {
   "cell_type": "code",
   "execution_count": 3,
   "metadata": {},
   "outputs": [
    {
     "name": "stdout",
     "output_type": "stream",
     "text": [
      "Assuming all operators are either Hermitian or anti-Hermitian.\n",
      "Bootstrap system instantiated for 127 operators\n",
      "Attribute: simplify_quadratic = True\n",
      "Generated 64 Hamiltonian constraints\n",
      "Generated 31 gauge constraints\n",
      "Generated 105 reality constraints\n",
      "Generated 42 odd degree vanish constraints\n",
      "Generated 26 linear cyclic constraints\n",
      "Generated 88 quadratic cyclic constraints\n",
      "Null space dimension (number of parameters) = 25\n",
      "Building quadratic constraints: adding 28 new linear constraints and rebuilding null matrix\n",
      "Null space dimension (number of parameters) = 14\n",
      "Number of quadratic constraints before row reduction: 33\n",
      "Number of quadratic constraints after row reduction: 10\n",
      "Initializing randomly\n",
      "DEBUG 13:52:22.653662: Starting from scratch...\n",
      "DEBUG 13:52:22.660639: step = 1/25\n",
      "DEBUG 13:52:22.701987: step = 2/25\n",
      "DEBUG 13:52:22.742231: step = 3/25\n",
      "DEBUG 13:52:22.770988: step = 4/25\n",
      "DEBUG 13:52:22.802167: step = 5/25\n",
      "DEBUG 13:52:22.832261: step = 6/25\n",
      "DEBUG 13:52:22.864172: step = 7/25\n",
      "DEBUG 13:52:22.893673: step = 8/25\n",
      "DEBUG 13:52:22.923756: step = 9/25\n",
      "DEBUG 13:52:22.952936: step = 10/25\n",
      "DEBUG 13:52:22.984472: step = 11/25\n",
      "DEBUG 13:52:23.013608: step = 12/25\n",
      "DEBUG 13:52:23.042558: step = 13/25\n",
      "DEBUG 13:52:23.070969: step = 14/25\n",
      "DEBUG 13:52:23.098982: step = 15/25\n",
      "DEBUG 13:52:23.128836: step = 16/25\n",
      "DEBUG 13:52:23.156701: step = 17/25\n",
      "DEBUG 13:52:23.184601: step = 18/25\n",
      "DEBUG 13:52:23.213269: step = 19/25\n",
      "DEBUG 13:52:23.241745: step = 20/25\n",
      "DEBUG 13:52:23.269986: step = 21/25\n",
      "DEBUG 13:52:23.298328: step = 22/25\n",
      "DEBUG 13:52:23.328432: step = 23/25\n",
      "DEBUG 13:52:23.357736: step = 24/25\n",
      "DEBUG 13:52:23.386895: step = 25/25\n",
      "DEBUG 13:52:23.415511: WARNING: minimize did not converge to precision 0.00010 within 25 steps.\n",
      "problem success: False, min energy found: 1.551466, exact (L=inf) value = 1.552499\n"
     ]
    }
   ],
   "source": [
    "g = 2.5\n",
    "L = 3\n",
    "init = None\n",
    "\n",
    "matrix_system = MatrixSystem(\n",
    "    # operator_basis=['X', 'P'],\n",
    "    operator_basis=[\"X\", \"Pi\"],\n",
    "    commutation_rules_concise={\n",
    "        # ('P', 'X'): -1j,\n",
    "        (\"Pi\", \"X\"): 1,  # use Pi' = i P to ensure reality\n",
    "    },\n",
    "    # hermitian_dict={'P': True, 'X': True},\n",
    "    hermitian_dict={\"Pi\": False, \"X\": True},\n",
    ")\n",
    "\n",
    "# scale variables as P = sqrt(N) P', X = sqrt(N) X'\n",
    "hamiltonian = SingleTraceOperator(\n",
    "    # data={(\"P\", \"P\"): 1, (\"X\", \"X\"): 1, (\"X\", \"X\", \"X\", \"X\"): 7}\n",
    "    data={(\"Pi\", \"Pi\"): -1, (\"X\", \"X\"): 1, (\"X\", \"X\", \"X\", \"X\"): g}\n",
    ")\n",
    "\n",
    "# <tr G O > = 0 might need to be applied only for O with deg <= L-2\n",
    "# gauge = MatrixOperator(data={('X', 'P'): 1j, ('P', 'X'): -1j, ():1})\n",
    "gauge = MatrixOperator(data={(\"X\", \"Pi\"): 1, (\"Pi\", \"X\"): -1, (): 1})\n",
    "\n",
    "bootstrap = BootstrapSystem(\n",
    "    matrix_system=matrix_system,\n",
    "    hamiltonian=hamiltonian,\n",
    "    gauge=gauge,\n",
    "    half_max_degree=L,\n",
    "    odd_degree_vanish=True,\n",
    "    simplify_quadratic=True,\n",
    ")\n",
    "\n",
    "bootstrap.get_null_space_matrix()\n",
    "\n",
    "#disable_debug()\n",
    "\n",
    "param, success = minimize(\n",
    "    bootstrap=bootstrap,\n",
    "    op=bootstrap.hamiltonian,\n",
    "    init=init,\n",
    "    init_scale=1e2,\n",
    "    verbose=False,\n",
    "    maxiters=25,\n",
    "    relax_rate=0.8,\n",
    "    reg=5e-4,\n",
    "    eps=1e-4,\n",
    ")\n",
    "\n",
    "energy = bootstrap.get_operator_expectation_value(\n",
    "    st_operator=hamiltonian,\n",
    "    param=param\n",
    "    )\n",
    "exact_energy = compute_Brezin_energy_Han_conventions(g)\n",
    "print(f\"problem success: {success}, min energy found: {energy:.6f}, exact (L=inf) value = {exact_energy:.6f}\")\n"
   ]
  },
  {
   "cell_type": "code",
   "execution_count": 4,
   "metadata": {},
   "outputs": [
    {
     "name": "stdout",
     "output_type": "stream",
     "text": [
      "Number of quadratic constraints before row reduction: 33\n",
      "Number of quadratic constraints after row reduction: 10\n"
     ]
    },
    {
     "data": {
      "text/plain": [
       "6.103088526900982e-08"
      ]
     },
     "execution_count": 4,
     "metadata": {},
     "output_type": "execute_result"
    }
   ],
   "source": [
    "compute_L2_norm_of_quadratic_constraints(\n",
    "    quadratic_constraints=bootstrap.build_quadratic_constraints(),\n",
    "    param=param\n",
    "    )"
   ]
  },
  {
   "cell_type": "code",
   "execution_count": 5,
   "metadata": {},
   "outputs": [
    {
     "data": {
      "text/plain": [
       "array([-3.44811656e-04, -1.37486629e-04, -1.41068825e-06, -1.67882015e-16,  1.85380850e-16,  2.05336405e-16,\n",
       "        4.07127913e-16,  8.25767976e-05,  9.93224893e-03,  3.09406991e-02,  2.14296906e-01,  1.00908689e+00,\n",
       "        1.16489928e+00,  2.90058309e+00,  6.69567959e+00])"
      ]
     },
     "execution_count": 5,
     "metadata": {},
     "output_type": "execute_result"
    }
   ],
   "source": [
    "bootstrap_array_sparse=bootstrap.build_bootstrap_table()\n",
    "dim = int(np.sqrt(bootstrap_array_sparse.shape[0]))\n",
    "bootstrap_matrix = np.reshape(\n",
    "    bootstrap_array_sparse.dot(param), (dim, dim)\n",
    ")\n",
    "scipy.linalg.eigvalsh(bootstrap_matrix)"
   ]
  },
  {
   "cell_type": "code",
   "execution_count": 6,
   "metadata": {},
   "outputs": [
    {
     "name": "stdout",
     "output_type": "stream",
     "text": [
      "<tr(())> = 1.0000140546365106\n",
      "<tr(('X', 'X'))> = 0.26706605901852976\n",
      "<tr(('X', 'Pi'))> = -0.5000070273182552\n",
      "<tr(('Pi', 'X'))> = 0.5000070273182553\n",
      "<tr(('Pi', 'Pi'))> = -0.9452889179112203\n",
      "<tr(('X', 'X', 'X', 'X'))> = 0.13564457177853798\n",
      "<tr(('X', 'X', 'X', 'Pi'))> = -0.2670660590185291\n",
      "<tr(('X', 'X', 'Pi', 'Pi'))> = -0.02616399342431274\n",
      "<tr(('X', 'Pi', 'X', 'Pi'))> = -0.026163993424312717\n",
      "<tr(('X', 'Pi', 'Pi', 'X'))> = -0.5261710207425682\n",
      "<tr(('X', 'Pi', 'Pi', 'Pi'))> = 0.94528891791122\n",
      "<tr(('Pi', 'X', 'X', 'X'))> = 0.2670660590185292\n",
      "<tr(('Pi', 'X', 'X', 'Pi'))> = -0.526171020742568\n",
      "<tr(('Pi', 'X', 'Pi', 'X'))> = -0.026163993424312637\n",
      "<tr(('Pi', 'Pi', 'X', 'X'))> = -0.026163993424312713\n",
      "<tr(('Pi', 'Pi', 'Pi', 'X'))> = -0.9452889179112202\n",
      "<tr(('Pi', 'Pi', 'Pi', 'Pi'))> = 1.7312567533150198\n",
      "<tr(('X', 'X', 'X', 'X', 'X', 'X'))> = 0.08857088716253102\n",
      "<tr(('X', 'X', 'X', 'X', 'X', 'Pi'))> = -0.17130426076550778\n",
      "<tr(('X', 'X', 'X', 'X', 'Pi', 'X'))> = -0.0356596889869698\n",
      "<tr(('X', 'X', 'X', 'X', 'Pi', 'Pi'))> = 0.05668844140787567\n",
      "<tr(('X', 'X', 'X', 'Pi', 'X', 'X'))> = -0.0356596889869697\n",
      "<tr(('X', 'X', 'X', 'Pi', 'X', 'Pi'))> = 0.05668844140787581\n",
      "<tr(('X', 'X', 'X', 'Pi', 'Pi', 'X'))> = -0.21037761761065332\n",
      "<tr(('X', 'X', 'X', 'Pi', 'Pi', 'Pi'))> = 0.4035571483645239\n",
      "<tr(('X', 'X', 'Pi', 'X', 'X', 'X'))> = 0.0356596889869697\n",
      "<tr(('X', 'X', 'Pi', 'X', 'X', 'Pi'))> = -0.07686237294198786\n",
      "<tr(('X', 'X', 'Pi', 'X', 'Pi', 'X'))> = -0.07686237294198786\n",
      "<tr(('X', 'X', 'Pi', 'X', 'Pi', 'Pi'))> = 0.15112603856252077\n",
      "<tr(('X', 'X', 'Pi', 'Pi', 'X', 'X'))> = -0.07686237294198794\n",
      "<tr(('X', 'X', 'Pi', 'Pi', 'X', 'Pi'))> = 0.15112603856252102\n",
      "<tr(('X', 'X', 'Pi', 'Pi', 'Pi', 'X'))> = 0.12496204513820845\n",
      "<tr(('X', 'X', 'Pi', 'Pi', 'Pi', 'Pi'))> = -0.09010111997217284\n",
      "<tr(('X', 'Pi', 'X', 'X', 'X', 'X'))> = 0.03565968898696983\n",
      "<tr(('X', 'Pi', 'X', 'X', 'X', 'Pi'))> = -0.0768623729419879\n",
      "<tr(('X', 'Pi', 'X', 'X', 'Pi', 'X'))> = -0.07686237294198786\n",
      "<tr(('X', 'Pi', 'X', 'X', 'Pi', 'Pi'))> = 0.15112603856252096\n",
      "<tr(('X', 'Pi', 'X', 'Pi', 'X', 'X'))> = -0.0768623729419879\n",
      "<tr(('X', 'Pi', 'X', 'Pi', 'X', 'Pi'))> = 0.15112603856252088\n",
      "<tr(('X', 'Pi', 'X', 'Pi', 'Pi', 'X'))> = 0.12496204513820812\n",
      "<tr(('X', 'Pi', 'X', 'Pi', 'Pi', 'Pi'))> = -0.09010111997217282\n",
      "<tr(('X', 'Pi', 'Pi', 'X', 'X', 'X'))> = -0.2103776176106532\n",
      "<tr(('X', 'Pi', 'Pi', 'X', 'X', 'Pi'))> = 0.40120897560436014\n",
      "<tr(('X', 'Pi', 'Pi', 'X', 'Pi', 'X'))> = -0.12496204513820812\n",
      "<tr(('X', 'Pi', 'Pi', 'X', 'Pi', 'Pi'))> = 0.38263449319380977\n",
      "<tr(('X', 'Pi', 'Pi', 'Pi', 'X', 'X'))> = -0.12496204513820833\n",
      "<tr(('X', 'Pi', 'Pi', 'Pi', 'X', 'Pi'))> = 0.38263449319380904\n",
      "<tr(('X', 'Pi', 'Pi', 'Pi', 'Pi', 'X'))> = 1.3279234111050298\n",
      "<tr(('X', 'Pi', 'Pi', 'Pi', 'Pi', 'Pi'))> = -2.1780202128041606\n",
      "<tr(('Pi', 'X', 'X', 'X', 'X', 'X'))> = 0.17130426076550745\n",
      "<tr(('Pi', 'X', 'X', 'X', 'X', 'Pi'))> = -0.3439284319605169\n",
      "<tr(('Pi', 'X', 'X', 'X', 'Pi', 'X'))> = -0.0768623729419879\n",
      "<tr(('Pi', 'X', 'X', 'X', 'Pi', 'Pi'))> = 0.12496204513820826\n",
      "<tr(('Pi', 'X', 'X', 'Pi', 'X', 'X'))> = -0.07686237294198786\n",
      "<tr(('Pi', 'X', 'X', 'Pi', 'X', 'Pi'))> = 0.12496204513820812\n",
      "<tr(('Pi', 'X', 'X', 'Pi', 'Pi', 'X'))> = -0.4012089756043598\n",
      "<tr(('Pi', 'X', 'X', 'Pi', 'Pi', 'Pi'))> = 0.8551877979390473\n",
      "<tr(('Pi', 'X', 'Pi', 'X', 'X', 'X'))> = 0.05668844140787581\n",
      "<tr(('Pi', 'X', 'Pi', 'X', 'X', 'Pi'))> = -0.12496204513820793\n",
      "<tr(('Pi', 'X', 'Pi', 'X', 'Pi', 'X'))> = -0.15112603856252088\n",
      "<tr(('Pi', 'X', 'Pi', 'X', 'Pi', 'Pi'))> = 0.38263449319380993\n",
      "<tr(('Pi', 'X', 'Pi', 'Pi', 'X', 'X'))> = -0.15112603856252102\n",
      "<tr(('Pi', 'X', 'Pi', 'Pi', 'X', 'Pi'))> = 0.38263449319380977\n",
      "<tr(('Pi', 'X', 'Pi', 'Pi', 'Pi', 'X'))> = 0.3826344931938093\n",
      "<tr(('Pi', 'X', 'Pi', 'Pi', 'Pi', 'Pi'))> = -0.44676345948914076\n",
      "<tr(('Pi', 'Pi', 'X', 'X', 'X', 'X'))> = 0.056688441407875725\n",
      "<tr(('Pi', 'Pi', 'X', 'X', 'X', 'Pi'))> = -0.12496204513820812\n",
      "<tr(('Pi', 'Pi', 'X', 'X', 'Pi', 'X'))> = -0.15112603856252096\n",
      "<tr(('Pi', 'Pi', 'X', 'X', 'Pi', 'Pi'))> = 0.38263214152724917\n",
      "<tr(('Pi', 'Pi', 'X', 'Pi', 'X', 'X'))> = -0.15112603856252088\n",
      "<tr(('Pi', 'Pi', 'X', 'Pi', 'X', 'Pi'))> = 0.38263449319381\n",
      "<tr(('Pi', 'Pi', 'X', 'Pi', 'Pi', 'X'))> = 0.38263449319381004\n",
      "<tr(('Pi', 'Pi', 'X', 'Pi', 'Pi', 'Pi'))> = -0.4467634594891404\n",
      "<tr(('Pi', 'Pi', 'Pi', 'X', 'X', 'X'))> = -0.4035571483645239\n",
      "<tr(('Pi', 'Pi', 'Pi', 'X', 'X', 'Pi'))> = 0.8551877979390481\n",
      "<tr(('Pi', 'Pi', 'Pi', 'X', 'Pi', 'X'))> = -0.09010111997217271\n",
      "<tr(('Pi', 'Pi', 'Pi', 'X', 'Pi', 'Pi'))> = 0.4467634594891404\n",
      "<tr(('Pi', 'Pi', 'Pi', 'Pi', 'X', 'X'))> = -0.09010111997217318\n",
      "<tr(('Pi', 'Pi', 'Pi', 'Pi', 'X', 'Pi'))> = 0.44676345948914054\n",
      "<tr(('Pi', 'Pi', 'Pi', 'Pi', 'Pi', 'X'))> = 2.1780202128041615\n",
      "<tr(('Pi', 'Pi', 'Pi', 'Pi', 'Pi', 'Pi'))> = -4.213991060247727\n"
     ]
    }
   ],
   "source": [
    "for op in bootstrap.operator_list:\n",
    "    eV = bootstrap.get_operator_expectation_value(\n",
    "        st_operator=SingleTraceOperator({op: 1}),\n",
    "        param=param\n",
    "        )\n",
    "    if np.abs(eV) > 1e-10:\n",
    "        print(f\"<tr({op})> = {eV}\")"
   ]
  },
  {
   "cell_type": "markdown",
   "metadata": {},
   "source": [
    "Let's try implementing the optimization from scratch"
   ]
  },
  {
   "cell_type": "code",
   "execution_count": 7,
   "metadata": {},
   "outputs": [
    {
     "name": "stdout",
     "output_type": "stream",
     "text": [
      "Number of quadratic constraints before row reduction: 33\n",
      "Number of quadratic constraints after row reduction: 10\n"
     ]
    }
   ],
   "source": [
    "num_variables = bootstrap.param_dim_null\n",
    "dim = bootstrap.bootstrap_matrix_dim\n",
    "verbose = False\n",
    "maxiters = 200\n",
    "eps = 1e-4\n",
    "penalty_parameter = 1\n",
    "\n",
    "vec = bootstrap.single_trace_to_coefficient_vector(st_operator=hamiltonian, return_null_basis=True)\n",
    "\n",
    "param = cp.Variable(num_variables)\n",
    "\n",
    "bootstrap_array_sparse=bootstrap.build_bootstrap_table()\n",
    "op_cons = [SingleTraceOperator(data={(): 1})]\n",
    "quadratic_constraints = bootstrap.build_quadratic_constraints()\n",
    "num_quad_constraints = quadratic_constraints['quadratic'].shape[0]\n",
    "\n",
    "A_op = sparse.csr_matrix((0, bootstrap.param_dim_null))\n",
    "b_op = np.zeros(0)\n",
    "for op in op_cons:\n",
    "    A_op = sparse.vstack(\n",
    "        [\n",
    "            A_op,\n",
    "            sparse.csr_matrix(\n",
    "                bootstrap.single_trace_to_coefficient_vector(\n",
    "                    op, return_null_basis=True\n",
    "                )\n",
    "            ),\n",
    "        ]\n",
    "    )\n",
    "    b_op = np.append(b_op, 1)\n",
    "\n",
    "constraints = [cp.reshape(bootstrap_array_sparse @ param, (bootstrap.bootstrap_matrix_dim, bootstrap.bootstrap_matrix_dim)) >> 0]\n",
    "constraints += [A_op @ param == b_op]"
   ]
  },
  {
   "cell_type": "code",
   "execution_count": 18,
   "metadata": {},
   "outputs": [
    {
     "ename": "DCPError",
     "evalue": "Problem does not follow DCP rules. Specifically:\nThe following constraints are not DCP:\nQuadForm(var3943, [[-0.57 0.00 ... 0.00 0.00]\n [0.00 0.00 ... 0.00 0.00]\n ...\n [0.00 0.00 ... 0.00 0.00]\n [0.00 0.00 ... 0.00 0.00]]) +   (0, 0)\t0.8201995322647244 @ var3943 <= var4173[0] , because the following subexpressions are not:\n|--  QuadForm(var3943, [[-0.57 0.00 ... 0.00 0.00]\n [0.00 0.00 ... 0.00 0.00]\n ...\n [0.00 0.00 ... 0.00 0.00]\n [0.00 0.00 ... 0.00 0.00]]) +   (0, 0)\t0.8201995322647244 @ var3943 <= var4173[0]\nQuadForm(var3943, [[-0.00 0.15 ... 0.00 0.00]\n [0.15 0.00 ... 0.00 0.00]\n ...\n [0.00 0.00 ... 0.00 0.00]\n [0.00 0.00 ... 0.00 0.00]]) + [[-0.00 -0.25 ... 0.00 0.00]] @ var3943 <= var4173[1] , because the following subexpressions are not:\n|--  QuadForm(var3943, [[-0.00 0.15 ... 0.00 0.00]\n [0.15 0.00 ... 0.00 0.00]\n ...\n [0.00 0.00 ... 0.00 0.00]\n [0.00 0.00 ... 0.00 0.00]])\n-var4173[1] <= QuadForm(var3943, [[-0.00 0.15 ... 0.00 0.00]\n [0.15 0.00 ... 0.00 0.00]\n ...\n [0.00 0.00 ... 0.00 0.00]\n [0.00 0.00 ... 0.00 0.00]]) + [[-0.00 -0.25 ... 0.00 0.00]] @ var3943 , because the following subexpressions are not:\n|--  QuadForm(var3943, [[-0.00 0.15 ... 0.00 0.00]\n [0.15 0.00 ... 0.00 0.00]\n ...\n [0.00 0.00 ... 0.00 0.00]\n [0.00 0.00 ... 0.00 0.00]])\nQuadForm(var3943, [[0.00 -0.28 ... 0.00 0.00]\n [-0.28 -0.00 ... 0.00 0.00]\n ...\n [0.00 0.00 ... 0.00 0.00]\n [0.00 0.00 ... 0.00 0.00]]) + [[0.00 0.86 ... 0.00 0.00]] @ var3943 <= var4173[2] , because the following subexpressions are not:\n|--  QuadForm(var3943, [[0.00 -0.28 ... 0.00 0.00]\n [-0.28 -0.00 ... 0.00 0.00]\n ...\n [0.00 0.00 ... 0.00 0.00]\n [0.00 0.00 ... 0.00 0.00]])\n-var4173[2] <= QuadForm(var3943, [[0.00 -0.28 ... 0.00 0.00]\n [-0.28 -0.00 ... 0.00 0.00]\n ...\n [0.00 0.00 ... 0.00 0.00]\n [0.00 0.00 ... 0.00 0.00]]) + [[0.00 0.86 ... 0.00 0.00]] @ var3943 , because the following subexpressions are not:\n|--  QuadForm(var3943, [[0.00 -0.28 ... 0.00 0.00]\n [-0.28 -0.00 ... 0.00 0.00]\n ...\n [0.00 0.00 ... 0.00 0.00]\n [0.00 0.00 ... 0.00 0.00]])\nQuadForm(var3943, [[0.02 0.00 ... 0.00 0.00]\n [0.00 -0.00 ... 0.00 0.00]\n ...\n [0.00 0.00 ... 0.00 0.00]\n [0.00 0.00 ... 0.00 0.00]]) + [[0.02 0.00 ... 0.00 0.00]] @ var3943 <= var4173[3] , because the following subexpressions are not:\n|--  QuadForm(var3943, [[0.02 0.00 ... 0.00 0.00]\n [0.00 -0.00 ... 0.00 0.00]\n ...\n [0.00 0.00 ... 0.00 0.00]\n [0.00 0.00 ... 0.00 0.00]])\n-var4173[3] <= QuadForm(var3943, [[0.02 0.00 ... 0.00 0.00]\n [0.00 -0.00 ... 0.00 0.00]\n ...\n [0.00 0.00 ... 0.00 0.00]\n [0.00 0.00 ... 0.00 0.00]]) + [[0.02 0.00 ... 0.00 0.00]] @ var3943 , because the following subexpressions are not:\n|--  QuadForm(var3943, [[0.02 0.00 ... 0.00 0.00]\n [0.00 -0.00 ... 0.00 0.00]\n ...\n [0.00 0.00 ... 0.00 0.00]\n [0.00 0.00 ... 0.00 0.00]])\nQuadForm(var3943, [[-0.01 0.00 ... 0.00 0.00]\n [0.00 -0.00 ... 0.00 0.00]\n ...\n [0.00 0.00 ... 0.00 0.00]\n [0.00 0.00 ... 0.00 0.00]]) + [[-0.01 0.00 ... 0.00 0.00]] @ var3943 <= var4173[4] , because the following subexpressions are not:\n|--  QuadForm(var3943, [[-0.01 0.00 ... 0.00 0.00]\n [0.00 -0.00 ... 0.00 0.00]\n ...\n [0.00 0.00 ... 0.00 0.00]\n [0.00 0.00 ... 0.00 0.00]])\n-var4173[4] <= QuadForm(var3943, [[-0.01 0.00 ... 0.00 0.00]\n [0.00 -0.00 ... 0.00 0.00]\n ...\n [0.00 0.00 ... 0.00 0.00]\n [0.00 0.00 ... 0.00 0.00]]) + [[-0.01 0.00 ... 0.00 0.00]] @ var3943 , because the following subexpressions are not:\n|--  QuadForm(var3943, [[-0.01 0.00 ... 0.00 0.00]\n [0.00 -0.00 ... 0.00 0.00]\n ...\n [0.00 0.00 ... 0.00 0.00]\n [0.00 0.00 ... 0.00 0.00]])\nQuadForm(var3943, [[-0.00 -0.00 ... 0.00 0.00]\n [-0.00 -0.00 ... 0.00 0.00]\n ...\n [0.00 0.00 ... 0.00 0.00]\n [0.00 0.00 ... 0.00 0.00]]) + [[-0.00 -0.00 ... 0.00 0.00]] @ var3943 <= var4173[5] , because the following subexpressions are not:\n|--  QuadForm(var3943, [[-0.00 -0.00 ... 0.00 0.00]\n [-0.00 -0.00 ... 0.00 0.00]\n ...\n [0.00 0.00 ... 0.00 0.00]\n [0.00 0.00 ... 0.00 0.00]])\n-var4173[5] <= QuadForm(var3943, [[-0.00 -0.00 ... 0.00 0.00]\n [-0.00 -0.00 ... 0.00 0.00]\n ...\n [0.00 0.00 ... 0.00 0.00]\n [0.00 0.00 ... 0.00 0.00]]) + [[-0.00 -0.00 ... 0.00 0.00]] @ var3943 , because the following subexpressions are not:\n|--  QuadForm(var3943, [[-0.00 -0.00 ... 0.00 0.00]\n [-0.00 -0.00 ... 0.00 0.00]\n ...\n [0.00 0.00 ... 0.00 0.00]\n [0.00 0.00 ... 0.00 0.00]])\nQuadForm(var3943, [[0.00 -0.00 ... 0.00 0.00]\n [-0.00 0.00 ... 0.00 0.00]\n ...\n [0.00 0.00 ... 0.00 0.00]\n [0.00 0.00 ... 0.00 0.00]]) + [[0.00 -0.00 ... 0.00 0.00]] @ var3943 <= var4173[6] , because the following subexpressions are not:\n|--  QuadForm(var3943, [[0.00 -0.00 ... 0.00 0.00]\n [-0.00 0.00 ... 0.00 0.00]\n ...\n [0.00 0.00 ... 0.00 0.00]\n [0.00 0.00 ... 0.00 0.00]])\n-var4173[6] <= QuadForm(var3943, [[0.00 -0.00 ... 0.00 0.00]\n [-0.00 0.00 ... 0.00 0.00]\n ...\n [0.00 0.00 ... 0.00 0.00]\n [0.00 0.00 ... 0.00 0.00]]) + [[0.00 -0.00 ... 0.00 0.00]] @ var3943 , because the following subexpressions are not:\n|--  QuadForm(var3943, [[0.00 -0.00 ... 0.00 0.00]\n [-0.00 0.00 ... 0.00 0.00]\n ...\n [0.00 0.00 ... 0.00 0.00]\n [0.00 0.00 ... 0.00 0.00]])\nQuadForm(var3943, [[-0.00 0.00 ... 0.00 0.00]\n [0.00 -0.00 ... 0.00 0.00]\n ...\n [0.00 0.00 ... 0.00 0.00]\n [0.00 0.00 ... 0.00 0.00]]) + [[-0.00 0.00 ... 0.00 0.00]] @ var3943 <= var4173[7] , because the following subexpressions are not:\n|--  QuadForm(var3943, [[-0.00 0.00 ... 0.00 0.00]\n [0.00 -0.00 ... 0.00 0.00]\n ...\n [0.00 0.00 ... 0.00 0.00]\n [0.00 0.00 ... 0.00 0.00]])\n-var4173[7] <= QuadForm(var3943, [[-0.00 0.00 ... 0.00 0.00]\n [0.00 -0.00 ... 0.00 0.00]\n ...\n [0.00 0.00 ... 0.00 0.00]\n [0.00 0.00 ... 0.00 0.00]]) + [[-0.00 0.00 ... 0.00 0.00]] @ var3943 , because the following subexpressions are not:\n|--  QuadForm(var3943, [[-0.00 0.00 ... 0.00 0.00]\n [0.00 -0.00 ... 0.00 0.00]\n ...\n [0.00 0.00 ... 0.00 0.00]\n [0.00 0.00 ... 0.00 0.00]])\nQuadForm(var3943, [[-0.00 0.02 ... 0.00 0.00]\n [0.02 -0.22 ... 0.00 0.00]\n ...\n [0.00 0.00 ... 0.00 0.00]\n [0.00 0.00 ... 0.00 0.00]]) + [[-0.00 0.01 ... 0.00 0.00]] @ var3943 <= var4173[8] , because the following subexpressions are not:\n|--  QuadForm(var3943, [[-0.00 0.02 ... 0.00 0.00]\n [0.02 -0.22 ... 0.00 0.00]\n ...\n [0.00 0.00 ... 0.00 0.00]\n [0.00 0.00 ... 0.00 0.00]])\n-var4173[8] <= QuadForm(var3943, [[-0.00 0.02 ... 0.00 0.00]\n [0.02 -0.22 ... 0.00 0.00]\n ...\n [0.00 0.00 ... 0.00 0.00]\n [0.00 0.00 ... 0.00 0.00]]) + [[-0.00 0.01 ... 0.00 0.00]] @ var3943 , because the following subexpressions are not:\n|--  QuadForm(var3943, [[-0.00 0.02 ... 0.00 0.00]\n [0.02 -0.22 ... 0.00 0.00]\n ...\n [0.00 0.00 ... 0.00 0.00]\n [0.00 0.00 ... 0.00 0.00]])",
     "output_type": "error",
     "traceback": [
      "\u001b[0;31m---------------------------------------------------------------------------\u001b[0m",
      "\u001b[0;31mDCPError\u001b[0m                                  Traceback (most recent call last)",
      "Cell \u001b[0;32mIn[18], line 14\u001b[0m\n\u001b[1;32m     12\u001b[0m objective \u001b[38;5;241m=\u001b[39m cp\u001b[38;5;241m.\u001b[39mMinimize(vec \u001b[38;5;241m@\u001b[39m param \u001b[38;5;241m+\u001b[39m penalty_factor \u001b[38;5;241m*\u001b[39m cp\u001b[38;5;241m.\u001b[39msum(slack))\n\u001b[1;32m     13\u001b[0m problem \u001b[38;5;241m=\u001b[39m cp\u001b[38;5;241m.\u001b[39mProblem(objective, constraints)\n\u001b[0;32m---> 14\u001b[0m \u001b[43mproblem\u001b[49m\u001b[38;5;241;43m.\u001b[39;49m\u001b[43msolve\u001b[49m\u001b[43m(\u001b[49m\u001b[43mverbose\u001b[49m\u001b[38;5;241;43m=\u001b[39;49m\u001b[43mverbose\u001b[49m\u001b[43m,\u001b[49m\u001b[43m \u001b[49m\u001b[43mmax_iters\u001b[49m\u001b[38;5;241;43m=\u001b[39;49m\u001b[43mmaxiters\u001b[49m\u001b[43m,\u001b[49m\u001b[43m \u001b[49m\u001b[43meps\u001b[49m\u001b[38;5;241;43m=\u001b[39;49m\u001b[43meps\u001b[49m\u001b[43m,\u001b[49m\u001b[43m \u001b[49m\u001b[43msolver\u001b[49m\u001b[38;5;241;43m=\u001b[39;49m\u001b[43mcp\u001b[49m\u001b[38;5;241;43m.\u001b[39;49m\u001b[43mSCS\u001b[49m\u001b[43m)\u001b[49m\n",
      "File \u001b[0;32m~/miniconda3/envs/bmnsim/lib/python3.12/site-packages/cvxpy/problems/problem.py:503\u001b[0m, in \u001b[0;36mProblem.solve\u001b[0;34m(self, *args, **kwargs)\u001b[0m\n\u001b[1;32m    501\u001b[0m \u001b[38;5;28;01melse\u001b[39;00m:\n\u001b[1;32m    502\u001b[0m     solve_func \u001b[38;5;241m=\u001b[39m Problem\u001b[38;5;241m.\u001b[39m_solve\n\u001b[0;32m--> 503\u001b[0m \u001b[38;5;28;01mreturn\u001b[39;00m \u001b[43msolve_func\u001b[49m\u001b[43m(\u001b[49m\u001b[38;5;28;43mself\u001b[39;49m\u001b[43m,\u001b[49m\u001b[43m \u001b[49m\u001b[38;5;241;43m*\u001b[39;49m\u001b[43margs\u001b[49m\u001b[43m,\u001b[49m\u001b[43m \u001b[49m\u001b[38;5;241;43m*\u001b[39;49m\u001b[38;5;241;43m*\u001b[39;49m\u001b[43mkwargs\u001b[49m\u001b[43m)\u001b[49m\n",
      "File \u001b[0;32m~/miniconda3/envs/bmnsim/lib/python3.12/site-packages/cvxpy/problems/problem.py:1073\u001b[0m, in \u001b[0;36mProblem._solve\u001b[0;34m(self, solver, warm_start, verbose, gp, qcp, requires_grad, enforce_dpp, ignore_dpp, canon_backend, **kwargs)\u001b[0m\n\u001b[1;32m   1070\u001b[0m         \u001b[38;5;28mself\u001b[39m\u001b[38;5;241m.\u001b[39munpack(chain\u001b[38;5;241m.\u001b[39mretrieve(soln))\n\u001b[1;32m   1071\u001b[0m         \u001b[38;5;28;01mreturn\u001b[39;00m \u001b[38;5;28mself\u001b[39m\u001b[38;5;241m.\u001b[39mvalue\n\u001b[0;32m-> 1073\u001b[0m data, solving_chain, inverse_data \u001b[38;5;241m=\u001b[39m \u001b[38;5;28;43mself\u001b[39;49m\u001b[38;5;241;43m.\u001b[39;49m\u001b[43mget_problem_data\u001b[49m\u001b[43m(\u001b[49m\n\u001b[1;32m   1074\u001b[0m \u001b[43m    \u001b[49m\u001b[43msolver\u001b[49m\u001b[43m,\u001b[49m\u001b[43m \u001b[49m\u001b[43mgp\u001b[49m\u001b[43m,\u001b[49m\u001b[43m \u001b[49m\u001b[43menforce_dpp\u001b[49m\u001b[43m,\u001b[49m\u001b[43m \u001b[49m\u001b[43mignore_dpp\u001b[49m\u001b[43m,\u001b[49m\u001b[43m \u001b[49m\u001b[43mverbose\u001b[49m\u001b[43m,\u001b[49m\u001b[43m \u001b[49m\u001b[43mcanon_backend\u001b[49m\u001b[43m,\u001b[49m\u001b[43m \u001b[49m\u001b[43mkwargs\u001b[49m\n\u001b[1;32m   1075\u001b[0m \u001b[43m\u001b[49m\u001b[43m)\u001b[49m\n\u001b[1;32m   1077\u001b[0m \u001b[38;5;28;01mif\u001b[39;00m verbose:\n\u001b[1;32m   1078\u001b[0m     \u001b[38;5;28mprint\u001b[39m(_NUM_SOLVER_STR)\n",
      "File \u001b[0;32m~/miniconda3/envs/bmnsim/lib/python3.12/site-packages/cvxpy/problems/problem.py:646\u001b[0m, in \u001b[0;36mProblem.get_problem_data\u001b[0;34m(self, solver, gp, enforce_dpp, ignore_dpp, verbose, canon_backend, solver_opts)\u001b[0m\n\u001b[1;32m    644\u001b[0m \u001b[38;5;28;01mif\u001b[39;00m key \u001b[38;5;241m!=\u001b[39m \u001b[38;5;28mself\u001b[39m\u001b[38;5;241m.\u001b[39m_cache\u001b[38;5;241m.\u001b[39mkey:\n\u001b[1;32m    645\u001b[0m     \u001b[38;5;28mself\u001b[39m\u001b[38;5;241m.\u001b[39m_cache\u001b[38;5;241m.\u001b[39minvalidate()\n\u001b[0;32m--> 646\u001b[0m     solving_chain \u001b[38;5;241m=\u001b[39m \u001b[38;5;28;43mself\u001b[39;49m\u001b[38;5;241;43m.\u001b[39;49m\u001b[43m_construct_chain\u001b[49m\u001b[43m(\u001b[49m\n\u001b[1;32m    647\u001b[0m \u001b[43m        \u001b[49m\u001b[43msolver\u001b[49m\u001b[38;5;241;43m=\u001b[39;49m\u001b[43msolver\u001b[49m\u001b[43m,\u001b[49m\u001b[43m \u001b[49m\u001b[43mgp\u001b[49m\u001b[38;5;241;43m=\u001b[39;49m\u001b[43mgp\u001b[49m\u001b[43m,\u001b[49m\n\u001b[1;32m    648\u001b[0m \u001b[43m        \u001b[49m\u001b[43menforce_dpp\u001b[49m\u001b[38;5;241;43m=\u001b[39;49m\u001b[43menforce_dpp\u001b[49m\u001b[43m,\u001b[49m\n\u001b[1;32m    649\u001b[0m \u001b[43m        \u001b[49m\u001b[43mignore_dpp\u001b[49m\u001b[38;5;241;43m=\u001b[39;49m\u001b[43mignore_dpp\u001b[49m\u001b[43m,\u001b[49m\n\u001b[1;32m    650\u001b[0m \u001b[43m        \u001b[49m\u001b[43mcanon_backend\u001b[49m\u001b[38;5;241;43m=\u001b[39;49m\u001b[43mcanon_backend\u001b[49m\u001b[43m,\u001b[49m\n\u001b[1;32m    651\u001b[0m \u001b[43m        \u001b[49m\u001b[43msolver_opts\u001b[49m\u001b[38;5;241;43m=\u001b[39;49m\u001b[43msolver_opts\u001b[49m\u001b[43m)\u001b[49m\n\u001b[1;32m    652\u001b[0m     \u001b[38;5;28mself\u001b[39m\u001b[38;5;241m.\u001b[39m_cache\u001b[38;5;241m.\u001b[39mkey \u001b[38;5;241m=\u001b[39m key\n\u001b[1;32m    653\u001b[0m     \u001b[38;5;28mself\u001b[39m\u001b[38;5;241m.\u001b[39m_cache\u001b[38;5;241m.\u001b[39msolving_chain \u001b[38;5;241m=\u001b[39m solving_chain\n",
      "File \u001b[0;32m~/miniconda3/envs/bmnsim/lib/python3.12/site-packages/cvxpy/problems/problem.py:898\u001b[0m, in \u001b[0;36mProblem._construct_chain\u001b[0;34m(self, solver, gp, enforce_dpp, ignore_dpp, canon_backend, solver_opts)\u001b[0m\n\u001b[1;32m    896\u001b[0m candidate_solvers \u001b[38;5;241m=\u001b[39m \u001b[38;5;28mself\u001b[39m\u001b[38;5;241m.\u001b[39m_find_candidate_solvers(solver\u001b[38;5;241m=\u001b[39msolver, gp\u001b[38;5;241m=\u001b[39mgp)\n\u001b[1;32m    897\u001b[0m \u001b[38;5;28mself\u001b[39m\u001b[38;5;241m.\u001b[39m_sort_candidate_solvers(candidate_solvers)\n\u001b[0;32m--> 898\u001b[0m \u001b[38;5;28;01mreturn\u001b[39;00m \u001b[43mconstruct_solving_chain\u001b[49m\u001b[43m(\u001b[49m\u001b[38;5;28;43mself\u001b[39;49m\u001b[43m,\u001b[49m\u001b[43m \u001b[49m\u001b[43mcandidate_solvers\u001b[49m\u001b[43m,\u001b[49m\u001b[43m \u001b[49m\u001b[43mgp\u001b[49m\u001b[38;5;241;43m=\u001b[39;49m\u001b[43mgp\u001b[49m\u001b[43m,\u001b[49m\n\u001b[1;32m    899\u001b[0m \u001b[43m                               \u001b[49m\u001b[43menforce_dpp\u001b[49m\u001b[38;5;241;43m=\u001b[39;49m\u001b[43menforce_dpp\u001b[49m\u001b[43m,\u001b[49m\n\u001b[1;32m    900\u001b[0m \u001b[43m                               \u001b[49m\u001b[43mignore_dpp\u001b[49m\u001b[38;5;241;43m=\u001b[39;49m\u001b[43mignore_dpp\u001b[49m\u001b[43m,\u001b[49m\n\u001b[1;32m    901\u001b[0m \u001b[43m                               \u001b[49m\u001b[43mcanon_backend\u001b[49m\u001b[38;5;241;43m=\u001b[39;49m\u001b[43mcanon_backend\u001b[49m\u001b[43m,\u001b[49m\n\u001b[1;32m    902\u001b[0m \u001b[43m                               \u001b[49m\u001b[43msolver_opts\u001b[49m\u001b[38;5;241;43m=\u001b[39;49m\u001b[43msolver_opts\u001b[49m\u001b[43m,\u001b[49m\n\u001b[1;32m    903\u001b[0m \u001b[43m                               \u001b[49m\u001b[43mspecified_solver\u001b[49m\u001b[38;5;241;43m=\u001b[39;49m\u001b[43msolver\u001b[49m\u001b[43m)\u001b[49m\n",
      "File \u001b[0;32m~/miniconda3/envs/bmnsim/lib/python3.12/site-packages/cvxpy/reductions/solvers/solving_chain.py:226\u001b[0m, in \u001b[0;36mconstruct_solving_chain\u001b[0;34m(problem, candidates, gp, enforce_dpp, ignore_dpp, canon_backend, solver_opts, specified_solver)\u001b[0m\n\u001b[1;32m    224\u001b[0m \u001b[38;5;28;01mif\u001b[39;00m \u001b[38;5;28mlen\u001b[39m(problem\u001b[38;5;241m.\u001b[39mvariables()) \u001b[38;5;241m==\u001b[39m \u001b[38;5;241m0\u001b[39m:\n\u001b[1;32m    225\u001b[0m     \u001b[38;5;28;01mreturn\u001b[39;00m SolvingChain(reductions\u001b[38;5;241m=\u001b[39m[ConstantSolver()])\n\u001b[0;32m--> 226\u001b[0m reductions \u001b[38;5;241m=\u001b[39m \u001b[43m_reductions_for_problem_class\u001b[49m\u001b[43m(\u001b[49m\u001b[43mproblem\u001b[49m\u001b[43m,\u001b[49m\u001b[43m \u001b[49m\u001b[43mcandidates\u001b[49m\u001b[43m,\u001b[49m\u001b[43m \u001b[49m\u001b[43mgp\u001b[49m\u001b[43m,\u001b[49m\u001b[43m \u001b[49m\u001b[43msolver_opts\u001b[49m\u001b[43m)\u001b[49m\n\u001b[1;32m    228\u001b[0m \u001b[38;5;66;03m# Process DPP status of the problem.\u001b[39;00m\n\u001b[1;32m    229\u001b[0m dpp_context \u001b[38;5;241m=\u001b[39m \u001b[38;5;124m'\u001b[39m\u001b[38;5;124mdcp\u001b[39m\u001b[38;5;124m'\u001b[39m \u001b[38;5;28;01mif\u001b[39;00m \u001b[38;5;129;01mnot\u001b[39;00m gp \u001b[38;5;28;01melse\u001b[39;00m \u001b[38;5;124m'\u001b[39m\u001b[38;5;124mdgp\u001b[39m\u001b[38;5;124m'\u001b[39m\n",
      "File \u001b[0;32m~/miniconda3/envs/bmnsim/lib/python3.12/site-packages/cvxpy/reductions/solvers/solving_chain.py:141\u001b[0m, in \u001b[0;36m_reductions_for_problem_class\u001b[0;34m(problem, candidates, gp, solver_opts)\u001b[0m\n\u001b[1;32m    138\u001b[0m     \u001b[38;5;28;01melif\u001b[39;00m problem\u001b[38;5;241m.\u001b[39mis_dqcp():\n\u001b[1;32m    139\u001b[0m         append \u001b[38;5;241m+\u001b[39m\u001b[38;5;241m=\u001b[39m (\u001b[38;5;124m\"\u001b[39m\u001b[38;5;130;01m\\n\u001b[39;00m\u001b[38;5;124mHowever, the problem does follow DQCP rules. \u001b[39m\u001b[38;5;124m\"\u001b[39m\n\u001b[1;32m    140\u001b[0m                    \u001b[38;5;124m\"\u001b[39m\u001b[38;5;124mConsider calling solve() with `qcp=True`.\u001b[39m\u001b[38;5;124m\"\u001b[39m)\n\u001b[0;32m--> 141\u001b[0m     \u001b[38;5;28;01mraise\u001b[39;00m DCPError(\n\u001b[1;32m    142\u001b[0m         \u001b[38;5;124m\"\u001b[39m\u001b[38;5;124mProblem does not follow DCP rules. Specifically:\u001b[39m\u001b[38;5;130;01m\\n\u001b[39;00m\u001b[38;5;124m\"\u001b[39m \u001b[38;5;241m+\u001b[39m append)\n\u001b[1;32m    143\u001b[0m \u001b[38;5;28;01melif\u001b[39;00m gp \u001b[38;5;129;01mand\u001b[39;00m \u001b[38;5;129;01mnot\u001b[39;00m problem\u001b[38;5;241m.\u001b[39mis_dgp():\n\u001b[1;32m    144\u001b[0m     append \u001b[38;5;241m=\u001b[39m build_non_disciplined_error_msg(problem, \u001b[38;5;124m'\u001b[39m\u001b[38;5;124mDGP\u001b[39m\u001b[38;5;124m'\u001b[39m)\n",
      "\u001b[0;31mDCPError\u001b[0m: Problem does not follow DCP rules. Specifically:\nThe following constraints are not DCP:\nQuadForm(var3943, [[-0.57 0.00 ... 0.00 0.00]\n [0.00 0.00 ... 0.00 0.00]\n ...\n [0.00 0.00 ... 0.00 0.00]\n [0.00 0.00 ... 0.00 0.00]]) +   (0, 0)\t0.8201995322647244 @ var3943 <= var4173[0] , because the following subexpressions are not:\n|--  QuadForm(var3943, [[-0.57 0.00 ... 0.00 0.00]\n [0.00 0.00 ... 0.00 0.00]\n ...\n [0.00 0.00 ... 0.00 0.00]\n [0.00 0.00 ... 0.00 0.00]]) +   (0, 0)\t0.8201995322647244 @ var3943 <= var4173[0]\nQuadForm(var3943, [[-0.00 0.15 ... 0.00 0.00]\n [0.15 0.00 ... 0.00 0.00]\n ...\n [0.00 0.00 ... 0.00 0.00]\n [0.00 0.00 ... 0.00 0.00]]) + [[-0.00 -0.25 ... 0.00 0.00]] @ var3943 <= var4173[1] , because the following subexpressions are not:\n|--  QuadForm(var3943, [[-0.00 0.15 ... 0.00 0.00]\n [0.15 0.00 ... 0.00 0.00]\n ...\n [0.00 0.00 ... 0.00 0.00]\n [0.00 0.00 ... 0.00 0.00]])\n-var4173[1] <= QuadForm(var3943, [[-0.00 0.15 ... 0.00 0.00]\n [0.15 0.00 ... 0.00 0.00]\n ...\n [0.00 0.00 ... 0.00 0.00]\n [0.00 0.00 ... 0.00 0.00]]) + [[-0.00 -0.25 ... 0.00 0.00]] @ var3943 , because the following subexpressions are not:\n|--  QuadForm(var3943, [[-0.00 0.15 ... 0.00 0.00]\n [0.15 0.00 ... 0.00 0.00]\n ...\n [0.00 0.00 ... 0.00 0.00]\n [0.00 0.00 ... 0.00 0.00]])\nQuadForm(var3943, [[0.00 -0.28 ... 0.00 0.00]\n [-0.28 -0.00 ... 0.00 0.00]\n ...\n [0.00 0.00 ... 0.00 0.00]\n [0.00 0.00 ... 0.00 0.00]]) + [[0.00 0.86 ... 0.00 0.00]] @ var3943 <= var4173[2] , because the following subexpressions are not:\n|--  QuadForm(var3943, [[0.00 -0.28 ... 0.00 0.00]\n [-0.28 -0.00 ... 0.00 0.00]\n ...\n [0.00 0.00 ... 0.00 0.00]\n [0.00 0.00 ... 0.00 0.00]])\n-var4173[2] <= QuadForm(var3943, [[0.00 -0.28 ... 0.00 0.00]\n [-0.28 -0.00 ... 0.00 0.00]\n ...\n [0.00 0.00 ... 0.00 0.00]\n [0.00 0.00 ... 0.00 0.00]]) + [[0.00 0.86 ... 0.00 0.00]] @ var3943 , because the following subexpressions are not:\n|--  QuadForm(var3943, [[0.00 -0.28 ... 0.00 0.00]\n [-0.28 -0.00 ... 0.00 0.00]\n ...\n [0.00 0.00 ... 0.00 0.00]\n [0.00 0.00 ... 0.00 0.00]])\nQuadForm(var3943, [[0.02 0.00 ... 0.00 0.00]\n [0.00 -0.00 ... 0.00 0.00]\n ...\n [0.00 0.00 ... 0.00 0.00]\n [0.00 0.00 ... 0.00 0.00]]) + [[0.02 0.00 ... 0.00 0.00]] @ var3943 <= var4173[3] , because the following subexpressions are not:\n|--  QuadForm(var3943, [[0.02 0.00 ... 0.00 0.00]\n [0.00 -0.00 ... 0.00 0.00]\n ...\n [0.00 0.00 ... 0.00 0.00]\n [0.00 0.00 ... 0.00 0.00]])\n-var4173[3] <= QuadForm(var3943, [[0.02 0.00 ... 0.00 0.00]\n [0.00 -0.00 ... 0.00 0.00]\n ...\n [0.00 0.00 ... 0.00 0.00]\n [0.00 0.00 ... 0.00 0.00]]) + [[0.02 0.00 ... 0.00 0.00]] @ var3943 , because the following subexpressions are not:\n|--  QuadForm(var3943, [[0.02 0.00 ... 0.00 0.00]\n [0.00 -0.00 ... 0.00 0.00]\n ...\n [0.00 0.00 ... 0.00 0.00]\n [0.00 0.00 ... 0.00 0.00]])\nQuadForm(var3943, [[-0.01 0.00 ... 0.00 0.00]\n [0.00 -0.00 ... 0.00 0.00]\n ...\n [0.00 0.00 ... 0.00 0.00]\n [0.00 0.00 ... 0.00 0.00]]) + [[-0.01 0.00 ... 0.00 0.00]] @ var3943 <= var4173[4] , because the following subexpressions are not:\n|--  QuadForm(var3943, [[-0.01 0.00 ... 0.00 0.00]\n [0.00 -0.00 ... 0.00 0.00]\n ...\n [0.00 0.00 ... 0.00 0.00]\n [0.00 0.00 ... 0.00 0.00]])\n-var4173[4] <= QuadForm(var3943, [[-0.01 0.00 ... 0.00 0.00]\n [0.00 -0.00 ... 0.00 0.00]\n ...\n [0.00 0.00 ... 0.00 0.00]\n [0.00 0.00 ... 0.00 0.00]]) + [[-0.01 0.00 ... 0.00 0.00]] @ var3943 , because the following subexpressions are not:\n|--  QuadForm(var3943, [[-0.01 0.00 ... 0.00 0.00]\n [0.00 -0.00 ... 0.00 0.00]\n ...\n [0.00 0.00 ... 0.00 0.00]\n [0.00 0.00 ... 0.00 0.00]])\nQuadForm(var3943, [[-0.00 -0.00 ... 0.00 0.00]\n [-0.00 -0.00 ... 0.00 0.00]\n ...\n [0.00 0.00 ... 0.00 0.00]\n [0.00 0.00 ... 0.00 0.00]]) + [[-0.00 -0.00 ... 0.00 0.00]] @ var3943 <= var4173[5] , because the following subexpressions are not:\n|--  QuadForm(var3943, [[-0.00 -0.00 ... 0.00 0.00]\n [-0.00 -0.00 ... 0.00 0.00]\n ...\n [0.00 0.00 ... 0.00 0.00]\n [0.00 0.00 ... 0.00 0.00]])\n-var4173[5] <= QuadForm(var3943, [[-0.00 -0.00 ... 0.00 0.00]\n [-0.00 -0.00 ... 0.00 0.00]\n ...\n [0.00 0.00 ... 0.00 0.00]\n [0.00 0.00 ... 0.00 0.00]]) + [[-0.00 -0.00 ... 0.00 0.00]] @ var3943 , because the following subexpressions are not:\n|--  QuadForm(var3943, [[-0.00 -0.00 ... 0.00 0.00]\n [-0.00 -0.00 ... 0.00 0.00]\n ...\n [0.00 0.00 ... 0.00 0.00]\n [0.00 0.00 ... 0.00 0.00]])\nQuadForm(var3943, [[0.00 -0.00 ... 0.00 0.00]\n [-0.00 0.00 ... 0.00 0.00]\n ...\n [0.00 0.00 ... 0.00 0.00]\n [0.00 0.00 ... 0.00 0.00]]) + [[0.00 -0.00 ... 0.00 0.00]] @ var3943 <= var4173[6] , because the following subexpressions are not:\n|--  QuadForm(var3943, [[0.00 -0.00 ... 0.00 0.00]\n [-0.00 0.00 ... 0.00 0.00]\n ...\n [0.00 0.00 ... 0.00 0.00]\n [0.00 0.00 ... 0.00 0.00]])\n-var4173[6] <= QuadForm(var3943, [[0.00 -0.00 ... 0.00 0.00]\n [-0.00 0.00 ... 0.00 0.00]\n ...\n [0.00 0.00 ... 0.00 0.00]\n [0.00 0.00 ... 0.00 0.00]]) + [[0.00 -0.00 ... 0.00 0.00]] @ var3943 , because the following subexpressions are not:\n|--  QuadForm(var3943, [[0.00 -0.00 ... 0.00 0.00]\n [-0.00 0.00 ... 0.00 0.00]\n ...\n [0.00 0.00 ... 0.00 0.00]\n [0.00 0.00 ... 0.00 0.00]])\nQuadForm(var3943, [[-0.00 0.00 ... 0.00 0.00]\n [0.00 -0.00 ... 0.00 0.00]\n ...\n [0.00 0.00 ... 0.00 0.00]\n [0.00 0.00 ... 0.00 0.00]]) + [[-0.00 0.00 ... 0.00 0.00]] @ var3943 <= var4173[7] , because the following subexpressions are not:\n|--  QuadForm(var3943, [[-0.00 0.00 ... 0.00 0.00]\n [0.00 -0.00 ... 0.00 0.00]\n ...\n [0.00 0.00 ... 0.00 0.00]\n [0.00 0.00 ... 0.00 0.00]])\n-var4173[7] <= QuadForm(var3943, [[-0.00 0.00 ... 0.00 0.00]\n [0.00 -0.00 ... 0.00 0.00]\n ...\n [0.00 0.00 ... 0.00 0.00]\n [0.00 0.00 ... 0.00 0.00]]) + [[-0.00 0.00 ... 0.00 0.00]] @ var3943 , because the following subexpressions are not:\n|--  QuadForm(var3943, [[-0.00 0.00 ... 0.00 0.00]\n [0.00 -0.00 ... 0.00 0.00]\n ...\n [0.00 0.00 ... 0.00 0.00]\n [0.00 0.00 ... 0.00 0.00]])\nQuadForm(var3943, [[-0.00 0.02 ... 0.00 0.00]\n [0.02 -0.22 ... 0.00 0.00]\n ...\n [0.00 0.00 ... 0.00 0.00]\n [0.00 0.00 ... 0.00 0.00]]) + [[-0.00 0.01 ... 0.00 0.00]] @ var3943 <= var4173[8] , because the following subexpressions are not:\n|--  QuadForm(var3943, [[-0.00 0.02 ... 0.00 0.00]\n [0.02 -0.22 ... 0.00 0.00]\n ...\n [0.00 0.00 ... 0.00 0.00]\n [0.00 0.00 ... 0.00 0.00]])\n-var4173[8] <= QuadForm(var3943, [[-0.00 0.02 ... 0.00 0.00]\n [0.02 -0.22 ... 0.00 0.00]\n ...\n [0.00 0.00 ... 0.00 0.00]\n [0.00 0.00 ... 0.00 0.00]]) + [[-0.00 0.01 ... 0.00 0.00]] @ var3943 , because the following subexpressions are not:\n|--  QuadForm(var3943, [[-0.00 0.02 ... 0.00 0.00]\n [0.02 -0.22 ... 0.00 0.00]\n ...\n [0.00 0.00 ... 0.00 0.00]\n [0.00 0.00 ... 0.00 0.00]])"
     ]
    }
   ],
   "source": [
    "penalty_factor = 10  # Initial penalty factor\n",
    "\n",
    "Q = [quadratic_constraints['quadratic'][k].reshape((num_variables, num_variables)).todense() for k in range(num_quad_constraints)]\n",
    "c = [quadratic_constraints['linear'][k] for k in range(num_quad_constraints)]\n",
    "\n",
    "slack = cp.Variable(len(Q))\n",
    "# Quadratic constraints with slack variables\n",
    "for i in range(len(Q)):\n",
    "    constraints += [param.T @ Q[i] @ param + c[i] @ param <= slack[i]]\n",
    "    constraints += [param.T @ Q[i] @ param + c[i] @ param >= -slack[i]]\n",
    "\n",
    "objective = cp.Minimize(vec @ param + penalty_factor * cp.sum(slack))\n",
    "problem = cp.Problem(objective, constraints)\n",
    "problem.solve(verbose=verbose, max_iters=maxiters, eps=eps, solver=cp.SCS)"
   ]
  },
  {
   "cell_type": "code",
   "execution_count": null,
   "metadata": {},
   "outputs": [],
   "source": [
    "energy = bootstrap.get_operator_expectation_value(\n",
    "    st_operator=hamiltonian,\n",
    "    param=param.value\n",
    "    )\n",
    "exact_energy = compute_Brezin_energy_Han_conventions(g)\n",
    "print(f\"problem success: {success}, min energy found: {energy:.6f}, exact (L=inf) value = {exact_energy:.6f}\")\n"
   ]
  },
  {
   "cell_type": "code",
   "execution_count": null,
   "metadata": {},
   "outputs": [],
   "source": []
  },
  {
   "cell_type": "code",
   "execution_count": null,
   "metadata": {},
   "outputs": [],
   "source": []
  },
  {
   "cell_type": "code",
   "execution_count": null,
   "metadata": {},
   "outputs": [],
   "source": [
    "new_constraints = []\n",
    "new_vars = {}\n",
    "for i in range(num_variables):\n",
    "    for j in range(num_variables):\n",
    "        if i <= j:\n",
    "            new_var = cp.Variable()\n",
    "            new_vars[(i, j)] = new_var\n",
    "            new_vars[(j, i)] = new_var\n",
    "            new_constraints.append(new_var == param[i] * param[j])\n",
    "\n",
    "for k in []: #range(num_quad_constraints):\n",
    "    quad = quadratic_constraints['quadratic'][k].reshape((num_variables, num_variables)).todense()\n",
    "    quad = (quad + quad.T)/2\n",
    "    lin = quadratic_constraints['linear'][k]\n",
    "    new_constraints.append(\n",
    "        sum(quad[i, j] * new_vars[(i, j)] for i in range(num_variables) for j in range(num_variables)) + lin @ param == 0\n",
    "    )"
   ]
  },
  {
   "cell_type": "code",
   "execution_count": null,
   "metadata": {},
   "outputs": [],
   "source": [
    "constraints.extend(new_constraints)\n",
    "objective = cp.Minimize(vec @ param)\n",
    "problem = cp.Problem(objective, constraints)\n",
    "problem.solve(verbose=verbose, max_iters=maxiters, eps=eps, solver=cp.SCS)\n",
    "\n",
    "energy = bootstrap.get_operator_expectation_value(\n",
    "    st_operator=hamiltonian,\n",
    "    param=param.value\n",
    "    )\n",
    "exact_energy = compute_Brezin_energy_Han_conventions(g)\n",
    "print(f\"problem success: {success}, min energy found: {energy:.6f}, exact (L=inf) value = {exact_energy:.6f}\")\n"
   ]
  },
  {
   "cell_type": "code",
   "execution_count": null,
   "metadata": {},
   "outputs": [],
   "source": [
    "x = new_vars[(i, j)] == param[i] * param[j]\n",
    "x.is_dcp()"
   ]
  },
  {
   "cell_type": "code",
   "execution_count": null,
   "metadata": {},
   "outputs": [],
   "source": [
    "param * param"
   ]
  },
  {
   "cell_type": "code",
   "execution_count": null,
   "metadata": {},
   "outputs": [],
   "source": [
    "x"
   ]
  },
  {
   "cell_type": "code",
   "execution_count": null,
   "metadata": {},
   "outputs": [],
   "source": [
    "for i in range(num_quad_constraints):\n",
    "    quad = quadratic_constraints['quadratic'][i].reshape((num_variables, num_variables))\n",
    "    lin = quadratic_constraints['linear'][i]\n",
    "    assert np.allclose(quad.T.todense(), quad.todense())\n",
    "    constraints += [cp.quad_form(x=param, P=quad) + lin @ param >= 0]\n",
    "\n",
    "    eigs = scipy.linalg.eigvalsh(quad.todense())\n",
    "    print(f\"i = {i}, min_eig = {eigs[0]}, max_eig = {eigs[-1]}\")"
   ]
  },
  {
   "cell_type": "code",
   "execution_count": null,
   "metadata": {},
   "outputs": [],
   "source": [
    "minimal_eigval(\n",
    "    bootstrap_array_sparse=bootstrap.build_bootstrap_table(),\n",
    "    parameter_vector_null=param\n",
    "    )"
   ]
  },
  {
   "cell_type": "code",
   "execution_count": null,
   "metadata": {},
   "outputs": [],
   "source": []
  },
  {
   "cell_type": "code",
   "execution_count": null,
   "metadata": {},
   "outputs": [],
   "source": []
  },
  {
   "cell_type": "code",
   "execution_count": null,
   "metadata": {},
   "outputs": [],
   "source": []
  },
  {
   "cell_type": "code",
   "execution_count": null,
   "metadata": {},
   "outputs": [],
   "source": []
  },
  {
   "cell_type": "code",
   "execution_count": null,
   "metadata": {},
   "outputs": [],
   "source": []
  },
  {
   "cell_type": "code",
   "execution_count": null,
   "metadata": {},
   "outputs": [],
   "source": []
  },
  {
   "cell_type": "code",
   "execution_count": null,
   "metadata": {},
   "outputs": [],
   "source": []
  },
  {
   "cell_type": "code",
   "execution_count": null,
   "metadata": {},
   "outputs": [],
   "source": []
  },
  {
   "cell_type": "code",
   "execution_count": null,
   "metadata": {},
   "outputs": [],
   "source": []
  },
  {
   "cell_type": "code",
   "execution_count": null,
   "metadata": {},
   "outputs": [],
   "source": []
  },
  {
   "cell_type": "code",
   "execution_count": null,
   "metadata": {},
   "outputs": [],
   "source": [
    "g = 2\n",
    "L = 3\n",
    "\n",
    "print(f\"One matrix problem, L={L}, g={g}.\")\n",
    "\n",
    "matrix_system = MatrixSystem(\n",
    "    # operator_basis=['X', 'P'],\n",
    "    operator_basis=[\"A\", \"B\", \"C\"],\n",
    "    commutation_rules_concise={\n",
    "        # ('P', 'X'): -1j,\n",
    "        (\"A\", \"B\"): 1,  # use Pi' = i P to ensure reality\n",
    "        (\"A\", \"C\"): 2,  # use Pi' = i P to ensure reality\n",
    "        (\"B\", \"C\"): 3,  # use Pi' = i P to ensure reality\n",
    "    },\n",
    "    hermitian_dict={'A': True, 'B': True, 'C':True},\n",
    ")\n",
    "\n",
    "hamiltonian = SingleTraceOperator(data={():1})\n",
    "gauge = MatrixOperator(data={(): 1})\n",
    "\n",
    "bootstrap = BootstrapSystem(\n",
    "    matrix_system=matrix_system,\n",
    "    hamiltonian=hamiltonian,\n",
    "    gauge=gauge,\n",
    "    half_max_degree=L,\n",
    "    odd_degree_vanish=True,\n",
    ")\n"
   ]
  },
  {
   "cell_type": "code",
   "execution_count": null,
   "metadata": {},
   "outputs": [],
   "source": [
    "bootstrap.operator_list"
   ]
  },
  {
   "cell_type": "code",
   "execution_count": null,
   "metadata": {},
   "outputs": [],
   "source": [
    "bootstrap.operator_dict\n"
   ]
  },
  {
   "cell_type": "code",
   "execution_count": null,
   "metadata": {},
   "outputs": [],
   "source": [
    "len(bootstrap.operator_list), len(bootstrap.operator_dict)"
   ]
  },
  {
   "cell_type": "code",
   "execution_count": null,
   "metadata": {},
   "outputs": [],
   "source": [
    "operators_by_degree = {}\n",
    "degree_func = lambda x: len(x)\n",
    "for op in bootstrap.operator_list:\n",
    "    degree = degree_func(op)\n",
    "    if degree not in operators_by_degree:\n",
    "        operators_by_degree[degree] = [op]\n",
    "    else:\n",
    "        operators_by_degree[degree].append(op)\n",
    "\n",
    "new_list = []\n",
    "for deg, op_list in operators_by_degree.items():\n",
    "    if deg % 2 == 0:\n",
    "        new_list.extend(op_list)\n",
    "\n",
    "for deg, op_list in operators_by_degree.items():\n",
    "    if deg % 2 != 0:\n",
    "        new_list.extend(op_list)\n",
    "\n",
    "new_list"
   ]
  },
  {
   "cell_type": "code",
   "execution_count": null,
   "metadata": {},
   "outputs": [],
   "source": [
    "operators_by_degree"
   ]
  },
  {
   "cell_type": "code",
   "execution_count": null,
   "metadata": {},
   "outputs": [],
   "source": []
  },
  {
   "cell_type": "code",
   "execution_count": null,
   "metadata": {},
   "outputs": [],
   "source": [
    "op1 = SingleTraceOperator(data={(\"A\", \"C\", \"B\", \"A\"): 1, (\"B\", \"C\", \"C\"): 0})\n",
    "op2 = SingleTraceOperator(data={(\"C\", \"A\", \"B\"): 1})\n",
    "\n",
    "print(f\"[O1, O2]_Han = {bootstrap.matrix_system.single_trace_commutator(op1, op2, verbose=False)}\")\n",
    "print(\"\")\n",
    "print(f\"[O2, O1]_Han = {bootstrap.matrix_system.single_trace_commutator(op2, op1, verbose=False)}\")\n",
    "\n",
    "print(\"\")\n",
    "print(f\"[O1, O2]_Gavin = {bootstrap.matrix_system.single_trace_commutator2(op1, op2, verbose=False)}\")\n",
    "print(\"\")\n",
    "print(f\"[O2, O1]_Gavin = {bootstrap.matrix_system.single_trace_commutator2(op2, op1, verbose=False)}\")"
   ]
  },
  {
   "cell_type": "code",
   "execution_count": null,
   "metadata": {},
   "outputs": [],
   "source": [
    "bootstrap.matrix_system.single_trace_commutator(op2, op1) == - 1 * bootstrap.matrix_system.single_trace_commutator2(op1, op2)"
   ]
  },
  {
   "cell_type": "code",
   "execution_count": null,
   "metadata": {},
   "outputs": [],
   "source": [
    "bootstrap.matrix_system.single_trace_commutator(op1, op2, verbose=True)"
   ]
  },
  {
   "cell_type": "code",
   "execution_count": null,
   "metadata": {},
   "outputs": [],
   "source": [
    "bootstrap.matrix_system.single_trace_commutator(op2, op1) + 1 * bootstrap.matrix_system.single_trace_commutator2(op1, op2)"
   ]
  },
  {
   "cell_type": "code",
   "execution_count": null,
   "metadata": {},
   "outputs": [],
   "source": [
    "bootstrap.matrix_system.single_trace_commutator(op2, op1)"
   ]
  },
  {
   "cell_type": "code",
   "execution_count": null,
   "metadata": {},
   "outputs": [],
   "source": [
    "bootstrap.matrix_system.single_trace_commutator2(op1, op2)"
   ]
  },
  {
   "cell_type": "code",
   "execution_count": null,
   "metadata": {},
   "outputs": [],
   "source": [
    "bootstrap.matrix_system.single_trace_commutator2(op1, op2)"
   ]
  },
  {
   "cell_type": "code",
   "execution_count": null,
   "metadata": {},
   "outputs": [],
   "source": []
  },
  {
   "cell_type": "code",
   "execution_count": null,
   "metadata": {},
   "outputs": [],
   "source": [
    "normalization_constraint = {\n",
    "    'lhs': SingleTraceOperator(data={(): 1}),\n",
    "    'rhs': DoubleTraceOperator(data={((), ()): 1})\n",
    "    }\n",
    "lhs = normalization_constraint[\"lhs\"]\n",
    "rhs = normalization_constraint[\"rhs\"]\n",
    "linear_constraint_vector = bootstrap.single_trace_to_coefficient_vector(lhs)\n",
    "quadratic_matrix = bootstrap.double_trace_to_coefficient_matrix(rhs)"
   ]
  },
  {
   "cell_type": "code",
   "execution_count": null,
   "metadata": {},
   "outputs": [],
   "source": [
    "linear_constraint_vector"
   ]
  },
  {
   "cell_type": "code",
   "execution_count": null,
   "metadata": {},
   "outputs": [],
   "source": [
    "quadratic_matrix"
   ]
  },
  {
   "cell_type": "code",
   "execution_count": null,
   "metadata": {},
   "outputs": [],
   "source": [
    "for op in bootstrap.operator_list[1:4]:\n",
    "    comm1 = bootstrap.matrix_system.single_trace_commutator(bootstrap.hamiltonian, SingleTraceOperator(data={op:1}))\n",
    "    #comm2 = bootstrap.matrix_system.single_trace_commutator2(bootstrap.hamiltonian, SingleTraceOperator(data={op:1}))\n",
    "    comm2b = bootstrap.matrix_system.single_trace_commutator2(SingleTraceOperator(data={op:1}), hamiltonian)\n",
    "    if comm1 != -1 * comm2b:\n",
    "        print(f\"op = {op},\\n commutator(H,op) = {comm1},\\n commutator2(op,H) = {comm2b}\")"
   ]
  },
  {
   "cell_type": "code",
   "execution_count": null,
   "metadata": {},
   "outputs": [],
   "source": [
    "g, h = 1, 3\n",
    "matrix_system = MatrixSystem(\n",
    "    operator_basis=[\"A\", \"B\", \"C\", \"D\"],\n",
    "    commutation_rules_concise={\n",
    "        #(\"P1\", \"X1\"): -1j,\n",
    "        #(\"P2\", \"X2\"): -1j,\n",
    "    },\n",
    "    hermitian_dict={\"A\": True, \"B\": True, \"C\": True, \"D\": True},\n",
    ")\n",
    "hamiltonian = SingleTraceOperator(\n",
    "    data={\n",
    "        (\"A\", \"B\"): 1\n",
    "        #(\"P1\", \"P1\"): 1,\n",
    "        #(\"X1\", \"X1\"): 1,\n",
    "        #(\"P2\", \"P2\"): 1,\n",
    "        #(\"X2\", \"X2\"): 1,\n",
    "        #(\"X1\", \"X2\", \"X1\", \"X2\"): -2 * g,\n",
    "        #(\"X1\", \"X1\", \"X2\", \"X2\"): 2 * g + 2 * h,\n",
    "        #(\"X1\", \"X1\", \"X1\", \"X1\"): h,\n",
    "        #(\"X2\", \"X2\", \"X2\", \"X2\"): h,\n",
    "        # (\"X1\", \"X1\", \"X2\", \"X2\"): 2*h,\n",
    "    }\n",
    ")\n",
    "\n",
    "#S2 = SingleTraceOperator(data={(\"X1\", \"P2\"): 1, (\"X2\", \"P1\"): 0})\n",
    "S2 = SingleTraceOperator(data={(\"C\", \"D\"): 1})"
   ]
  },
  {
   "cell_type": "code",
   "execution_count": null,
   "metadata": {},
   "outputs": [],
   "source": [
    "#print(f'starting term = {S2.operators[0] + (\"|\",) + hamiltonian.operators[0]}')\n",
    "print(f'starting term = {hamiltonian.operators[0] + (\"|\",) + S2.operators[0]}')\n",
    "new = matrix_system.single_trace_commutator(hamiltonian, S2)"
   ]
  },
  {
   "cell_type": "code",
   "execution_count": null,
   "metadata": {},
   "outputs": [],
   "source": [
    "for i in None:\n",
    "    print(i)"
   ]
  },
  {
   "cell_type": "code",
   "execution_count": null,
   "metadata": {},
   "outputs": [],
   "source": [
    "#print(f'starting term = {S2.operators[0] + (\"|\",) + hamiltonian.operators[0]}')\n",
    "print(f'starting term = {hamiltonian.operators[0] + (\"|\",) + S2.operators[0]}')\n",
    "new = matrix_system.single_trace_commutator2(hamiltonian, S2)"
   ]
  },
  {
   "cell_type": "code",
   "execution_count": null,
   "metadata": {},
   "outputs": [],
   "source": [
    "print(f'starting term = {S2.operators[0] + (\"|\",) + hamiltonian.operators[0]}')\n",
    "original = matrix_system.single_trace_commutator(hamiltonian, S2)\n",
    "print('')\n",
    "print(f'starting term = {S2.operators[0] + (\"|\",) + hamiltonian.operators[0]}')\n",
    "new = matrix_system.single_trace_commutator2(S2, hamiltonian)"
   ]
  },
  {
   "cell_type": "code",
   "execution_count": null,
   "metadata": {},
   "outputs": [],
   "source": []
  }
 ],
 "metadata": {
  "kernelspec": {
   "display_name": "bmnsim",
   "language": "python",
   "name": "python3"
  },
  "language_info": {
   "codemirror_mode": {
    "name": "ipython",
    "version": 3
   },
   "file_extension": ".py",
   "mimetype": "text/x-python",
   "name": "python",
   "nbconvert_exporter": "python",
   "pygments_lexer": "ipython3",
   "version": "3.12.3"
  }
 },
 "nbformat": 4,
 "nbformat_minor": 2
}
