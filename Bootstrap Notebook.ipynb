{
 "cells": [
  {
   "cell_type": "code",
   "execution_count": 1,
   "metadata": {},
   "outputs": [],
   "source": [
    "from typing import Union, Self\n",
    "from numbers import Number\n",
    "from itertools import chain, product\n",
    "\n",
    "import numpy as np\n",
    "import sympy as sp\n",
    "import cvxpy as cp\n",
    "\n",
    "import scipy\n",
    "from scipy.sparse import csr_matrix\n",
    "import scipy.sparse as sparse\n",
    "from scipy.linalg import qr\n",
    "from scipy.sparse import coo_matrix, csc_matrix\n",
    "from scipy.sparse.linalg import splu, svds\n",
    "from sksparse.cholmod import cholesky\n",
    "\n",
    "from bmn.algebra import MatrixOperator, SingleTraceOperator, MatrixSystem, DoubleTraceOperator\n",
    "from bmn.linear_algebra import get_null_space_dense, create_sparse_matrix_from_dict, get_row_space_dense, get_null_space_sparse\n",
    "from bmn.bootstrap import BootstrapSystem\n",
    "from bmn.solver import (\n",
    "    minimal_eigval,\n",
    "    sdp_init, sdp_relax,\n",
    "    sdp_minimize,\n",
    "    minimize,\n",
    "    get_quadratic_constraint_vector_sparse,\n",
    "    get_quadratic_constraint_vector_dense,\n",
    "    compute_L2_norm_of_quadratic_constraints,\n",
    ")\n",
    "from bmn.brezin import compute_Brezin_energy, compute_Brezin_energy_Han_conventions\n",
    "\n",
    "from bmn.debug_utils import disable_debug\n",
    "\n",
    "import yaml\n",
    "from bmn.config_utils import (\n",
    "    run_bootstrap_from_config,\n",
    "    generate_configs_one_matrix,\n",
    "    generate_configs_two_matrix,\n",
    "    generate_configs_three_matrix,\n",
    "    generate_configs_bfss,\n",
    "    )\n",
    "\n",
    "np.set_printoptions(linewidth=120)  # Adjust the number to the desired width\n",
    "\n",
    "# plot settings\n",
    "import matplotlib.pyplot as plt\n",
    "import matplotlib\n",
    "from cycler import cycler\n",
    "\n",
    "plt.rcParams['xtick.direction'] = 'in'\n",
    "plt.rcParams['ytick.direction'] = 'in'\n",
    "plt.rcParams['xtick.major.size'] = 5.0\n",
    "plt.rcParams['xtick.minor.size'] = 3.0\n",
    "plt.rcParams['ytick.major.size'] = 5.0\n",
    "plt.rcParams['ytick.minor.size'] = 3.0\n",
    "plt.rcParams['lines.linewidth'] = 2\n",
    "plt.rc('font', family='serif',size=16)\n",
    "matplotlib.rc('text', usetex=True)\n",
    "matplotlib.rc('legend', fontsize=16)\n",
    "matplotlib.rcParams['axes.prop_cycle'] = cycler(\n",
    "    color=['#E24A33', '#348ABD', '#988ED5', '#777777', '#FBC15E', '#8EBA42', '#FFB5B8']\n",
    "    )\n",
    "matplotlib.rcParams.update(\n",
    "    {\"axes.grid\":True,\n",
    "    \"grid.alpha\":0.75,\n",
    "    \"grid.linewidth\":0.5}\n",
    "    )\n",
    "colors = plt.rcParams['axes.prop_cycle'].by_key()['color']"
   ]
  },
  {
   "cell_type": "markdown",
   "metadata": {},
   "source": [
    "TODO\n",
    "- consolidate 1, 2, 3, and BFSS models\n",
    "- consolidate generate_model_X_config \n",
    "- move checkpoints, maybe add info on the checkpoints"
   ]
  },
  {
   "cell_type": "code",
   "execution_count": 2,
   "metadata": {},
   "outputs": [],
   "source": [
    "generate_configs_bfss(\n",
    "    config_filename=f\"test\",\n",
    "    config_dir=\"MiniBFSS_L_3_test\",\n",
    "    st_operator_to_minimize=\"x_2\",\n",
    "    st_operators_evs_to_set={\"energy\": 1},\n",
    "    load_from_previously_computed=True,\n",
    "    impose_symmetries=True,\n",
    "    reg_decay_rate=0.7880462815669912,\n",
    "    )\n",
    "\n",
    "# python bmn/config_utils.py run_bootstrap_from_config -config_filename test -config_dir MiniBFSS_L_3_test"
   ]
  },
  {
   "cell_type": "code",
   "execution_count": null,
   "metadata": {},
   "outputs": [],
   "source": [
    "reg_decay_rate = np.exp(-3 * np.log(10) / (30 - 1))\n",
    "reg_decay_rate**(30-1), reg_decay_rate"
   ]
  },
  {
   "cell_type": "code",
   "execution_count": null,
   "metadata": {},
   "outputs": [],
   "source": [
    "generate_configs_bfss(\n",
    "    config_filename=f\"test\",\n",
    "    config_dir=\"MiniBFSS_L_3_test\",\n",
    "    st_operators_evs_to_set={\"energy\": 1},\n",
    "    load_from_previously_computed=True,\n",
    "    impose_symmetries=True,\n",
    "    tol=1e-2,\n",
    "    maxiters=50,\n",
    "    maxiters_cvxpy=10_000,\n",
    "    init_scale=1e2,\n",
    "    penalty_reg=1e6,\n",
    "    reg=1e-4,\n",
    "    #reg_decay_rate=reg_decay_rate,\n",
    "    )\n",
    "\n",
    "# python bmn/config_utils.py run_bootstrap_from_config -config_filename test_2 -config_dir MiniBFSS_L_3_test"
   ]
  },
  {
   "cell_type": "code",
   "execution_count": null,
   "metadata": {},
   "outputs": [],
   "source": [
    "1.9525 / 3"
   ]
  },
  {
   "cell_type": "code",
   "execution_count": null,
   "metadata": {},
   "outputs": [],
   "source": [
    "generate_configs_two_matrix(\n",
    "    config_filename=f\"test_small_mass_hold_energy_fixed\",\n",
    "    config_dir=\"TwoMatrix_L_3_symmetric\",\n",
    "    st_operator_to_minimize=\"x_2\",\n",
    "    st_operators_evs_to_set={\"energy\": 1},\n",
    "    g2=1e-4,\n",
    "    g4=1,\n",
    "    load_from_previously_computed=True,\n",
    "    impose_symmetries=True,\n",
    "    )"
   ]
  },
  {
   "cell_type": "code",
   "execution_count": null,
   "metadata": {},
   "outputs": [],
   "source": [
    "generate_configs_three_matrix(\n",
    "    config_filename=f\"test_small_mass\",\n",
    "    config_dir=\"ThreeMatrix_L_3_symmetric\",\n",
    "    g2=1e-4,\n",
    "    g4=1,\n",
    "    load_from_previously_computed=False,\n",
    "    impose_symmetries=True,\n",
    "    )"
   ]
  },
  {
   "cell_type": "code",
   "execution_count": null,
   "metadata": {},
   "outputs": [],
   "source": [
    "run_bootstrap_from_config(\n",
    "    config_filename=f\"g4_{str(0.448)}\",\n",
    "    config_dir=\"TwoMatrix_L_4_symmetric\",\n",
    "    verbose=False,\n",
    "    )"
   ]
  },
  {
   "cell_type": "code",
   "execution_count": null,
   "metadata": {},
   "outputs": [],
   "source": [
    "for reg in [1e3, 1e4, 1e5, 1e6, 1e7, 1e8, 1e9]:\n",
    "\n",
    "    generate_configs_bfss(\n",
    "        config_filename=f\"reg_{int(reg)}\",\n",
    "        config_dir=\"MiniBFSS_L_3_symmetric\",\n",
    "        energy=1,\n",
    "        st_operator_to_minimize=\"x_2\",\n",
    "        load_from_previously_computed=True,\n",
    "        impose_symmetries=True,\n",
    "        maxiters_cvxpy=5_000,\n",
    "        maxiters=100,\n",
    "        radius=1e6,\n",
    "        reg=reg,\n",
    "        )"
   ]
  },
  {
   "cell_type": "code",
   "execution_count": null,
   "metadata": {},
   "outputs": [],
   "source": [
    "st_operator_to_minimize = \"x_2\"\n",
    "\n",
    "generate_configs_bfss(\n",
    "    \"MiniBFSS_symmetric_L_3\",\n",
    "    energy=1,\n",
    "    st_operator_to_minimize=\"x_2\",\n",
    "    load_from_previously_computed=True,\n",
    "    impose_symmetries=True,\n",
    "    maxiters_cvxpy=10_000,\n",
    "    maxiters=100,\n",
    "    radius=1e8,\n",
    "    )\n",
    "\n",
    "generate_configs_bfss(\n",
    "    \"MiniBFSS_L_3\",\n",
    "    energy=1,\n",
    "    st_operator_to_minimize=\"x_2\",\n",
    "    load_from_previously_computed=True,\n",
    "    impose_symmetries=False,\n",
    "    maxiters_cvxpy=10_000,\n",
    "    maxiters=100,\n",
    "    radius=1e8,\n",
    "    )\n",
    "\n",
    "#run_bootstrap_from_config(\"hello\", verbose=False)"
   ]
  },
  {
   "cell_type": "code",
   "execution_count": null,
   "metadata": {},
   "outputs": [],
   "source": []
  },
  {
   "cell_type": "code",
   "execution_count": null,
   "metadata": {},
   "outputs": [],
   "source": []
  },
  {
   "cell_type": "markdown",
   "metadata": {},
   "source": [
    "## BFSS"
   ]
  },
  {
   "cell_type": "code",
   "execution_count": null,
   "metadata": {},
   "outputs": [],
   "source": [
    "L = 2\n",
    "\n",
    "matrix_system = MatrixSystem(\n",
    "    operator_basis=[\"X0\", \"X1\", \"X2\", \"Pi0\", \"Pi1\", \"Pi2\"],\n",
    "    commutation_rules_concise={\n",
    "        (\"Pi0\", \"X0\"): 1,  # use Pi' = i P to ensure reality\n",
    "        (\"Pi1\", \"X1\"): 1,\n",
    "        (\"Pi2\", \"X2\"): 1,\n",
    "    },\n",
    "    hermitian_dict={\n",
    "        \"Pi0\": False,\n",
    "        \"X0\": True,\n",
    "        \"Pi1\": False,\n",
    "        \"X1\": True,\n",
    "        \"Pi2\": False,\n",
    "        \"X2\": True,\n",
    "        },\n",
    ")\n",
    "\n",
    "# lambda = 1 here\n",
    "hamiltonian = SingleTraceOperator(\n",
    "    data={\n",
    "        (\"Pi0\", \"Pi0\"): -0.5,\n",
    "        (\"Pi1\", \"Pi1\"): -0.5,\n",
    "        (\"Pi2\", \"Pi2\"): -0.5,\n",
    "        # quartic term (XY)\n",
    "        (\"X0\", \"X1\", \"X0\", \"X1\"): -1 / 4,\n",
    "        (\"X1\", \"X0\", \"X1\", \"X0\"): -1 / 4,\n",
    "        (\"X0\", \"X1\", \"X1\", \"X0\"): 1 / 4,\n",
    "        (\"X1\", \"X0\", \"X0\", \"X1\"): 1 / 4,\n",
    "        # quartic term (XZ)\n",
    "        (\"X0\", \"X2\", \"X0\", \"X2\"): -1 / 4,\n",
    "        (\"X2\", \"X0\", \"X2\", \"X0\"): -1 / 4,\n",
    "        (\"X0\", \"X2\", \"X2\", \"X0\"): 1 / 4,\n",
    "        (\"X2\", \"X0\", \"X0\", \"X2\"): 1 / 4,\n",
    "        # quartic term (YZ)\n",
    "        (\"X1\", \"X2\", \"X1\", \"X2\"): -1 / 4,\n",
    "        (\"X2\", \"X1\", \"X2\", \"X1\"): -1 / 4,\n",
    "        (\"X1\", \"X2\", \"X2\", \"X1\"): 1 / 4,\n",
    "        (\"X2\", \"X1\", \"X1\", \"X2\"): 1 / 4,\n",
    "    }\n",
    ")\n",
    "\n",
    "# <tr G O > = 0\n",
    "gauge = MatrixOperator(data={\n",
    "    (\"X0\", \"Pi0\"): 1,\n",
    "    (\"Pi0\", \"X0\"): -1,\n",
    "    (\"X1\", \"Pi1\"): 1,\n",
    "    (\"Pi1\", \"X1\"): -1,\n",
    "    (\"X2\", \"Pi2\"): 1,\n",
    "    (\"Pi2\", \"X2\"): -1,\n",
    "    (): 3,\n",
    "    })\n",
    "\n",
    "bootstrap = BootstrapSystem(\n",
    "    matrix_system=matrix_system,\n",
    "    hamiltonian=hamiltonian,\n",
    "    gauge_generator=gauge,\n",
    "    max_degree_L=L,\n",
    "    odd_degree_vanish=True,\n",
    "    simplify_quadratic=True,\n",
    ")\n",
    "\n",
    "bootstrap.build_quadratic_constraints()\n",
    "\n",
    "quadratic_constraints_numerical = bootstrap.quadratic_constraints_numerical"
   ]
  },
  {
   "cell_type": "code",
   "execution_count": null,
   "metadata": {},
   "outputs": [],
   "source": [
    "quadratic_constraints_numerical"
   ]
  },
  {
   "cell_type": "code",
   "execution_count": null,
   "metadata": {},
   "outputs": [],
   "source": [
    "def newton_pseudoinverse(param, nsteps, quadratic_constraints_numerical):\n",
    "\n",
    "    for step in range(nsteps):\n",
    "        val, grad = get_quadratic_constraint_vector_sparse(\n",
    "            quadratic_constraints=quadratic_constraints_numerical,\n",
    "            param=param,\n",
    "            compute_grad=True,\n",
    "            )\n",
    "        grad_pinv = np.linalg.pinv(grad)\n",
    "        #np.allclose(grad @ grad_pinv @ grad, grad)\n",
    "        #np.allclose(grad.T @ np.linalg.inv(grad @ grad.T), grad_pinv)\n",
    "        param = param - np.asarray(grad_pinv @ val)[0]\n",
    "        print(f\"Newton's method: step = {step}, val = {np.linalg.norm(val)}\")\n",
    "\n",
    "    return param"
   ]
  },
  {
   "cell_type": "code",
   "execution_count": null,
   "metadata": {},
   "outputs": [],
   "source": [
    "bootstrap.param_dim_null"
   ]
  },
  {
   "cell_type": "code",
   "execution_count": null,
   "metadata": {},
   "outputs": [],
   "source": [
    "167958/3"
   ]
  },
  {
   "cell_type": "code",
   "execution_count": null,
   "metadata": {},
   "outputs": [],
   "source": [
    "param = np.random.normal(size=bootstrap.param_dim_null)\n",
    "val = get_quadratic_constraint_vector_sparse(\n",
    "    quadratic_constraints=quadratic_constraints_numerical,\n",
    "    param=param,\n",
    "    )\n",
    "\n",
    "param = newton_pseudoinverse(param=param, nsteps=10, quadratic_constraints_numerical=quadratic_constraints_numerical)\n",
    "val = get_quadratic_constraint_vector_sparse(\n",
    "    quadratic_constraints=quadratic_constraints_numerical,\n",
    "    param=param,\n",
    "    )"
   ]
  },
  {
   "cell_type": "code",
   "execution_count": null,
   "metadata": {},
   "outputs": [],
   "source": [
    "val.shape, grad.T.shape"
   ]
  },
  {
   "cell_type": "code",
   "execution_count": null,
   "metadata": {},
   "outputs": [],
   "source": [
    "val.shape, grad.shape, grad_pinv.shape"
   ]
  },
  {
   "cell_type": "code",
   "execution_count": null,
   "metadata": {},
   "outputs": [],
   "source": []
  },
  {
   "cell_type": "code",
   "execution_count": null,
   "metadata": {},
   "outputs": [],
   "source": []
  },
  {
   "cell_type": "code",
   "execution_count": null,
   "metadata": {},
   "outputs": [],
   "source": [
    "val2, grad2 = get_quadratic_constraint_vector_sparse(\n",
    "    quadratic_constraints=quadratic_constraints_numerical,\n",
    "    param=param,\n",
    "    compute_grad=True,\n",
    "    )"
   ]
  },
  {
   "cell_type": "code",
   "execution_count": null,
   "metadata": {},
   "outputs": [],
   "source": [
    "np.sum(np.abs(grad2[0]))"
   ]
  },
  {
   "cell_type": "code",
   "execution_count": null,
   "metadata": {},
   "outputs": [],
   "source": [
    "grad2.shape"
   ]
  },
  {
   "cell_type": "code",
   "execution_count": null,
   "metadata": {},
   "outputs": [],
   "source": [
    "min(np.sum(np.abs(np.asarray(grad2)), axis=1)), max(np.sum(np.abs(np.asarray(grad2)), axis=1))"
   ]
  },
  {
   "cell_type": "code",
   "execution_count": null,
   "metadata": {},
   "outputs": [],
   "source": [
    "min(np.abs(val2)), max(np.abs(val2))"
   ]
  },
  {
   "cell_type": "code",
   "execution_count": null,
   "metadata": {},
   "outputs": [],
   "source": [
    "val1, grad1 = get_quadratic_constraint_vector_dense(\n",
    "    quadratic_constraints=quadratic_constraints_numerical,\n",
    "    param=param,\n",
    "    compute_grad=True,\n",
    "    )\n",
    "\n",
    "val2, grad2 = get_quadratic_constraint_vector_sparse(\n",
    "    quadratic_constraints=quadratic_constraints_numerical,\n",
    "    param=param,\n",
    "    compute_grad=True,\n",
    "    )"
   ]
  },
  {
   "cell_type": "code",
   "execution_count": null,
   "metadata": {},
   "outputs": [],
   "source": [
    "np.allclose(val1, val2), np.allclose(grad1, grad2)"
   ]
  },
  {
   "cell_type": "markdown",
   "metadata": {},
   "source": [
    "## BMN"
   ]
  },
  {
   "cell_type": "code",
   "execution_count": null,
   "metadata": {},
   "outputs": [],
   "source": [
    "from bmn.models import MiniBMN\n",
    "from bmn.bootstrap_complex import BootstrapSystemComplex\n",
    "\n",
    "model = MiniBMN(couplings={\"g2\": 1, \"g4\": 1})\n",
    "\n",
    "bootstrap = BootstrapSystemComplex(\n",
    "    matrix_system=model.matrix_system,\n",
    "    hamiltonian=model.hamiltonian,\n",
    "    gauge_generator=model.gauge_generator,\n",
    "    max_degree_L=3,\n",
    "    simplify_quadratic=False,\n",
    "    symmetry_generators=None,\n",
    "    fraction_operators_to_retain=0.41,\n",
    "    )"
   ]
  },
  {
   "cell_type": "code",
   "execution_count": null,
   "metadata": {},
   "outputs": [],
   "source": [
    "bootstrap.build_null_space_matrix()"
   ]
  },
  {
   "cell_type": "code",
   "execution_count": null,
   "metadata": {},
   "outputs": [],
   "source": [
    "bootstrap.build_linear_constraints()"
   ]
  },
  {
   "cell_type": "code",
   "execution_count": null,
   "metadata": {},
   "outputs": [],
   "source": [
    "bootstrap.build_quadratic_constraints()"
   ]
  },
  {
   "cell_type": "code",
   "execution_count": null,
   "metadata": {},
   "outputs": [],
   "source": [
    "bootstrap.quadratic_constraints_numerical[\"quadratic\"][0]"
   ]
  },
  {
   "cell_type": "code",
   "execution_count": null,
   "metadata": {},
   "outputs": [],
   "source": [
    "bootstrap.build_bootstrap_table()"
   ]
  },
  {
   "cell_type": "code",
   "execution_count": null,
   "metadata": {},
   "outputs": [],
   "source": [
    "from bmn.newton_solver import solve_bootstrap\n",
    "\n",
    "param, optimization_result = solve_bootstrap(\n",
    "    bootstrap=bootstrap,\n",
    "    st_operator_to_minimize=bootstrap.hamiltonian,\n",
    "    )"
   ]
  },
  {
   "cell_type": "code",
   "execution_count": null,
   "metadata": {},
   "outputs": [],
   "source": [
    "x = 1 + 1j\n",
    "x.real"
   ]
  },
  {
   "cell_type": "code",
   "execution_count": null,
   "metadata": {},
   "outputs": [],
   "source": [
    "x = 1\n",
    "x.real"
   ]
  },
  {
   "cell_type": "code",
   "execution_count": null,
   "metadata": {},
   "outputs": [],
   "source": []
  }
 ],
 "metadata": {
  "kernelspec": {
   "display_name": "bmnsim",
   "language": "python",
   "name": "python3"
  },
  "language_info": {
   "codemirror_mode": {
    "name": "ipython",
    "version": 3
   },
   "file_extension": ".py",
   "mimetype": "text/x-python",
   "name": "python",
   "nbconvert_exporter": "python",
   "pygments_lexer": "ipython3",
   "version": "3.11.9"
  }
 },
 "nbformat": 4,
 "nbformat_minor": 2
}
