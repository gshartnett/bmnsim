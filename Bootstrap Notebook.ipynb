{
 "cells": [
  {
   "cell_type": "code",
   "execution_count": 1,
   "metadata": {},
   "outputs": [],
   "source": [
    "from typing import Union, Self\n",
    "from numbers import Number\n",
    "from itertools import chain, product\n",
    "\n",
    "import numpy as np\n",
    "import sympy as sp\n",
    "import cvxpy as cp\n",
    "import json\n",
    "import hashlib\n",
    "import scipy\n",
    "from scipy.sparse import csr_matrix\n",
    "import scipy.sparse as sparse\n",
    "from scipy.linalg import qr\n",
    "from scipy.sparse import coo_matrix, csc_matrix\n",
    "from scipy.sparse.linalg import splu, svds\n",
    "from sksparse.cholmod import cholesky\n",
    "import xxhash\n",
    "from bmn.algebra import MatrixOperator, SingleTraceOperator, MatrixSystem, DoubleTraceOperator\n",
    "from bmn.linear_algebra import get_null_space_dense, create_sparse_matrix_from_dict, get_row_space_dense, get_null_space_sparse\n",
    "from bmn.bootstrap import BootstrapSystem\n",
    "from bmn.solver_trustregion import (\n",
    "    minimal_eigval,\n",
    "    sdp_init, sdp_relax,\n",
    "    sdp_minimize,\n",
    "    #minimize,\n",
    "    get_quadratic_constraint_vector_sparse,\n",
    "    get_quadratic_constraint_vector_dense,\n",
    "    compute_L2_norm_of_quadratic_constraints,\n",
    ")\n",
    "from bmn.solver_pytorch import solve_bootstrap as solve_bootstrap_pytorch\n",
    "from bmn.models import OneMatrix, TwoMatrix, MiniBFSS\n",
    "from bmn.brezin import compute_Brezin_energy, compute_Brezin_energy_Han_conventions\n",
    "import os\n",
    "from bmn.debug_utils import disable_debug\n",
    "\n",
    "import yaml\n",
    "from bmn.config_utils import (\n",
    "    run_bootstrap_from_config,\n",
    "    generate_configs_one_matrix,\n",
    "    generate_configs_two_matrix,\n",
    "    generate_configs_three_matrix,\n",
    "    generate_configs_bfss,\n",
    "    )\n",
    "\n",
    "from bmn.models import OneMatrix, TwoMatrix, MiniBFSS\n",
    "import pandas as pd\n",
    "\n",
    "\n",
    "# plot settings\n",
    "import matplotlib.pyplot as plt\n",
    "import matplotlib\n",
    "from cycler import cycler\n",
    "import torch\n",
    "import torch.optim as optim\n",
    "from torch.nn import ReLU\n",
    "\n",
    "plt.rcParams['xtick.direction'] = 'in'\n",
    "plt.rcParams['ytick.direction'] = 'in'\n",
    "plt.rcParams['xtick.major.size'] = 5.0\n",
    "plt.rcParams['xtick.minor.size'] = 3.0\n",
    "plt.rcParams['ytick.major.size'] = 5.0\n",
    "plt.rcParams['ytick.minor.size'] = 3.0\n",
    "plt.rcParams['lines.linewidth'] = 2\n",
    "plt.rc('font', family='serif',size=16)\n",
    "matplotlib.rc('text', usetex=True)\n",
    "matplotlib.rc('legend', fontsize=16)\n",
    "matplotlib.rcParams['axes.prop_cycle'] = cycler(\n",
    "    color=['#E24A33', '#348ABD', '#988ED5', '#777777', '#FBC15E', '#8EBA42', '#FFB5B8']\n",
    "    )\n",
    "matplotlib.rcParams.update(\n",
    "    {\"axes.grid\":True,\n",
    "    \"grid.alpha\":0.75,\n",
    "    \"grid.linewidth\":0.5}\n",
    "    )\n",
    "colors = plt.rcParams['axes.prop_cycle'].by_key()['color']\n",
    "\n",
    "np.set_printoptions(linewidth=120)  # Adjust the number to the desired width\n",
    "torch.set_printoptions(linewidth=120)  # Adjust the number to the desired width"
   ]
  },
  {
   "cell_type": "code",
   "execution_count": null,
   "metadata": {},
   "outputs": [],
   "source": [
    "L = 4\n",
    "model = MiniBFSS(couplings={\"lambda\": 1})\n",
    "checkpoint_path = f\"checkpoints/MiniBFSS_L_{L}_lazy_symmetric\"\n",
    "\n",
    "bootstrap = BootstrapSystem(\n",
    "    matrix_system=model.matrix_system,\n",
    "    hamiltonian=model.hamiltonian,\n",
    "    gauge_generator=model.gauge_generator,\n",
    "    max_degree_L=L,\n",
    "    symmetry_generators=model.symmetry_generators,\n",
    "    verbose=True,\n",
    "    checkpoint_path=checkpoint_path,\n",
    "    odd_degree_vanish=True,\n",
    "    #load_from_previously_computed=True\n",
    "    )\n",
    "bootstrap.load_constraints(checkpoint_path)"
   ]
  },
  {
   "cell_type": "code",
   "execution_count": null,
   "metadata": {},
   "outputs": [],
   "source": []
  },
  {
   "cell_type": "code",
   "execution_count": null,
   "metadata": {},
   "outputs": [],
   "source": []
  },
  {
   "cell_type": "code",
   "execution_count": null,
   "metadata": {},
   "outputs": [],
   "source": [
    "x3 = 0.5664224028587341\n",
    "x4 = 0.5642986304623219\n",
    "x3 - x4"
   ]
  },
  {
   "cell_type": "code",
   "execution_count": null,
   "metadata": {},
   "outputs": [],
   "source": [
    "len(bootstrap.linear_constraints)"
   ]
  },
  {
   "cell_type": "code",
   "execution_count": null,
   "metadata": {},
   "outputs": [],
   "source": [
    "new_constraints = []\n",
    "\n",
    "set_of_hashes = set()\n",
    "for st_operator in bootstrap.linear_constraints:\n",
    "    new_dict = {}\n",
    "    norm = 1\n",
    "    for idx, (k, v) in enumerate(st_operator):\n",
    "        if idx == 0:\n",
    "            norm = float(1/v)\n",
    "        new_dict[''.join(k)] = float(v) * norm\n",
    "    #new_dict = {''.join(k): float(v) for k, v in st_operator}\n",
    "    s = json.dumps(new_dict).encode('utf-8')\n",
    "    hash_digest = hashlib.md5(s).digest()\n",
    "    if hash_digest not in set_of_hashes:\n",
    "        new_constraints.append(st_operator)\n",
    "        set_of_hashes.add(hash_digest)"
   ]
  },
  {
   "cell_type": "code",
   "execution_count": null,
   "metadata": {},
   "outputs": [],
   "source": [
    "print(f\"number of unique hashes: {len(set_of_hashes)}, ratio of hashes to constraints: {len(set_of_hashes) / len(bootstrap.linear_constraints)}\")"
   ]
  },
  {
   "cell_type": "code",
   "execution_count": null,
   "metadata": {},
   "outputs": [],
   "source": [
    "bootstrap.linear_constraints = new_constraints"
   ]
  },
  {
   "cell_type": "code",
   "execution_count": null,
   "metadata": {},
   "outputs": [],
   "source": [
    "linear_constraint_matrix = bootstrap.build_linear_constraints()"
   ]
  },
  {
   "cell_type": "code",
   "execution_count": null,
   "metadata": {},
   "outputs": [],
   "source": [
    "linear_constraint_matrix.shape"
   ]
  },
  {
   "cell_type": "code",
   "execution_count": null,
   "metadata": {},
   "outputs": [],
   "source": [
    "bootstrap.build_null_space_matrix()"
   ]
  },
  {
   "cell_type": "code",
   "execution_count": null,
   "metadata": {},
   "outputs": [],
   "source": []
  },
  {
   "cell_type": "code",
   "execution_count": null,
   "metadata": {},
   "outputs": [],
   "source": []
  },
  {
   "cell_type": "code",
   "execution_count": null,
   "metadata": {},
   "outputs": [],
   "source": []
  }
 ],
 "metadata": {
  "kernelspec": {
   "display_name": "bmnsim",
   "language": "python",
   "name": "python3"
  },
  "language_info": {
   "codemirror_mode": {
    "name": "ipython",
    "version": 3
   },
   "file_extension": ".py",
   "mimetype": "text/x-python",
   "name": "python",
   "nbconvert_exporter": "python",
   "pygments_lexer": "ipython3",
   "version": "3.11.9"
  }
 },
 "nbformat": 4,
 "nbformat_minor": 2
}
