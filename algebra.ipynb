{
 "cells": [
  {
   "cell_type": "markdown",
   "metadata": {},
   "source": [
    "1. How to represent single trace operators?\n",
    "2. How to implement commutators of these"
   ]
  },
  {
   "cell_type": "code",
   "execution_count": 1,
   "metadata": {},
   "outputs": [],
   "source": [
    "import numpy as np\n",
    "import sympy as sp\n",
    "from typing import Union, Self\n",
    "from numbers import Number"
   ]
  },
  {
   "cell_type": "code",
   "execution_count": 36,
   "metadata": {},
   "outputs": [],
   "source": [
    "class SingleTraceOperator():\n",
    "\n",
    "    def __init__(self, operators: Union[str, list[str]], coeffs: Union[Number, list[Number]], tol=1e-10):\n",
    "        '''\n",
    "        TODO\n",
    "        consider allowing for symbolic coefficients\n",
    "        consider changing the input to be a dictionary\n",
    "        build some unit tests to check the basic operation\n",
    "        Should this be a single trace operator or just operator?\n",
    "        '''\n",
    "        if not isinstance(operators, list):\n",
    "            operators = [operators]\n",
    "        if not isinstance(coeffs, list):\n",
    "            coeffs = [coeffs]\n",
    "        self.tol = tol\n",
    "        self.data = {op: c for op, c in zip(operators, coeffs) if np.abs(c) > self.tol}\n",
    "        self.operators = list(self.data.keys())\n",
    "        self.coeffs = list(self.data.values())\n",
    "        self._validate()\n",
    "\n",
    "    def _validate(self):\n",
    "        if len(self.coeffs) != len(self.operators):\n",
    "            raise ValueError(\"Warning, unequal numbers of terms and coefficients were specified.\")\n",
    "\n",
    "    def __repr__(self) -> str:\n",
    "        return f\"SingleTraceOperator(operators={self.operators!r}, coeff={self.coeffs!r})\"\n",
    "\n",
    "    def __str__(self) -> str:\n",
    "        x = ''\n",
    "        for idx, (coeff, op) in enumerate(zip(self.coeffs, self.operators)):\n",
    "            x += f'{coeff}' + f' tr {op}'\n",
    "            if idx != len(self.operators) - 1:\n",
    "                x += ' + '\n",
    "        return x\n",
    "\n",
    "    def __add__(self, other: Self) -> Self:\n",
    "        new_data = self.data.copy()\n",
    "        for op, coeff in other.data.items():\n",
    "            new_data[op] = new_data.get(op, 0) + coeff\n",
    "        return SingleTraceOperator(operators=list(new_data.keys()), coeffs=list(new_data.values()))\n",
    "\n",
    "    def __sub__(self, other: Self) -> Self:\n",
    "        new_data = self.data.copy()\n",
    "        for op, coeff in other.data.items():\n",
    "            new_data[op] = new_data.get(op, 0) - coeff\n",
    "        return SingleTraceOperator(operators=list(new_data.keys()), coeffs=list(new_data.values()))\n",
    "\n",
    "    def __rmul__(self, other: Number):\n",
    "        if isinstance(other, Number):\n",
    "            new_data = {op: other * coeff for op, coeff in self.data.items()}\n",
    "            return SingleTraceOperator(operators=list(new_data.keys()), coeffs=list(new_data.values()))\n",
    "        else:\n",
    "            raise ValueError(\"Warning, right multiplication only valid for numbers\")\n",
    "\n",
    "    def __mul__(self, other: Union[Self, Number]):\n",
    "        if isinstance(other, Number):\n",
    "            return self.__rmul__(other)\n",
    "        new_data = {}\n",
    "        for op1, coeff1 in self.data.items():\n",
    "            for op2, coeff2 in other.data.items():\n",
    "                new_data[op1 + op2] = new_data.get(op1 + op2, 0) + coeff1 * coeff2\n",
    "        return SingleTraceOperator(operators=list(new_data.keys()), coeffs=list(new_data.values()))\n",
    "\n",
    "    def __pow__(self, power: int):\n",
    "        if not isinstance(power, int):\n",
    "            raise ValueError(\"Warning, exponentiation only defined for positive integer powers.\")\n",
    "        if power < 0:\n",
    "            raise ValueError(\"Warning, exponentiation only defined for positive integer powers.\")\n",
    "        if power == 0:\n",
    "            raise NotImplementedError\n",
    "        if power == 1:\n",
    "            return self\n",
    "        else:\n",
    "            return self * self.__pow__(power-1)"
   ]
  },
  {
   "cell_type": "code",
   "execution_count": 37,
   "metadata": {},
   "outputs": [
    {
     "data": {
      "text/plain": [
       "SingleTraceOperator(operators=['X', 'Z'], coeff=[0.5, 3])"
      ]
     },
     "execution_count": 37,
     "metadata": {},
     "output_type": "execute_result"
    }
   ],
   "source": [
    "H = SingleTraceOperator(operators = ['X', 'XY'], coeffs = [0.5, 0])\n",
    "A = SingleTraceOperator(operators = ['Z', 'XY'], coeffs = [3, 0])\n",
    "H + A"
   ]
  },
  {
   "cell_type": "code",
   "execution_count": 38,
   "metadata": {},
   "outputs": [
    {
     "name": "stdout",
     "output_type": "stream",
     "text": [
      "0.5 tr X + 3 tr Z\n"
     ]
    }
   ],
   "source": [
    "print(H+A)"
   ]
  },
  {
   "cell_type": "code",
   "execution_count": 39,
   "metadata": {},
   "outputs": [
    {
     "data": {
      "text/plain": [
       "SingleTraceOperator(operators=['XXX'], coeff=[0.125])"
      ]
     },
     "execution_count": 39,
     "metadata": {},
     "output_type": "execute_result"
    }
   ],
   "source": [
    "H**3"
   ]
  },
  {
   "cell_type": "code",
   "execution_count": 32,
   "metadata": {},
   "outputs": [
    {
     "data": {
      "text/plain": [
       "SingleTraceOperator(str_repr=['XZ'], coeff=[1.5])"
      ]
     },
     "execution_count": 32,
     "metadata": {},
     "output_type": "execute_result"
    }
   ],
   "source": [
    "H * A"
   ]
  },
  {
   "cell_type": "code",
   "execution_count": 33,
   "metadata": {},
   "outputs": [
    {
     "data": {
      "text/plain": [
       "SingleTraceOperator(str_repr=['ZX'], coeff=[1.5])"
      ]
     },
     "execution_count": 33,
     "metadata": {},
     "output_type": "execute_result"
    }
   ],
   "source": [
    "A * H"
   ]
  },
  {
   "cell_type": "code",
   "execution_count": 34,
   "metadata": {},
   "outputs": [
    {
     "data": {
      "text/plain": [
       "SingleTraceOperator(str_repr=['Z'], coeff=[6])"
      ]
     },
     "execution_count": 34,
     "metadata": {},
     "output_type": "execute_result"
    }
   ],
   "source": [
    "2 * A"
   ]
  },
  {
   "cell_type": "code",
   "execution_count": null,
   "metadata": {},
   "outputs": [],
   "source": []
  },
  {
   "cell_type": "code",
   "execution_count": null,
   "metadata": {},
   "outputs": [],
   "source": []
  }
 ],
 "metadata": {
  "kernelspec": {
   "display_name": "bmnsim",
   "language": "python",
   "name": "python3"
  },
  "language_info": {
   "codemirror_mode": {
    "name": "ipython",
    "version": 3
   },
   "file_extension": ".py",
   "mimetype": "text/x-python",
   "name": "python",
   "nbconvert_exporter": "python",
   "pygments_lexer": "ipython3",
   "version": "3.12.3"
  }
 },
 "nbformat": 4,
 "nbformat_minor": 2
}
