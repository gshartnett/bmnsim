{
 "cells": [
  {
   "attachments": {},
   "cell_type": "markdown",
   "metadata": {},
   "source": [
    "# Mini-BMN Notebook\n",
    "\n",
    "Expand mini-BMN hamiltonian into Pauli strings\n",
    "\n",
    "To Do\n",
    "- add comments\n",
    "- check units\n",
    "- how to simulate? what to simulate?\n",
    "- fuzzy spheres"
   ]
  },
  {
   "cell_type": "code",
   "execution_count": 40,
   "metadata": {},
   "outputs": [],
   "source": [
    "import numpy as np\n",
    "import sympy as sp\n",
    "from collections import Counter\n",
    "#from symengine.lib.symengine_wrapper import Zero as spZero\n",
    "import symengine.lib.symengine_wrapper as symengine_wrapper\n",
    "from typing import Union\n",
    "from collections import Counter\n",
    "\n",
    "import qiskit\n",
    "from qiskit import QuantumCircuit\n",
    "from qiskit.circuit import Parameter, ParameterVector, ParameterExpression\n",
    "from qiskit.circuit.library import PauliEvolutionGate\n",
    "from qiskit.quantum_info import Pauli, Operator, SparsePauliOp, Statevector\n",
    "from qiskit_algorithms import TimeEvolutionProblem, TrotterQRTE\n",
    "from qiskit.primitives import Estimator\n",
    "from qiskit.synthesis import SuzukiTrotter, LieTrotter\n",
    "from qiskit_ibm_runtime import QiskitRuntimeService, Session\n",
    "\n",
    "from qctrlresearchtools.ibm.platform import QCTRLPlatform\n",
    "\n",
    "from bmn.sim_utils import SpecialUnitaryGroup, BMNModel"
   ]
  },
  {
   "cell_type": "code",
   "execution_count": 17,
   "metadata": {},
   "outputs": [],
   "source": [
    "#FONTSIZE_LARGE = 10\n",
    "#FONTSIZE_SMALL = 8"
   ]
  },
  {
   "cell_type": "code",
   "execution_count": 18,
   "metadata": {},
   "outputs": [],
   "source": [
    "import matplotlib\n",
    "import matplotlib.pyplot as plt\n",
    "from cycler import cycler\n",
    "\n",
    "plt.rcParams['xtick.direction'] = 'in'\n",
    "plt.rcParams['ytick.direction'] = 'in'\n",
    "plt.rcParams['xtick.major.size'] = 5.0\n",
    "plt.rcParams['xtick.minor.size'] = 3.0\n",
    "plt.rcParams['ytick.major.size'] = 5.0\n",
    "plt.rcParams['ytick.minor.size'] = 3.0\n",
    "plt.rc('font', family='serif',size=14)\n",
    "#matplotlib.rc('text', usetex=True)\n",
    "matplotlib.rc('legend', fontsize=14)\n",
    "plt.rcParams['ytick.minor.size'] = 3.0\n",
    "matplotlib.rcParams.update({\"axes.grid\" : True,\n",
    "                            \"grid.alpha\": 0.75,\n",
    "                            \"grid.linewidth\": 0.5})\n",
    "matplotlib.rcParams['axes.prop_cycle'] = cycler(color=['#E24A33', '#348ABD', '#988ED5', '#777777', '#FBC15E', '#8EBA42', '#FFB5B8'])\n",
    "colors = plt.rcParams['axes.prop_cycle'].by_key()['color']"
   ]
  },
  {
   "cell_type": "markdown",
   "metadata": {},
   "source": [
    "## Trotter simulation of truncated mini-BMN model\n",
    "- Note that if the truncation parameter `K=1`, then the Hamiltonian will be diagonal in the X-basis."
   ]
  },
  {
   "cell_type": "code",
   "execution_count": 35,
   "metadata": {},
   "outputs": [
    {
     "name": "stdout",
     "output_type": "stream",
     "text": [
      "number_qubits 18, Hilbert space dimension 262144\n",
      "number of terms in Hamiltonian = 3013\n"
     ]
    }
   ],
   "source": [
    "K = 2\n",
    "Lambda = 2**K\n",
    "N = 2 #N in SU(N)\n",
    "\n",
    "bmn = BMNModel(gauge_group_degree=N, bits_per_oscillator=K)\n",
    "num_qubits = bmn.num_qubits\n",
    "nu = Parameter('nu')\n",
    "H = bmn.hamiltonian(nu)\n",
    "print(f\"number of terms in Hamiltonian = {len(H)}\")"
   ]
  },
  {
   "cell_type": "code",
   "execution_count": 36,
   "metadata": {},
   "outputs": [
    {
     "data": {
      "text/plain": [
       "{0: 1, 1: 18, 2: 90, 3: 150, 4: 135, 5: 270, 6: 648, 7: 972, 8: 729}"
      ]
     },
     "execution_count": 36,
     "metadata": {},
     "output_type": "execute_result"
    }
   ],
   "source": [
    "pauli_str_lengths = [num_qubits - pauli.__str__().count('I') for pauli in H.paulis]\n",
    "pauli_str_lengths = Counter(pauli_str_lengths)\n",
    "pauli_str_lengths = dict(sorted(pauli_str_lengths.items()))\n",
    "pauli_str_lengths"
   ]
  },
  {
   "cell_type": "code",
   "execution_count": 37,
   "metadata": {},
   "outputs": [
    {
     "data": {
      "image/png": "[encoded data removed]",
      "text/plain": [
       "<Figure size 600x400 with 1 Axes>"
      ]
     },
     "metadata": {},
     "output_type": "display_data"
    }
   ],
   "source": [
    "fig, ax = plt.subplots(figsize=(6, 4))\n",
    "plt.bar(pauli_str_lengths.keys(), pauli_str_lengths.values())\n",
    "plt.xlabel('Weight')\n",
    "plt.ylabel('Count')\n",
    "plt.title(f'Pauli weights in Hamiltonian, N={N}, ' + r'$\\Lambda$ = ' + str(Lambda))\n",
    "ax.set_xticks(list(pauli_str_lengths.keys()))\n",
    "plt.show()"
   ]
  },
  {
   "cell_type": "code",
   "execution_count": 38,
   "metadata": {},
   "outputs": [],
   "source": [
    "final_time = 10\n",
    "nu_value = 1.0\n",
    "H_assigned = H.assign_parameters({nu: nu_value})\n",
    "\n",
    "initial_state = Statevector.from_label(\"1\" * num_qubits)\n",
    "#initial_state = Statevector.from_label(\"010100110\")\n",
    "\n",
    "trotter = TrotterQRTE()\n",
    "problem = TimeEvolutionProblem(H_assigned, initial_state=initial_state, time=final_time)\n",
    "# this will crash if the number of qubits is too high\n",
    "if num_qubits < 10:\n",
    "    result = trotter.evolve(problem)\n",
    "    statevector = Statevector(result.evolved_state)\n",
    "\n",
    "num_timesteps = 20\n",
    "product_formula = SuzukiTrotter(order=2, reps=1)\n",
    "trotter = TrotterQRTE(num_timesteps=num_timesteps, estimator=Estimator(), product_formula=product_formula)\n",
    "problem = TimeEvolutionProblem(\n",
    "    H_assigned,\n",
    "    initial_state=initial_state,\n",
    "    time=final_time,\n",
    "    aux_operators=[H_assigned],\n",
    ")\n",
    "# this will crash if the number of qubits is too high\n",
    "if num_qubits < 10:\n",
    "    result = trotter.evolve(problem)"
   ]
  },
  {
   "cell_type": "code",
   "execution_count": 39,
   "metadata": {},
   "outputs": [
    {
     "data": {
      "text/plain": [
       "<qiskit.circuit.instructionset.InstructionSet at 0x3131bfc40>"
      ]
     },
     "execution_count": 39,
     "metadata": {},
     "output_type": "execute_result"
    }
   ],
   "source": [
    "#product_formula = SuzukiTrotter(order=2, reps=1)\n",
    "product_formula = LieTrotter(reps=1)\n",
    "time = 1.0\n",
    "evolution_instruction = PauliEvolutionGate(H_assigned, time, synthesis=product_formula)\n",
    "\n",
    "qc = QuantumCircuit(num_qubits)\n",
    "qc.append(evolution_instruction, [i for i in range(num_qubits)])\n",
    "#qc.draw(output=\"mpl\")"
   ]
  },
  {
   "cell_type": "code",
   "execution_count": 41,
   "metadata": {},
   "outputs": [],
   "source": []
  },
  {
   "cell_type": "code",
   "execution_count": 43,
   "metadata": {},
   "outputs": [],
   "source": [
    "service_name = 'gavin-applications'\n",
    "backend_name = \"ibm_brisbane\"\n",
    "\n",
    "runtime_service = QiskitRuntimeService(name=service_name)\n",
    "qctrl_platform = QCTRLPlatform(backend_name, runtime_service)"
   ]
  },
  {
   "cell_type": "code",
   "execution_count": 44,
   "metadata": {},
   "outputs": [
    {
     "name": "stderr",
     "output_type": "stream",
     "text": [
      "/Users/gavinhartnett/miniforge3/envs/bmnsim/lib/python3.11/site-packages/numpy/linalg/linalg.py:2180: RuntimeWarning: divide by zero encountered in det\n",
      "  r = _umath_linalg.det(a, signature=signature)\n",
      "/Users/gavinhartnett/miniforge3/envs/bmnsim/lib/python3.11/site-packages/numpy/linalg/linalg.py:2180: RuntimeWarning: invalid value encountered in det\n",
      "  r = _umath_linalg.det(a, signature=signature)\n",
      "/Users/gavinhartnett/miniforge3/envs/bmnsim/lib/python3.11/site-packages/numpy/linalg/linalg.py:2180: RuntimeWarning: divide by zero encountered in det\n",
      "  r = _umath_linalg.det(a, signature=signature)\n",
      "/Users/gavinhartnett/miniforge3/envs/bmnsim/lib/python3.11/site-packages/numpy/linalg/linalg.py:2180: RuntimeWarning: invalid value encountered in det\n",
      "  r = _umath_linalg.det(a, signature=signature)\n",
      "/Users/gavinhartnett/miniforge3/envs/bmnsim/lib/python3.11/site-packages/numpy/linalg/linalg.py:2180: RuntimeWarning: divide by zero encountered in det\n",
      "  r = _umath_linalg.det(a, signature=signature)\n",
      "/Users/gavinhartnett/miniforge3/envs/bmnsim/lib/python3.11/site-packages/numpy/linalg/linalg.py:2180: RuntimeWarning: invalid value encountered in det\n",
      "  r = _umath_linalg.det(a, signature=signature)\n",
      "/Users/gavinhartnett/miniforge3/envs/bmnsim/lib/python3.11/site-packages/numpy/linalg/linalg.py:2180: RuntimeWarning: divide by zero encountered in det\n",
      "  r = _umath_linalg.det(a, signature=signature)\n",
      "/Users/gavinhartnett/miniforge3/envs/bmnsim/lib/python3.11/site-packages/numpy/linalg/linalg.py:2180: RuntimeWarning: invalid value encountered in det\n",
      "  r = _umath_linalg.det(a, signature=signature)\n",
      "/Users/gavinhartnett/miniforge3/envs/bmnsim/lib/python3.11/site-packages/numpy/linalg/linalg.py:2180: RuntimeWarning: divide by zero encountered in det\n",
      "  r = _umath_linalg.det(a, signature=signature)\n",
      "/Users/gavinhartnett/miniforge3/envs/bmnsim/lib/python3.11/site-packages/numpy/linalg/linalg.py:2180: RuntimeWarning: invalid value encountered in det\n",
      "  r = _umath_linalg.det(a, signature=signature)\n",
      "/Users/gavinhartnett/miniforge3/envs/bmnsim/lib/python3.11/site-packages/numpy/linalg/linalg.py:2180: RuntimeWarning: divide by zero encountered in det\n",
      "  r = _umath_linalg.det(a, signature=signature)\n",
      "/Users/gavinhartnett/miniforge3/envs/bmnsim/lib/python3.11/site-packages/numpy/linalg/linalg.py:2180: RuntimeWarning: invalid value encountered in det\n",
      "  r = _umath_linalg.det(a, signature=signature)\n",
      "/Users/gavinhartnett/miniforge3/envs/bmnsim/lib/python3.11/site-packages/numpy/linalg/linalg.py:2180: RuntimeWarning: divide by zero encountered in det\n",
      "  r = _umath_linalg.det(a, signature=signature)\n",
      "/Users/gavinhartnett/miniforge3/envs/bmnsim/lib/python3.11/site-packages/numpy/linalg/linalg.py:2180: RuntimeWarning: invalid value encountered in det\n",
      "  r = _umath_linalg.det(a, signature=signature)\n",
      "/Users/gavinhartnett/miniforge3/envs/bmnsim/lib/python3.11/site-packages/numpy/linalg/linalg.py:2180: RuntimeWarning: divide by zero encountered in det\n",
      "  r = _umath_linalg.det(a, signature=signature)\n",
      "/Users/gavinhartnett/miniforge3/envs/bmnsim/lib/python3.11/site-packages/numpy/linalg/linalg.py:2180: RuntimeWarning: invalid value encountered in det\n",
      "  r = _umath_linalg.det(a, signature=signature)\n",
      "/Users/gavinhartnett/miniforge3/envs/bmnsim/lib/python3.11/site-packages/numpy/linalg/linalg.py:2180: RuntimeWarning: divide by zero encountered in det\n",
      "  r = _umath_linalg.det(a, signature=signature)\n",
      "/Users/gavinhartnett/miniforge3/envs/bmnsim/lib/python3.11/site-packages/numpy/linalg/linalg.py:2180: RuntimeWarning: invalid value encountered in det\n",
      "  r = _umath_linalg.det(a, signature=signature)\n",
      "/Users/gavinhartnett/miniforge3/envs/bmnsim/lib/python3.11/site-packages/numpy/linalg/linalg.py:2180: RuntimeWarning: divide by zero encountered in det\n",
      "  r = _umath_linalg.det(a, signature=signature)\n",
      "/Users/gavinhartnett/miniforge3/envs/bmnsim/lib/python3.11/site-packages/numpy/linalg/linalg.py:2180: RuntimeWarning: invalid value encountered in det\n",
      "  r = _umath_linalg.det(a, signature=signature)\n",
      "/Users/gavinhartnett/miniforge3/envs/bmnsim/lib/python3.11/site-packages/numpy/linalg/linalg.py:2180: RuntimeWarning: divide by zero encountered in det\n",
      "  r = _umath_linalg.det(a, signature=signature)\n",
      "/Users/gavinhartnett/miniforge3/envs/bmnsim/lib/python3.11/site-packages/numpy/linalg/linalg.py:2180: RuntimeWarning: invalid value encountered in det\n",
      "  r = _umath_linalg.det(a, signature=signature)\n",
      "/Users/gavinhartnett/miniforge3/envs/bmnsim/lib/python3.11/site-packages/numpy/linalg/linalg.py:2180: RuntimeWarning: divide by zero encountered in det\n",
      "  r = _umath_linalg.det(a, signature=signature)\n",
      "/Users/gavinhartnett/miniforge3/envs/bmnsim/lib/python3.11/site-packages/numpy/linalg/linalg.py:2180: RuntimeWarning: invalid value encountered in det\n",
      "  r = _umath_linalg.det(a, signature=signature)\n",
      "/Users/gavinhartnett/miniforge3/envs/bmnsim/lib/python3.11/site-packages/numpy/linalg/linalg.py:2180: RuntimeWarning: divide by zero encountered in det\n",
      "  r = _umath_linalg.det(a, signature=signature)\n",
      "/Users/gavinhartnett/miniforge3/envs/bmnsim/lib/python3.11/site-packages/numpy/linalg/linalg.py:2180: RuntimeWarning: invalid value encountered in det\n",
      "  r = _umath_linalg.det(a, signature=signature)\n",
      "/Users/gavinhartnett/miniforge3/envs/bmnsim/lib/python3.11/site-packages/numpy/linalg/linalg.py:2180: RuntimeWarning: divide by zero encountered in det\n",
      "  r = _umath_linalg.det(a, signature=signature)\n",
      "/Users/gavinhartnett/miniforge3/envs/bmnsim/lib/python3.11/site-packages/numpy/linalg/linalg.py:2180: RuntimeWarning: invalid value encountered in det\n",
      "  r = _umath_linalg.det(a, signature=signature)\n",
      "/Users/gavinhartnett/miniforge3/envs/bmnsim/lib/python3.11/site-packages/numpy/linalg/linalg.py:2180: RuntimeWarning: divide by zero encountered in det\n",
      "  r = _umath_linalg.det(a, signature=signature)\n",
      "/Users/gavinhartnett/miniforge3/envs/bmnsim/lib/python3.11/site-packages/numpy/linalg/linalg.py:2180: RuntimeWarning: invalid value encountered in det\n",
      "  r = _umath_linalg.det(a, signature=signature)\n",
      "/Users/gavinhartnett/miniforge3/envs/bmnsim/lib/python3.11/site-packages/numpy/linalg/linalg.py:2180: RuntimeWarning: divide by zero encountered in det\n",
      "  r = _umath_linalg.det(a, signature=signature)\n",
      "/Users/gavinhartnett/miniforge3/envs/bmnsim/lib/python3.11/site-packages/numpy/linalg/linalg.py:2180: RuntimeWarning: invalid value encountered in det\n",
      "  r = _umath_linalg.det(a, signature=signature)\n",
      "/Users/gavinhartnett/miniforge3/envs/bmnsim/lib/python3.11/site-packages/numpy/linalg/linalg.py:2180: RuntimeWarning: divide by zero encountered in det\n",
      "  r = _umath_linalg.det(a, signature=signature)\n",
      "/Users/gavinhartnett/miniforge3/envs/bmnsim/lib/python3.11/site-packages/numpy/linalg/linalg.py:2180: RuntimeWarning: invalid value encountered in det\n",
      "  r = _umath_linalg.det(a, signature=signature)\n",
      "/Users/gavinhartnett/miniforge3/envs/bmnsim/lib/python3.11/site-packages/numpy/linalg/linalg.py:2180: RuntimeWarning: divide by zero encountered in det\n",
      "  r = _umath_linalg.det(a, signature=signature)\n",
      "/Users/gavinhartnett/miniforge3/envs/bmnsim/lib/python3.11/site-packages/numpy/linalg/linalg.py:2180: RuntimeWarning: invalid value encountered in det\n",
      "  r = _umath_linalg.det(a, signature=signature)\n",
      "/Users/gavinhartnett/miniforge3/envs/bmnsim/lib/python3.11/site-packages/numpy/linalg/linalg.py:2180: RuntimeWarning: divide by zero encountered in det\n",
      "  r = _umath_linalg.det(a, signature=signature)\n",
      "/Users/gavinhartnett/miniforge3/envs/bmnsim/lib/python3.11/site-packages/numpy/linalg/linalg.py:2180: RuntimeWarning: invalid value encountered in det\n",
      "  r = _umath_linalg.det(a, signature=signature)\n",
      "/Users/gavinhartnett/miniforge3/envs/bmnsim/lib/python3.11/site-packages/numpy/linalg/linalg.py:2180: RuntimeWarning: divide by zero encountered in det\n",
      "  r = _umath_linalg.det(a, signature=signature)\n",
      "/Users/gavinhartnett/miniforge3/envs/bmnsim/lib/python3.11/site-packages/numpy/linalg/linalg.py:2180: RuntimeWarning: invalid value encountered in det\n",
      "  r = _umath_linalg.det(a, signature=signature)\n",
      "/Users/gavinhartnett/miniforge3/envs/bmnsim/lib/python3.11/site-packages/numpy/linalg/linalg.py:2180: RuntimeWarning: divide by zero encountered in det\n",
      "  r = _umath_linalg.det(a, signature=signature)\n",
      "/Users/gavinhartnett/miniforge3/envs/bmnsim/lib/python3.11/site-packages/numpy/linalg/linalg.py:2180: RuntimeWarning: invalid value encountered in det\n",
      "  r = _umath_linalg.det(a, signature=signature)\n",
      "/Users/gavinhartnett/miniforge3/envs/bmnsim/lib/python3.11/site-packages/numpy/linalg/linalg.py:2180: RuntimeWarning: divide by zero encountered in det\n",
      "  r = _umath_linalg.det(a, signature=signature)\n",
      "/Users/gavinhartnett/miniforge3/envs/bmnsim/lib/python3.11/site-packages/numpy/linalg/linalg.py:2180: RuntimeWarning: invalid value encountered in det\n",
      "  r = _umath_linalg.det(a, signature=signature)\n"
     ]
    }
   ],
   "source": [
    "compiled_circs = qctrl_platform.transpile(\n",
    "    circuits=qc,\n",
    "    enable_dd=True,\n",
    "    small_angle_threshold=0,\n",
    "    )"
   ]
  },
  {
   "cell_type": "code",
   "execution_count": 48,
   "metadata": {},
   "outputs": [
    {
     "data": {
      "text/plain": [
       "array([[1, 2, 3],\n",
       "       [4, 5, 6]])"
      ]
     },
     "execution_count": 48,
     "metadata": {},
     "output_type": "execute_result"
    }
   ],
   "source": [
    "mat = np.asarray([\n",
    "    [1, 2, 3],\n",
    "    [4, 5, 6],\n",
    "])\n",
    "mat"
   ]
  },
  {
   "cell_type": "code",
   "execution_count": 49,
   "metadata": {},
   "outputs": [
    {
     "data": {
      "text/plain": [
       "array([1, 4])"
      ]
     },
     "execution_count": 49,
     "metadata": {},
     "output_type": "execute_result"
    }
   ],
   "source": [
    "mat[:, 0]"
   ]
  },
  {
   "cell_type": "code",
   "execution_count": null,
   "metadata": {},
   "outputs": [],
   "source": []
  },
  {
   "cell_type": "code",
   "execution_count": null,
   "metadata": {},
   "outputs": [],
   "source": [
    "observables = np.array(np.array(result.observables))\n",
    "observables.shape"
   ]
  },
  {
   "cell_type": "code",
   "execution_count": null,
   "metadata": {},
   "outputs": [],
   "source": [
    "observables[0]"
   ]
  },
  {
   "cell_type": "code",
   "execution_count": 21,
   "metadata": {},
   "outputs": [
    {
     "ename": "NameError",
     "evalue": "name 'observables' is not defined",
     "output_type": "error",
     "traceback": [
      "\u001b[0;31m---------------------------------------------------------------------------\u001b[0m",
      "\u001b[0;31mNameError\u001b[0m                                 Traceback (most recent call last)",
      "Cell \u001b[0;32mIn[21], line 4\u001b[0m\n\u001b[1;32m      1\u001b[0m fig, ax \u001b[38;5;241m=\u001b[39m plt\u001b[38;5;241m.\u001b[39msubplots(figsize\u001b[38;5;241m=\u001b[39m(\u001b[38;5;241m6\u001b[39m, \u001b[38;5;241m4\u001b[39m))\n\u001b[1;32m      2\u001b[0m times \u001b[38;5;241m=\u001b[39m np\u001b[38;5;241m.\u001b[39mlinspace(\u001b[38;5;241m0\u001b[39m, final_time, num_timesteps \u001b[38;5;241m+\u001b[39m \u001b[38;5;241m1\u001b[39m)  \u001b[38;5;66;03m# includes initial state\u001b[39;00m\n\u001b[1;32m      3\u001b[0m ax\u001b[38;5;241m.\u001b[39mplot(\n\u001b[0;32m----> 4\u001b[0m     times, \u001b[43mobservables\u001b[49m[:, \u001b[38;5;241m0\u001b[39m], label\u001b[38;5;241m=\u001b[39m\u001b[38;5;124m\"\u001b[39m\u001b[38;5;124mFirst order\u001b[39m\u001b[38;5;124m\"\u001b[39m, marker\u001b[38;5;241m=\u001b[39m\u001b[38;5;124m\"\u001b[39m\u001b[38;5;124mx\u001b[39m\u001b[38;5;124m\"\u001b[39m, c\u001b[38;5;241m=\u001b[39m\u001b[38;5;124m\"\u001b[39m\u001b[38;5;124mdarkmagenta\u001b[39m\u001b[38;5;124m\"\u001b[39m, ls\u001b[38;5;241m=\u001b[39m\u001b[38;5;124m\"\u001b[39m\u001b[38;5;124m-\u001b[39m\u001b[38;5;124m\"\u001b[39m, lw\u001b[38;5;241m=\u001b[39m\u001b[38;5;241m0.8\u001b[39m\n\u001b[1;32m      5\u001b[0m )\n\u001b[1;32m      6\u001b[0m ax\u001b[38;5;241m.\u001b[39mset_ylabel(\u001b[38;5;124m\"\u001b[39m\u001b[38;5;124mEnergy\u001b[39m\u001b[38;5;124m\"\u001b[39m)\n\u001b[1;32m      7\u001b[0m ax\u001b[38;5;241m.\u001b[39mset_ylabel(\u001b[38;5;124m\"\u001b[39m\u001b[38;5;124mMagnetization\u001b[39m\u001b[38;5;124m\"\u001b[39m)\n",
      "\u001b[0;31mNameError\u001b[0m: name 'observables' is not defined"
     ]
    },
    {
     "data": {
      "image/png": "[encoded data removed]",
      "text/plain": [
       "<Figure size 600x400 with 1 Axes>"
      ]
     },
     "metadata": {},
     "output_type": "display_data"
    }
   ],
   "source": [
    "fig, ax = plt.subplots(figsize=(6, 4))\n",
    "times = np.linspace(0, final_time, num_timesteps + 1)  # includes initial state\n",
    "ax.plot(\n",
    "    times, observables[:, 0], label=\"First order\", marker=\"x\", c=\"darkmagenta\", ls=\"-\", lw=0.8\n",
    ")\n",
    "ax.set_ylabel(\"Energy\")\n",
    "ax.set_ylabel(\"Magnetization\")\n",
    "ax.set_ylabel(\"Mean spin correlation\")\n",
    "ax.set_xlabel(\"Time\")\n",
    "fig.suptitle(\"Observable evolution\")"
   ]
  },
  {
   "cell_type": "code",
   "execution_count": null,
   "metadata": {},
   "outputs": [],
   "source": []
  },
  {
   "cell_type": "code",
   "execution_count": null,
   "metadata": {},
   "outputs": [],
   "source": []
  },
  {
   "cell_type": "code",
   "execution_count": null,
   "metadata": {},
   "outputs": [],
   "source": []
  },
  {
   "cell_type": "code",
   "execution_count": null,
   "metadata": {},
   "outputs": [],
   "source": []
  },
  {
   "cell_type": "code",
   "execution_count": null,
   "metadata": {},
   "outputs": [],
   "source": [
    "nu_values = np.linspace(0.1, 10, 10)\n",
    "eigs = {}\n",
    "\n",
    "for nu_value in nu_values:\n",
    "    Hmat = bmn.hamiltonian(nu).assign_parameters({nu:nu_value}).to_matrix(sparse=False)\n",
    "\n",
    "    # extract eigenvalues\n",
    "    x = np.linalg.eigvals(Hmat)\n",
    "    xR = np.real(x)\n",
    "    xI = np.imag(x)\n",
    "    # chop\n",
    "    xR[np.isclose(xR, 0)] = 0\n",
    "    xI[np.isclose(xI, 0)] = 0\n",
    "    # verify eigenvalues are real\n",
    "    assert np.array_equal(xI, np.zeros(len(xI)))\n",
    "\n",
    "    eigs[nu_value] = xR"
   ]
  },
  {
   "cell_type": "code",
   "execution_count": null,
   "metadata": {},
   "outputs": [],
   "source": [
    "fig, ax = plt.subplots(figsize=(6, 4))\n",
    "plt.plot(nu_values, [np.min(v) for v in eigs.values()], '-o')\n",
    "plt.xlabel(r'$\\nu$')\n",
    "plt.ylabel(r'$E_0$')\n",
    "plt.show()"
   ]
  },
  {
   "cell_type": "code",
   "execution_count": null,
   "metadata": {},
   "outputs": [],
   "source": [
    "fig, ax = plt.subplots(figsize=(6, 4))\n",
    "for i in range(2**bmn.num_qubits):\n",
    "    ax.plot(nu_values, [np.sort(eigs[nu_value])[i] for nu_value in nu_values], '-o', color='k', linewidth=0.5)\n",
    "ax.set_xlabel(r'$\\nu$')\n",
    "ax.set_ylabel(r'$E$')\n",
    "#ax.set_yscale('log')\n",
    "plt.show()"
   ]
  },
  {
   "cell_type": "code",
   "execution_count": null,
   "metadata": {},
   "outputs": [],
   "source": [
    "from collections import Counter\n",
    "\n",
    "for nu_value in nu_values:\n",
    "    plt.hist(eigs[nu_value], bins=10, label=f'nu={nu_value:.02f}')\n",
    "plt.legend()\n",
    "plt.show()"
   ]
  },
  {
   "cell_type": "code",
   "execution_count": null,
   "metadata": {},
   "outputs": [],
   "source": [
    "def maximum_weight_of_sparse_pauli(operator: SparsePauliOp) -> int:\n",
    "    return max([bmn.num_qubits - p.__str__().count(\"I\") for p in operator.paulis])"
   ]
  },
  {
   "cell_type": "code",
   "execution_count": null,
   "metadata": {},
   "outputs": [],
   "source": [
    "# max pauli weight of creation operators\n",
    "for matrix_idx in range(bmn.num_matrices):\n",
    "    for generator_idx in range(bmn.num_matrices):\n",
    "        print(maximum_weight_of_sparse_pauli(bmn.creation_operator(matrix_idx=matrix_idx, generator_idx=generator_idx)))"
   ]
  },
  {
   "cell_type": "code",
   "execution_count": null,
   "metadata": {},
   "outputs": [],
   "source": []
  },
  {
   "cell_type": "code",
   "execution_count": null,
   "metadata": {},
   "outputs": [],
   "source": []
  }
 ],
 "metadata": {
  "kernelspec": {
   "display_name": "Python 3.10.9 ('bmnsim')",
   "language": "python",
   "name": "python3"
  },
  "language_info": {
   "codemirror_mode": {
    "name": "ipython",
    "version": 3
   },
   "file_extension": ".py",
   "mimetype": "text/x-python",
   "name": "python",
   "nbconvert_exporter": "python",
   "pygments_lexer": "ipython3",
   "version": "3.11.9"
  },
  "orig_nbformat": 4,
  "vscode": {
   "interpreter": {
    "hash": "3c5df6d427fee16f27e88d71498fe2326ae3f38a57e954704f64325d933eb975"
   }
  }
 },
 "nbformat": 4,
 "nbformat_minor": 2
}
