{
 "cells": [
  {
   "attachments": {},
   "cell_type": "markdown",
   "metadata": {},
   "source": [
    "# Mini-BMN Notebook\n",
    "\n",
    "Expand mini-BMN hamiltonian into Pauli strings"
   ]
  },
  {
   "cell_type": "code",
   "execution_count": 169,
   "metadata": {},
   "outputs": [],
   "source": [
    "import qiskit\n",
    "import numpy as np\n",
    "import sympy as sp\n",
    "from collections import Counter\n",
    "from qiskit.circuit import Parameter, ParameterVector\n",
    "from qiskit.quantum_info.operators.symplectic import Pauli\n",
    "from qiskit import opflow\n",
    "from symengine.lib.symengine_wrapper import Zero as spZero"
   ]
  },
  {
   "cell_type": "code",
   "execution_count": 2,
   "metadata": {},
   "outputs": [],
   "source": [
    "class SpecialUnitaryGroup():\n",
    "    '''\n",
    "    https://en.wikipedia.org/wiki/Structure_constants\n",
    "    https://arxiv.org/pdf/2108.07219.pdf\n",
    "    '''\n",
    "    def __init__(self, N):\n",
    "        self.N = N\n",
    "        self.structure_constants = self.generate_structure_constants()\n",
    "        self.generators = self.generate_generators()\n",
    "        self.check()\n",
    "\n",
    "    def alpha(self, n, m):\n",
    "        assert (1 <= m) and (m < n) and (n <= self.N)\n",
    "        return n**2 + 2*(m-n) -1\n",
    "    \n",
    "    def beta(self, n, m):\n",
    "        assert (1 <= m) and (m < n) and (n <= self.N)\n",
    "        return n**2 + 2*(m-n)\n",
    "    \n",
    "    def gamma(self, n):\n",
    "        assert (1 <= n) and (n <= self.N)\n",
    "        return n**2 - 1\n",
    "\n",
    "    def generate_generators(self):\n",
    "        generators = {}\n",
    "        for n in range(1, self.N+1):\n",
    "            for m in range(1, self.N+1):\n",
    "                if m < n:\n",
    "                    matrix = np.zeros((self.N, self.N))\n",
    "                    matrix[m-1,n-1] = 1\n",
    "                    matrix[n-1,m-1] = 1\n",
    "                    generators[self.alpha(n,m)] = matrix/2\n",
    "\n",
    "                    matrix = np.zeros((self.N, self.N))\n",
    "                    matrix[m-1,n-1] = 1\n",
    "                    matrix[n-1,m-1] = -1\n",
    "                    generators[self.beta(n,m)] = -1j*matrix/2\n",
    "            \n",
    "            if n > 1:\n",
    "                matrix = np.zeros((self.N, self.N))\n",
    "                matrix[n-1,n-1] = (1 - n)\n",
    "                for l in range(1, n):\n",
    "                    matrix[l-1,l-1] = 1\n",
    "                generators[self.gamma(n)] = matrix / np.sqrt(2*n*(n-1))\n",
    "\n",
    "        return generators\n",
    "\n",
    "    def generate_structure_constants(self):\n",
    "\n",
    "        structure_constants = {}\n",
    "        \n",
    "        '''\n",
    "        for n in range(1, self.N+1):\n",
    "            for m in range(1, self.N+1):\n",
    "                if m < n:\n",
    "                    print('alpha = %i, beta = %i' %(self.alpha(n,m), self.beta(n,m)))\n",
    "            print('gamma = %i' % self.gamma(n))\n",
    "        '''\n",
    "\n",
    "        for n in range(1, self.N+1):\n",
    "            for m in range(1, self.N+1):\n",
    "                for k in range(1, self.N+1):\n",
    "                    \n",
    "                    try:\n",
    "                        structure_constants[(\n",
    "                            self.alpha(n,m), \n",
    "                            self.alpha(k,n), \n",
    "                            self.beta(k,m)\n",
    "                            )] = 1/2\n",
    "                    except:\n",
    "                        pass\n",
    "                    \n",
    "                    try:\n",
    "                        structure_constants[(\n",
    "                            self.alpha(n,m), \n",
    "                            self.alpha(n,k), \n",
    "                            self.beta(k,m)\n",
    "                            )] = 1/2\n",
    "                    except:\n",
    "                        pass\n",
    "                    \n",
    "                    try:\n",
    "                        structure_constants[(\n",
    "                            self.alpha(n,m), \n",
    "                            self.alpha(k,m), \n",
    "                            self.beta(k,n)\n",
    "                            )] = 1/2\n",
    "                    except:\n",
    "                        pass\n",
    "\n",
    "                    try:\n",
    "                        structure_constants[(\n",
    "                            self.beta(n,m), \n",
    "                            self.beta(k,m), \n",
    "                            self.beta(k,n)\n",
    "                            )] = 1/2\n",
    "                    except:\n",
    "                        pass\n",
    "                \n",
    "                    try:\n",
    "                        structure_constants[(\n",
    "                            self.alpha(n,m), \n",
    "                            self.beta(n,m), \n",
    "                            self.gamma(m)\n",
    "                            )] = - np.sqrt( (m-1)/(2*m) )\n",
    "                    except:\n",
    "                        pass\n",
    "\n",
    "                    try:\n",
    "                        structure_constants[(\n",
    "                            self.alpha(n,m), \n",
    "                            self.beta(n,m), \n",
    "                            self.gamma(n)\n",
    "                            )] = np.sqrt(n / (2*(n-1)) )\n",
    "                    except:\n",
    "                        pass\n",
    "\n",
    "                    if m < k and k < n:\n",
    "                        try:\n",
    "                            structure_constants[(\n",
    "                                self.alpha(n,m), \n",
    "                                self.beta(n,m), \n",
    "                                self.gamma(k)\n",
    "                                )] = np.sqrt(1 / (2*k*(k-1)) )\n",
    "                        except:\n",
    "                            pass\n",
    "\n",
    "        for key, value in list(structure_constants.items()):\n",
    "            if value == 0:\n",
    "                structure_constants.pop(key)\n",
    "            else:\n",
    "                i, j, k = key\n",
    "                structure_constants[(i,k,j)] = - value\n",
    "                structure_constants[(j,i,k)] = - value\n",
    "                structure_constants[(j,k,i)] = value\n",
    "                structure_constants[(k,i,j)] = value\n",
    "                structure_constants[(k,j,i)] = - value\n",
    "    \n",
    "        return structure_constants\n",
    "    \n",
    "    def check(self):\n",
    "        for i in range(1, self.N**2-1):\n",
    "            for j in range(i+1, self.N**2):\n",
    "\n",
    "                term1 = (np.dot(\n",
    "                    self.generators[i], \n",
    "                    self.generators[j]\n",
    "                    ) - \n",
    "                np.dot(\n",
    "                    self.generators[j], \n",
    "                    self.generators[i]\n",
    "                    ))\n",
    "\n",
    "                term2 = sum(\n",
    "                    1j*self.structure_constants.get((i,j,k), 0)\n",
    "                    * self.generators[k] \n",
    "                    for k in range(1, self.N**2))\n",
    "\n",
    "                if not np.allclose(term1, term2):\n",
    "                    print(i,j)\n",
    "                    print(term1)\n",
    "                    print(term2)\n",
    "                    raise AssertionError"
   ]
  },
  {
   "cell_type": "code",
   "execution_count": 3,
   "metadata": {},
   "outputs": [
    {
     "name": "stdout",
     "output_type": "stream",
     "text": [
      "number_qubits 18, Hilbert space dimension 262144\n"
     ]
    }
   ],
   "source": [
    "number_of_matrices = 3\n",
    "gauge_group_degree = 2 # the N in SU(N)\n",
    "number_of_generators = gauge_group_degree**2 - 1 #understand the diff b/w U(N) and SU(N)\n",
    "\n",
    "bits_per_oscillator = 2\n",
    "number_states_per_oscillator = 2**bits_per_oscillator\n",
    "\n",
    "number_qubits = (\n",
    "    number_of_matrices \n",
    "    * number_of_generators \n",
    "    * bits_per_oscillator\n",
    ")\n",
    "\n",
    "print(f'number_qubits {number_qubits}, Hilbert space dimension {2**number_qubits}')"
   ]
  },
  {
   "cell_type": "code",
   "execution_count": 173,
   "metadata": {},
   "outputs": [
    {
     "data": {
      "text/plain": [
       "65536"
      ]
     },
     "execution_count": 173,
     "metadata": {},
     "output_type": "execute_result"
    }
   ],
   "source": [
    "number_states_per_oscillator**8"
   ]
  },
  {
   "cell_type": "code",
   "execution_count": 4,
   "metadata": {},
   "outputs": [
    {
     "data": {
      "text/plain": [
       "{(1, 2, 3): 1.0,\n",
       " (1, 3, 2): -1.0,\n",
       " (2, 1, 3): -1.0,\n",
       " (2, 3, 1): 1.0,\n",
       " (3, 1, 2): 1.0,\n",
       " (3, 2, 1): -1.0}"
      ]
     },
     "execution_count": 4,
     "metadata": {},
     "output_type": "execute_result"
    }
   ],
   "source": [
    "su_group = SpecialUnitaryGroup(gauge_group_degree)\n",
    "su_group.structure_constants"
   ]
  },
  {
   "cell_type": "code",
   "execution_count": 5,
   "metadata": {},
   "outputs": [
    {
     "data": {
      "text/plain": [
       "{(0, 0): 0,\n",
       " (0, 1): 2,\n",
       " (0, 2): 4,\n",
       " (1, 0): 6,\n",
       " (1, 1): 8,\n",
       " (1, 2): 10,\n",
       " (2, 0): 12,\n",
       " (2, 1): 14,\n",
       " (2, 2): 16}"
      ]
     },
     "execution_count": 5,
     "metadata": {},
     "output_type": "execute_result"
    }
   ],
   "source": [
    "index_map = {}\n",
    "counter = 0\n",
    "for i in range(number_of_matrices):\n",
    "    for a in range(number_of_generators):\n",
    "        index_map[(i,a)] = counter\n",
    "        counter += bits_per_oscillator\n",
    "index_map_inverse = dict(map(reversed, index_map.items()))\n",
    "index_map"
   ]
  },
  {
   "cell_type": "code",
   "execution_count": 6,
   "metadata": {},
   "outputs": [],
   "source": [
    "single_qubit_state_map = {\n",
    "    '00':0.5*(sp.symbols(\"I\") + sp.symbols('Z')),\n",
    "    '01':0.5*(sp.symbols(\"X\") + 1j*sp.symbols('Y')),\n",
    "    '10':0.5*(sp.symbols(\"X\") - 1j*sp.symbols('Y')),\n",
    "    '11':0.5*(sp.symbols(\"I\") - sp.symbols('Z'))\n",
    "    }"
   ]
  },
  {
   "cell_type": "code",
   "execution_count": 7,
   "metadata": {},
   "outputs": [],
   "source": [
    "def annihilation_operator(i, A):\n",
    "    qubit_indx0 = index_map[(i,A)]\n",
    "    operator = 0\n",
    "    for j in range(number_states_per_oscillator-1):\n",
    "        bra_bitstring = f'{j:0{bits_per_oscillator}b}'\n",
    "        ket_bitstring = f'{j+1:0{bits_per_oscillator}b}'\n",
    "        for i in range(bits_per_oscillator):\n",
    "            new_term = single_qubit_state_map[bra_bitstring[i] + ket_bitstring[i]]\n",
    "            new_term = new_term.subs('I', f'I{qubit_indx0+i}')\n",
    "            new_term = new_term.subs('X', f'X{qubit_indx0+i}')\n",
    "            new_term = new_term.subs('Y', f'Y{qubit_indx0+i}')\n",
    "            new_term = new_term.subs('Z', f'Z{qubit_indx0+i}')\n",
    "            operator += new_term\n",
    "    return operator\n",
    "\n",
    "\n",
    "def creation_operator(i, A):\n",
    "    qubit_indx0 = index_map[(i,A)]\n",
    "    operator = 0\n",
    "    for j in range(number_states_per_oscillator-1):\n",
    "        bra_bitstring = f'{j+1:0{bits_per_oscillator}b}'\n",
    "        ket_bitstring = f'{j:0{bits_per_oscillator}b}'\n",
    "        for i in range(bits_per_oscillator):\n",
    "            new_term = single_qubit_state_map[bra_bitstring[i] + ket_bitstring[i]]\n",
    "            new_term = new_term.subs('I', f'I{qubit_indx0+i}')\n",
    "            new_term = new_term.subs('X', f'X{qubit_indx0+i}')\n",
    "            new_term = new_term.subs('Y', f'Y{qubit_indx0+i}')\n",
    "            new_term = new_term.subs('Z', f'Z{qubit_indx0+i}')\n",
    "            operator += new_term\n",
    "    return operator"
   ]
  },
  {
   "cell_type": "code",
   "execution_count": 8,
   "metadata": {},
   "outputs": [],
   "source": [
    "string_to_Pauli_map = {'I':opflow.I, 'X':opflow.X, 'Y':opflow.Y, 'Z':opflow.Z}"
   ]
  },
  {
   "cell_type": "code",
   "execution_count": 9,
   "metadata": {},
   "outputs": [],
   "source": [
    "def sympy_Pauli_to_qiskit_Pauli(operator_string):\n",
    "    '''CAREFUL WITH ENDIAN CONVENTION'''\n",
    "    pauli_string = operator_string[0]\n",
    "    qubit_number = int(operator_string[1:])\n",
    "\n",
    "    #print(pauli_string, qubit_number)\n",
    "\n",
    "    if qubit_number == 0:\n",
    "        new_operator = string_to_Pauli_map[pauli_string]\n",
    "    else:\n",
    "        new_operator = opflow.I\n",
    "    \n",
    "    for i in range(1, number_qubits):\n",
    "        if i != qubit_number:\n",
    "            new_operator = new_operator ^ opflow.I\n",
    "        else:\n",
    "            new_operator = new_operator ^ string_to_Pauli_map[pauli_string]\n",
    "    return new_operator.reduce()"
   ]
  },
  {
   "cell_type": "code",
   "execution_count": 10,
   "metadata": {},
   "outputs": [],
   "source": [
    "def sympy_operator_to_qiskit_operator(sympy_operator):\n",
    "    operator = 0 #sympy_Pauli_to_qiskit_Pauli(f'I{number_qubits}')\n",
    "    for arg in sympy_operator.args:\n",
    "        #print(arg)\n",
    "        if len(arg.args) == 2:\n",
    "            coeff = complex(arg.args[0])\n",
    "        elif len(arg.args) == 3:\n",
    "            coeff = complex(sp.prod(arg.args[0:2]))\n",
    "        else:\n",
    "            raise ValueError\n",
    "        #print(coeff, sympy_Pauli_to_qiskit_Pauli(str(arg.args[-1])))\n",
    "        operator += coeff * sympy_Pauli_to_qiskit_Pauli(str(arg.args[-1]))\n",
    "    return operator"
   ]
  },
  {
   "cell_type": "code",
   "execution_count": 197,
   "metadata": {},
   "outputs": [],
   "source": [
    "def hamiltonian_bosonic_free(sqrt_nu):\n",
    "    operator = 0 #0*sympy_Pauli_to_qiskit_Pauli(f'I{number_qubits}')\n",
    "    nu_squared = sqrt_nu * sqrt_nu * sqrt_nu * sqrt_nu\n",
    "    for i in range(number_of_matrices):\n",
    "        for a in range(number_of_generators):\n",
    "            operator += 0.5 * (\n",
    "                momentum_operator(i, a, sqrt_nu)**2 \n",
    "                + nu_squared * position_operator(i, a, sqrt_nu)**2\n",
    "                )\n",
    "    return operator.reduce()"
   ]
  },
  {
   "cell_type": "code",
   "execution_count": 194,
   "metadata": {},
   "outputs": [],
   "source": [
    "def position_operator(i, A, sqrt_nu):\n",
    "    creation = sympy_operator_to_qiskit_operator(creation_operator(i, A))\n",
    "    annihilation = sympy_operator_to_qiskit_operator(annihilation_operator(i, A))\n",
    "    coeff = np.sqrt(1/2) / sqrt_nu\n",
    "    operator = coeff * (creation + annihilation)\n",
    "    return operator.reduce()\n",
    "\n",
    "\n",
    "def momentum_operator(i, A, sqrt_nu):\n",
    "    creation = sympy_operator_to_qiskit_operator(creation_operator(i, A))\n",
    "    annihilation = sympy_operator_to_qiskit_operator(annihilation_operator(i, A))\n",
    "    coeff = -1j * sqrt_nu * np.sqrt(1/2)\n",
    "    operator = coeff * (creation - annihilation)\n",
    "    return operator.reduce()\n",
    "\n",
    "\n",
    "def hamiltonian_bosonic_free(sqrt_nu):\n",
    "    operator = 0 #0*sympy_Pauli_to_qiskit_Pauli(f'I{number_qubits}')\n",
    "    nu_squared = sqrt_nu * sqrt_nu * sqrt_nu * sqrt_nu\n",
    "    for i in range(number_of_matrices):\n",
    "        for a in range(number_of_generators):\n",
    "            operator += 0.5 * (\n",
    "                momentum_operator(i, a, sqrt_nu)**2 \n",
    "                + nu_squared * position_operator(i, a, sqrt_nu)**2\n",
    "                )\n",
    "    return operator.reduce()\n",
    "\n",
    "\n",
    "def hamiltonian_cubic_interaction(sqrt_nu):\n",
    "    operator = 0\n",
    "    for a in range(number_of_generators):\n",
    "        for b in range(number_of_generators):\n",
    "            for c in range(number_of_generators):\n",
    "                coeff = -6 * sqrt_nu * sqrt_nu * su_group.structure_constants.get((a+1,b+1,c+1), 0)\n",
    "                if coeff != 0:\n",
    "                    operator += coeff*(position_operator(0, a, sqrt_nu)\n",
    "                             @ position_operator(1, b, sqrt_nu)\n",
    "                             @ position_operator(2, c, sqrt_nu)\n",
    "                             ).reduce()\n",
    "    return operator.reduce()\n",
    "\n",
    "\n",
    "def hamiltonian_quartic_interaction(sqrt_nu):\n",
    "    operator = 0\n",
    "\n",
    "    for i in range(number_of_matrices):\n",
    "        for j in range(number_of_matrices):\n",
    "\n",
    "            for a in range(number_of_generators):\n",
    "                for b in range(number_of_generators):\n",
    "                    for c in range(number_of_generators):\n",
    "                        for d in range(number_of_generators):\n",
    "            \n",
    "                                coeff = float((1/4) * sum(\n",
    "                                    su_group.structure_constants.get((a+1,b+1,e+1), 0)\n",
    "                                    * su_group.structure_constants.get((c+1,d+1,e+1), 0) \n",
    "                                    for e in range(number_of_generators)\n",
    "                                ))\n",
    "\n",
    "                                if coeff != 0:\n",
    "                                    operator += coeff * (position_operator(i, a, sqrt_nu)\n",
    "                                        @ position_operator(j, b, sqrt_nu)\n",
    "                                        @ position_operator(i, c, sqrt_nu)\n",
    "                                        @ position_operator(j, d, sqrt_nu)\n",
    "                                        ).reduce()\n",
    "            \n",
    "    return operator.reduce()"
   ]
  },
  {
   "cell_type": "code",
   "execution_count": 275,
   "metadata": {},
   "outputs": [],
   "source": [
    "def hamiltonian(sqrt_nu):\n",
    "    return (\n",
    "        hamiltonian_bosonic_free(sqrt_nu) \n",
    "        + hamiltonian_cubic_interaction(sqrt_nu) \n",
    "        + hamiltonian_quartic_interaction(sqrt_nu)\n",
    "        ).reduce()"
   ]
  },
  {
   "cell_type": "code",
   "execution_count": 276,
   "metadata": {},
   "outputs": [],
   "source": [
    "sqrt_nu = Parameter('sqrt_nu')\n",
    "H = hamiltonian(sqrt_nu)"
   ]
  },
  {
   "cell_type": "code",
   "execution_count": 277,
   "metadata": {},
   "outputs": [],
   "source": [
    "H_dict = {}\n",
    "for i in range(len(H)):\n",
    "    operators = H[i].to_pauli_op()\n",
    "    symbolic_coeff = operators.coeff\n",
    "    if type(symbolic_coeff) == qiskit.circuit.parameterexpression.ParameterExpression:\n",
    "        symbolic_coeff = symbolic_coeff.sympify()\n",
    "    for op in operators:\n",
    "        total_coeff = op.coeff * symbolic_coeff\n",
    "        if total_coeff != 0.0 and total_coeff != complex(0) and type(total_coeff) != spZero:\n",
    "\n",
    "            H_dict[op.primitive] = H_dict.get(op.primitive, 0) + total_coeff\n",
    "\n",
    "            if H_dict[op.primitive] == 0:\n",
    "                H_dict.pop(op.primitive)"
   ]
  },
  {
   "cell_type": "code",
   "execution_count": 279,
   "metadata": {},
   "outputs": [],
   "source": [
    "H_dict;"
   ]
  },
  {
   "cell_type": "code",
   "execution_count": 290,
   "metadata": {},
   "outputs": [
    {
     "data": {
      "text/plain": [
       "4"
      ]
     },
     "execution_count": 290,
     "metadata": {},
     "output_type": "execute_result"
    }
   ],
   "source": [
    "H_weights_dict = {}\n",
    "for op in H_dict.keys():\n",
    "    for key, value in Counter(str(str(op))).items():\n",
    "        if key != \"I\":\n",
    "            H_weights_dict[op] = H_weights_dict.get(op, 0) + value\n",
    "\n",
    "max(H_weights_dict.values())"
   ]
  },
  {
   "cell_type": "code",
   "execution_count": null,
   "metadata": {},
   "outputs": [],
   "source": []
  },
  {
   "cell_type": "code",
   "execution_count": null,
   "metadata": {},
   "outputs": [],
   "source": []
  }
 ],
 "metadata": {
  "kernelspec": {
   "display_name": "bmn",
   "language": "python",
   "name": "python3"
  },
  "language_info": {
   "codemirror_mode": {
    "name": "ipython",
    "version": 3
   },
   "file_extension": ".py",
   "mimetype": "text/x-python",
   "name": "python",
   "nbconvert_exporter": "python",
   "pygments_lexer": "ipython3",
   "version": "3.10.9"
  },
  "orig_nbformat": 4,
  "vscode": {
   "interpreter": {
    "hash": "6e0cd6cf71edfa3775f516445cdb63fd1ca3562d16f0df3f3dc34761129ce2dd"
   }
  }
 },
 "nbformat": 4,
 "nbformat_minor": 2
}
