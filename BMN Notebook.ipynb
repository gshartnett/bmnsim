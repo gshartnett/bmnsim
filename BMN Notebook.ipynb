{
 "cells": [
  {
   "attachments": {},
   "cell_type": "markdown",
   "metadata": {},
   "source": [
    "# Mini-BMN Notebook\n",
    "\n",
    "Expand mini-BMN hamiltonian into Pauli strings\n",
    "\n",
    "To Do\n",
    "- add comments\n",
    "- check units\n",
    "- how to simulate? what to simulate?\n",
    "- fuzzy spheres"
   ]
  },
  {
   "cell_type": "code",
   "execution_count": 3,
   "metadata": {},
   "outputs": [],
   "source": [
    "import qiskit\n",
    "import numpy as np\n",
    "import sympy as sp\n",
    "from collections import Counter\n",
    "from qiskit.circuit import Parameter, ParameterVector, ParameterExpression\n",
    "from qiskit.quantum_info import Pauli, Operator, SparsePauliOp\n",
    "#from symengine.lib.symengine_wrapper import Zero as spZero\n",
    "import symengine.lib.symengine_wrapper as symengine_wrapper\n",
    "from utils import SpecialUnitaryGroup, BMNModel\n",
    "from typing import Union"
   ]
  },
  {
   "cell_type": "code",
   "execution_count": 2,
   "metadata": {},
   "outputs": [],
   "source": [
    "import matplotlib\n",
    "import matplotlib.pyplot as plt\n",
    "from cycler import cycler\n",
    "\n",
    "plt.rcParams['xtick.direction'] = 'in'\n",
    "plt.rcParams['ytick.direction'] = 'in'\n",
    "plt.rcParams['xtick.major.size'] = 5.0\n",
    "plt.rcParams['xtick.minor.size'] = 3.0\n",
    "plt.rcParams['ytick.major.size'] = 5.0\n",
    "plt.rcParams['ytick.minor.size'] = 3.0\n",
    "plt.rc('font', family='serif',size=14)\n",
    "#matplotlib.rc('text', usetex=True)\n",
    "matplotlib.rc('legend', fontsize=14)\n",
    "plt.rcParams['ytick.minor.size'] = 3.0\n",
    "matplotlib.rcParams.update({\"axes.grid\" : True,\n",
    "                            \"grid.alpha\": 0.75,\n",
    "                            \"grid.linewidth\": 0.5})\n",
    "matplotlib.rcParams['axes.prop_cycle'] = cycler(color=['#E24A33', '#348ABD', '#988ED5', '#777777', '#FBC15E', '#8EBA42', '#FFB5B8'])\n",
    "colors = plt.rcParams['axes.prop_cycle'].by_key()['color']"
   ]
  },
  {
   "cell_type": "markdown",
   "metadata": {},
   "source": [
    "## Blah"
   ]
  },
  {
   "cell_type": "code",
   "execution_count": 17,
   "metadata": {},
   "outputs": [
    {
     "name": "stdout",
     "output_type": "stream",
     "text": [
      "number_qubits 9, Hilbert space dimension 512\n"
     ]
    },
    {
     "data": {
      "text/plain": [
       "SparsePauliOp(['IIIIIIIII', 'XIIIXIIIX', 'XIIIIXIXI', 'IXIXIIIIX', 'IXIIIXXII', 'IIXXIIIXI', 'IIXIXIXII', 'XXIXXIIII', 'XIXXIXIII', 'IXXIXXIII', 'XXIIIIXXI', 'XIXIIIXIX', 'IXXIIIIXX', 'IIIXXIXXI', 'IIIXIXXIX', 'IIIIXXIXX'],\n",
       "              coeffs=[ParameterExpression(2.25*nu**2 + 4.5),\n",
       " ParameterExpression(-2.12132034355964*nu),\n",
       " ParameterExpression(2.12132034355964*nu),\n",
       " ParameterExpression(2.12132034355964*nu),\n",
       " ParameterExpression(-2.12132034355964*nu),\n",
       " ParameterExpression(-2.12132034355964*nu),\n",
       " ParameterExpression(2.12132034355964*nu), (-0.25000000000000006+0j),\n",
       " (-0.25000000000000006+0j), (-0.25000000000000006+0j),\n",
       " (-0.25000000000000006+0j), (-0.25000000000000006+0j),\n",
       " (-0.25000000000000006+0j), (-0.25000000000000006+0j),\n",
       " (-0.25000000000000006+0j), (-0.25000000000000006+0j)])"
      ]
     },
     "execution_count": 17,
     "metadata": {},
     "output_type": "execute_result"
    }
   ],
   "source": [
    "bmn = BMNModel(gauge_group_degree=2, bits_per_oscillator=1)\n",
    "nu = Parameter('nu')\n",
    "bmn.hamiltonian(nu)"
   ]
  },
  {
   "cell_type": "code",
   "execution_count": 19,
   "metadata": {},
   "outputs": [
    {
     "data": {
      "text/plain": [
       "array([[6.75+0.j, 0.  +0.j, 0.  +0.j, ..., 0.  +0.j, 0.  +0.j, 0.  +0.j],\n",
       "       [0.  +0.j, 6.75+0.j, 0.  +0.j, ..., 0.  +0.j, 0.  +0.j, 0.  +0.j],\n",
       "       [0.  +0.j, 0.  +0.j, 6.75+0.j, ..., 0.  +0.j, 0.  +0.j, 0.  +0.j],\n",
       "       ...,\n",
       "       [0.  +0.j, 0.  +0.j, 0.  +0.j, ..., 6.75+0.j, 0.  +0.j, 0.  +0.j],\n",
       "       [0.  +0.j, 0.  +0.j, 0.  +0.j, ..., 0.  +0.j, 6.75+0.j, 0.  +0.j],\n",
       "       [0.  +0.j, 0.  +0.j, 0.  +0.j, ..., 0.  +0.j, 0.  +0.j, 6.75+0.j]])"
      ]
     },
     "execution_count": 19,
     "metadata": {},
     "output_type": "execute_result"
    }
   ],
   "source": [
    "Hmat = bmn.hamiltonian(nu).assign_parameters({nu:1}).to_matrix(sparse=False)\n",
    "Hmat"
   ]
  },
  {
   "cell_type": "code",
   "execution_count": 24,
   "metadata": {},
   "outputs": [],
   "source": [
    "x = np.linalg.eigvals(Hmat)\n",
    "xR = np.real(x)\n",
    "xI = np.imag(x)\n",
    "\n",
    "xR[np.isclose(xR, 0)] = 0\n",
    "xI[np.isclose(xI, 0)] = 0\n",
    "\n",
    "assert np.array_equal(xI, np.zeros(len(xI)))"
   ]
  },
  {
   "cell_type": "code",
   "execution_count": 25,
   "metadata": {},
   "outputs": [
    {
     "data": {
      "text/plain": [
       "array([15.98528137,  6.5       ,  4.5       ,  6.5       ,  6.5       ,\n",
       "        6.5       ,  6.5       , 15.98528137, 15.98528137,  4.5       ,\n",
       "        4.5       ,  6.5       ,  4.5       , 15.98528137, 15.98528137,\n",
       "       15.98528137,  4.5       ,  4.5       ,  4.5       ,  6.5       ,\n",
       "        6.5       , 15.98528137, 15.98528137, 15.98528137, 15.98528137,\n",
       "        6.5       , -0.98528137, -0.98528137, -0.98528137, -0.98528137,\n",
       "       -0.98528137, -0.98528137, -0.98528137, -0.98528137, -0.98528137,\n",
       "       -0.98528137, -0.98528137, -0.98528137, -0.98528137, -0.98528137,\n",
       "       -0.98528137, -0.98528137, -0.98528137, -0.98528137, -0.98528137,\n",
       "       -0.98528137, -0.98528137, -0.98528137, -0.98528137, -0.98528137,\n",
       "       -0.98528137, -0.98528137, -0.98528137, -0.98528137, -0.98528137,\n",
       "       -0.98528137, -0.98528137, -0.98528137, -0.98528137, -0.98528137,\n",
       "       -0.98528137, -0.98528137, -0.98528137, -0.98528137, -0.98528137,\n",
       "       -0.98528137, -0.98528137, -0.98528137, -0.98528137, -0.98528137,\n",
       "       -0.98528137, -0.98528137, -0.98528137, -0.98528137, -0.98528137,\n",
       "       -0.98528137, -0.98528137, -0.98528137, -0.98528137, -0.98528137,\n",
       "        4.5       , 15.98528137, 15.98528137,  4.5       ,  6.5       ,\n",
       "       15.98528137,  6.5       ,  6.5       ,  4.5       ,  4.5       ,\n",
       "        6.5       ,  6.5       , 15.98528137, 15.98528137, 15.98528137,\n",
       "        6.5       ,  4.5       ,  4.5       ,  6.5       ,  6.5       ,\n",
       "        4.5       , 15.98528137, 15.98528137,  4.5       , 15.98528137,\n",
       "        6.5       ,  4.5       ,  4.5       , -0.98528137, -0.98528137,\n",
       "       -0.98528137, -0.98528137, 15.98528137, 15.98528137,  4.5       ,\n",
       "        6.5       ,  6.5       ,  6.5       ,  6.5       , 15.98528137,\n",
       "       15.98528137,  6.5       ,  4.5       , 15.98528137,  4.5       ,\n",
       "        6.5       ,  4.5       , 15.98528137, 15.98528137, 15.98528137,\n",
       "        4.5       ,  6.5       ,  6.5       ,  6.5       ,  6.5       ,\n",
       "        6.5       ,  6.5       ,  4.5       ,  4.5       ,  6.5       ,\n",
       "        6.5       ,  6.5       ,  6.5       ,  6.5       ,  6.5       ,\n",
       "        6.5       ,  6.5       ,  6.5       ,  6.5       ,  6.5       ,\n",
       "       -0.98528137, -0.98528137, -0.98528137, 15.98528137, 15.98528137,\n",
       "        4.5       ,  4.5       , 15.98528137, 15.98528137, 15.98528137,\n",
       "       15.98528137, 15.98528137,  4.5       ,  4.5       , 15.98528137,\n",
       "        4.5       ,  4.5       , 15.98528137, 15.98528137, 15.98528137,\n",
       "        4.5       ,  4.5       ,  6.5       , 15.98528137, 15.98528137,\n",
       "       15.98528137, 15.98528137,  6.5       ,  6.5       ,  6.5       ,\n",
       "       -0.98528137, -0.98528137, 15.98528137, 15.98528137, 15.98528137,\n",
       "        6.5       ,  6.5       , 15.98528137, 15.98528137,  6.5       ,\n",
       "        6.5       , 15.98528137, 15.98528137,  6.5       , 15.98528137,\n",
       "       15.98528137, 15.98528137,  6.5       ,  6.5       , 15.98528137,\n",
       "       15.98528137,  6.5       ,  6.5       ,  6.5       , 15.98528137,\n",
       "       15.98528137, 15.98528137,  6.5       , 15.98528137, 15.98528137,\n",
       "       15.98528137,  6.5       ,  6.5       ,  6.5       , -0.98528137,\n",
       "       -0.98528137, -0.98528137, -0.98528137, -0.98528137, -0.98528137,\n",
       "       -0.98528137, -0.98528137, -0.98528137, -0.98528137, -0.98528137,\n",
       "       -0.98528137, -0.98528137, -0.98528137, -0.98528137, -0.98528137,\n",
       "       -0.98528137, -0.98528137, -0.98528137, -0.98528137, -0.98528137,\n",
       "       -0.98528137, 15.98528137, 15.98528137, 15.98528137, 15.98528137,\n",
       "       15.98528137, 15.98528137, 15.98528137, 15.98528137, 15.98528137,\n",
       "       15.98528137, 15.98528137, 15.98528137, 15.98528137, 15.98528137,\n",
       "       15.98528137, 15.98528137, 15.98528137, 15.98528137, 15.98528137,\n",
       "       15.98528137, 15.98528137, 15.98528137, 15.98528137,  6.5       ,\n",
       "        6.5       ,  6.5       ,  6.5       ,  6.5       ,  6.5       ,\n",
       "        6.5       ,  6.5       ,  6.5       ,  6.5       ,  6.5       ,\n",
       "        6.5       ,  6.5       ,  6.5       ,  6.5       ,  6.5       ,\n",
       "        6.5       ,  6.5       ,  6.5       ,  6.5       ,  6.5       ,\n",
       "        6.5       ,  6.5       ,  6.5       ,  6.5       ,  6.5       ,\n",
       "        6.5       ,  6.5       ,  6.5       ,  6.5       , -0.98528137,\n",
       "       -0.98528137, 15.98528137, 15.98528137, 15.98528137, -0.98528137,\n",
       "       15.98528137, 15.98528137, 15.98528137, 15.98528137, 15.98528137,\n",
       "       -0.98528137, 15.98528137,  6.5       , -0.98528137, 15.98528137,\n",
       "       -0.98528137,  6.5       , 15.98528137, -0.98528137, 15.98528137,\n",
       "        6.5       , -0.98528137, 15.98528137,  6.5       ,  6.5       ,\n",
       "       -0.98528137,  6.5       ,  6.5       ,  6.5       ,  6.5       ,\n",
       "        6.5       ,  6.5       ,  6.5       , -0.98528137, -0.98528137,\n",
       "        6.5       ,  6.5       ,  6.5       ,  6.5       ,  6.5       ,\n",
       "        6.5       ,  6.5       ,  6.5       ,  6.5       ,  6.5       ,\n",
       "        6.5       ,  6.5       ,  6.5       ,  6.5       ,  6.5       ,\n",
       "        6.5       ,  6.5       ,  6.5       ,  6.5       ,  6.5       ,\n",
       "        6.5       ,  6.5       ,  6.5       ,  6.5       ,  6.5       ,\n",
       "        6.5       ,  6.5       ,  6.5       ,  6.5       ,  6.5       ,\n",
       "        6.5       ,  6.5       ,  6.5       ,  6.5       ,  6.5       ,\n",
       "        6.5       ,  6.5       ,  6.5       ,  6.5       ,  6.5       ,\n",
       "        6.5       ,  6.5       ,  6.5       ,  6.5       ,  6.5       ,\n",
       "        6.5       ,  6.5       ,  6.5       ,  6.5       ,  6.5       ,\n",
       "        6.5       ,  6.5       ,  6.5       ,  6.5       ,  6.5       ,\n",
       "        6.5       ,  6.5       ,  6.5       ,  6.5       ,  6.5       ,\n",
       "        6.5       ,  6.5       ,  6.5       ,  6.5       ,  6.5       ,\n",
       "        6.5       ,  6.5       ,  6.5       ,  6.5       ,  6.5       ,\n",
       "        6.5       ,  6.5       ,  6.5       ,  6.5       ,  6.5       ,\n",
       "        6.5       ,  6.5       ,  6.5       ,  6.5       ,  6.5       ,\n",
       "        6.5       ,  6.5       ,  6.5       ,  6.5       ,  6.5       ,\n",
       "        6.5       ,  6.5       ,  6.5       ,  6.5       ,  6.5       ,\n",
       "        6.5       ,  6.5       ,  6.5       ,  6.5       ,  6.5       ,\n",
       "        6.5       ,  6.5       ,  6.5       ,  6.5       ,  6.5       ,\n",
       "        6.5       ,  6.5       ,  6.5       ,  6.5       ,  6.5       ,\n",
       "        6.5       ,  6.5       ,  6.5       ,  6.5       ,  6.5       ,\n",
       "        6.5       ,  6.5       ,  6.5       ,  6.5       ,  6.5       ,\n",
       "        6.5       ,  6.5       ,  6.5       ,  6.5       ,  6.5       ,\n",
       "        6.5       ,  6.5       ,  6.5       ,  6.5       ,  6.5       ,\n",
       "        6.5       ,  6.5       ,  6.5       ,  6.5       ,  6.5       ,\n",
       "        6.5       ,  6.5       ,  6.5       ,  6.5       ,  6.5       ,\n",
       "        6.5       ,  6.5       ,  6.5       ,  6.5       ,  6.5       ,\n",
       "        6.5       ,  6.5       ,  6.5       ,  6.5       ,  6.5       ,\n",
       "        6.5       ,  6.5       ,  6.5       ,  6.5       ,  6.5       ,\n",
       "        6.5       ,  6.5       ,  6.5       ,  6.5       ,  6.5       ,\n",
       "        6.5       ,  6.5       ,  6.5       ,  6.5       ,  6.5       ,\n",
       "        6.5       ,  6.5       ,  6.5       ,  6.5       ,  6.5       ,\n",
       "        6.5       ,  6.5       ,  6.5       ,  6.5       ,  6.5       ,\n",
       "        6.5       ,  6.5       ,  6.5       ,  6.5       ,  6.5       ,\n",
       "        6.5       ,  6.5       ,  6.5       ,  6.5       ,  6.5       ,\n",
       "        6.5       ,  6.5       ,  6.5       ,  6.5       ,  6.5       ,\n",
       "        6.5       ,  6.5       ])"
      ]
     },
     "execution_count": 25,
     "metadata": {},
     "output_type": "execute_result"
    }
   ],
   "source": [
    "xR"
   ]
  },
  {
   "cell_type": "code",
   "execution_count": 5,
   "metadata": {},
   "outputs": [],
   "source": [
    "def maximum_weight_of_sparse_pauli(operator: SparsePauliOp) -> int:\n",
    "    return max([bmn.num_qubits - p.__str__().count(\"I\") for p in operator.paulis])"
   ]
  },
  {
   "cell_type": "code",
   "execution_count": 6,
   "metadata": {},
   "outputs": [
    {
     "name": "stdout",
     "output_type": "stream",
     "text": [
      "1\n",
      "1\n",
      "1\n",
      "1\n",
      "1\n",
      "1\n",
      "1\n",
      "1\n",
      "1\n"
     ]
    }
   ],
   "source": [
    "# max pauli weight of creation operators\n",
    "for matrix_idx in range(bmn.num_matrices):\n",
    "    for generator_idx in range(bmn.num_matrices):\n",
    "        print(maximum_weight_of_sparse_pauli(bmn.creation_operator(matrix_idx=matrix_idx, generator_idx=generator_idx)))"
   ]
  },
  {
   "cell_type": "code",
   "execution_count": null,
   "metadata": {},
   "outputs": [],
   "source": []
  },
  {
   "cell_type": "code",
   "execution_count": null,
   "metadata": {},
   "outputs": [],
   "source": []
  }
 ],
 "metadata": {
  "kernelspec": {
   "display_name": "Python 3.10.9 ('bmnsim')",
   "language": "python",
   "name": "python3"
  },
  "language_info": {
   "codemirror_mode": {
    "name": "ipython",
    "version": 3
   },
   "file_extension": ".py",
   "mimetype": "text/x-python",
   "name": "python",
   "nbconvert_exporter": "python",
   "pygments_lexer": "ipython3",
   "version": "3.12.3"
  },
  "orig_nbformat": 4,
  "vscode": {
   "interpreter": {
    "hash": "3c5df6d427fee16f27e88d71498fe2326ae3f38a57e954704f64325d933eb975"
   }
  }
 },
 "nbformat": 4,
 "nbformat_minor": 2
}
