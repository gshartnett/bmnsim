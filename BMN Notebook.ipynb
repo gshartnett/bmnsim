{
 "cells": [
  {
   "attachments": {},
   "cell_type": "markdown",
   "metadata": {},
   "source": [
    "# Mini-BMN Notebook\n",
    "\n",
    "Expand mini-BMN hamiltonian into Pauli strings\n",
    "\n",
    "To Do\n",
    "- add comments\n",
    "- check units\n",
    "- how to simulate? what to simulate?\n",
    "- fuzzy spheres"
   ]
  },
  {
   "cell_type": "code",
   "execution_count": 3,
   "metadata": {},
   "outputs": [],
   "source": [
    "import qiskit\n",
    "import numpy as np\n",
    "import sympy as sp\n",
    "from collections import Counter\n",
    "from qiskit.circuit import Parameter, ParameterVector\n",
    "from qiskit.quantum_info.operators.symplectic import Pauli\n",
    "from qiskit import opflow\n",
    "from qiskit.opflow import PauliOp\n",
    "from symengine.lib.symengine_wrapper import Zero as spZero\n",
    "\n",
    "from utils import SpecialUnitaryGroup"
   ]
  },
  {
   "cell_type": "code",
   "execution_count": 4,
   "metadata": {},
   "outputs": [],
   "source": [
    "import matplotlib \n",
    "import matplotlib.pyplot as plt\n",
    "from cycler import cycler\n",
    "\n",
    "plt.rcParams['xtick.direction'] = 'in'\n",
    "plt.rcParams['ytick.direction'] = 'in'\n",
    "plt.rcParams['xtick.major.size'] = 5.0\n",
    "plt.rcParams['xtick.minor.size'] = 3.0\n",
    "plt.rcParams['ytick.major.size'] = 5.0\n",
    "plt.rcParams['ytick.minor.size'] = 3.0\n",
    "plt.rc('font', family='serif',size=14)\n",
    "#matplotlib.rc('text', usetex=True)\n",
    "matplotlib.rc('legend', fontsize=14)\n",
    "plt.rcParams['ytick.minor.size'] = 3.0\n",
    "matplotlib.rcParams.update({\"axes.grid\" : True, \n",
    "                            \"grid.alpha\": 0.75,\n",
    "                            \"grid.linewidth\": 0.5})\n",
    "matplotlib.rcParams['axes.prop_cycle'] = cycler(color=['#E24A33', '#348ABD', '#988ED5', '#777777', '#FBC15E', '#8EBA42', '#FFB5B8'])\n",
    "colors = plt.rcParams['axes.prop_cycle'].by_key()['color']"
   ]
  },
  {
   "cell_type": "code",
   "execution_count": 5,
   "metadata": {},
   "outputs": [
    {
     "name": "stdout",
     "output_type": "stream",
     "text": [
      "number_qubits 18, Hilbert space dimension 262144\n"
     ]
    }
   ],
   "source": [
    "number_of_matrices = 3\n",
    "gauge_group_degree = 2 # the N in SU(N)\n",
    "number_of_generators = gauge_group_degree**2 - 1 #understand the diff b/w U(N) and SU(N)\n",
    "\n",
    "bits_per_oscillator = 2\n",
    "number_states_per_oscillator = 2**bits_per_oscillator\n",
    "\n",
    "number_qubits = (\n",
    "    number_of_matrices \n",
    "    * number_of_generators \n",
    "    * bits_per_oscillator\n",
    ")\n",
    "\n",
    "print(f'number_qubits {number_qubits}, Hilbert space dimension {2**number_qubits}')"
   ]
  },
  {
   "cell_type": "code",
   "execution_count": 6,
   "metadata": {},
   "outputs": [
    {
     "data": {
      "text/plain": [
       "{(1, 2, 3): 1.0,\n",
       " (1, 3, 2): -1.0,\n",
       " (2, 1, 3): -1.0,\n",
       " (2, 3, 1): 1.0,\n",
       " (3, 1, 2): 1.0,\n",
       " (3, 2, 1): -1.0}"
      ]
     },
     "execution_count": 6,
     "metadata": {},
     "output_type": "execute_result"
    }
   ],
   "source": [
    "su_group = SpecialUnitaryGroup(gauge_group_degree)\n",
    "su_group.structure_constants"
   ]
  },
  {
   "cell_type": "code",
   "execution_count": 7,
   "metadata": {},
   "outputs": [
    {
     "data": {
      "text/plain": [
       "{(0, 0): 0,\n",
       " (0, 1): 2,\n",
       " (0, 2): 4,\n",
       " (1, 0): 6,\n",
       " (1, 1): 8,\n",
       " (1, 2): 10,\n",
       " (2, 0): 12,\n",
       " (2, 1): 14,\n",
       " (2, 2): 16}"
      ]
     },
     "execution_count": 7,
     "metadata": {},
     "output_type": "execute_result"
    }
   ],
   "source": [
    "index_map = {}\n",
    "counter = 0\n",
    "for i in range(number_of_matrices):\n",
    "    for a in range(number_of_generators):\n",
    "        index_map[(i,a)] = counter\n",
    "        counter += bits_per_oscillator\n",
    "index_map_inverse = dict(map(reversed, index_map.items()))\n",
    "index_map"
   ]
  },
  {
   "cell_type": "code",
   "execution_count": 8,
   "metadata": {},
   "outputs": [],
   "source": [
    "single_qubit_state_map = {\n",
    "    '00':0.5*(sp.symbols(\"I\") + sp.symbols('Z')),\n",
    "    '01':0.5*(sp.symbols(\"X\") + 1j*sp.symbols('Y')),\n",
    "    '10':0.5*(sp.symbols(\"X\") - 1j*sp.symbols('Y')),\n",
    "    '11':0.5*(sp.symbols(\"I\") - sp.symbols('Z'))\n",
    "    }"
   ]
  },
  {
   "cell_type": "code",
   "execution_count": 9,
   "metadata": {},
   "outputs": [],
   "source": [
    "def annihilation_operator(i, A):\n",
    "    qubit_indx0 = index_map[(i,A)]\n",
    "    operator = 0\n",
    "    for j in range(number_states_per_oscillator-1):\n",
    "        bra_bitstring = f'{j:0{bits_per_oscillator}b}'\n",
    "        ket_bitstring = f'{j+1:0{bits_per_oscillator}b}'\n",
    "        for i in range(bits_per_oscillator):\n",
    "            new_term = single_qubit_state_map[bra_bitstring[i] + ket_bitstring[i]]\n",
    "            new_term = new_term.subs('I', f'I{qubit_indx0+i}')\n",
    "            new_term = new_term.subs('X', f'X{qubit_indx0+i}')\n",
    "            new_term = new_term.subs('Y', f'Y{qubit_indx0+i}')\n",
    "            new_term = new_term.subs('Z', f'Z{qubit_indx0+i}')\n",
    "            operator += new_term\n",
    "    return operator\n",
    "\n",
    "\n",
    "def creation_operator(i, A):\n",
    "    qubit_indx0 = index_map[(i,A)]\n",
    "    operator = 0\n",
    "    for j in range(number_states_per_oscillator-1):\n",
    "        bra_bitstring = f'{j+1:0{bits_per_oscillator}b}'\n",
    "        ket_bitstring = f'{j:0{bits_per_oscillator}b}'\n",
    "        for i in range(bits_per_oscillator):\n",
    "            new_term = single_qubit_state_map[bra_bitstring[i] + ket_bitstring[i]]\n",
    "            new_term = new_term.subs('I', f'I{qubit_indx0+i}')\n",
    "            new_term = new_term.subs('X', f'X{qubit_indx0+i}')\n",
    "            new_term = new_term.subs('Y', f'Y{qubit_indx0+i}')\n",
    "            new_term = new_term.subs('Z', f'Z{qubit_indx0+i}')\n",
    "            operator += new_term\n",
    "    return operator"
   ]
  },
  {
   "cell_type": "code",
   "execution_count": 10,
   "metadata": {},
   "outputs": [],
   "source": [
    "string_to_Pauli_map = {'I':opflow.I, 'X':opflow.X, 'Y':opflow.Y, 'Z':opflow.Z}"
   ]
  },
  {
   "cell_type": "code",
   "execution_count": 11,
   "metadata": {},
   "outputs": [],
   "source": [
    "def sympy_Pauli_to_qiskit_Pauli(operator_string):\n",
    "    '''CAREFUL WITH ENDIAN CONVENTION'''\n",
    "    pauli_string = operator_string[0]\n",
    "    qubit_number = int(operator_string[1:])\n",
    "\n",
    "    #print(pauli_string, qubit_number)\n",
    "\n",
    "    if qubit_number == 0:\n",
    "        new_operator = string_to_Pauli_map[pauli_string]\n",
    "    else:\n",
    "        new_operator = opflow.I\n",
    "    \n",
    "    for i in range(1, number_qubits):\n",
    "        if i != qubit_number:\n",
    "            new_operator = new_operator ^ opflow.I\n",
    "        else:\n",
    "            new_operator = new_operator ^ string_to_Pauli_map[pauli_string]\n",
    "    return new_operator.reduce()"
   ]
  },
  {
   "cell_type": "code",
   "execution_count": 12,
   "metadata": {},
   "outputs": [],
   "source": [
    "def sympy_operator_to_qiskit_operator(sympy_operator):\n",
    "    operator = 0 #sympy_Pauli_to_qiskit_Pauli(f'I{number_qubits}')\n",
    "    for arg in sympy_operator.args:\n",
    "        #print(arg)\n",
    "        if len(arg.args) == 2:\n",
    "            coeff = complex(arg.args[0])\n",
    "        elif len(arg.args) == 3:\n",
    "            coeff = complex(sp.prod(arg.args[0:2]))\n",
    "        else:\n",
    "            raise ValueError\n",
    "        #print(coeff, sympy_Pauli_to_qiskit_Pauli(str(arg.args[-1])))\n",
    "        operator += coeff * sympy_Pauli_to_qiskit_Pauli(str(arg.args[-1]))\n",
    "    return operator"
   ]
  },
  {
   "cell_type": "code",
   "execution_count": 13,
   "metadata": {},
   "outputs": [],
   "source": [
    "def position_operator(i, A):\n",
    "    creation = sympy_operator_to_qiskit_operator(creation_operator(i, A))\n",
    "    annihilation = sympy_operator_to_qiskit_operator(annihilation_operator(i, A))\n",
    "    coeff = complex(np.sqrt(1/2))\n",
    "    operator = coeff * (creation + annihilation)\n",
    "    return operator.reduce()\n",
    "\n",
    "\n",
    "def momentum_operator(i, A):\n",
    "    creation = sympy_operator_to_qiskit_operator(creation_operator(i, A))\n",
    "    annihilation = sympy_operator_to_qiskit_operator(annihilation_operator(i, A))\n",
    "    coeff = complex(-1j * np.sqrt(1/2))\n",
    "    operator = coeff * (creation - annihilation)\n",
    "    return operator.reduce()\n",
    "\n",
    "\n",
    "def hamiltonian_bosonic_free(sqrt_nu):\n",
    "    operator = 0 #0*sympy_Pauli_to_qiskit_Pauli(f'I{number_qubits}')\n",
    "    for i in range(number_of_matrices):\n",
    "        for a in range(number_of_generators):\n",
    "            operator += 0.5 * (\n",
    "                momentum_operator(i, a) @ momentum_operator(i, a)\n",
    "                + position_operator(i, a) @ position_operator(i, a)\n",
    "                ) \n",
    "    return operator.reduce() * (sqrt_nu * sqrt_nu)\n",
    "\n",
    "\n",
    "def hamiltonian_cubic_interaction(sqrt_nu):\n",
    "    operator = 0\n",
    "    for a in range(number_of_generators):\n",
    "        for b in range(number_of_generators):\n",
    "            for c in range(number_of_generators):\n",
    "                coeff = float(-6 * su_group.structure_constants.get((a+1,b+1,c+1), 0))\n",
    "                if coeff != 0:\n",
    "                    operator += coeff*(position_operator(0, a)\n",
    "                             @ position_operator(1, b)\n",
    "                             @ position_operator(2, c)\n",
    "                             ).reduce()\n",
    "    return operator.reduce() / sqrt_nu\n",
    "\n",
    "\n",
    "def hamiltonian_quartic_interaction(sqrt_nu):\n",
    "    operator = 0\n",
    "\n",
    "    for i in range(number_of_matrices):\n",
    "        for j in range(number_of_matrices):\n",
    "\n",
    "            for a in range(number_of_generators):\n",
    "                for b in range(number_of_generators):\n",
    "                    for c in range(number_of_generators):\n",
    "                        for d in range(number_of_generators):\n",
    "            \n",
    "                                coeff = float((1/4) * sum(\n",
    "                                    su_group.structure_constants.get((a+1,b+1,e+1), 0)\n",
    "                                    * su_group.structure_constants.get((c+1,d+1,e+1), 0) \n",
    "                                    for e in range(number_of_generators)\n",
    "                                ))\n",
    "\n",
    "                                if coeff != 0:\n",
    "                                    operator += coeff * (\n",
    "                                        position_operator(i, a)\n",
    "                                        @ position_operator(j, b)\n",
    "                                        @ position_operator(i, c)\n",
    "                                        @ position_operator(j, d)\n",
    "                                        ).reduce()\n",
    "            \n",
    "    return operator.reduce() * (1 / (sqrt_nu*sqrt_nu))"
   ]
  },
  {
   "cell_type": "code",
   "execution_count": 14,
   "metadata": {},
   "outputs": [],
   "source": [
    "def hamiltonian(sqrt_nu, free_only=False):\n",
    "    return (\n",
    "        hamiltonian_bosonic_free(sqrt_nu)\n",
    "        + int(not free_only) * hamiltonian_cubic_interaction(sqrt_nu) \n",
    "        + int(not free_only) * hamiltonian_quartic_interaction(sqrt_nu)\n",
    "        )"
   ]
  },
  {
   "cell_type": "code",
   "execution_count": 15,
   "metadata": {},
   "outputs": [
    {
     "name": "stdout",
     "output_type": "stream",
     "text": [
      "number of terms in H_free: 37\n",
      "number of terms in H_cubic: 120\n",
      "number of terms in H_quartic: 694\n"
     ]
    }
   ],
   "source": [
    "sqrt_nu = Parameter('sqrt_nu')\n",
    "H = hamiltonian(sqrt_nu, free_only=True)\n",
    "\n",
    "terms = {0:'free', 1:'cubic', 2:'quartic'}\n",
    "for key, value in terms.items():\n",
    "    print(f'number of terms in H_{value}: {len(H[key])}')"
   ]
  },
  {
   "cell_type": "code",
   "execution_count": 16,
   "metadata": {},
   "outputs": [
    {
     "name": "stdout",
     "output_type": "stream",
     "text": [
      "total number of terms in H: 751\n"
     ]
    }
   ],
   "source": [
    "H_dict = {}\n",
    "H_weights_dict = {}\n",
    "\n",
    "for i in range(len(H)):\n",
    "\n",
    "    for x in H[i].primitive:\n",
    "        assert len(x.paulis) == 1\n",
    "        H_dict[x.paulis[0]] = H_dict.get(x.paulis[0], 0) + (complex(x.coeffs[0]) * H[i].coeff)\n",
    "\n",
    "print(f'total number of terms in H: {len(H_dict)}')"
   ]
  },
  {
   "cell_type": "code",
   "execution_count": 17,
   "metadata": {},
   "outputs": [
    {
     "data": {
      "text/plain": [
       "18"
      ]
     },
     "execution_count": 17,
     "metadata": {},
     "output_type": "execute_result"
    }
   ],
   "source": [
    "number_qubits"
   ]
  },
  {
   "cell_type": "code",
   "execution_count": 18,
   "metadata": {},
   "outputs": [],
   "source": [
    "hamiltonian(sqrt_nu);"
   ]
  },
  {
   "cell_type": "code",
   "execution_count": 19,
   "metadata": {},
   "outputs": [],
   "source": [
    "def weight(pauli):\n",
    "    weight = 0\n",
    "    for key, value in Counter(str(pauli)).items():\n",
    "        if key != 'I':\n",
    "            weight += value\n",
    "    return weight"
   ]
  },
  {
   "cell_type": "code",
   "execution_count": 20,
   "metadata": {},
   "outputs": [
    {
     "data": {
      "text/plain": [
       "Counter({0: 1, 2: 162, 1: 18, 3: 408, 4: 162})"
      ]
     },
     "execution_count": 20,
     "metadata": {},
     "output_type": "execute_result"
    }
   ],
   "source": [
    "Counter([weight(pauli) for pauli in H_dict.keys()])"
   ]
  },
  {
   "cell_type": "code",
   "execution_count": 21,
   "metadata": {},
   "outputs": [],
   "source": [
    "mat = 0 * Pauli(number_qubits * 'I').to_matrix(sparse=True)\n",
    "for key, value in H_dict.items():\n",
    "    mat += key.to_matrix(sparse=True) #* value.sympify().subs('sqrt_nu', 1)"
   ]
  },
  {
   "cell_type": "code",
   "execution_count": 22,
   "metadata": {},
   "outputs": [
    {
     "ename": "KeyboardInterrupt",
     "evalue": "",
     "output_type": "error",
     "traceback": [
      "\u001b[0;31m---------------------------------------------------------------------------\u001b[0m",
      "\u001b[0;31mKeyboardInterrupt\u001b[0m                         Traceback (most recent call last)",
      "Cell \u001b[0;32mIn[22], line 2\u001b[0m\n\u001b[1;32m      1\u001b[0m \u001b[38;5;28;01mfrom\u001b[39;00m \u001b[38;5;21;01mscipy\u001b[39;00m\u001b[38;5;21;01m.\u001b[39;00m\u001b[38;5;21;01msparse\u001b[39;00m\u001b[38;5;21;01m.\u001b[39;00m\u001b[38;5;21;01mlinalg\u001b[39;00m \u001b[38;5;28;01mimport\u001b[39;00m eigs\n\u001b[0;32m----> 2\u001b[0m \u001b[43meigs\u001b[49m\u001b[43m(\u001b[49m\u001b[43mmat\u001b[49m\u001b[43m,\u001b[49m\u001b[43m \u001b[49m\u001b[43mk\u001b[49m\u001b[38;5;241;43m=\u001b[39;49m\u001b[38;5;241;43m3\u001b[39;49m\u001b[43m,\u001b[49m\u001b[43m \u001b[49m\u001b[43mwhich\u001b[49m\u001b[38;5;241;43m=\u001b[39;49m\u001b[38;5;124;43m'\u001b[39;49m\u001b[38;5;124;43mSM\u001b[39;49m\u001b[38;5;124;43m'\u001b[39;49m\u001b[43m)\u001b[49m\n",
      "File \u001b[0;32m~/.local/lib/python3.10/site-packages/scipy/sparse/linalg/_eigen/arpack/arpack.py:1352\u001b[0m, in \u001b[0;36meigs\u001b[0;34m(A, k, M, sigma, which, v0, ncv, maxiter, tol, return_eigenvectors, Minv, OPinv, OPpart)\u001b[0m\n\u001b[1;32m   1350\u001b[0m \u001b[39mwith\u001b[39;00m _ARPACK_LOCK:\n\u001b[1;32m   1351\u001b[0m     \u001b[39mwhile\u001b[39;00m \u001b[39mnot\u001b[39;00m params\u001b[39m.\u001b[39mconverged:\n\u001b[0;32m-> 1352\u001b[0m         params\u001b[39m.\u001b[39;49miterate()\n\u001b[1;32m   1354\u001b[0m     \u001b[39mreturn\u001b[39;00m params\u001b[39m.\u001b[39mextract(return_eigenvectors)\n",
      "File \u001b[0;32m~/.local/lib/python3.10/site-packages/scipy/sparse/linalg/_eigen/arpack/arpack.py:743\u001b[0m, in \u001b[0;36m_UnsymmetricArpackParams.iterate\u001b[0;34m(self)\u001b[0m\n\u001b[1;32m    740\u001b[0m \u001b[39melif\u001b[39;00m \u001b[39mself\u001b[39m\u001b[39m.\u001b[39mido \u001b[39m==\u001b[39m \u001b[39m1\u001b[39m:\n\u001b[1;32m    741\u001b[0m     \u001b[39m# compute y = Op*x\u001b[39;00m\n\u001b[1;32m    742\u001b[0m     \u001b[39mif\u001b[39;00m \u001b[39mself\u001b[39m\u001b[39m.\u001b[39mmode \u001b[39min\u001b[39;00m (\u001b[39m1\u001b[39m, \u001b[39m2\u001b[39m):\n\u001b[0;32m--> 743\u001b[0m         \u001b[39mself\u001b[39m\u001b[39m.\u001b[39mworkd[yslice] \u001b[39m=\u001b[39m \u001b[39mself\u001b[39;49m\u001b[39m.\u001b[39;49mOP(\u001b[39mself\u001b[39;49m\u001b[39m.\u001b[39;49mworkd[xslice])\n\u001b[1;32m    744\u001b[0m     \u001b[39melse\u001b[39;00m:\n\u001b[1;32m    745\u001b[0m         Bxslice \u001b[39m=\u001b[39m \u001b[39mslice\u001b[39m(\u001b[39mself\u001b[39m\u001b[39m.\u001b[39mipntr[\u001b[39m2\u001b[39m] \u001b[39m-\u001b[39m \u001b[39m1\u001b[39m, \u001b[39mself\u001b[39m\u001b[39m.\u001b[39mipntr[\u001b[39m2\u001b[39m] \u001b[39m-\u001b[39m \u001b[39m1\u001b[39m \u001b[39m+\u001b[39m \u001b[39mself\u001b[39m\u001b[39m.\u001b[39mn)\n",
      "File \u001b[0;32m~/.local/lib/python3.10/site-packages/scipy/sparse/linalg/_interface.py:232\u001b[0m, in \u001b[0;36mLinearOperator.matvec\u001b[0;34m(self, x)\u001b[0m\n\u001b[1;32m    229\u001b[0m \u001b[39mif\u001b[39;00m x\u001b[39m.\u001b[39mshape \u001b[39m!=\u001b[39m (N,) \u001b[39mand\u001b[39;00m x\u001b[39m.\u001b[39mshape \u001b[39m!=\u001b[39m (N,\u001b[39m1\u001b[39m):\n\u001b[1;32m    230\u001b[0m     \u001b[39mraise\u001b[39;00m \u001b[39mValueError\u001b[39;00m(\u001b[39m'\u001b[39m\u001b[39mdimension mismatch\u001b[39m\u001b[39m'\u001b[39m)\n\u001b[0;32m--> 232\u001b[0m y \u001b[39m=\u001b[39m \u001b[39mself\u001b[39;49m\u001b[39m.\u001b[39;49m_matvec(x)\n\u001b[1;32m    234\u001b[0m \u001b[39mif\u001b[39;00m \u001b[39misinstance\u001b[39m(x, np\u001b[39m.\u001b[39mmatrix):\n\u001b[1;32m    235\u001b[0m     y \u001b[39m=\u001b[39m asmatrix(y)\n",
      "File \u001b[0;32m~/.local/lib/python3.10/site-packages/scipy/sparse/linalg/_interface.py:199\u001b[0m, in \u001b[0;36mLinearOperator._matvec\u001b[0;34m(self, x)\u001b[0m\n\u001b[1;32m    189\u001b[0m \u001b[39mdef\u001b[39;00m \u001b[39m_matvec\u001b[39m(\u001b[39mself\u001b[39m, x):\n\u001b[1;32m    190\u001b[0m \u001b[39m    \u001b[39m\u001b[39m\"\"\"Default matrix-vector multiplication handler.\u001b[39;00m\n\u001b[1;32m    191\u001b[0m \n\u001b[1;32m    192\u001b[0m \u001b[39m    If self is a linear operator of shape (M, N), then this method will\u001b[39;00m\n\u001b[0;32m   (...)\u001b[0m\n\u001b[1;32m    197\u001b[0m \u001b[39m    will define matrix-vector multiplication as well.\u001b[39;00m\n\u001b[1;32m    198\u001b[0m \u001b[39m    \"\"\"\u001b[39;00m\n\u001b[0;32m--> 199\u001b[0m     \u001b[39mreturn\u001b[39;00m \u001b[39mself\u001b[39;49m\u001b[39m.\u001b[39;49mmatmat(x\u001b[39m.\u001b[39;49mreshape(\u001b[39m-\u001b[39;49m\u001b[39m1\u001b[39;49m, \u001b[39m1\u001b[39;49m))\n",
      "File \u001b[0;32m~/.local/lib/python3.10/site-packages/scipy/sparse/linalg/_interface.py:337\u001b[0m, in \u001b[0;36mLinearOperator.matmat\u001b[0;34m(self, X)\u001b[0m\n\u001b[1;32m    333\u001b[0m \u001b[39mif\u001b[39;00m X\u001b[39m.\u001b[39mshape[\u001b[39m0\u001b[39m] \u001b[39m!=\u001b[39m \u001b[39mself\u001b[39m\u001b[39m.\u001b[39mshape[\u001b[39m1\u001b[39m]:\n\u001b[1;32m    334\u001b[0m     \u001b[39mraise\u001b[39;00m \u001b[39mValueError\u001b[39;00m(\u001b[39m'\u001b[39m\u001b[39mdimension mismatch: \u001b[39m\u001b[39m%r\u001b[39;00m\u001b[39m, \u001b[39m\u001b[39m%r\u001b[39;00m\u001b[39m'\u001b[39m\n\u001b[1;32m    335\u001b[0m                      \u001b[39m%\u001b[39m (\u001b[39mself\u001b[39m\u001b[39m.\u001b[39mshape, X\u001b[39m.\u001b[39mshape))\n\u001b[0;32m--> 337\u001b[0m Y \u001b[39m=\u001b[39m \u001b[39mself\u001b[39;49m\u001b[39m.\u001b[39;49m_matmat(X)\n\u001b[1;32m    339\u001b[0m \u001b[39mif\u001b[39;00m \u001b[39misinstance\u001b[39m(Y, np\u001b[39m.\u001b[39mmatrix):\n\u001b[1;32m    340\u001b[0m     Y \u001b[39m=\u001b[39m asmatrix(Y)\n",
      "File \u001b[0;32m~/.local/lib/python3.10/site-packages/scipy/sparse/linalg/_interface.py:733\u001b[0m, in \u001b[0;36mMatrixLinearOperator._matmat\u001b[0;34m(self, X)\u001b[0m\n\u001b[1;32m    732\u001b[0m \u001b[39mdef\u001b[39;00m \u001b[39m_matmat\u001b[39m(\u001b[39mself\u001b[39m, X):\n\u001b[0;32m--> 733\u001b[0m     \u001b[39mreturn\u001b[39;00m \u001b[39mself\u001b[39;49m\u001b[39m.\u001b[39;49mA\u001b[39m.\u001b[39;49mdot(X)\n",
      "File \u001b[0;32m~/.local/lib/python3.10/site-packages/scipy/sparse/_base.py:416\u001b[0m, in \u001b[0;36mspmatrix.dot\u001b[0;34m(self, other)\u001b[0m\n\u001b[1;32m    414\u001b[0m     \u001b[39mreturn\u001b[39;00m \u001b[39mself\u001b[39m \u001b[39m*\u001b[39m other\n\u001b[1;32m    415\u001b[0m \u001b[39melse\u001b[39;00m:\n\u001b[0;32m--> 416\u001b[0m     \u001b[39mreturn\u001b[39;00m \u001b[39mself\u001b[39;49m \u001b[39m@\u001b[39;49m other\n",
      "File \u001b[0;32m~/.local/lib/python3.10/site-packages/scipy/sparse/_base.py:630\u001b[0m, in \u001b[0;36mspmatrix.__matmul__\u001b[0;34m(self, other)\u001b[0m\n\u001b[1;32m    627\u001b[0m \u001b[39mif\u001b[39;00m isscalarlike(other):\n\u001b[1;32m    628\u001b[0m     \u001b[39mraise\u001b[39;00m \u001b[39mValueError\u001b[39;00m(\u001b[39m\"\u001b[39m\u001b[39mScalar operands are not allowed, \u001b[39m\u001b[39m\"\u001b[39m\n\u001b[1;32m    629\u001b[0m                      \u001b[39m\"\u001b[39m\u001b[39muse \u001b[39m\u001b[39m'\u001b[39m\u001b[39m*\u001b[39m\u001b[39m'\u001b[39m\u001b[39m instead\u001b[39m\u001b[39m\"\u001b[39m)\n\u001b[0;32m--> 630\u001b[0m \u001b[39mreturn\u001b[39;00m \u001b[39mself\u001b[39;49m\u001b[39m.\u001b[39;49m_mul_dispatch(other)\n",
      "File \u001b[0;32m~/.local/lib/python3.10/site-packages/scipy/sparse/_base.py:530\u001b[0m, in \u001b[0;36mspmatrix._mul_dispatch\u001b[0;34m(self, other)\u001b[0m\n\u001b[1;32m    528\u001b[0m     \u001b[39mreturn\u001b[39;00m \u001b[39mself\u001b[39m\u001b[39m.\u001b[39m_mul_vector(other)\n\u001b[1;32m    529\u001b[0m \u001b[39melif\u001b[39;00m other\u001b[39m.\u001b[39mshape \u001b[39m==\u001b[39m (N, \u001b[39m1\u001b[39m):\n\u001b[0;32m--> 530\u001b[0m     \u001b[39mreturn\u001b[39;00m \u001b[39mself\u001b[39;49m\u001b[39m.\u001b[39;49m_mul_vector(other\u001b[39m.\u001b[39;49mravel())\u001b[39m.\u001b[39mreshape(M, \u001b[39m1\u001b[39m)\n\u001b[1;32m    531\u001b[0m \u001b[39melif\u001b[39;00m other\u001b[39m.\u001b[39mndim \u001b[39m==\u001b[39m \u001b[39m2\u001b[39m \u001b[39mand\u001b[39;00m other\u001b[39m.\u001b[39mshape[\u001b[39m0\u001b[39m] \u001b[39m==\u001b[39m N:\n\u001b[1;32m    532\u001b[0m     \u001b[39mreturn\u001b[39;00m \u001b[39mself\u001b[39m\u001b[39m.\u001b[39m_mul_multivector(other)\n",
      "File \u001b[0;32m~/.local/lib/python3.10/site-packages/scipy/sparse/_compressed.py:489\u001b[0m, in \u001b[0;36m_cs_matrix._mul_vector\u001b[0;34m(self, other)\u001b[0m\n\u001b[1;32m    487\u001b[0m \u001b[39m# csr_matvec or csc_matvec\u001b[39;00m\n\u001b[1;32m    488\u001b[0m fn \u001b[39m=\u001b[39m \u001b[39mgetattr\u001b[39m(_sparsetools, \u001b[39mself\u001b[39m\u001b[39m.\u001b[39mformat \u001b[39m+\u001b[39m \u001b[39m'\u001b[39m\u001b[39m_matvec\u001b[39m\u001b[39m'\u001b[39m)\n\u001b[0;32m--> 489\u001b[0m fn(M, N, \u001b[39mself\u001b[39;49m\u001b[39m.\u001b[39;49mindptr, \u001b[39mself\u001b[39;49m\u001b[39m.\u001b[39;49mindices, \u001b[39mself\u001b[39;49m\u001b[39m.\u001b[39;49mdata, other, result)\n\u001b[1;32m    491\u001b[0m \u001b[39mreturn\u001b[39;00m result\n",
      "\u001b[0;31mKeyboardInterrupt\u001b[0m: "
     ]
    }
   ],
   "source": [
    "from scipy.sparse.linalg import eigs\n",
    "eigs(mat, k=3, which='SM')"
   ]
  },
  {
   "cell_type": "code",
   "execution_count": null,
   "metadata": {},
   "outputs": [],
   "source": [
    "193331200/(262144 * 262144)"
   ]
  },
  {
   "cell_type": "code",
   "execution_count": null,
   "metadata": {},
   "outputs": [],
   "source": [
    "hamiltonian(sqrt_nu, free_only=True).reduce()"
   ]
  },
  {
   "cell_type": "code",
   "execution_count": null,
   "metadata": {},
   "outputs": [],
   "source": [
    "eigvals, eigvecs = np.linalg.eig(mat)"
   ]
  },
  {
   "cell_type": "code",
   "execution_count": null,
   "metadata": {},
   "outputs": [],
   "source": [
    "from matplotlib.ticker import FormatStrFormatter\n",
    "\n",
    "fig, ax = plt.subplots()\n",
    "ax.xaxis.set_major_formatter(FormatStrFormatter('%.2f'))\n",
    "plt.hist(np.real(eigvals)/sqrt_nu**2)\n",
    "plt.show()"
   ]
  },
  {
   "cell_type": "code",
   "execution_count": null,
   "metadata": {},
   "outputs": [],
   "source": []
  }
 ],
 "metadata": {
  "kernelspec": {
   "display_name": "Python 3.10.9 ('bmnsim')",
   "language": "python",
   "name": "python3"
  },
  "language_info": {
   "codemirror_mode": {
    "name": "ipython",
    "version": 3
   },
   "file_extension": ".py",
   "mimetype": "text/x-python",
   "name": "python",
   "nbconvert_exporter": "python",
   "pygments_lexer": "ipython3",
   "version": "3.10.9"
  },
  "orig_nbformat": 4,
  "vscode": {
   "interpreter": {
    "hash": "3c5df6d427fee16f27e88d71498fe2326ae3f38a57e954704f64325d933eb975"
   }
  }
 },
 "nbformat": 4,
 "nbformat_minor": 2
}
