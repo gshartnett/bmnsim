{
 "cells": [
  {
   "attachments": {},
   "cell_type": "markdown",
   "metadata": {},
   "source": [
    "# Mini-BMN Notebook\n",
    "\n",
    "Expand mini-BMN hamiltonian into Pauli strings\n",
    "\n",
    "To Do\n",
    "- add comments\n",
    "- check units\n",
    "- how to simulate? what to simulate?\n",
    "- fuzzy spheres"
   ]
  },
  {
   "cell_type": "code",
   "execution_count": 1,
   "metadata": {},
   "outputs": [],
   "source": [
    "import qiskit\n",
    "import numpy as np\n",
    "import sympy as sp\n",
    "from collections import Counter\n",
    "from qiskit.circuit import Parameter, ParameterVector\n",
    "from qiskit.quantum_info import Pauli, Operator, SparsePauliOp\n",
    "from symengine.lib.symengine_wrapper import Zero as spZero\n",
    "from utils import SpecialUnitaryGroup, annihilation_operator_old, creation_operator_old"
   ]
  },
  {
   "cell_type": "code",
   "execution_count": 2,
   "metadata": {},
   "outputs": [],
   "source": [
    "import matplotlib\n",
    "import matplotlib.pyplot as plt\n",
    "from cycler import cycler\n",
    "\n",
    "plt.rcParams['xtick.direction'] = 'in'\n",
    "plt.rcParams['ytick.direction'] = 'in'\n",
    "plt.rcParams['xtick.major.size'] = 5.0\n",
    "plt.rcParams['xtick.minor.size'] = 3.0\n",
    "plt.rcParams['ytick.major.size'] = 5.0\n",
    "plt.rcParams['ytick.minor.size'] = 3.0\n",
    "plt.rc('font', family='serif',size=14)\n",
    "#matplotlib.rc('text', usetex=True)\n",
    "matplotlib.rc('legend', fontsize=14)\n",
    "plt.rcParams['ytick.minor.size'] = 3.0\n",
    "matplotlib.rcParams.update({\"axes.grid\" : True,\n",
    "                            \"grid.alpha\": 0.75,\n",
    "                            \"grid.linewidth\": 0.5})\n",
    "matplotlib.rcParams['axes.prop_cycle'] = cycler(color=['#E24A33', '#348ABD', '#988ED5', '#777777', '#FBC15E', '#8EBA42', '#FFB5B8'])\n",
    "colors = plt.rcParams['axes.prop_cycle'].by_key()['color']"
   ]
  },
  {
   "cell_type": "code",
   "execution_count": 3,
   "metadata": {},
   "outputs": [
    {
     "name": "stdout",
     "output_type": "stream",
     "text": [
      "number_qubits 18, Hilbert space dimension 262144\n"
     ]
    }
   ],
   "source": [
    "number_of_matrices = 3\n",
    "gauge_group_degree = 2 # the N in SU(N)\n",
    "number_of_generators = gauge_group_degree**2 - 1 #understand the diff b/w U(N) and SU(N)\n",
    "\n",
    "bits_per_oscillator = 2\n",
    "number_states_per_oscillator = 2**bits_per_oscillator\n",
    "\n",
    "number_qubits = (\n",
    "    number_of_matrices\n",
    "    * number_of_generators\n",
    "    * bits_per_oscillator\n",
    ")\n",
    "\n",
    "print(f'number_qubits {number_qubits}, Hilbert space dimension {2**number_qubits}')"
   ]
  },
  {
   "cell_type": "code",
   "execution_count": 4,
   "metadata": {},
   "outputs": [
    {
     "data": {
      "text/plain": [
       "{(1, 2, 3): 1.0,\n",
       " (1, 3, 2): -1.0,\n",
       " (2, 1, 3): -1.0,\n",
       " (2, 3, 1): 1.0,\n",
       " (3, 1, 2): 1.0,\n",
       " (3, 2, 1): -1.0}"
      ]
     },
     "execution_count": 4,
     "metadata": {},
     "output_type": "execute_result"
    }
   ],
   "source": [
    "su_group = SpecialUnitaryGroup(gauge_group_degree)\n",
    "su_group.structure_constants"
   ]
  },
  {
   "cell_type": "code",
   "execution_count": 5,
   "metadata": {},
   "outputs": [
    {
     "data": {
      "text/plain": [
       "{(0, 0): 0,\n",
       " (0, 1): 2,\n",
       " (0, 2): 4,\n",
       " (1, 0): 6,\n",
       " (1, 1): 8,\n",
       " (1, 2): 10,\n",
       " (2, 0): 12,\n",
       " (2, 1): 14,\n",
       " (2, 2): 16}"
      ]
     },
     "execution_count": 5,
     "metadata": {},
     "output_type": "execute_result"
    }
   ],
   "source": [
    "index_map = {}\n",
    "counter = 0\n",
    "for i in range(number_of_matrices):\n",
    "    for a in range(number_of_generators):\n",
    "        index_map[(i,a)] = counter\n",
    "        counter += bits_per_oscillator\n",
    "index_map_inverse = dict(map(reversed, index_map.items()))\n",
    "index_map"
   ]
  },
  {
   "cell_type": "code",
   "execution_count": 38,
   "metadata": {},
   "outputs": [
    {
     "data": {
      "text/plain": [
       "{'00': SparsePauliOp(['I', 'Z'],\n",
       "               coeffs=[0.5+0.j, 0.5+0.j]),\n",
       " '01': SparsePauliOp(['X', 'Y'],\n",
       "               coeffs=[0.5+0.j , 0. +0.5j]),\n",
       " '10': SparsePauliOp(['X', 'Y'],\n",
       "               coeffs=[0.5+0.j , 0. -0.5j]),\n",
       " '11': SparsePauliOp(['I', 'Z'],\n",
       "               coeffs=[ 0.5+0.j, -0.5+0.j])}"
      ]
     },
     "execution_count": 38,
     "metadata": {},
     "output_type": "execute_result"
    }
   ],
   "source": [
    "# Eq. 4.5 of https://arxiv.org/pdf/2011.06573\n",
    "single_qubit_state_map = {\n",
    "    '00' : SparsePauliOp(data=[\"I\", \"Z\"], coeffs=np.array([0.5, 0.5])),\n",
    "    '01' : SparsePauliOp(data=[\"X\", \"Y\"], coeffs=np.array([0.5, 0.5 * 1j])),\n",
    "    '10' : SparsePauliOp(data=[\"X\", \"Y\"], coeffs=np.array([0.5, -0.5 * 1j])),\n",
    "    '11' : SparsePauliOp(data=[\"I\", \"Z\"], coeffs=np.array([0.5, -0.5])),\n",
    "    }\n",
    "single_qubit_state_map"
   ]
  },
  {
   "cell_type": "code",
   "execution_count": 52,
   "metadata": {},
   "outputs": [],
   "source": [
    "def annihilation_operator(matrix_idx: int, generator_idx: int) -> SparsePauliOp:\n",
    "    \"\"\"\n",
    "    Build the annihilation operator for the oscillator.\n",
    "\n",
    "    Parameters\n",
    "    ----------\n",
    "    matrix_idx : int\n",
    "        The SO(3) index enumerating the matrices (1, 2, 3)\n",
    "    generator_idx : int\n",
    "        The generator index (1, 2, ..., N^2)\n",
    "\n",
    "    Returns\n",
    "    -------\n",
    "    SparsePauliOp\n",
    "        The annihilation operator\n",
    "    \"\"\"\n",
    "    qubit_indx0 = index_map[(matrix_idx, generator_idx)]\n",
    "    operator = 0\n",
    "    for j in range(number_states_per_oscillator-1):\n",
    "        bra_bitstring = f'{j:0{bits_per_oscillator}b}'\n",
    "        ket_bitstring = f'{j+1:0{bits_per_oscillator}b}'\n",
    "        for i in range(bits_per_oscillator):\n",
    "            new_term = single_qubit_state_map[bra_bitstring[i] + ket_bitstring[i]]\n",
    "            new_term = new_term.subs('I', f'I{qubit_indx0+i}')\n",
    "            new_term = new_term.subs('X', f'X{qubit_indx0+i}')\n",
    "            new_term = new_term.subs('Y', f'Y{qubit_indx0+i}')\n",
    "            new_term = new_term.subs('Z', f'Z{qubit_indx0+i}')\n",
    "            operator += new_term\n",
    "    return operator.simplify()\n",
    "\n",
    "\n",
    "def creation_operator(matrix_idx: int, generator_idx: int) -> SparsePauliOp:\n",
    "    \"\"\"\n",
    "    Build the annihilation operators for the oscillator.\n",
    "\n",
    "    Parameters\n",
    "    ----------\n",
    "    matrix_idx : int\n",
    "        The SO(3) index enumerating the matrices (1, 2, 3)\n",
    "    generator_idx : int\n",
    "        The generator index (1, 2, ..., N^2)\n",
    "\n",
    "    Returns\n",
    "    -------\n",
    "    SparsePauliOp\n",
    "        The creation operator.\n",
    "    \"\"\"\n",
    "    qubit_index_0 = index_map[(matrix_idx, generator_idx)] # first non-trivial qubit index\n",
    "    operator = SparsePauliOp(data=\"I\" * number_qubits, coeffs=np.asarray([0])) # initialize operator\n",
    "\n",
    "    # loop over the truncated set of internal states for each oscillator\n",
    "    for j in range(number_states_per_oscillator-1):\n",
    "\n",
    "        # Eq. 4.3 of https://arxiv.org/pdf/2011.06573\n",
    "        bra_bitstring = f'{j+1:0{bits_per_oscillator}b}'\n",
    "        ket_bitstring = f'{j:0{bits_per_oscillator}b}'\n",
    "\n",
    "        # loop over bits per oscillaotr\n",
    "        for i in range(bits_per_oscillator):\n",
    "            qubit_index = qubit_index_0 + i\n",
    "            single_qubit_matrix_element = single_qubit_state_map[bra_bitstring[i] + ket_bitstring[i]]\n",
    "            first_pauli = single_qubit_matrix_element.paulis[0].__str__()\n",
    "            second_pauli = single_qubit_matrix_element.paulis[1].__str__()\n",
    "            first_pauli = (\"I\" * qubit_index) + first_pauli + (number_qubits - qubit_index - 1) * \"I\"\n",
    "            second_pauli = (\"I\" * qubit_index) + second_pauli + (number_qubits - qubit_index - 1) * \"I\"\n",
    "            operator += SparsePauliOp(data=[first_pauli, second_pauli], coeffs=single_qubit_matrix_element.coeffs)\n",
    "    return operator.simplify()\n",
    "\n",
    "\n",
    "def annihilation_operator(matrix_idx: int, generator_idx: int) -> SparsePauliOp:\n",
    "    \"\"\"\n",
    "    Build the annihilation operators for the oscillator.\n",
    "\n",
    "    Parameters\n",
    "    ----------\n",
    "    matrix_idx : int\n",
    "        The SO(3) index enumerating the matrices (1, 2, 3)\n",
    "    generator_idx : int\n",
    "        The generator index (1, 2, ..., N^2)\n",
    "\n",
    "    Returns\n",
    "    -------\n",
    "    SparsePauliOp\n",
    "        The creation operator.\n",
    "    \"\"\"\n",
    "    return creation_operator(matrix_idx: int, generator_idx: int)"
   ]
  },
  {
   "cell_type": "code",
   "execution_count": 53,
   "metadata": {},
   "outputs": [
    {
     "data": {
      "text/latex": [
       "$\\displaystyle 1.0 I_{0} + 0.5 X_{0} + 1.5 X_{1} - 0.5 i Y_{0} - 0.5 i Y_{1}$"
      ],
      "text/plain": [
       "1.0*I0 + 0.5*X0 + 1.5*X1 - 0.5*I*Y0 - 0.5*I*Y1"
      ]
     },
     "execution_count": 53,
     "metadata": {},
     "output_type": "execute_result"
    }
   ],
   "source": [
    "creation_operator_old(0, 0)"
   ]
  },
  {
   "cell_type": "code",
   "execution_count": 54,
   "metadata": {},
   "outputs": [
    {
     "name": "stdout",
     "output_type": "stream",
     "text": [
      "SparsePauliOp(['I', 'Z'],\n",
      "              coeffs=[0.5+0.j, 0.5+0.j])\n",
      "SparsePauliOp(['X', 'Y'],\n",
      "              coeffs=[0.5+0.j , 0. -0.5j])\n",
      "SparsePauliOp(['X', 'Y'],\n",
      "              coeffs=[0.5+0.j , 0. -0.5j])\n",
      "SparsePauliOp(['X', 'Y'],\n",
      "              coeffs=[0.5+0.j , 0. +0.5j])\n",
      "SparsePauliOp(['I', 'Z'],\n",
      "              coeffs=[ 0.5+0.j, -0.5+0.j])\n",
      "SparsePauliOp(['X', 'Y'],\n",
      "              coeffs=[0.5+0.j , 0. -0.5j])\n",
      "SparsePauliOp(['IIIIIIIIIIIIIIIIII', 'IXIIIIIIIIIIIIIIII', 'IYIIIIIIIIIIIIIIII', 'XIIIIIIIIIIIIIIIII', 'YIIIIIIIIIIIIIIIII'],\n",
      "              coeffs=[1. +0.j , 1.5+0.j , 0. -0.5j, 0.5+0.j , 0. -0.5j])\n"
     ]
    }
   ],
   "source": [
    "print(creation_operator(0, 0))"
   ]
  },
  {
   "cell_type": "code",
   "execution_count": null,
   "metadata": {},
   "outputs": [],
   "source": []
  },
  {
   "cell_type": "code",
   "execution_count": null,
   "metadata": {},
   "outputs": [],
   "source": [
    "SparsePauliOp(data=[\"I\", \"Z\"], coeffs=np.array([0.5, 0.5])).coeffs"
   ]
  },
  {
   "cell_type": "code",
   "execution_count": null,
   "metadata": {},
   "outputs": [],
   "source": [
    "creation_operator(0, 0)"
   ]
  },
  {
   "cell_type": "code",
   "execution_count": null,
   "metadata": {},
   "outputs": [],
   "source": [
    "creation_operator(0, 0)"
   ]
  },
  {
   "cell_type": "code",
   "execution_count": null,
   "metadata": {},
   "outputs": [],
   "source": [
    "string_to_Pauli_map = {s:Pauli(s) for s in \"IXYZ\"}"
   ]
  },
  {
   "cell_type": "code",
   "execution_count": null,
   "metadata": {},
   "outputs": [],
   "source": [
    "def sympy_Pauli_to_qiskit_Pauli(operator_string):\n",
    "    '''CAREFUL WITH ENDIAN CONVENTION'''\n",
    "    pauli_string = operator_string[0]\n",
    "    qubit_number = int(operator_string[1:])\n",
    "\n",
    "    #print(pauli_string, qubit_number)\n",
    "\n",
    "    if qubit_number == 0:\n",
    "        new_operator = string_to_Pauli_map[pauli_string]\n",
    "    else:\n",
    "        new_operator = Pauli(\"I\")\n",
    "\n",
    "    for i in range(1, number_qubits):\n",
    "        if i != qubit_number:\n",
    "            new_operator = new_operator ^ Pauli(\"I\")\n",
    "        else:\n",
    "            new_operator = new_operator ^ string_to_Pauli_map[pauli_string]\n",
    "    return new_operator#.reduce()\n",
    "\n",
    "def sympy_Pauli_to_qiskit_Pauli(operator_string):\n",
    "    return SparsePauliOp(data=operator_string)"
   ]
  },
  {
   "cell_type": "code",
   "execution_count": null,
   "metadata": {},
   "outputs": [],
   "source": [
    "sympy_Pauli_to_qiskit_Pauli(\"IXI\")"
   ]
  },
  {
   "cell_type": "code",
   "execution_count": null,
   "metadata": {},
   "outputs": [],
   "source": [
    "def sympy_operator_to_qiskit_operator(sympy_operator):\n",
    "    operator = 0 #sympy_Pauli_to_qiskit_Pauli(f'I{number_qubits}')\n",
    "    for arg in sympy_operator.args:\n",
    "        #print(arg)\n",
    "        if len(arg.args) == 2:\n",
    "            coeff = complex(arg.args[0])\n",
    "        elif len(arg.args) == 3:\n",
    "            coeff = complex(sp.prod(arg.args[0:2]))\n",
    "        else:\n",
    "            raise ValueError\n",
    "        #print(coeff, sympy_Pauli_to_qiskit_Pauli(str(arg.args[-1])))\n",
    "        operator += coeff * sympy_Pauli_to_qiskit_Pauli(str(arg.args[-1]))\n",
    "    return operator"
   ]
  },
  {
   "cell_type": "code",
   "execution_count": null,
   "metadata": {},
   "outputs": [],
   "source": [
    "sympy_operator_to_qiskit_operator(\"IXI\")"
   ]
  },
  {
   "cell_type": "code",
   "execution_count": null,
   "metadata": {},
   "outputs": [],
   "source": [
    "def position_operator(i, A):\n",
    "    creation = sympy_operator_to_qiskit_operator(creation_operator(i, A))\n",
    "    annihilation = sympy_operator_to_qiskit_operator(annihilation_operator(i, A))\n",
    "    coeff = complex(np.sqrt(1/2))\n",
    "    operator = coeff * (creation + annihilation)\n",
    "    return operator#.reduce()\n",
    "\n",
    "\n",
    "def momentum_operator(i, A):\n",
    "    creation = sympy_operator_to_qiskit_operator(creation_operator(i, A))\n",
    "    annihilation = sympy_operator_to_qiskit_operator(annihilation_operator(i, A))\n",
    "    coeff = complex(-1j * np.sqrt(1/2))\n",
    "    operator = coeff * (creation - annihilation)\n",
    "    return operator#.reduce()\n",
    "\n",
    "\n",
    "def hamiltonian_bosonic_free(sqrt_nu):\n",
    "    operator = 0 #0*sympy_Pauli_to_qiskit_Pauli(f'I{number_qubits}')\n",
    "    for i in range(number_of_matrices):\n",
    "        for a in range(number_of_generators):\n",
    "            operator += 0.5 * (\n",
    "                momentum_operator(i, a) @ momentum_operator(i, a)\n",
    "                + position_operator(i, a) @ position_operator(i, a)\n",
    "                )\n",
    "    #return operator.reduce() * (sqrt_nu * sqrt_nu)\n",
    "    return operator * (sqrt_nu * sqrt_nu)\n",
    "\n",
    "def hamiltonian_cubic_interaction(sqrt_nu):\n",
    "    operator = 0\n",
    "    for a in range(number_of_generators):\n",
    "        for b in range(number_of_generators):\n",
    "            for c in range(number_of_generators):\n",
    "                coeff = float(-6 * su_group.structure_constants.get((a+1,b+1,c+1), 0))\n",
    "                if coeff != 0:\n",
    "                    operator += coeff*(position_operator(0, a)\n",
    "                             @ position_operator(1, b)\n",
    "                             @ position_operator(2, c)\n",
    "                             )#.reduce()\n",
    "    #return operator.reduce() / sqrt_nu\n",
    "    return operator / sqrt_nu\n",
    "\n",
    "def hamiltonian_quartic_interaction(sqrt_nu):\n",
    "    operator = 0\n",
    "\n",
    "    for i in range(number_of_matrices):\n",
    "        for j in range(number_of_matrices):\n",
    "\n",
    "            for a in range(number_of_generators):\n",
    "                for b in range(number_of_generators):\n",
    "                    for c in range(number_of_generators):\n",
    "                        for d in range(number_of_generators):\n",
    "\n",
    "                                coeff = float((1/4) * sum(\n",
    "                                    su_group.structure_constants.get((a+1,b+1,e+1), 0)\n",
    "                                    * su_group.structure_constants.get((c+1,d+1,e+1), 0)\n",
    "                                    for e in range(number_of_generators)\n",
    "                                ))\n",
    "\n",
    "                                if coeff != 0:\n",
    "                                    operator += coeff * (\n",
    "                                        position_operator(i, a)\n",
    "                                        @ position_operator(j, b)\n",
    "                                        @ position_operator(i, c)\n",
    "                                        @ position_operator(j, d)\n",
    "                                        )#.reduce()\n",
    "\n",
    "    return operator.reduce() * (1 / (sqrt_nu*sqrt_nu))"
   ]
  },
  {
   "cell_type": "code",
   "execution_count": null,
   "metadata": {},
   "outputs": [],
   "source": [
    "def hamiltonian(sqrt_nu, free_only=False):\n",
    "    return (\n",
    "        hamiltonian_bosonic_free(sqrt_nu)\n",
    "        + int(not free_only) * hamiltonian_cubic_interaction(sqrt_nu)\n",
    "        + int(not free_only) * hamiltonian_quartic_interaction(sqrt_nu)\n",
    "        )"
   ]
  },
  {
   "cell_type": "code",
   "execution_count": null,
   "metadata": {},
   "outputs": [],
   "source": [
    "sqrt_nu = Parameter('sqrt_nu')\n",
    "H = hamiltonian(sqrt_nu, free_only=True)\n",
    "\n",
    "terms = {0:'free', 1:'cubic', 2:'quartic'}\n",
    "for key, value in terms.items():\n",
    "    print(f'number of terms in H_{value}: {len(H[key])}')"
   ]
  },
  {
   "cell_type": "code",
   "execution_count": null,
   "metadata": {},
   "outputs": [],
   "source": [
    "H_dict = {}\n",
    "H_weights_dict = {}\n",
    "\n",
    "for i in range(len(H)):\n",
    "\n",
    "    for x in H[i].primitive:\n",
    "        assert len(x.paulis) == 1\n",
    "        H_dict[x.paulis[0]] = H_dict.get(x.paulis[0], 0) + (complex(x.coeffs[0]) * H[i].coeff)\n",
    "\n",
    "print(f'total number of terms in H: {len(H_dict)}')"
   ]
  },
  {
   "cell_type": "code",
   "execution_count": null,
   "metadata": {},
   "outputs": [],
   "source": [
    "number_qubits"
   ]
  },
  {
   "cell_type": "code",
   "execution_count": null,
   "metadata": {},
   "outputs": [],
   "source": [
    "hamiltonian(sqrt_nu);"
   ]
  },
  {
   "cell_type": "code",
   "execution_count": null,
   "metadata": {},
   "outputs": [],
   "source": [
    "def weight(pauli):\n",
    "    weight = 0\n",
    "    for key, value in Counter(str(pauli)).items():\n",
    "        if key != 'I':\n",
    "            weight += value\n",
    "    return weight"
   ]
  },
  {
   "cell_type": "code",
   "execution_count": null,
   "metadata": {},
   "outputs": [],
   "source": [
    "Counter([weight(pauli) for pauli in H_dict.keys()])"
   ]
  },
  {
   "cell_type": "code",
   "execution_count": null,
   "metadata": {},
   "outputs": [],
   "source": [
    "mat = 0 * Pauli(number_qubits * 'I').to_matrix(sparse=True)\n",
    "for key, value in H_dict.items():\n",
    "    mat += key.to_matrix(sparse=True) #* value.sympify().subs('sqrt_nu', 1)"
   ]
  },
  {
   "cell_type": "code",
   "execution_count": null,
   "metadata": {},
   "outputs": [],
   "source": [
    "from scipy.sparse.linalg import eigs\n",
    "eigs(mat, k=3, which='SM')"
   ]
  },
  {
   "cell_type": "code",
   "execution_count": null,
   "metadata": {},
   "outputs": [],
   "source": [
    "193331200/(262144 * 262144)"
   ]
  },
  {
   "cell_type": "code",
   "execution_count": null,
   "metadata": {},
   "outputs": [],
   "source": [
    "hamiltonian(sqrt_nu, free_only=True).reduce()"
   ]
  },
  {
   "cell_type": "code",
   "execution_count": null,
   "metadata": {},
   "outputs": [],
   "source": [
    "eigvals, eigvecs = np.linalg.eig(mat)"
   ]
  },
  {
   "cell_type": "code",
   "execution_count": null,
   "metadata": {},
   "outputs": [],
   "source": [
    "from matplotlib.ticker import FormatStrFormatter\n",
    "\n",
    "fig, ax = plt.subplots()\n",
    "ax.xaxis.set_major_formatter(FormatStrFormatter('%.2f'))\n",
    "plt.hist(np.real(eigvals)/sqrt_nu**2)\n",
    "plt.show()"
   ]
  },
  {
   "cell_type": "code",
   "execution_count": null,
   "metadata": {},
   "outputs": [],
   "source": []
  }
 ],
 "metadata": {
  "kernelspec": {
   "display_name": "Python 3.10.9 ('bmnsim')",
   "language": "python",
   "name": "python3"
  },
  "language_info": {
   "codemirror_mode": {
    "name": "ipython",
    "version": 3
   },
   "file_extension": ".py",
   "mimetype": "text/x-python",
   "name": "python",
   "nbconvert_exporter": "python",
   "pygments_lexer": "ipython3",
   "version": "3.12.3"
  },
  "orig_nbformat": 4,
  "vscode": {
   "interpreter": {
    "hash": "3c5df6d427fee16f27e88d71498fe2326ae3f38a57e954704f64325d933eb975"
   }
  }
 },
 "nbformat": 4,
 "nbformat_minor": 2
}
