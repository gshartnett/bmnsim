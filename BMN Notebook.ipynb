{
 "cells": [
  {
   "attachments": {},
   "cell_type": "markdown",
   "metadata": {},
   "source": [
    "# Mini-BMN Notebook\n",
    "\n",
    "Expand mini-BMN hamiltonian into Pauli strings"
   ]
  },
  {
   "cell_type": "code",
   "execution_count": 1,
   "metadata": {},
   "outputs": [],
   "source": [
    "import qiskit\n",
    "import numpy as np\n",
    "import sympy as sp\n",
    "from collections import Counter\n",
    "from qiskit.circuit import Parameter, ParameterVector\n",
    "from qiskit import opflow"
   ]
  },
  {
   "cell_type": "code",
   "execution_count": 7,
   "metadata": {},
   "outputs": [],
   "source": [
    "class SpecialUnitaryGroup():\n",
    "    '''\n",
    "    https://en.wikipedia.org/wiki/Structure_constants\n",
    "    https://arxiv.org/pdf/2108.07219.pdf\n",
    "    '''\n",
    "    def __init__(self, N):\n",
    "        self.N = N\n",
    "        self.structure_constants = self.generate_structure_constants()\n",
    "        self.generators = self.generate_generators()\n",
    "        self.check()\n",
    "\n",
    "    def alpha(self, n, m):\n",
    "        assert (1 <= m) and (m < n) and (n <= self.N)\n",
    "        return n**2 + 2*(m-n) -1\n",
    "    \n",
    "    def beta(self, n, m):\n",
    "        assert (1 <= m) and (m < n) and (n <= self.N)\n",
    "        return n**2 + 2*(m-n)\n",
    "    \n",
    "    def gamma(self, n):\n",
    "        assert (1 <= n) and (n <= self.N)\n",
    "        return n**2 - 1\n",
    "\n",
    "    def generate_generators(self):\n",
    "        generators = {}\n",
    "        for n in range(1, self.N+1):\n",
    "            for m in range(1, self.N+1):\n",
    "                if m < n:\n",
    "                    matrix = np.zeros((self.N, self.N))\n",
    "                    matrix[m-1,n-1] = 1\n",
    "                    matrix[n-1,m-1] = 1\n",
    "                    generators[self.alpha(n,m)] = matrix/2\n",
    "\n",
    "                    matrix = np.zeros((self.N, self.N))\n",
    "                    matrix[m-1,n-1] = 1\n",
    "                    matrix[n-1,m-1] = -1\n",
    "                    generators[self.beta(n,m)] = -1j*matrix/2\n",
    "            \n",
    "            if n > 1:\n",
    "                matrix = np.zeros((self.N, self.N))\n",
    "                matrix[n-1,n-1] = (1 - n)\n",
    "                for l in range(1, n):\n",
    "                    matrix[l-1,l-1] = 1\n",
    "                generators[self.gamma(n)] = matrix / np.sqrt(2*n*(n-1))\n",
    "\n",
    "        return generators\n",
    "\n",
    "    def generate_structure_constants(self):\n",
    "\n",
    "        structure_constants = {}\n",
    "        \n",
    "        '''\n",
    "        for n in range(1, self.N+1):\n",
    "            for m in range(1, self.N+1):\n",
    "                if m < n:\n",
    "                    print('alpha = %i, beta = %i' %(self.alpha(n,m), self.beta(n,m)))\n",
    "            print('gamma = %i' % self.gamma(n))\n",
    "        '''\n",
    "\n",
    "        for n in range(1, self.N+1):\n",
    "            for m in range(1, self.N+1):\n",
    "                for k in range(1, self.N+1):\n",
    "                    \n",
    "                    try:\n",
    "                        structure_constants[(\n",
    "                            self.alpha(n,m), \n",
    "                            self.alpha(k,n), \n",
    "                            self.beta(k,m)\n",
    "                            )] = 1/2\n",
    "                    except:\n",
    "                        pass\n",
    "                    \n",
    "                    try:\n",
    "                        structure_constants[(\n",
    "                            self.alpha(n,m), \n",
    "                            self.alpha(n,k), \n",
    "                            self.beta(k,m)\n",
    "                            )] = 1/2\n",
    "                    except:\n",
    "                        pass\n",
    "                    \n",
    "                    try:\n",
    "                        structure_constants[(\n",
    "                            self.alpha(n,m), \n",
    "                            self.alpha(k,m), \n",
    "                            self.beta(k,n)\n",
    "                            )] = 1/2\n",
    "                    except:\n",
    "                        pass\n",
    "\n",
    "                    try:\n",
    "                        structure_constants[(\n",
    "                            self.beta(n,m), \n",
    "                            self.beta(k,m), \n",
    "                            self.beta(k,n)\n",
    "                            )] = 1/2\n",
    "                    except:\n",
    "                        pass\n",
    "                \n",
    "                    try:\n",
    "                        structure_constants[(\n",
    "                            self.alpha(n,m), \n",
    "                            self.beta(n,m), \n",
    "                            self.gamma(m)\n",
    "                            )] = - np.sqrt( (m-1)/(2*m) )\n",
    "                    except:\n",
    "                        pass\n",
    "\n",
    "                    try:\n",
    "                        structure_constants[(\n",
    "                            self.alpha(n,m), \n",
    "                            self.beta(n,m), \n",
    "                            self.gamma(n)\n",
    "                            )] = np.sqrt(n / (2*(n-1)) )\n",
    "                    except:\n",
    "                        pass\n",
    "\n",
    "                    if m < k and k < n:\n",
    "                        try:\n",
    "                            structure_constants[(\n",
    "                                self.alpha(n,m), \n",
    "                                self.beta(n,m), \n",
    "                                self.gamma(k)\n",
    "                                )] = np.sqrt(1 / (2*k*(k-1)) )\n",
    "                        except:\n",
    "                            pass\n",
    "\n",
    "        for key, value in list(structure_constants.items()):\n",
    "            if value == 0:\n",
    "                structure_constants.pop(key)\n",
    "            else:\n",
    "                i, j, k = key\n",
    "                structure_constants[(i,k,j)] = - value\n",
    "                structure_constants[(j,i,k)] = - value\n",
    "                structure_constants[(j,k,i)] = value\n",
    "                structure_constants[(k,i,j)] = value\n",
    "                structure_constants[(k,j,i)] = - value\n",
    "    \n",
    "        return structure_constants\n",
    "    \n",
    "    def check(self):\n",
    "        for i in range(1, self.N**2-1):\n",
    "            for j in range(i+1, self.N**2):\n",
    "\n",
    "                term1 = (np.dot(\n",
    "                    self.generators[i], \n",
    "                    self.generators[j]\n",
    "                    ) - \n",
    "                np.dot(\n",
    "                    self.generators[j], \n",
    "                    self.generators[i]\n",
    "                    ))\n",
    "\n",
    "                term2 = sum(\n",
    "                    1j*self.structure_constants.get((i,j,k), 0)\n",
    "                    * self.generators[k] \n",
    "                    for k in range(1, self.N**2))\n",
    "\n",
    "                if not np.allclose(term1, term2):\n",
    "                    print(i,j)\n",
    "                    print(term1)\n",
    "                    print(term2)\n",
    "                    raise AssertionError"
   ]
  },
  {
   "cell_type": "code",
   "execution_count": 12,
   "metadata": {},
   "outputs": [
    {
     "name": "stdout",
     "output_type": "stream",
     "text": [
      "number_qubits 18, Hilbert space dimension 262144\n"
     ]
    }
   ],
   "source": [
    "number_of_matrices = 3\n",
    "gauge_group_degree = 2 # the N in SU(N)\n",
    "number_of_generators = gauge_group_degree**2 - 1 #understand the diff b/w U(N) and SU(N)\n",
    "\n",
    "bits_per_oscillator = 2\n",
    "number_states_per_oscillator = 2**bits_per_oscillator\n",
    "\n",
    "number_qubits = (\n",
    "    number_of_matrices \n",
    "    * number_of_generators \n",
    "    * bits_per_oscillator\n",
    ")\n",
    "\n",
    "print(f'number_qubits {number_qubits}, Hilbert space dimension {2**number_qubits}')"
   ]
  },
  {
   "cell_type": "code",
   "execution_count": 15,
   "metadata": {},
   "outputs": [
    {
     "data": {
      "text/plain": [
       "{(1, 2, 3): 1.0,\n",
       " (1, 3, 2): -1.0,\n",
       " (2, 1, 3): -1.0,\n",
       " (2, 3, 1): 1.0,\n",
       " (3, 1, 2): 1.0,\n",
       " (3, 2, 1): -1.0}"
      ]
     },
     "execution_count": 15,
     "metadata": {},
     "output_type": "execute_result"
    }
   ],
   "source": [
    "su_group = SpecialUnitaryGroup(gauge_group_degree)\n",
    "su_group.structure_constants"
   ]
  },
  {
   "cell_type": "code",
   "execution_count": 16,
   "metadata": {},
   "outputs": [
    {
     "data": {
      "text/plain": [
       "{(0, 0): 0,\n",
       " (0, 1): 2,\n",
       " (0, 2): 4,\n",
       " (1, 0): 6,\n",
       " (1, 1): 8,\n",
       " (1, 2): 10,\n",
       " (2, 0): 12,\n",
       " (2, 1): 14,\n",
       " (2, 2): 16}"
      ]
     },
     "execution_count": 16,
     "metadata": {},
     "output_type": "execute_result"
    }
   ],
   "source": [
    "index_map = {}\n",
    "counter = 0\n",
    "for i in range(number_of_matrices):\n",
    "    for a in range(number_of_generators):\n",
    "        index_map[(i,a)] = counter\n",
    "        counter += bits_per_oscillator\n",
    "index_map_inverse = dict(map(reversed, index_map.items()))\n",
    "index_map"
   ]
  },
  {
   "cell_type": "code",
   "execution_count": 17,
   "metadata": {},
   "outputs": [],
   "source": [
    "single_qubit_state_map = {\n",
    "    '00':0.5*(sp.symbols(\"I\") + sp.symbols('Z')),\n",
    "    '01':0.5*(sp.symbols(\"X\") + 1j*sp.symbols('Y')),\n",
    "    '10':0.5*(sp.symbols(\"X\") - 1j*sp.symbols('Y')),\n",
    "    '11':0.5*(sp.symbols(\"I\") - sp.symbols('Z'))\n",
    "    }"
   ]
  },
  {
   "cell_type": "code",
   "execution_count": 18,
   "metadata": {},
   "outputs": [],
   "source": [
    "def annihilation_operator(i, A):\n",
    "    qubit_indx0 = index_map[(i,A)]\n",
    "    operator = 0\n",
    "    for j in range(number_states_per_oscillator-1):\n",
    "        bra_bitstring = f'{j:0{bits_per_oscillator}b}'\n",
    "        ket_bitstring = f'{j+1:0{bits_per_oscillator}b}'\n",
    "        for i in range(bits_per_oscillator):\n",
    "            new_term = single_qubit_state_map[bra_bitstring[i] + ket_bitstring[i]]\n",
    "            new_term = new_term.subs('I', f'I{qubit_indx0+i}')\n",
    "            new_term = new_term.subs('X', f'X{qubit_indx0+i}')\n",
    "            new_term = new_term.subs('Y', f'Y{qubit_indx0+i}')\n",
    "            new_term = new_term.subs('Z', f'Z{qubit_indx0+i}')\n",
    "            operator += new_term\n",
    "    return operator\n",
    "\n",
    "\n",
    "def creation_operator(i, A):\n",
    "    qubit_indx0 = index_map[(i,A)]\n",
    "    operator = 0\n",
    "    for j in range(number_states_per_oscillator-1):\n",
    "        bra_bitstring = f'{j+1:0{bits_per_oscillator}b}'\n",
    "        ket_bitstring = f'{j:0{bits_per_oscillator}b}'\n",
    "        for i in range(bits_per_oscillator):\n",
    "            new_term = single_qubit_state_map[bra_bitstring[i] + ket_bitstring[i]]\n",
    "            new_term = new_term.subs('I', f'I{qubit_indx0+i}')\n",
    "            new_term = new_term.subs('X', f'X{qubit_indx0+i}')\n",
    "            new_term = new_term.subs('Y', f'Y{qubit_indx0+i}')\n",
    "            new_term = new_term.subs('Z', f'Z{qubit_indx0+i}')\n",
    "            operator += new_term\n",
    "    return operator"
   ]
  },
  {
   "cell_type": "code",
   "execution_count": 19,
   "metadata": {},
   "outputs": [],
   "source": [
    "string_to_Pauli_map = {'I':opflow.I, 'X':opflow.X, 'Y':opflow.Y, 'Z':opflow.Z}"
   ]
  },
  {
   "cell_type": "code",
   "execution_count": 20,
   "metadata": {},
   "outputs": [],
   "source": [
    "def sympy_Pauli_to_qiskit_Pauli(operator_string):\n",
    "    '''CAREFUL WITH ENDIAN CONVENTION'''\n",
    "    pauli_string = operator_string[0]\n",
    "    qubit_number = int(operator_string[1:])\n",
    "\n",
    "    #print(pauli_string, qubit_number)\n",
    "\n",
    "    if qubit_number == 0:\n",
    "        new_operator = string_to_Pauli_map[pauli_string]\n",
    "    else:\n",
    "        new_operator = opflow.I\n",
    "    \n",
    "    for i in range(1, number_qubits):\n",
    "        if i != qubit_number:\n",
    "            new_operator = new_operator ^ opflow.I\n",
    "        else:\n",
    "            new_operator = new_operator ^ string_to_Pauli_map[pauli_string]\n",
    "    return new_operator.reduce()"
   ]
  },
  {
   "cell_type": "code",
   "execution_count": 21,
   "metadata": {},
   "outputs": [],
   "source": [
    "def sympy_operator_to_qiskit_operator(sympy_operator):\n",
    "    operator = 0 #sympy_Pauli_to_qiskit_Pauli(f'I{number_qubits}')\n",
    "    for arg in sympy_operator.args:\n",
    "        #print(arg)\n",
    "        if len(arg.args) == 2:\n",
    "            coeff = complex(arg.args[0])\n",
    "        elif len(arg.args) == 3:\n",
    "            coeff = complex(sp.prod(arg.args[0:2]))\n",
    "        else:\n",
    "            raise ValueError\n",
    "        #print(coeff, sympy_Pauli_to_qiskit_Pauli(str(arg.args[-1])))\n",
    "        operator += coeff * sympy_Pauli_to_qiskit_Pauli(str(arg.args[-1]))\n",
    "    return operator"
   ]
  },
  {
   "cell_type": "code",
   "execution_count": 22,
   "metadata": {},
   "outputs": [],
   "source": [
    "def position_operator(i, A, sqrt_nu):\n",
    "    creation = sympy_operator_to_qiskit_operator(creation_operator(i, A))\n",
    "    annihilation = sympy_operator_to_qiskit_operator(annihilation_operator(i, A))\n",
    "    coeff = np.sqrt(1/2) / sqrt_nu\n",
    "    operator = 1 * (creation + annihilation)\n",
    "    return operator.reduce()\n",
    "\n",
    "\n",
    "def momentum_operator(i, A, sqrt_nu):\n",
    "    creation = sympy_operator_to_qiskit_operator(creation_operator(i, A))\n",
    "    annihilation = sympy_operator_to_qiskit_operator(annihilation_operator(i, A))\n",
    "    coeff = -1j * sqrt_nu * np.sqrt(1/2)\n",
    "    operator = coeff * (creation - annihilation)\n",
    "    return operator.reduce()\n",
    "\n",
    "\n",
    "def hamiltonian_bosonic_free(sqrt_nu):\n",
    "    operator = 0 #0*sympy_Pauli_to_qiskit_Pauli(f'I{number_qubits}')\n",
    "    nu_squared = sqrt_nu * sqrt_nu * sqrt_nu * sqrt_nu\n",
    "    for i in range(number_of_matrices):\n",
    "        for a in range(number_of_generators):\n",
    "            operator += 0.5 * (\n",
    "                momentum_operator(i, a, sqrt_nu)**2 \n",
    "                + nu_squared * position_operator(i, a, sqrt_nu)**2\n",
    "                )\n",
    "    return operator.reduce()"
   ]
  },
  {
   "cell_type": "code",
   "execution_count": 23,
   "metadata": {},
   "outputs": [],
   "source": [
    "sqrt_nu = Parameter('sqrt_nu')"
   ]
  },
  {
   "cell_type": "code",
   "execution_count": 24,
   "metadata": {},
   "outputs": [
    {
     "data": {
      "text/plain": [
       "PauliSumOp(SparsePauliOp(['IIIIIIIIIIIIIIIIII', 'YYIIIIIIIIIIIIIIII'],\n",
       "              coeffs=[-1.+0.j, -1.+0.j]), coeff=-0.5*sqrt_nu**2)"
      ]
     },
     "execution_count": 24,
     "metadata": {},
     "output_type": "execute_result"
    }
   ],
   "source": [
    "H = hamiltonian_bosonic_free(sqrt_nu)\n",
    "H[0]"
   ]
  },
  {
   "cell_type": "code",
   "execution_count": 25,
   "metadata": {},
   "outputs": [
    {
     "name": "stdout",
     "output_type": "stream",
     "text": [
      "-0.5*sqrt_nu**2 * (\n",
      "  -1.0 * IIIIIIIIIIIIIIIIII\n",
      "  - 1.0 * YYIIIIIIIIIIIIIIII\n",
      ")\n",
      "1.0*sqrt_nu**4 * (\n",
      "  7.0 * IIIIIIIIIIIIIIIIII\n",
      "  + 2.0 * XIIIIIIIIIIIIIIIII\n",
      "  + 3.0 * XXIIIIIIIIIIIIIIII\n",
      "  + 6.0 * IXIIIIIIIIIIIIIIII\n",
      ")\n",
      "-0.5*sqrt_nu**2 * (\n",
      "  -1.0 * IIIIIIIIIIIIIIIIII\n",
      "  - 1.0 * IIYYIIIIIIIIIIIIII\n",
      ")\n",
      "1.0*sqrt_nu**4 * (\n",
      "  7.0 * IIIIIIIIIIIIIIIIII\n",
      "  + 2.0 * IIXIIIIIIIIIIIIIII\n",
      "  + 3.0 * IIXXIIIIIIIIIIIIII\n",
      "  + 6.0 * IIIXIIIIIIIIIIIIII\n",
      ")\n",
      "-0.5*sqrt_nu**2 * (\n",
      "  -1.0 * IIIIIIIIIIIIIIIIII\n",
      "  - 1.0 * IIIIYYIIIIIIIIIIII\n",
      ")\n",
      "1.0*sqrt_nu**4 * (\n",
      "  7.0 * IIIIIIIIIIIIIIIIII\n",
      "  + 2.0 * IIIIXIIIIIIIIIIIII\n",
      "  + 3.0 * IIIIXXIIIIIIIIIIII\n",
      "  + 6.0 * IIIIIXIIIIIIIIIIII\n",
      ")\n",
      "-0.5*sqrt_nu**2 * (\n",
      "  -1.0 * IIIIIIIIIIIIIIIIII\n",
      "  - 1.0 * IIIIIIYYIIIIIIIIII\n",
      ")\n",
      "1.0*sqrt_nu**4 * (\n",
      "  7.0 * IIIIIIIIIIIIIIIIII\n",
      "  + 2.0 * IIIIIIXIIIIIIIIIII\n",
      "  + 3.0 * IIIIIIXXIIIIIIIIII\n",
      "  + 6.0 * IIIIIIIXIIIIIIIIII\n",
      ")\n",
      "-0.5*sqrt_nu**2 * (\n",
      "  -1.0 * IIIIIIIIIIIIIIIIII\n",
      "  - 1.0 * IIIIIIIIYYIIIIIIII\n",
      ")\n",
      "1.0*sqrt_nu**4 * (\n",
      "  7.0 * IIIIIIIIIIIIIIIIII\n",
      "  + 2.0 * IIIIIIIIXIIIIIIIII\n",
      "  + 3.0 * IIIIIIIIXXIIIIIIII\n",
      "  + 6.0 * IIIIIIIIIXIIIIIIII\n",
      ")\n",
      "-0.5*sqrt_nu**2 * (\n",
      "  -1.0 * IIIIIIIIIIIIIIIIII\n",
      "  - 1.0 * IIIIIIIIIIYYIIIIII\n",
      ")\n",
      "1.0*sqrt_nu**4 * (\n",
      "  7.0 * IIIIIIIIIIIIIIIIII\n",
      "  + 2.0 * IIIIIIIIIIXIIIIIII\n",
      "  + 3.0 * IIIIIIIIIIXXIIIIII\n",
      "  + 6.0 * IIIIIIIIIIIXIIIIII\n",
      ")\n",
      "-0.5*sqrt_nu**2 * (\n",
      "  -1.0 * IIIIIIIIIIIIIIIIII\n",
      "  - 1.0 * IIIIIIIIIIIIYYIIII\n",
      ")\n",
      "1.0*sqrt_nu**4 * (\n",
      "  7.0 * IIIIIIIIIIIIIIIIII\n",
      "  + 2.0 * IIIIIIIIIIIIXIIIII\n",
      "  + 3.0 * IIIIIIIIIIIIXXIIII\n",
      "  + 6.0 * IIIIIIIIIIIIIXIIII\n",
      ")\n",
      "-0.5*sqrt_nu**2 * (\n",
      "  -1.0 * IIIIIIIIIIIIIIIIII\n",
      "  - 1.0 * IIIIIIIIIIIIIIYYII\n",
      ")\n",
      "1.0*sqrt_nu**4 * (\n",
      "  7.0 * IIIIIIIIIIIIIIIIII\n",
      "  + 2.0 * IIIIIIIIIIIIIIXIII\n",
      "  + 3.0 * IIIIIIIIIIIIIIXXII\n",
      "  + 6.0 * IIIIIIIIIIIIIIIXII\n",
      ")\n",
      "-0.5*sqrt_nu**2 * (\n",
      "  -1.0 * IIIIIIIIIIIIIIIIII\n",
      "  - 1.0 * IIIIIIIIIIIIIIIIYY\n",
      ")\n",
      "1.0*sqrt_nu**4 * (\n",
      "  7.0 * IIIIIIIIIIIIIIIIII\n",
      "  + 2.0 * IIIIIIIIIIIIIIIIXI\n",
      "  + 3.0 * IIIIIIIIIIIIIIIIXX\n",
      "  + 6.0 * IIIIIIIIIIIIIIIIIX\n",
      ")\n"
     ]
    }
   ],
   "source": [
    "for i in range(len(H)):\n",
    "    print(H[i])"
   ]
  },
  {
   "cell_type": "code",
   "execution_count": 26,
   "metadata": {},
   "outputs": [
    {
     "data": {
      "text/plain": [
       "[2, 2, 2, 2, 2, 2, 2, 2, 2, 2, 2, 2, 2, 2, 2, 2, 2, 2]"
      ]
     },
     "execution_count": 26,
     "metadata": {},
     "output_type": "execute_result"
    }
   ],
   "source": [
    "weights = [0]*len(H)\n",
    "for i in range(len(H)):\n",
    "    terms = H[i].primitive.to_list()\n",
    "    for term in terms:\n",
    "        for key, value in Counter(term[0]).items():\n",
    "            if key != \"I\":\n",
    "                if value == 3:\n",
    "                    print(i, H[i].primitive.to_list())\n",
    "                    break\n",
    "                weights[i] = max(weights[i], value)\n",
    "weights"
   ]
  },
  {
   "cell_type": "code",
   "execution_count": null,
   "metadata": {},
   "outputs": [],
   "source": []
  },
  {
   "cell_type": "code",
   "execution_count": null,
   "metadata": {},
   "outputs": [],
   "source": []
  },
  {
   "cell_type": "code",
   "execution_count": null,
   "metadata": {},
   "outputs": [],
   "source": []
  },
  {
   "cell_type": "code",
   "execution_count": null,
   "metadata": {},
   "outputs": [],
   "source": [
    "annihilation_operators = list(sp.symbols(f'adagger00:{number_of_matrices}:{number_of_generators}'))\n",
    "creation_operators = list(sp.symbols(f'a00:{number_of_matrices}:{number_of_generators}'))\n",
    "\n",
    "counter = 0\n",
    "for i in range(number_of_matrices):\n",
    "    for a in range(number_of_generators):\n",
    "        block_index = index_map[(i,a)]\n",
    "        expr = sum(\n",
    "            sp.sqrt(j+1) * sp.symbols(\n",
    "            f'bra{|{index_map[(i,a,j+1)]}><{index_map[(i,a,j)]}|'\n",
    "            ) for j in range(0, number_states_per_oscillator-1))\n",
    "        annihilation_operators[counter] = annihilation_operators[counter].subs(f'adagger{i}{a}', expr)\n",
    "\n",
    "        expr = sum(\n",
    "            sp.sqrt(j+1) * sp.symbols(\n",
    "            f'|{index_map[(i,a,j)]}><{index_map[(i,a,j+1)]}|'\n",
    "            ) for j in range(0, number_states_per_oscillator-1))\n",
    "        creation_operators[counter] = creation_operators[counter].subs(f'a{i}{a}', expr)\n",
    "\n",
    "        counter += 1\n"
   ]
  },
  {
   "cell_type": "code",
   "execution_count": null,
   "metadata": {},
   "outputs": [],
   "source": []
  },
  {
   "cell_type": "code",
   "execution_count": null,
   "metadata": {},
   "outputs": [],
   "source": []
  },
  {
   "cell_type": "code",
   "execution_count": null,
   "metadata": {},
   "outputs": [],
   "source": []
  },
  {
   "cell_type": "code",
   "execution_count": null,
   "metadata": {},
   "outputs": [],
   "source": []
  },
  {
   "cell_type": "code",
   "execution_count": null,
   "metadata": {},
   "outputs": [],
   "source": [
    "nu = sp.symbols('nu')\n",
    "\n",
    "position_operator = sp.MatrixSymbol('positionOperator', number_of_matrices, number_of_generators)\n",
    "momentum_operator = sp.MatrixSymbol('momentumOperator', number_of_matrices, number_of_generators)\n",
    "#creation_operator = sp.MatrixSymbol('creationOperator', number_of_matrices, number_of_generators)\n",
    "#annihilation_operator = sp.MatrixSymbol('annihilationOperator', number_of_matrices, number_of_generators)\n",
    "\n",
    "#position_operator = sp.sqrt(1/(2 * nu)) * (creation_operator + annihilation_operator)\n",
    "#momentum_operator = -1j * sp.sqrt(nu/(2)) * (creation_operator - annihilation_operator)"
   ]
  },
  {
   "cell_type": "code",
   "execution_count": null,
   "metadata": {},
   "outputs": [],
   "source": []
  },
  {
   "cell_type": "code",
   "execution_count": null,
   "metadata": {},
   "outputs": [],
   "source": [
    "creation_operators"
   ]
  },
  {
   "cell_type": "code",
   "execution_count": null,
   "metadata": {},
   "outputs": [],
   "source": [
    "expr"
   ]
  },
  {
   "cell_type": "code",
   "execution_count": null,
   "metadata": {},
   "outputs": [],
   "source": [
    "expr.coeff('bra45ket46', 1)"
   ]
  },
  {
   "cell_type": "code",
   "execution_count": null,
   "metadata": {},
   "outputs": [],
   "source": [
    "index_map_inverse[45]"
   ]
  },
  {
   "cell_type": "code",
   "execution_count": null,
   "metadata": {},
   "outputs": [],
   "source": [
    "index_map_inverse"
   ]
  },
  {
   "cell_type": "code",
   "execution_count": null,
   "metadata": {},
   "outputs": [],
   "source": []
  },
  {
   "cell_type": "code",
   "execution_count": null,
   "metadata": {},
   "outputs": [],
   "source": [
    "bits_per_oscillator"
   ]
  },
  {
   "cell_type": "code",
   "execution_count": null,
   "metadata": {},
   "outputs": [],
   "source": []
  }
 ],
 "metadata": {
  "kernelspec": {
   "display_name": "bmn",
   "language": "python",
   "name": "python3"
  },
  "language_info": {
   "codemirror_mode": {
    "name": "ipython",
    "version": 3
   },
   "file_extension": ".py",
   "mimetype": "text/x-python",
   "name": "python",
   "nbconvert_exporter": "python",
   "pygments_lexer": "ipython3",
   "version": "3.10.9"
  },
  "orig_nbformat": 4,
  "vscode": {
   "interpreter": {
    "hash": "6e0cd6cf71edfa3775f516445cdb63fd1ca3562d16f0df3f3dc34761129ce2dd"
   }
  }
 },
 "nbformat": 4,
 "nbformat_minor": 2
}
