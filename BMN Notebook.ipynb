{
 "cells": [
  {
   "attachments": {},
   "cell_type": "markdown",
   "metadata": {},
   "source": [
    "# Mini-BMN Notebook\n",
    "\n",
    "Expand mini-BMN hamiltonian into Pauli strings\n",
    "\n",
    "To Do\n",
    "- add comments\n",
    "- check units\n",
    "- how to simulate? what to simulate?\n",
    "- fuzzy spheres"
   ]
  },
  {
   "cell_type": "code",
   "execution_count": 1,
   "metadata": {},
   "outputs": [],
   "source": [
    "import qiskit\n",
    "import numpy as np\n",
    "import sympy as sp\n",
    "from collections import Counter\n",
    "from qiskit.circuit import Parameter, ParameterVector\n",
    "from qiskit.quantum_info.operators.symplectic import Pauli\n",
    "from qiskit import opflow\n",
    "from qiskit.opflow import PauliOp\n",
    "from symengine.lib.symengine_wrapper import Zero as spZero\n",
    "\n",
    "from utils import SpecialUnitaryGroup"
   ]
  },
  {
   "cell_type": "code",
   "execution_count": 2,
   "metadata": {},
   "outputs": [],
   "source": [
    "import matplotlib \n",
    "import matplotlib.pyplot as plt\n",
    "from cycler import cycler\n",
    "\n",
    "plt.rcParams['xtick.direction'] = 'in'\n",
    "plt.rcParams['ytick.direction'] = 'in'\n",
    "plt.rcParams['xtick.major.size'] = 5.0\n",
    "plt.rcParams['xtick.minor.size'] = 3.0\n",
    "plt.rcParams['ytick.major.size'] = 5.0\n",
    "plt.rcParams['ytick.minor.size'] = 3.0\n",
    "plt.rc('font', family='serif',size=14)\n",
    "#matplotlib.rc('text', usetex=True)\n",
    "matplotlib.rc('legend', fontsize=14)\n",
    "plt.rcParams['ytick.minor.size'] = 3.0\n",
    "matplotlib.rcParams.update({\"axes.grid\" : True, \n",
    "                            \"grid.alpha\": 0.75,\n",
    "                            \"grid.linewidth\": 0.5})\n",
    "matplotlib.rcParams['axes.prop_cycle'] = cycler(color=['#E24A33', '#348ABD', '#988ED5', '#777777', '#FBC15E', '#8EBA42', '#FFB5B8'])\n",
    "colors = plt.rcParams['axes.prop_cycle'].by_key()['color']"
   ]
  },
  {
   "cell_type": "code",
   "execution_count": 3,
   "metadata": {},
   "outputs": [
    {
     "name": "stdout",
     "output_type": "stream",
     "text": [
      "number_qubits 18, Hilbert space dimension 262144\n"
     ]
    }
   ],
   "source": [
    "number_of_matrices = 3\n",
    "gauge_group_degree = 2 # the N in SU(N)\n",
    "number_of_generators = gauge_group_degree**2 - 1 #understand the diff b/w U(N) and SU(N)\n",
    "\n",
    "bits_per_oscillator = 2\n",
    "number_states_per_oscillator = 2**bits_per_oscillator\n",
    "\n",
    "number_qubits = (\n",
    "    number_of_matrices \n",
    "    * number_of_generators \n",
    "    * bits_per_oscillator\n",
    ")\n",
    "\n",
    "print(f'number_qubits {number_qubits}, Hilbert space dimension {2**number_qubits}')"
   ]
  },
  {
   "cell_type": "code",
   "execution_count": 4,
   "metadata": {},
   "outputs": [
    {
     "data": {
      "text/plain": [
       "{(1, 2, 3): 1.0,\n",
       " (1, 3, 2): -1.0,\n",
       " (2, 1, 3): -1.0,\n",
       " (2, 3, 1): 1.0,\n",
       " (3, 1, 2): 1.0,\n",
       " (3, 2, 1): -1.0}"
      ]
     },
     "execution_count": 4,
     "metadata": {},
     "output_type": "execute_result"
    }
   ],
   "source": [
    "su_group = SpecialUnitaryGroup(gauge_group_degree)\n",
    "su_group.structure_constants"
   ]
  },
  {
   "cell_type": "code",
   "execution_count": 5,
   "metadata": {},
   "outputs": [
    {
     "data": {
      "text/plain": [
       "{(0, 0): 0,\n",
       " (0, 1): 2,\n",
       " (0, 2): 4,\n",
       " (1, 0): 6,\n",
       " (1, 1): 8,\n",
       " (1, 2): 10,\n",
       " (2, 0): 12,\n",
       " (2, 1): 14,\n",
       " (2, 2): 16}"
      ]
     },
     "execution_count": 5,
     "metadata": {},
     "output_type": "execute_result"
    }
   ],
   "source": [
    "index_map = {}\n",
    "counter = 0\n",
    "for i in range(number_of_matrices):\n",
    "    for a in range(number_of_generators):\n",
    "        index_map[(i,a)] = counter\n",
    "        counter += bits_per_oscillator\n",
    "index_map_inverse = dict(map(reversed, index_map.items()))\n",
    "index_map"
   ]
  },
  {
   "cell_type": "code",
   "execution_count": 6,
   "metadata": {},
   "outputs": [],
   "source": [
    "single_qubit_state_map = {\n",
    "    '00':0.5*(sp.symbols(\"I\") + sp.symbols('Z')),\n",
    "    '01':0.5*(sp.symbols(\"X\") + 1j*sp.symbols('Y')),\n",
    "    '10':0.5*(sp.symbols(\"X\") - 1j*sp.symbols('Y')),\n",
    "    '11':0.5*(sp.symbols(\"I\") - sp.symbols('Z'))\n",
    "    }"
   ]
  },
  {
   "cell_type": "code",
   "execution_count": 7,
   "metadata": {},
   "outputs": [],
   "source": [
    "def annihilation_operator(i, A):\n",
    "    qubit_indx0 = index_map[(i,A)]\n",
    "    operator = 0\n",
    "    for j in range(number_states_per_oscillator-1):\n",
    "        bra_bitstring = f'{j:0{bits_per_oscillator}b}'\n",
    "        ket_bitstring = f'{j+1:0{bits_per_oscillator}b}'\n",
    "        for i in range(bits_per_oscillator):\n",
    "            new_term = single_qubit_state_map[bra_bitstring[i] + ket_bitstring[i]]\n",
    "            new_term = new_term.subs('I', f'I{qubit_indx0+i}')\n",
    "            new_term = new_term.subs('X', f'X{qubit_indx0+i}')\n",
    "            new_term = new_term.subs('Y', f'Y{qubit_indx0+i}')\n",
    "            new_term = new_term.subs('Z', f'Z{qubit_indx0+i}')\n",
    "            operator += new_term\n",
    "    return operator\n",
    "\n",
    "\n",
    "def creation_operator(i, A):\n",
    "    qubit_indx0 = index_map[(i,A)]\n",
    "    operator = 0\n",
    "    for j in range(number_states_per_oscillator-1):\n",
    "        bra_bitstring = f'{j+1:0{bits_per_oscillator}b}'\n",
    "        ket_bitstring = f'{j:0{bits_per_oscillator}b}'\n",
    "        for i in range(bits_per_oscillator):\n",
    "            new_term = single_qubit_state_map[bra_bitstring[i] + ket_bitstring[i]]\n",
    "            new_term = new_term.subs('I', f'I{qubit_indx0+i}')\n",
    "            new_term = new_term.subs('X', f'X{qubit_indx0+i}')\n",
    "            new_term = new_term.subs('Y', f'Y{qubit_indx0+i}')\n",
    "            new_term = new_term.subs('Z', f'Z{qubit_indx0+i}')\n",
    "            operator += new_term\n",
    "    return operator"
   ]
  },
  {
   "cell_type": "code",
   "execution_count": 8,
   "metadata": {},
   "outputs": [],
   "source": [
    "string_to_Pauli_map = {'I':opflow.I, 'X':opflow.X, 'Y':opflow.Y, 'Z':opflow.Z}"
   ]
  },
  {
   "cell_type": "code",
   "execution_count": 9,
   "metadata": {},
   "outputs": [],
   "source": [
    "def sympy_Pauli_to_qiskit_Pauli(operator_string):\n",
    "    '''CAREFUL WITH ENDIAN CONVENTION'''\n",
    "    pauli_string = operator_string[0]\n",
    "    qubit_number = int(operator_string[1:])\n",
    "\n",
    "    #print(pauli_string, qubit_number)\n",
    "\n",
    "    if qubit_number == 0:\n",
    "        new_operator = string_to_Pauli_map[pauli_string]\n",
    "    else:\n",
    "        new_operator = opflow.I\n",
    "    \n",
    "    for i in range(1, number_qubits):\n",
    "        if i != qubit_number:\n",
    "            new_operator = new_operator ^ opflow.I\n",
    "        else:\n",
    "            new_operator = new_operator ^ string_to_Pauli_map[pauli_string]\n",
    "    return new_operator.reduce()"
   ]
  },
  {
   "cell_type": "code",
   "execution_count": 10,
   "metadata": {},
   "outputs": [],
   "source": [
    "def sympy_operator_to_qiskit_operator(sympy_operator):\n",
    "    operator = 0 #sympy_Pauli_to_qiskit_Pauli(f'I{number_qubits}')\n",
    "    for arg in sympy_operator.args:\n",
    "        #print(arg)\n",
    "        if len(arg.args) == 2:\n",
    "            coeff = complex(arg.args[0])\n",
    "        elif len(arg.args) == 3:\n",
    "            coeff = complex(sp.prod(arg.args[0:2]))\n",
    "        else:\n",
    "            raise ValueError\n",
    "        #print(coeff, sympy_Pauli_to_qiskit_Pauli(str(arg.args[-1])))\n",
    "        operator += coeff * sympy_Pauli_to_qiskit_Pauli(str(arg.args[-1]))\n",
    "    return operator"
   ]
  },
  {
   "cell_type": "code",
   "execution_count": 11,
   "metadata": {},
   "outputs": [],
   "source": [
    "def position_operator(i, A):\n",
    "    creation = sympy_operator_to_qiskit_operator(creation_operator(i, A))\n",
    "    annihilation = sympy_operator_to_qiskit_operator(annihilation_operator(i, A))\n",
    "    coeff = complex(np.sqrt(1/2))\n",
    "    operator = coeff * (creation + annihilation)\n",
    "    return operator.reduce()\n",
    "\n",
    "\n",
    "def momentum_operator(i, A):\n",
    "    creation = sympy_operator_to_qiskit_operator(creation_operator(i, A))\n",
    "    annihilation = sympy_operator_to_qiskit_operator(annihilation_operator(i, A))\n",
    "    coeff = complex(-1j * np.sqrt(1/2))\n",
    "    operator = coeff * (creation - annihilation)\n",
    "    return operator.reduce()\n",
    "\n",
    "\n",
    "def hamiltonian_bosonic_free(sqrt_nu):\n",
    "    operator = 0 #0*sympy_Pauli_to_qiskit_Pauli(f'I{number_qubits}')\n",
    "    for i in range(number_of_matrices):\n",
    "        for a in range(number_of_generators):\n",
    "            operator += 0.5 * (\n",
    "                momentum_operator(i, a) @ momentum_operator(i, a)\n",
    "                + position_operator(i, a) @ position_operator(i, a)\n",
    "                ) \n",
    "    return operator.reduce() * (sqrt_nu * sqrt_nu)\n",
    "\n",
    "\n",
    "def hamiltonian_cubic_interaction(sqrt_nu):\n",
    "    operator = 0\n",
    "    for a in range(number_of_generators):\n",
    "        for b in range(number_of_generators):\n",
    "            for c in range(number_of_generators):\n",
    "                coeff = float(-6 * su_group.structure_constants.get((a+1,b+1,c+1), 0))\n",
    "                if coeff != 0:\n",
    "                    operator += coeff*(position_operator(0, a)\n",
    "                             @ position_operator(1, b)\n",
    "                             @ position_operator(2, c)\n",
    "                             ).reduce()\n",
    "    return operator.reduce() / sqrt_nu\n",
    "\n",
    "\n",
    "def hamiltonian_quartic_interaction(sqrt_nu):\n",
    "    operator = 0\n",
    "\n",
    "    for i in range(number_of_matrices):\n",
    "        for j in range(number_of_matrices):\n",
    "\n",
    "            for a in range(number_of_generators):\n",
    "                for b in range(number_of_generators):\n",
    "                    for c in range(number_of_generators):\n",
    "                        for d in range(number_of_generators):\n",
    "            \n",
    "                                coeff = float((1/4) * sum(\n",
    "                                    su_group.structure_constants.get((a+1,b+1,e+1), 0)\n",
    "                                    * su_group.structure_constants.get((c+1,d+1,e+1), 0) \n",
    "                                    for e in range(number_of_generators)\n",
    "                                ))\n",
    "\n",
    "                                if coeff != 0:\n",
    "                                    operator += coeff * (\n",
    "                                        position_operator(i, a)\n",
    "                                        @ position_operator(j, b)\n",
    "                                        @ position_operator(i, c)\n",
    "                                        @ position_operator(j, d)\n",
    "                                        ).reduce()\n",
    "            \n",
    "    return operator.reduce() * (1 / (sqrt_nu*sqrt_nu))"
   ]
  },
  {
   "cell_type": "code",
   "execution_count": 12,
   "metadata": {},
   "outputs": [],
   "source": [
    "def hamiltonian(sqrt_nu, free_only=False):\n",
    "    return (\n",
    "        hamiltonian_bosonic_free(sqrt_nu)\n",
    "        + int(not free_only) * hamiltonian_cubic_interaction(sqrt_nu) \n",
    "        + int(not free_only) * hamiltonian_quartic_interaction(sqrt_nu)\n",
    "        )"
   ]
  },
  {
   "cell_type": "code",
   "execution_count": 42,
   "metadata": {},
   "outputs": [
    {
     "name": "stdout",
     "output_type": "stream",
     "text": [
      "number of terms in H_free: 37\n",
      "number of terms in H_cubic: 120\n",
      "number of terms in H_quartic: 694\n"
     ]
    }
   ],
   "source": [
    "sqrt_nu = Parameter('sqrt_nu')\n",
    "H = hamiltonian(sqrt_nu, free_only=True)\n",
    "\n",
    "terms = {0:'free', 1:'cubic', 2:'quartic'}\n",
    "for key, value in terms.items():\n",
    "    print(f'number of terms in H_{value}: {len(H[key])}')"
   ]
  },
  {
   "cell_type": "code",
   "execution_count": 43,
   "metadata": {},
   "outputs": [
    {
     "name": "stdout",
     "output_type": "stream",
     "text": [
      "total number of terms in H: 751\n"
     ]
    }
   ],
   "source": [
    "H_dict = {}\n",
    "H_weights_dict = {}\n",
    "\n",
    "for i in range(len(H)):\n",
    "\n",
    "    for x in H[i].primitive:\n",
    "        assert len(x.paulis) == 1\n",
    "        H_dict[x.paulis[0]] = H_dict.get(x.paulis[0], 0) + (complex(x.coeffs[0]) * H[i].coeff)\n",
    "\n",
    "print(f'total number of terms in H: {len(H_dict)}')"
   ]
  },
  {
   "cell_type": "code",
   "execution_count": 50,
   "metadata": {},
   "outputs": [
    {
     "data": {
      "text/plain": [
       "18"
      ]
     },
     "execution_count": 50,
     "metadata": {},
     "output_type": "execute_result"
    }
   ],
   "source": [
    "number_qubits"
   ]
  },
  {
   "cell_type": "code",
   "execution_count": 44,
   "metadata": {},
   "outputs": [],
   "source": [
    "hamiltonian(sqrt_nu);"
   ]
  },
  {
   "cell_type": "code",
   "execution_count": 45,
   "metadata": {},
   "outputs": [],
   "source": [
    "def weight(pauli):\n",
    "    weight = 0\n",
    "    for key, value in Counter(str(pauli)).items():\n",
    "        if key != 'I':\n",
    "            weight += value\n",
    "    return weight"
   ]
  },
  {
   "cell_type": "code",
   "execution_count": 46,
   "metadata": {},
   "outputs": [
    {
     "data": {
      "text/plain": [
       "Counter({0: 1, 2: 162, 1: 18, 3: 408, 4: 162})"
      ]
     },
     "execution_count": 46,
     "metadata": {},
     "output_type": "execute_result"
    }
   ],
   "source": [
    "Counter([weight(pauli) for pauli in H_dict.keys()])"
   ]
  },
  {
   "cell_type": "code",
   "execution_count": 47,
   "metadata": {},
   "outputs": [],
   "source": [
    "mat = 0 * Pauli(number_qubits * 'I').to_matrix(sparse=True)\n",
    "for key, value in H_dict.items():\n",
    "    mat += key.to_matrix(sparse=True) #* value.sympify().subs('sqrt_nu', 1)"
   ]
  },
  {
   "cell_type": "code",
   "execution_count": 52,
   "metadata": {},
   "outputs": [
    {
     "data": {
      "text/plain": [
       "(27.77777777777778, 41.22222222222222)"
      ]
     },
     "execution_count": 52,
     "metadata": {},
     "output_type": "execute_result"
    }
   ],
   "source": [
    "500/18, 742/18"
   ]
  },
  {
   "cell_type": "code",
   "execution_count": 54,
   "metadata": {},
   "outputs": [],
   "source": [
    "from scipy.sparse.linalg import eigs\n",
    "eigs(mat, k=4, which='SM')"
   ]
  },
  {
   "cell_type": "code",
   "execution_count": 39,
   "metadata": {},
   "outputs": [
    {
     "data": {
      "text/plain": [
       "scipy.sparse._csr.csr_matrix"
      ]
     },
     "execution_count": 39,
     "metadata": {},
     "output_type": "execute_result"
    }
   ],
   "source": [
    "type(mat)"
   ]
  },
  {
   "cell_type": "code",
   "execution_count": 38,
   "metadata": {},
   "outputs": [
    {
     "data": {
      "text/plain": [
       "0.0028133392333984375"
      ]
     },
     "execution_count": 38,
     "metadata": {},
     "output_type": "execute_result"
    }
   ],
   "source": [
    "193331200/(262144 * 262144)"
   ]
  },
  {
   "cell_type": "code",
   "execution_count": null,
   "metadata": {},
   "outputs": [],
   "source": [
    "hamiltonian(sqrt_nu, free_only=True).reduce()"
   ]
  },
  {
   "cell_type": "code",
   "execution_count": null,
   "metadata": {},
   "outputs": [],
   "source": [
    "eigvals, eigvecs = np.linalg.eig(mat)"
   ]
  },
  {
   "cell_type": "code",
   "execution_count": null,
   "metadata": {},
   "outputs": [],
   "source": [
    "from matplotlib.ticker import FormatStrFormatter\n",
    "\n",
    "fig, ax = plt.subplots()\n",
    "ax.xaxis.set_major_formatter(FormatStrFormatter('%.2f'))\n",
    "plt.hist(np.real(eigvals)/sqrt_nu**2)\n",
    "plt.show()"
   ]
  },
  {
   "cell_type": "code",
   "execution_count": null,
   "metadata": {},
   "outputs": [],
   "source": []
  }
 ],
 "metadata": {
  "kernelspec": {
   "display_name": "bmn",
   "language": "python",
   "name": "python3"
  },
  "language_info": {
   "codemirror_mode": {
    "name": "ipython",
    "version": 3
   },
   "file_extension": ".py",
   "mimetype": "text/x-python",
   "name": "python",
   "nbconvert_exporter": "python",
   "pygments_lexer": "ipython3",
   "version": "3.10.9"
  },
  "orig_nbformat": 4,
  "vscode": {
   "interpreter": {
    "hash": "6e0cd6cf71edfa3775f516445cdb63fd1ca3562d16f0df3f3dc34761129ce2dd"
   }
  }
 },
 "nbformat": 4,
 "nbformat_minor": 2
}
